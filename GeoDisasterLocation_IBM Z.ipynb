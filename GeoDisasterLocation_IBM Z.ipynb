{
 "cells": [
  {
   "cell_type": "code",
   "execution_count": 1,
   "metadata": {
    "collapsed": true,
    "id": "glBxIt1Heqzq"
   },
   "outputs": [],
   "source": [
    "# Libaries and dependencies\n",
    "import pandas as pd\n",
    "import numpy as np\n",
    "import matplotlib.pyplot as plt\n",
    "import seaborn as sns\n",
    "import warnings\n",
    "from collections import Counter\n",
    "# ignore displaying the warnings\n",
    "warnings.filterwarnings('ignore')                           "
   ]
  },
  {
   "cell_type": "code",
   "execution_count": 2,
   "metadata": {
    "collapsed": false
   },
   "outputs": [
    {
     "name": "stdout",
     "output_type": "stream",
     "text": [
      "['pend-gdis-1960-2018-disasterlocations.csv']\n"
     ]
    }
   ],
   "source": [
    "# check the files uploaded to the z/OS instance\n",
    "import glob\n",
    "print(glob.glob(\"pend-gdis-1960-2018-disasterlocations.csv\"))"
   ]
  },
  {
   "cell_type": "code",
   "execution_count": 4,
   "metadata": {
    "collapsed": true,
    "id": "e7uBxyPZw47T"
   },
   "outputs": [],
   "source": [
    "# load dataset \n",
    "df = pd.read_csv('pend-gdis-1960-2018-disasterlocations.csv')"
   ]
  },
  {
   "cell_type": "code",
   "execution_count": 5,
   "metadata": {
    "colab": {
     "base_uri": "https://localhost:8080/",
     "height": 275
    },
    "collapsed": false,
    "id": "mV1hKcCnxdV2",
    "outputId": "3a137029-289f-404f-8c28-9cda9bdfa196"
   },
   "outputs": [
    {
     "name": "stdout",
     "output_type": "stream",
     "text": [
      "Rows, Columns\n",
      "(39953, 18)\n"
     ]
    },
    {
     "data": {
      "text/html": [
       "<div>\n",
       "<table border=\"1\" class=\"dataframe\">\n",
       "  <thead>\n",
       "    <tr style=\"text-align: right;\">\n",
       "      <th></th>\n",
       "      <th>id</th>\n",
       "      <th>country</th>\n",
       "      <th>iso3</th>\n",
       "      <th>gwno</th>\n",
       "      <th>year</th>\n",
       "      <th>geo_id</th>\n",
       "      <th>geolocation</th>\n",
       "      <th>level</th>\n",
       "      <th>adm1</th>\n",
       "      <th>adm2</th>\n",
       "      <th>adm3</th>\n",
       "      <th>location</th>\n",
       "      <th>historical</th>\n",
       "      <th>hist_country</th>\n",
       "      <th>disastertype</th>\n",
       "      <th>disasterno</th>\n",
       "      <th>latitude</th>\n",
       "      <th>longitude</th>\n",
       "    </tr>\n",
       "  </thead>\n",
       "  <tbody>\n",
       "    <tr>\n",
       "      <th>0</th>\n",
       "      <td>109</td>\n",
       "      <td>Albania</td>\n",
       "      <td>ALB</td>\n",
       "      <td>339.0</td>\n",
       "      <td>2009</td>\n",
       "      <td>346</td>\n",
       "      <td>Ana E Malit</td>\n",
       "      <td>3</td>\n",
       "      <td>Shkoder</td>\n",
       "      <td>Shkodres</td>\n",
       "      <td>Ana E Malit</td>\n",
       "      <td>Ana E Malit</td>\n",
       "      <td>0</td>\n",
       "      <td>NaN</td>\n",
       "      <td>flood</td>\n",
       "      <td>2009-0631</td>\n",
       "      <td>42.020948</td>\n",
       "      <td>19.418317</td>\n",
       "    </tr>\n",
       "    <tr>\n",
       "      <th>1</th>\n",
       "      <td>109</td>\n",
       "      <td>Albania</td>\n",
       "      <td>ALB</td>\n",
       "      <td>339.0</td>\n",
       "      <td>2009</td>\n",
       "      <td>351</td>\n",
       "      <td>Bushat</td>\n",
       "      <td>3</td>\n",
       "      <td>Shkoder</td>\n",
       "      <td>Shkodres</td>\n",
       "      <td>Bushat</td>\n",
       "      <td>Bushat</td>\n",
       "      <td>0</td>\n",
       "      <td>NaN</td>\n",
       "      <td>flood</td>\n",
       "      <td>2009-0631</td>\n",
       "      <td>41.959294</td>\n",
       "      <td>19.514309</td>\n",
       "    </tr>\n",
       "    <tr>\n",
       "      <th>2</th>\n",
       "      <td>175</td>\n",
       "      <td>Angola</td>\n",
       "      <td>AGO</td>\n",
       "      <td>540.0</td>\n",
       "      <td>2001</td>\n",
       "      <td>760</td>\n",
       "      <td>Onjiva</td>\n",
       "      <td>3</td>\n",
       "      <td>Cunene</td>\n",
       "      <td>Cuanhama</td>\n",
       "      <td>Onjiva</td>\n",
       "      <td>Onjiva</td>\n",
       "      <td>0</td>\n",
       "      <td>NaN</td>\n",
       "      <td>flood</td>\n",
       "      <td>2001-0146</td>\n",
       "      <td>-17.093484</td>\n",
       "      <td>15.665758</td>\n",
       "    </tr>\n",
       "    <tr>\n",
       "      <th>3</th>\n",
       "      <td>187</td>\n",
       "      <td>Angola</td>\n",
       "      <td>AGO</td>\n",
       "      <td>540.0</td>\n",
       "      <td>2009</td>\n",
       "      <td>710</td>\n",
       "      <td>Evale</td>\n",
       "      <td>3</td>\n",
       "      <td>Cunene</td>\n",
       "      <td>Cuanhama</td>\n",
       "      <td>Evale</td>\n",
       "      <td>Evale</td>\n",
       "      <td>0</td>\n",
       "      <td>NaN</td>\n",
       "      <td>flood</td>\n",
       "      <td>2009-0092</td>\n",
       "      <td>-16.531533</td>\n",
       "      <td>15.773987</td>\n",
       "    </tr>\n",
       "    <tr>\n",
       "      <th>4</th>\n",
       "      <td>187</td>\n",
       "      <td>Angola</td>\n",
       "      <td>AGO</td>\n",
       "      <td>540.0</td>\n",
       "      <td>2009</td>\n",
       "      <td>749</td>\n",
       "      <td>Mupa</td>\n",
       "      <td>3</td>\n",
       "      <td>Cunene</td>\n",
       "      <td>Cuvelai</td>\n",
       "      <td>Mupa</td>\n",
       "      <td>Mupa</td>\n",
       "      <td>0</td>\n",
       "      <td>NaN</td>\n",
       "      <td>flood</td>\n",
       "      <td>2009-0092</td>\n",
       "      <td>-16.200065</td>\n",
       "      <td>15.844189</td>\n",
       "    </tr>\n",
       "  </tbody>\n",
       "</table>\n",
       "</div>"
      ],
      "text/plain": [
       "    id  country iso3   gwno  year  geo_id  geolocation  level     adm1  \\\n",
       "0  109  Albania  ALB  339.0  2009     346  Ana E Malit      3  Shkoder   \n",
       "1  109  Albania  ALB  339.0  2009     351       Bushat      3  Shkoder   \n",
       "2  175   Angola  AGO  540.0  2001     760       Onjiva      3   Cunene   \n",
       "3  187   Angola  AGO  540.0  2009     710        Evale      3   Cunene   \n",
       "4  187   Angola  AGO  540.0  2009     749         Mupa      3   Cunene   \n",
       "\n",
       "       adm2         adm3     location  historical hist_country disastertype  \\\n",
       "0  Shkodres  Ana E Malit  Ana E Malit           0          NaN        flood   \n",
       "1  Shkodres       Bushat       Bushat           0          NaN        flood   \n",
       "2  Cuanhama       Onjiva       Onjiva           0          NaN        flood   \n",
       "3  Cuanhama        Evale        Evale           0          NaN        flood   \n",
       "4   Cuvelai         Mupa         Mupa           0          NaN        flood   \n",
       "\n",
       "  disasterno   latitude  longitude  \n",
       "0  2009-0631  42.020948  19.418317  \n",
       "1  2009-0631  41.959294  19.514309  \n",
       "2  2001-0146 -17.093484  15.665758  \n",
       "3  2009-0092 -16.531533  15.773987  \n",
       "4  2009-0092 -16.200065  15.844189  "
      ]
     },
     "execution_count": 5,
     "metadata": {},
     "output_type": "execute_result"
    }
   ],
   "source": [
    "# view first 5 rows of dataset\n",
    "print('Rows,', 'Columns')\n",
    "print(df.shape) \n",
    "df.head()"
   ]
  },
  {
   "cell_type": "markdown",
   "metadata": {
    "id": "l3MX2yWVzKBr"
   },
   "source": [
    "![image.png](data:image/png;base64,iVBORw0KGgoAAAANSUhEUgAAAv4AAAKFCAYAAAC0gO27AAAgAElEQVR4Aey9b2hkR5Yner+9zA/Slyow/uBGiNUTxm9gjJ/BCRJUgQsMvaxAK1yY3jbenjQoG2S6QZAfBMkTiKkmTU2RrymMmJcUaDfBRk0nGD028UwN6mfPq2l5u1itG3sKchArdsZFVZc06JmCAsF5nIg4EefGjZt5lUopU8pTUGTqZvw58YtfRPwi4kTcCOSfICAICAKCgCAgCAwYgQNolSYhim5Arf1iwLZI9oKAIHBZEYgua8GkXIKAICAICAKCwMVBYB8aCy9DFL0BlZ0fLo7ZYqkgIAhcKARE+F+o6hJjBQFBQBAQBC4fAt9CbWYcoigy/yeh1Dq4fMWUEgkCgsDAERDhP/AqEAMEAUFAEBAEBAFBQBAQBASBs0dAhP/ZYyw5CAKCgCAgCAgCgoAgIAgIAgNHQIT/wKtADBAEBAFBQBAQBAQBQUAQEATOHgER/mePseQgCAgCgoAgIAgIAoKAICAIDBwBEf4DrwIxQBAQBAQBQUAQEAQEAUFAEDh7BM5Z+Ps3F+ANBuMwU/vWlJTuMTY3G4yXoHXq64yfw6PaO5CPrsK12jdwnAXTdg1m6HaFVBt4WXq5geEFtGs32C0OEeRnVuHBgbPwRasE42SH3O2cpeb6HIbXMd224T7zMyW4c7cFbVdlfc4/e3LHj2pwLR9B/loNHp3YnufwaP2v4W9sW+uhzWQ3VUIKAoKAICAICAKCwIAQOGfhDwDHj6Bxc9oI3teg1HqcLHq7BtdmlmGr/Tz524mf9CJimChPFf4AxzsVmFbCvBfhTwWJi8uEcDvYgqWbd3sQc5S+fJ4WAVfPNEk9hoOde1Cauap47E/YTptfL/FPI/xV3Kt8kt1Lm+nFaokjCAgCgoAgIAgIAueJwPkLfyzd0wYs5PXKaX6hAU9jJf4BdlaXoPaoH6I/lvAJ/sgm/MHuDJxS+H+4BBU7GcrDZGkL3A3O38J67e/ALsaeoBQStE8I2Hom4a/TJbGNd28nedynvM84meP2BtyczEPUYYJ7xiZI8oKAICAICAKCgCBwTggMRvjDD7BTeUOv+uffiYv84x24e3cn5pJz3G5BrTQDeXJ7mVyA1VbbhOHuQSjM/gDtrWWYQbeHhf8TNtQr0PUkY7zUsgK6c5pc+M9B5a+XVHpRNA0LtQdOlFtByIX/c2i31mABxVSUh8mFNWh13Ln4FmqldWgf/A4qZgU5irklecL/uA2tWsnYg+WahoXVLetuEnMPmvkVtAwWmObM0m+h/ZTlk78GlQds2oVpry7ApMI5nu458XE4s7H1HBf+APSmTawH9rbNTjgePIDaAu14YbwbUGubaV0sXgSR5Xknjjfgn7lLmBLwXvjKXcetyZtQ28E6x12LmuGpbh/q5UEzFagF28xT2GlUYGF6EiZ/hNyehoVKA3bINe1FC0rjlM5bUKpVXBu4uWH5OZwVLFYJAoKAICAICAKjgcCAhD93k8nDdOWBEfHH8LSxAqv8deUHW1BCET1dgZ1j/P2mngDkb0LjqXFmPn4AlWkUI+PwVuku/E17Hx5UrsE47ibY3yKwwr9rmkz4kzg+/gZq19C1g50VsIKQhP8xHLSWYBIFP67amzgJ950Yt4zwRylGq69KeJMbFBf+j6FVes2JTLtz8jIsNPZNqkz0Gdv5yrSajNy8C40VM/GaqUFbxaS0db46DitrzOYR+8PWsy/8GU/sWZVOOJoJL3H3YAc2Sr+Au0r4h+Ixn33L4wDH+USaVu5teJxALEHr4BgsDyh/ALATRYqHVcvi6jZDvI4gMnyhtDi3bVrURiw/qX2MGG+kuIKAICAICAKCwJAhMDDhH1stNcIEn31a+zzu+mNXwvWKqhMXbKUUnJ+8FfcW6MBvXdNkgs4KIjbpUJMQgISrjxVMJHRIhLPVYGsXfXHCX63CPlh1q/lqN+QPzNXnqZrQ5CMzWbKrrFyQMttJ1NtweZhUq68sjCmf9WOn8lIcKiuZO4qfJxD+nXGknS6z+8IP4ZJIJvwTOAd4bMMk6xNsm+DcoDTcM9ueYvlSOJosk930N2ZMYRy3bVq0i0EcspMia7B8EQQEAUFAEBAEBIEBIDBA4c+EdKRXrI93PoYlu3LtoaFcXJbhw2t/blx+QsLfCRoXmwQKFy3m19Q0Q0IqsDpqBaER+lbokMsDffIVeWeZ/saFPz55Du3G+8bdBldr34Iblb+xLko6DroT1WDpw3fgLXVWgpeb2Z4Q/jQhYWGM4HOijWw2n2x12Ld8ZP629cxxxtIzHI247YZjbFfHut0EuJUAl3js2+DZYQV8KDxNRF1bsPbaeJgexaVwyXgujLPHpiXCP1F78kAQEAQEAUFAEBgGBAYo/OMuBfmFddi6ew92+CqoQoh8kceV+8xj6898GuHfLU0m6JggssKGVsGtIDSCmlZtzUQmWwX7wh9j0cq+Ft+xXQzyEcddksdbxq/aia+YGM0s/NkkTIR+stpsPXOcMZgTxNrH/1/Drmh+isrFh86soGvVP2eIR2LctwETD/E1FN7ZS5yynGY8d6JehL9fdfK3ICAICAKCgCBwkREYrPDnvsnkF+yjacV0FlefkCgiAUQiht8qlJZmSEi5Z/YGFysIjfC3rj783IJfIP/vkPDHMOTzzey2h0l7dfVJX/G3Lir8kKpv6qj+bevZ4xedFWG3+mTH8RgOjFsXivDn9mrYtN0h4rFng6oTx013O08oPB1GdmlkE/5uYmi5b7lOnGK7FrLiP6otRcotCAgCgoAgMOQIDFj447X++sVDUcpKsxUmEa6Mtt1tQFygWhebgOC2AsVdudg9TSak6NYhOtxLf+OGRUKs0f3nEUR0KBhdd1qN9Jt90L5rv1CHLxNcMXnS6iywcuLh4ac2f15ut6qrD0TziQ6JSuezbYUilQ9FLL1IDF2h1ofjBVUJbM7xgatnhjPtvHC80KaOOL6A9t1fQGljR98MpSYOL5sXy7mJXjT5PjTwJqjjR/Dp2qf6HQ6s7t1heAKB1adtRyT8sT71OzFCbc22BYz3+Bv49NP/BseBNgM0yaHzODQht/l1Ev4MNzJZPgUBQUAQEAQEAUHg3BEYuPDXh3x/5N1dz3CwB3GvwkypBq2d3+hbfuh6ymMmdBMv0/J/MyudXdNE4f8+LNT+Dnbs1ZwooJZgQ12FiPY5YaWuQaRVTngKO7Wb1kc/HoeVi9+okrCbhTvYgl9YH3/nAoRvja21voItdcuPE3dWyKk0cbfgY/h4Zpy9IfgGfFz7GXsjMNtRYGJWXf9Zuueua2Qmjc5Xv475+Qe8qnUFag0j4jkoqTi+gPanv4EHj34LS+rqVu+Qb8wFCPlO+Ps8dqvsmK1f5/rmHbJ9HGYqf+2uEGXnCpTJx23YWtJuR3rC9xRa7DpP/mbt4/YWrKqrSK/CWzN41oa9c8JOTAxG3rWgsWtLOVbyXRAQBAQBQUAQEATODYEhEP7nVlbJSBAYIQSY8K99O0LllqIKAoKAICAICAKCQBoCIvzTkJHngsCFRkCE/4WuPjFeEBAEBAFBQBA4AwRE+J8BqJKkIDBwBKyfvvjXD7wuxABBQBAQBAQBQWBIEOir8D86OgL5LxgIB4QDwgHhgHBAOCAcEA6MCgeGRNNnMkOEv0xWZLImHBAOCAeEA8IB4YBwQDjQIwcyKe4hCSTCv8dKHpVZrJRTVmyEA8IB4YBwQDggHBAOpHNgSDR9JjNE+Ivwlxm+cEA4IBwQDggHhAPCAeFAjxzIpLiHJJAI/x4rWWa+6TNfwWYIsNmtQiGagGJzv3tHvr8N9fIcTETXobr7LBj+cLcJtzHMWBGaz05RvsNdaK5gXnjffw4m5irQ3H0SzFN4dAqc+9av7cH2+iIUZquw27c0qVxPYLdZhWLhCowVm/Cs7+lTPmf1+Qx2q9chOm2b6Hu5EdcalOemLiiurL52qzBbWIT17b2L1UdgP1ctQiHXqQ8eBv58DdXC2Mk5fJLxJSO/cYypFguQG7r2xPjYoSxDoukzmTFw4f+sWYQx87KpiAmPw4dVmM1FkJutwsPDbMCfRigcPqzD7c8ziKQOFX+a/CXu2dfxyTE2naLlJ4rVMSj8xX+AQuwZf7EXitllqN5uwu458PbkZfJx/g7qcy+ZF7ylCX+Gw6k65e9hu/w6RFNl2D58Arv192Aiegnm6t8NYFA3g25qPeo6VYJUDXJUx1dgtvp7OEzpB6jf0i/1G4NC9etA2brlPQVz5Vtwu7mbmo+q9706zOVyMFHchP2EPazOOpSxo+A+fAj1+SnIFT6CzdjkzAlLXU7EBm2uw/bDe1C+HSqzz7sjONwuw5SxraMdibIl00q2gz3YrpdhbiKnuZ0rQHH9PjysL8JilslwT3lmsStrmO+g/u4ve5tkM76eDtcnsLv5ERRyxP0pmFvZTPRrh7sNWCxc0ThPzMFKgrdYF1U1EYkKXSaQhnNuMrUH29V5mMjNQvn+kIv/vTq8u4gTWNPPKW53Ev5ZuZAW7hD2LgyfQ2Vg9h/eh/KUaaunGmNC+ZzPs0yKe0gCDVz4Y4ftBgAnPGgAPRfhf/h7qM7+WbbV0YEPCOdD4uRAOrr5Wn4qwUo4kGB2nD06ciuYKIhyhRW4v38YEH6UxrB87kOzOAF84p2s/x5Xhnh7MZ376cRInzGjAScx2BzCfnMRXrUr0VTfEUQTi9AM1msbmsVXjdCch/pel7pXwj2CmBiyK4Uotq5AodwKiHrE4Ak8rL4NORQXuUBez5pQvMLEEv49xvPSgmpqrg57vI7sd5O+X1YSZmhbsep2a9hOzonq14jUE8WxNqZxQdfdBE5Gqvc1fvvbsI6riVl3wbrmkZZ3f56rPifByROkfWpcEcOfQ2GuCtvI9cNd2FxE/LyJ5v4mFCfGYGJ+HXZpMp97G6oPaRcPxd285ilytaPwZ5yOld3UZyzdE2BxLnWpxb7jMU3uz1D4q75r6uLqloT9fRhjzqWuw9wbEk2fyYyhEP5HdoWCi6gwuElBcspwdiA7wwY6QDL2Ha9RLEtwEKWOPcBZyylvkBxa7M5J+Bvx6QbHU7bdvuCZdbBBjF6FiQncHQmv+qvFirFXYOKVXMatc5N3QAwd7q7DvFqtfhWKzXZy8mgGzUIBJ2yBXZNnTVh8l4n6hPA/giNMY/522IVHTUr8dPfgfnkWcqkTEi3crtjJUob6DbatDPE61r2ZpMXEI6aJz18ffqG034IyrqAn7D8BLqfG9TuoF5fjE1zFOc5ts7LNJ54mTM6fUFLcANdpjOrcfnSdJtLtyIMT4HWqdA5h//6K2hlxfRuND2elK6gtnlX6Z41dyP6sffFZ29Zb+pkU95AEGozwt6sHuFo1C+X1ZeM6oUVUzP3Hdn5my89sDSuXC7uNHl9pTfoOp8Tdvw/VuSnj5kDbmSTkMM2K2SrmvsgkkjA8buV/abdDVadEA6yy800oVmm7OWdWRYhUZit6akILBdoqD64kUhz5pEHiXD+Dgyh17MQXr25oNZcPirHBhfMIuWTS4fxRgyTnoVkFXmzo7Xb0zb+l/Ug/qN7SQhFXaHf/1j63Pv5sRVa5Z+QKsLhJriRkC+cr7lhwF49Qp2z8v40rQC7VF5ewojamP8eK6/BFfU37eH9wCz6Zx7ZIQtdz1cD2wdwMnD/oB1D/4hOVhm73Vdjee2hWJzGfKZivP+zgMhMql1eXqt4QI3QXqcIcltdfCVfb+2/CRHEVypl9ZtOF/9GRWylNih3z21QZ7n+d0SWSeNVBeLk2FRB0uDNr3C+DOwzE7f1NWCzeg70j4hTWgeG2aUeKf2SHbVvr8AW6dKh+M15nh7ubsML66TgvQ3VFuzNXoEBtRdnHXAvU31na1iyU62vWZcjlfQj72/fgVswnGTmbxmffzpS2Q6LfjnNRip9+B9uxbBbXfp6d0Hy1fAyK+TB3jo46cf0IjlS534RicyvF55zaw+tQ3v4+OREm/plPpyHI3c7kr3ClPhvrsGrqFnewylC8/pFxr8LfqF9BnYJtfzuw++ZEv3N7QzHe1uc/cIepvul0xsR7UFducyH+dLKH84dEM+tPSSfZ81rmt6DrlUsrfHarc997xMYdPb4gF+msTno7dv1Lmv2mjsawT6d68XVT1npxZXT5nu2zIdH0mcwYgPCn7XBaNeMkoAZpOg9spIbQ2t2CVqCw0/wIisqXlLZ1czBVvg+HalVH+yxTB5Ue9wiOaECMbQG7NJX/rHIFuuLOG1CHF43Bm8Xb8Pnud2olbMyscrhOx5SRRKDNg9J3W580qJ6La5PXSZ5Xw7iw+QQHURKzxFm/UyHxQZz1f8e/ifteGDzQRmdbFHdo54DaDg4su8Y9R3fwudlV2Fx/DyZyb8K/+/G/MZNZWg2iQdOIarU9z1fuSKSRa4Tz7XV8pE6ZDvfq1d0xMzmwK9QJQczKbdoarYq5doID69twa7MG8xMvwWx1G75GNxbr10s4EQ58ECdxR24CYzBR+ACqeBjQtNuOQpUECQ2cqm3g+YMPYM4uLGAZjPBvfqfPKfir7FhPY+ji8GWKcGE42PZnykEi2D43YanfSEwekVtT5qwB8ayLIKJ+Li2vWN4hu4jvEVC/2r09k22sjVCZyA6aDFBdEzetW51JQ/HqmXK/wskBcSjNBupPlRibmINyPSDaUtvW/8vOvRC/nMBTbeJPSZ/kdD77Z0K6tR2/rQW4k2q7OacW7LMC6cTqvcvvKk/WV5m6jNcF8cTnY4hTlB/2a28at7YOZVdlIiFPcdM+qc/j4T0+qnEc+xtTP9hfvK2Fv959MIsjdgeXFiUCeSbwJhzI5ZO4a3SK1RBO46gduKmwPUmeU/rUx+MOHrosX3EupnYSmWY34cFsIBdCao92jKK+l2kzo2esKyzqNVpQovLZduxjFrCf+mK7o0jjnePSievlJPw+ZdhMintIAp2/8DedhV0FQrCp86eVoSMihSMkkcutuBCRXIesDw2SiGGi2hwiS8ZNEf5EWivUKU0ioOmcUgYgNwCYAY8GXbVDgAffXONxnSalSXlQ+eQz2emdMyaJTh3zJ44yURPrOIgzfOAJ2G0GcD1pxd9xwPoA5s2BVy1g3GCruUWdPdngftdY0XMKZ0SxFZDGNit2yVZeFuIo8dEbkFUbeYUdzKXwvi2szJ7wV7YabGNi0rS/+DM9qEVRij22H6EFAMw3VC5mj6ovands9UytCvr1hmkVtJsI9WF2UNNl1/Z6OMU4kZI3iWA/rO03eL2YM1G2Lkng8HL7+bB+Li0vnneoniyWIdFNfOMYos04cHtnR6hMZEeibZk6o/KRmCHXkaBtgfLiDoW3UxB5q5+d21aIO8TxbhzsMjnq2na6c6iz7W5MdeNLGKPsfauZrNCCBPIlUXeYB3GB+h7K15SJ6t3yDRfBfg4FdUYAw3Yoe3CiQeknP3VfyduxV6eKS6FzNLw963St/iAeWvtNvgksAjgY7rp+zStrqj3JsoVwji9wGrtpl872VX5aRvzTWJCp7w2ULVF+D2sfryBPPDyOjkDXIY0pPdRLIl+//P37e0g0fSYzzl34W1FMRMOKMaRxkwEilhP+R3bWjYMLrUzGK01t/y++B7NvmhsGqJPpFNc0xsiKfDZIKgHABzMioCGoFfJxO2wZaSJj86BOiBoFH0Q7p5m9g47bIvH6gEeiU8M0iaNxUebwptUUfwD07THhaKUchc71nyYOhqotWeXWg3ykNMkG+pvSTnuOW7K/1u4JbDctLJBJUFLaXqds2yxvH/idOE62sE/TDmJiJIRt6JmdLKfYw/oRlz61s7Q6Qtu8cqmBAkXOj2E2uOKPK6q0EmX6AyVIOojB1MHH5E39lB+OJhi8r1R5/5nZ3TTY0io5iWU/Hfyb+qC0vHicUD1Z/N2CiuN6mh0B/H07EnUdiIO2oava7VXj0sX7TcYvXgb73bkhaFeMuBsRliHctkJ2UJvwxgFeP4nyBOwzYZxrCLUhajshTgbSSbXdjamuLYTjJ+rQ4hYPryYaU96h9mBZqe+h9kDphLmudgoLP2dnCTqUPchLSj/52VX423aMrntzULY3sRkbEuN/B+4nsCAcqL8KtUG/rNSv+PYky+bGH0o/kJ9qN2ZninM0VseG5/R7ohyYN014O+SViBdqP7wcIXt9PEj4e+3iJPUSKyvPv//fMynuIQl0cYS/qkDuF0lbT1iB5MOPW1pfOxeI2CCXEpcGIiumjuCIBlx/O9+SiDoGImScRCL843hkHVyGNlyiU8PyUceVIiqJQ0qM/YN2/+AdluUmuX1pMXG4vQKz/HpGOg+DPqa37sEX9Q9gzHKVbKAOmXBPPqcr93KFItyqN6GOK7HU2dvVXF4WEjmUttcpK0zoN8q3y2do4A5gS6trcdHil8mzB9tmIq1ugw/aG0jHtnNeHkzLrPhzf/epn0N1+XXm/uKnZ/4O1r35zXKB50f4e6vHxCuenv1OgpSnY75TPxfMywtvwrqVSf071Qu6ZblbW3hcv+wB/H07utYZuZ2hD/Ya1L9YV7cTaW6kYbsPzcVFb/JM6UTmOlk9mVA31QTbVsB2uwJJvPfLG+Igx8d879p2Aun6nOzYL2S0w08z7W90GZkrGt90Vp7Q6jD1JYlJqClTjH/Upmni439642uo/0iz2dYVTyNUp+5chnYLw8mN7q/j/Q8rdyjPBI+pbMSVLMIf8wjZE7odzE/fF+dkbzcuGUzMWEBtPF52Py//7xDfQliTTfgZSCPQF8cnb7oscdt4moP9PiSaPpMZ5y78aXB2q/uONG4bn0jBVvx5YyPfNUVWN0CmufrEBGUsLmuMVkyZ2y7UnbJp2+emMaWsbnYX/s5mO7iaTtSt5g6WxDHMOPaj+D3RqfOOi4tlU2d2h4lPTjvUJw2gsxVYX36XHV4jnrjVM80tGkyondDflIf/3Owq2O3eeGcfXvE3A4kdwL0BRAnQQPkO/wjbX6bctx0auEPYGnFr24biXBd7MEwirW6DD+LllSvGb1z5nzduV5iWE/5u1R/FiqufzulR/dCnyTsmhvRv9syEPeyMzzUGcVxMeHJnTHNF8AV3rJxkD32m2GXcbtQhauuaQXHw08eSxAhrI74d3erM8My6woU4lCgL1tXrzA2NbOT2dWtbIe70wkHKm312bTvcThbPlrOb7aG2EEonwzPsy959N+UOfR8PN3YmOZrCKVsmsqVD2RVXuJCnOOFPLWJ5+FCdUlx6rwiGb+ozHrQLa218Arvbvw8c8A3h7ffBTGvY9t6hrHg1tHrPCbefbMVPP33ihDf5p7ElrV+giRotAmXqe/28Q+XvhHXIfnyWxCMu/L3d8Sz1YsNw7M7meybFPSSBzl/428O3dLiXbW/hypUiIA0YeFjE3FG9+2soFj/RdwqbLTp98JAIZm7a2PvCvQiChE5qXNYY1er+Q3h4rwFfHhqfaLTHHnLBLeO6vreaBq8oPDFIF/4sPG3PU+diGpwt7zkSVkR+546AVkH0xJLCkisPEzWxe/z92wgoXuiT8Z04q+qfOljjnmDvIqfOneL5wp+eUzjToaobJb53t1VQ27JbueRCR6uj1EbdgO74SW2E37aDO2/LUE27dSMwqBC28VUckzYdFFMuDXi9JT/4ZrawbRnc+0BcWtQ3cGHu4U8Tbhr4bLszGIzRHflY36/EXGy0n7W3Ik/pMbtS2xe1eSsE9Cq0fuMnTii4WwqdZfLrmspj6jjNDbKrry+lg5+GP6Ey0MKJek9FEar2ZU3sRhKLJYkRwyNapaYdikIV/mAmLK7OqF2ZOlNij9qS27VNCktuv6n32E0sPqe7tS3iDvmAE/5sshuo6zCfuW34vVvbMXWJ+D/chHK56YnNbra7ttAZJ98u7++g6EdBugjF2BkkwsjsvId2hAirWP/m5afaXlL86fZDXOrQlm3bNelSf6POJVD9067Cdah+/Rksvk0vCPV2XlV74bf5Ib9vw2J1O3xDmJnA5ubW4WFzFcrNXXMJAGuv1N4JA8KE2hlewZtiT7IPIQ5gH78NzfIqNPf+3hzupdvYzOQhVB8WK8Nz22Yz9L3UPzCPiCTvvXZs86M6D9lvtJu1herc6Sbd556gXhL5Uv79/xwSTZ/JjAEIf7y6y12jqQ7cNtdgDt92Wr2nhL0TzqaR4sC4+xnU7/+9vabPHdSlDlmfKC9WN2F7c1FfC0fCITUuVj7rEKzIx+fkPqRtcFcV0oBAHQhr2EgyOykg28tQVQfcKLwTiu7w2RV4s/BnyZejnCNpkx1L/xvGxcuDxBTVHX5mfHNv6BaRDvVJHZpd2TRhyUUHt6GR85/VP9JvO52YhcIEt4t46PMTV4z+H3vlrHop1OI61JdfB3v9pXlBjxOc2sfUvoHT5zSdXfGvCPUOT7r6pk4+bu9Pi3Psrd2+37YTeWoLnou4gD1r1Z96adXhs1i7I3yI1yGbuH36uxJOZlC3Ptl2YMLB7brdoUn0Wyk7gm61LpmfzgPfgluFOt5MZHgQT9tfBQzw1E4mfD5gnj4WhAn7VCKFJo7subIH3RHMm1hJxKvPwBuH2UQhmpiHqnLVwXA1+Kz6nldna7CGV6HaNK9D9Q9f2z5f3Rjy2Tosq91YmqT6tuHf+9D8eRma7W2ol+fMFaFmfGBXMqa3rXmobj80LqNT8OO5N80LqNgkNxMHO1yl2bHt0Gqvf6WuK2sn29fKP47hql+aRRyh8Yf+5pNLl378TJ3HUxKqigtswof1hnXMeIv8jXO3G/+MXbaNkU1aSLqJTBf7DU/1eycwT+TLJtSLU+rN6uqt2Ci0rxfhluUI5xQu9NF13iY+u06Y2qX9tLu8eAvUr6H6AR5qJ9wm1LXesbe9v16AAr5Qz4YxE5FUewgH92l3BUnnYJnt4pBO2+kWF8/arDDyhT+G69D30g6BtXsMXi+8HuPbWDHQjnef2b6M8o/Z36jCBxyPsZ9CdbQqvpsAACAASURBVO06w4f6vBPWiypjWtn7+zyT4h6SQIMR/udYGUQy+ewvyQVPwVM4cJk5YFb+aEdy5PpsmjCRUL6kdY0TvNlq+CVuQ1PnZjU+tHJ9IewfZu6EhP8w2zu8tg2Jps9khgj/oenchpfQIvCkboQDo8gB/f4EelfDaHFgFIQ/Tu7m4DrdYz+UYyG53M0GzhlcBPuHvd8wPCf3o6HkwLBjqO3LpLiHJJAIfyF6YgtutAb4i9GpSJ1IPQ2GA2bbf+hXhfvNj24+yv3O75zTU65Gi1Cs3vfOD5yzHd3GX3yZYeiN4BfF/m7lG/Tv6pwBOzs1aHsucP5DoukzmSHC/wITbTBCYMgGBqk/mbgJB4QDwgHhgHBAODBADmRS3EMSSIT/AIkiwl0mEcIB4YBwQDggHBAOCAcuNgeGRNNnMkOEvwh/WSUQDggHhAPCAeGAcEA4IBzokQOZFPeQBBLh32Mly+z8Ys/Opf6k/oQDwgHhgHBAOCAc6AcHhkTTZzJDhL8If5nhXyoO4L3adSjPTYG+v/uknXov8fFe9zLMTVyBQvXrIeWTubc/cT+4w+dwtwnVYgFyHcL0Y4CQNBzmA8Fin+737/GqTvVehwzvQjjzfqWXtjpg7Dkmp60Hnhb/3pf60e8JcC+Wy46bez9Phvv/ud0D+d69XxxIG+0FCzzwXS1CITeYtplJcQ9JIBH+vRBM4gypuMveOV+YzuykXOMvFrIvcToBLj3Edy/ooZesZMnvO6i/+0toPssS9qzC4JshF2GxuQ9H9BZNfDFNVuHvv9jLvtSGvZhHpUUvGzIv1VFvEk0p0+Hv1ds37Yt9UuswnqYNTzZMzEG5+mv9pvFUDpmba9Lu6s9SviwvA0vNPwWDMw1P13RiXfQo/M/UvhNg0kNbzd7vsbZxJuWlW5My1MNeHd5d7PAytDOx7wT1wPNX/ciYfsM3vdQr9sKzHtPleZzq+zD0u33EwHKD3laPfBLh321+IcL/VI2ojwQWO2Qy0S8OkCBIFY1deNtDfC3+swt/9Yr3rAK7X7j46ahBegqKKPzVb0ZMn8guGnACg83+JhRfXTSTG3r9PA5Mr0Kx2Q7w3byoSIn3tLfm8rqjNOO4250LTCf2NnIe9wj026LRnnBeWKdXCitwH9/sbN/AyvJSb2B/E+bq3wXKEs8ru+A8j3gk/i+48EfO9tBWM9VFom2cRb1kqQfdvnpZec9UTr9POOXfql8bkPDMUt6h6HdPibErp88Neht7oC/uW57p7aCb2B6m30X4nwMhHFHTSSNhBJu+ceC0YqCH+CcS/vstKBeuZF9ZP5M2ql9OlYsN0r0I/+yDjRLSExPwShRBLrTqr1b7X4GJiZeyr1qpVXkmxi1WT2C3/h5MoPgPrujjoPkmTBTeVGFyc3XYs3F1W3zW/CW8y0R9qI4PtyswP7TuXWl9ShbBmRZ3yJ730Fa79zOhtnEW5e5WD4ewf38FCrkILorw121kMMKza70ORb/bLx6FuJG9L+6KldcXZgk/TMK+my0i/Huo4CwkkDD9auBDkM7+Nqyj77daib0ChcUG7B5yu8xLjnK4ehpBzn/hjPVl1b9HE3Ow0tyFQ8u9ePxoYh6q23tuFbVr/Cew26zA3EQOoigHEz/+sRosYz7+fhmKn8C2Wck9OsoQ39pqyq1eoDOnhWU0BT+eexNyEROgsd9x5bkAi5u7cEiDj8JS46EG9bTwfr5HcRcXjPt9swhjNj2zimvdVNCmf4D97Xtwy/rvk7Ax9YFxuUvO2AdQ/6Lq8Jxf9+qb1332wQZFwUvFGnwyh8I+ueqvVuMmPoBqebYPwh9tJHeKwIr+Xh3mcq9D+f597VqUexuqD584ziVwP4KQ8A/3c3jmYw2KhSsw9sEt+GR+ipU3zvVQW3FtLQcTc1XGUzpLgjzHupuCuZVNUzfo7051/B5UP8FJTw4mipvqBVUxv+uJt2EOJ57W1WcPtqvzmsu5AhTXinA9zbUE2+It7keMbaeqy1pchy8onWgK5usPWRvnnMHvvZYlQ1tNa+vM9g+qt2Ae+4vEpDCtbRzBUdd+yC8jO4Og6gvrs8Lcz0j4vwnFKp4R0vWaK3wEm7v/YkW/c2PTgjpWl6q/xfCGu6yMeievl/ph/C1qFyO7i5baN8T7JW0zTQA61TXLi7eVzS+cv3q96cYfNTZ8B7ubH+k+HjnO+qdUbIL97ia0bZspMrfLTvb2gifyojMXuuPLueVEf5wbbditXtd9Z30TqnjODXk38R7UiR/Yr6W1j0CfF+7fuC3uezexPUy/i/A/ZWWfhBgS1jWSi4NFG5rFV23ncbi7rgdMNZBhx/4IHlbfhjE1WD0B+zsNqMZnO0cuE7YDJuGHr51/G3LkkoHuITgAkl9o1/jkHkJCgw3c5Oqj0pgwExZaCSZRlCF+oo3EMTmyZSLhTy4opoxUJutC46+sdwvv88bkTxihfUrIRuBWrhHXeZjHFeug/35IsNPgfQUK5RbsH5l8otehvP19iigOpXOkeTB3G3YZdlr4N+HJdhmmULDEVtlRpE/BbPVLeEiDl3VB8svP/k5d8ccwhKufl34+pnYdKExO+yUze/02mlX463BmUpV7G25t1mB+At8Oug1fZ24rz2C/uch2I7x2ckQ8NzymlW/VLq/A7K3/BOvzU3pnZQ/b1JgRSFw06EmimnCxiQ+6QL0dFP7k1oVlMyLU1KUSGDS5Jb5NlWE7tkBA9dZrWf4S7m8iJr209XWoFyfMhAl3nFZhc/09mGDldvUd4HTXfojK5j61Kxm1JYY79Y1HJPynYE69QfiJFbR2R8xM4N2KPz+X4jiif+9P/Wh3Hc1fvShxH8pTNNmkhR/KK943aO6T4EcsOtd1my9a2LYyBv+L4rG2QU+EnljXvNzELHxg8FJjh3XV64QN2uL1u8RTzMv2zZ3t3euJ7+RWmMKFvS8y4+s4egRHCW4Qb3HxDV0UiR+sb+s4FjruxvLp0CfycMMk7LvZIsI/Y6XyCpbvp2sgFwo/IyicSDMdPolO1Xm+wvycaUDQq6x6EImvuFrfahQGbVx5ZR0Trr6ji4ZJv2v8P+lBydnnRDCt+GthMw/1Pe2rbYUw5tHWnW6n+H59JW0i8UjCnwYPytMM8HZw8QYgOzimhU/yLWEDDWK8Xl5915XZH/SOaJDgg7RvF61yx+svjgelY4QuG7AJfwpPwv+ZXYl3osHV0RO3anVq4U/2R/EbnnzOmklTlCpUNf5Zhb8qrxmUY7zy8z3ibeWPsFefhxyfZJnDkSoNU7/x9OggNOFo6o84oPp2r72qZ7QTooW/KhdNvLuOB1TfjDcJAUKCNuUMQa9lCcWjujOTfMejQFvfI2514jPWdbKMifZ2RGIugjBvQribfiGi/i6EE3HC1KmPLU1AaNJs+mc3MUjanhSIoXy9PsbPN9F/UNuiPo+3EcaNUJ2ZMkTE9VBbCdSBFe6sncbaZFdskv2bTZP65hPY6zDvhmcWLiRti5Ut1C4TdRSoe2/87tw+TJsJ5ZXhWTexPUy/i/DPUKE0cMun1zmOAnaJjtDrXEzn47YcSQDigPD3YRFn0sRVls0vcPU3Png4nnl5Ed4sfvPrKhT8+LT6qcQApUF28c/rUP3tWpf4fp1TenFRE+6kcVv419rFJraqlOzkdZnTwvs2HNlVfC0Ecdfi5/DmxCuQo9WvvTrMz3O/dT9PKgcbpDMO7q5+0K5QOkYUzVaDK/7PcNs7tpqNQvQVs+IeTi+eJ8ND8S+NPzQh4z7SJm8mHo7szkZnQRiuY2YL8RM/E4OyexZuK9uwXX6dud946YbSsxMHqkO/jjEN84x2v5SNnlChHSl0m5hbhtsxNzzPjlB9J2zz0ue4pGGTpSyhuj5JW9/9Ptwf+fYlypjCSd4PJW7nCtXFEegJBPExhBNx1tRpAltTH+gaeHtVuVghn5wIDdiaSCOUr1fPiTjJ8oTag35GfHScd/ZhPjS56VTGQDmIyyTSQwfusS5TsUmWwbYPSjNR7iz2dsMzlK/PhWSYEL6xfjBhawCzE7WPZym7uh43Eu1F/z5Mwr6bLSL8UyoxRjAJc6oGcbGxpNXrWSjf34MjWq2hVUXV+bCOPsYVr4O3v7lOrrPwzxqfVtBMBxXq7KhjtzbosHog7hTf7/TIJlpl1b/7nfThbgMWC1cgVyjCrXpTuxlYG1z56TrPzuF9G/BvY4eqhz9Cfe46lDdrMJdDt5Z1+Lr+HszGDp36eQYGiawDawzDUDohe/UK4UvGZ9jyKHodlqs/hyniU0J0OfHgBDMT+op/7O+YbbSyzQU9PeMTQPc9tqIeSyu8wpnathODMpWjW1uJTygp/bhgJHx97P06dhPE+Kp0QKhY33DEgtzgKB/+6edJ5eLiM5A+w7LXsnRvq8Y228643fg9YDuzi7BOhqM279ddAG9KL21SEONFCKduwp/cga5AobgG9S/WoTjGsQ+UMZYn4hDK18MqESdZVr/PQ/x84Z+prhN5pdVVNxu6YZOM7wv/3uztgmcmLiRtC+HrOBpqd4G6P8FYGEubeHyCz25ie5h+F+F/goo9LTEkvte5XhDsSZSS8IodSFRb7QGhcPhH2P6ybdwXuPByYkSJLPJND93yYn20Txg/1tnRQEpnClwdHO5+CV8+XNdimecfi+/Ca/5Seldgtvp7e3gx3kkbcWlXlc3AYAWJ38l3C+/boP/Wg9RLMHerYlb3TTq5P4PCm7OeX76fZ2CQOAPhj25d183OA2JkhT9b9UehOVW+b7AM2RUuv6oPJRpCwp/OcsRv9VGY2UkGS5cG59Bvpp3G65jFDbXjkJjJ1FbivLJ9JrUTcvFQefLJH27T+3WMNhIn+OHlDkKF7l63B3/9cgbqJ1HWDumj3b2WheKltlVqmyltfZ9cfXwB362MlG6HfijBAcKd3Pd0HrbNqtuiQjh5depjazhk24vpq9yKeh/qB8vi5xvgVqg96GcMX6qzTrxN5IVYBcrRzYau2ITah/esJ3tD9cg5lYULnh12EhXq20zaCdwCmMXGMuJxWvsQV5+eJie2k050ApwE8l1wukAcUCv8r3R4Iy35rfIbRvCWkGWo4oFQ8rs0h3/VDTrKh5+ECB0gpYNPiA2KtmUo413vJ4mvbhtigg/da1B8/8n4QvPbhPAO9sXbsH3I8k+L7x9QJNcIe5jxIdTVzS16tXSq/Gv4y8KYORD9Pexvf6K35K2oNJ08/v1wE8rlNSh3DJ/CFxKr5N7DxbSddJi4FNbaQIMEipltaJZXoUmHzOwEhQYKLsx9W9JWQ/GAL+56TJnzHyYtbpe/e6T6TUrPE1nBPpXsiw+O9oYMrH9+o4U5hO1EEi8L4eHfpENhiOedsKCw/jY+Pac0UtqK5ZXZXcMyoxBfrEBz/1/MIXhzOxT6mKuD9nho2ExAqY5t/WG+zK3KP4CP+ESvwy/L/xHepjTI7cnyhGynz2T9JFdJjdAhH+5E3dEu4knLkqGtdmzrZDsTpgnbsJzEBd42/l7d/kQHTZP9GOHjPu3hXroFjc5s2IkL2eMf7mWTPyPucBfvYXMVytVfQsHeZONuiHI7VZSmaz8nrx/HX5tuglvU9nh7oGcub3e4N72uk/Yhhsly2LNZjN96omFsUFjRLT8hbPx+twn7VC7L9+7cTNrbje90HoQORpt2TYfvcXwhO2zZCEuOr+OWW/TQO7yKG81d4y7I+G0mMnbHj/rc4FjopR9sG+lhehLNA4okK/4nrFwR7enEv5TY2BVA5w6hV/6ZUPevouSdCvIrdn1Y4LrPPsTfXGTXjf7yI5gbw63wqr06L37Nm3et3uEudIvv121sFyQ3C79c/jGM4VWI1SbsHtKWM2KGnf061JfRf5tE5b/YO+a1kPgf9jaPcPi0lRgzONpbQmgAMW/OpLZNqz5K6KFN2p3E3sCEE5hGFT4YY3U89lOoruHVcPQsLq75wOPCUFj2qQbUf4AqTmxsWjQw4eD2LrxKq/0JO71DuVQe9WkGcZsmyxOfqTf33nNXYfppx3zeSejxNJjLjR8X07cDdLI/0GLEpRWbaHThekee4hWY64vmGkN9RWxxfVtd12lfZEV4xOzjfNTtb3nuFeWGVm3uwpPmR3C9WIGyvf7Pu07X4k4rm1S2MXi98Dq7ShZdTtZgLVbXDEebDmLWY1kytNUwho+gyW71oVuJ/HZNf8faBl7Di7Z368di5cMy4hWOZtKv6gX7JH6NMLbXXXNtpcHU7ztt/2tE459YX4Xt9rN1WFY37uDk4Texm4uiqLf68fkbvV6AQte+YcNr47yNpNe1n5duK0meFdbWlEuT7UPGivDZZ/wa4wjGPqhCg8aBBDb3YZ8ujqArUL9uxNO0u1wnsTcr3ztwwe9fsvS9yLUYN34N1Q/crVWK39UyFKg/wE86AL+7CSvU1tWYxK+YTfZn1Ca6fQ5Iw/eUrQj/RGfVe8V3I4b8fhGxxVW2d5JvWlWrpz+G6u7pDgQJJy4iJ8Rm4a1wQDggHBAOOA70pMAHFEmEvwj/ET646xptuAMzbgKx1VGK8x3U5z9g10XSc/kMYym4CC7CAeGAcEA4cDk5MCAN31O2IvxF+IvwT+UA+Vlyn2S9Pb25+DZct37Bl7MjkwFK6lU4IBwQDggHhAPdOdCTAh9QJBH+qaKve0VLYxgBjHwfVOUfWQT0DVZ+r8IfmTgKB4QDwgHhgHBgpDkwIA3fU7Yi/KWxjnRjlcnbCEzepI1LGxcOCAeEA8KBM+RATwp8QJFE+J8hEURUiqgUDggHhAPCAeGAcEA4cLk5MCAN31O2IvxF+MsqgHBAOCAcEA4IB4QDwgHhQI8c6EmBDyiSCP8eK1lm75d79i71K/UrHBAOCAeEA8IB4UAWDgxIw/eUrQh/Ef4ywx9WDqg3MdLLnlznG39BD9449H/AX/zvYxB7UdJpyrS/DfXyHEzYF7pg3vqFUX3L4zT2nUVc9YbH16GMb1s+i/QlTcFVOCAcEA5cWg70pMAHFEmEvzTES9sQL6WAU682N2+mpTcX2tetu8lB72Xnb41Me+toP/JJSWOvDu8uNuHZebdLNcl6Cebq30l7OG/sJT/hnHBAOHDBOTAgDd9TtiL8LzjZehd4KcJL8BjqDvhwuwxTUXIXoL88IPF/3sJfvzfh/HYVzHsacrNQbq1Dcew63Gr+GuYncpCbq8OetIWhbgv95bz0h4KncEA40DsHelLgA4okwl8GdxncLxAHnjWLMHYphf8h7N9fgUIu6p/LUoZ6Pdxtwu3qLSjPF2BiYgIm3pyHcvU21Lf3pF1kwE+EQu9CQbAT7IQDl4cDA9LwPWUrwl8GNxE4HTmwB9vVeZiIIohyBSiuFeE6uqKgH/ytIhRwtbi+BnMTOYjUy70+gs3dJw7T/W1YLxYgh/GjK1AofgLb+4fm9z3YXl9UYhfjRhPzUCXBadOn1X3tY6/CqbQwPfztIWzX16BYuBIXzLF8czAxV2X5Jjvb2LmBibdhrnAFIuvjvxfIIwWXoyOIpZXAJBRvE9pG9LvyUbnjGOUKi7CuMDqE/e17cAuxHXsPqp+8BxNRDiaKm7C/fx+qc1OmPoqwVpyDxea+qxNW31r4r0Jx9lUR/gwXESTJNiKYCCbCAeFAGgd6UuADiiTCXwa7oCBKI/eoPVeuNbm3ofpQi/nDh1V4e7EGn8y9pISlEvOLDdg9dCvWudkqPDw8gqPD30N1dgIK6vcnsFtn4vToCTysvg05nDjc34Oj/U0o4uRB+ev/T9guv27SJwGsO1x/xV+7/uAkgK2Uq3yvQK6wAvf3n8F+c1FNXFLdV1TeYzAxvx4rBwn/UB5hXNA3/zuoIzYTi9BkeZP7Tnq8IzhSfvasHAajsYKeTB3uris3HJV2exOKY7rcWAezt/4TrM9PQW62AuvLr4OtA5XGeynCX1x9Rq09S3lFuAkHhANnwYEBafieshXhL8JfhH8HDiihTeI8Fi7kB2+EZKRvh9Eidx7qe2aFXx3MNeL+63WYy+VgqnwfDlW6ZmJgD+o+g93qdbOq71arfeGvOrCYYD6Evfo85IwN6ndzCDgs/En8MjtJvNsV/6QoT8WFJh3kI/+sqQQ6Cf/UeIhBrBw4cboP5alX2IFbwpcO4ZpdEIsZDmi6XvSkh3ZWug90enJD6XYPfxYDh6QpuAsHhAPCgYvJgZ4U+IAiifCPibmLSTjpKM6w3mglHt1I5pbhdnPXCPWQ8CfRjQJy1wh3WpXmn9fhL/+vX8JUNAaF6tcpE69ehT+J46wHc414LlRh17aFQNl8UZ6Ki6mLw11o3l5VLkix3YhO8fw8zN/O/YcwJNyM7WNFaD4jDhzaHY4omoK5cg2a3PXKlpHCm0+5zjOFhx5OafjJc8FPOCAcGGEODEjD95StCP8RJqpMGDKKGutvj8LT+JGblWVyhyEs3Yp8Wwv/mCh1+ekVZhKw7jmlc3R0TsKfdiGmyrCN7kmqPWQQ/hguiMsT2N38CAo5PM+wBvUv8LYc7r6TFi+w4q+Ef9zVyeGDtoaEPz5n/v/qPMSrUGy2ZVCWvk44IBwQDggHzoQDPSnwAUUS4S+N4EwaQVygkaC84J90b75ygWlDszjBDsBi2bjbzJ+My01SdB7ufglfPkRXn4j5ovvY9Cr8adfhCsxWf292J/y0+d/GJ5+dYyB3mdikxl+N5+2G4/K3n8RdmDxXnxgveLzdZ0lXH7UKTxMtZvPhH2H7S7x1J034u7D2XEBsR8P9HrOHl0m+S78gHBAOCAeEAxk5MCAN31O2IvwzVqoIhNEUS8+aH8HbVkCj2H/VHMDdM8L/ChTKLdjHVWZ1Mw0TqsbfPZqYgxVyEcIbZxZvw/ahSQtv+lHxEV/081+GslqdJpcd7ndOop4/OwK9exC5u+fJnYafTUCRvViBpr1RiOrTucbk/EO0arWcnVfAG3qM734qLn/7l1DAXRF1UNjdyNM1Hp6DMJOL3Nw6PGyuQrn5R30AGl12VjZhV+1I4K1Ay1DFN+zSbkVsV2Ufmovv2cPYdGia8pd2TPUun8IF4YBwQDjQLw70pMAHFEmEvwh/mdF34AAK3OvFCpTN9ZDuyk1yh5mCH8+9aa7r5AJVd6jxqy3xnEDF+ZyjH/zKnL4qVF3nSRMESpv7tG9AtTBmbvoxz8eK8NlneK8/hYsgMivbHfNNlJfcc3Q6eGXm8twrkCsUodrchSfq3QHxPL5Ow+VwFzYXzfWluQIsfrYOy1N41ekUzFXvQzstHtpkdwCumJuQ8FkKRmYnwfr/W/GPwn8OireWzRWr3a8y7VfHL+mIiBAOCAeEA6PJgQFp+J6yFeGfEEGjSVrprE5a7yTOsx6iPWn6El44KRwQDggHhAPCgYvAgZ4U+IAiifAX4S8r/j1xQIT/ReiMxUYRDcIB4YBwQDhw1hwYkIbvKVsR/j2JPmlEZ92Ihj99cyiW35cvXJJJpHBAOCAcEA4IB0aOAz0p8AFFEuEvDXTkGujpJxXmNhnrW9/pykmZJJ4eb8FQMBQOCAeEA8KB4eXAgDR8T9n2Vfj3ZIFEEgQEAUFAEBAEBAFBQBAQBASBM0dAhP+ZQywZCAKCgCAgCAgCgoAgIAgIAoNHQIT/4OtALBAEBAFBQBAQBAQBQUAQEATOHAER/mcOsWQgCAwAgXYNZqJJKLUOumd+sAONygJMRjeg1n4RDH/cbsFdDDNeglY4SDBe7GFXm57CTqMCC5NXYab2bSxqX/9Is+O4Da1VxAHfWZCHyYU1aLWfd846La3OsYbjVyxvrQQz+Yw8CVodqrMX0K7dgOg0XAnmdU4Pz6BOsf3USjOQv6iY9AX6EFdOkvBJ4x/DwU4DKgvTEM3UoH2SrCSsIHCJERiA8H8Oj2rvQD66Ctdq38BxAtwDaJUm3YuKpMEmEJIH54XAt1CbGXdcVIJwHGYW/yPM2IO97MVWVjCuQO1uC9pJcp+X4SfIZx8aCy+bMqYJf4bDGQqXF60SjBPGfRP+x/C0sQRLXSdAP8BO5Q2Ipiuwc/wc2o33YTJ6GRYa+yfA8iIFNeVVePcu/M+mzrLiuA+Nn5R7n4hmzaancIx3xw+gMp3XbewM209PZp5jpNNy5cTxX7SgNG7658w6gtXbWWPztAE/WWrByddRcAL0MZRmrrqxaXIBKo0H8KjxIdzsa591jnhkxbtn3LJmcPnDDaHwR9DZoJS5wV7+ypISDgaB450KTKNAUqKQbCDBzMXyc2i3arZDzs+swoODi6D+abLNy0LlpE8j/s9YuOjBfbx/K/5KdE133/kw4my81MtATBhdtE+zMp91ZyileH2vs5R8/MeqXZ4xH/08M/+d4N35tJ/M9g0o4Gm5cuL4JP6z6ohEvZ0VUFrjnLi/OX4EjZvTEEXTsFBpwI4ZX+yOUtTHvhOLfm54ZMW5R9yyJj8i4QYg/LMgSwNSJFt0WeCSMGeLgNr6jyDeSRNHA2LZds55mCxtQQZnm7O1v2vql1X4P4UHlWuQzyJsjUCI13FX4C54AOJw7yv+CMCJxVg/UDv4HVRwxXMohX+IdyL8+8GVE3PtRMI/VG/9IKufxjEcPFiFmbw/pvjh/L8fQ6v0GkSp3hL4+xv9WzSB88LDL2fa373ilpbe6D4/Z+FPAkNvv/FB9rj9W1gyW1f5mRXYqFzT21hZZ+qjW4dS8rNG4KTCH+152oCFfARR/iY0noZW/eNtISL/ehqocIdBcR93EdZgYdK4CkRXYWbpt9qNCH3z72gf7Q9rd+AmhplcgtY/PbDPrY9/zH8d7ZqBpa22cbUjW96CUg197HVe+Zll2LI+7iHh8hR2NpbUABZFEeRnlmBj52m4Npit1iYMGbNrGuYW3oJ8bNUqPQ+7yjX+ITS+qhm78zB5cwPaxzRoMVcsFImPHWbaDhK/LJxyf+F/0+TOYEB1kyiT2/EZL23AV7Wb5rzANNxsyc1WFAAAIABJREFUPGJujX6ZOM5h+OBgBzbQR1zZdhVmSvfYat8WrKIfs7E7Xm/o53zP7kKplcLaAzMZpbJPQqmxBTVKY/J9aNh6D9jTsc4wv0/hTsyfHZ9R/aDtFSjdWDYuOh34DSnxHhvRz+pJjyVeWfMzUNrYgQOVDtn0PtTuoRtXyqS85zolnFJ494LaT4irFDfNfvrd/8zAow68ASCfeepbpmFhdSvuohiLj+deapZ3meJ35AqWxy+D14d0je9jwvmUh8m5Od0/WR3Bf8c2Tv1pWr1hF9WhfR08sO0mP1OCj0sLzK0wVLbvrein9hplWZhQUHUbUwCOH92Fn6w+MH1Np/rt1leF8EDuprSjWD3x8QU57cfhfSt+p10K6o/wGfW5VL9O9Cdx61ROii+fHIFzFv60daQ7Giv8D7aghGIj/w7UHj0HoNUcGmC5xfJdEDhvBHoR/kCuQJ38xKlz9cK0a3DtWg0e4XxBTSBIpNCKD67Q/lPsLEz+2q9ga+N9mMy/Bf9+7n81IpBWctFP8ybko9eg1HoMQO3NrpaS8J+GBSUKn0N7a1kNmHmyA0i40OFefVZn3EwOjtsbbuKRcG9irnuxQc6Uh4Smbfc0EHTI4+lXzm/aDt6UzxtQ2fkB16L1IVObJ/2OAwthY8jkr/jbXZt4OHQveU25cP2rPhOgxKcOY13C8BlNrIwLkXMTO4aD1hJMRmYyYPPRg6HtEznHj7+B2rVJM+Gj8wfECcMznPAdvDBpu5XE40c1uJa/CjOV38EBEH+Ib4QPTtrQLY3i52G6QuKBG4Lfu9QZlRcxIH6pZy+7M11YnneM8E/l94FxM0iJl+Ajip4aXBs3E1qL62tQ+vye8/XG1dI7v4GNm9PguE1lTPIjW51SfPokXDl3aNLo1wVxtYP92GYT/zLwqCNvzFm7/DWoPMDJOvVFxCscq5F3Vz1uRJBfaMBTyBC/G1dMGul9SBeudcPElokWUTr1p7gvG6q3Tu1L88XxCDF53wj/Dn0X9o/BMSVRIPaA+nDCn/0U/Nq5fp6S+2rHvsrDgy9KxdrRX8FXGynjyw/snEUszi09XkWur1LFwL7itRuGk4GCJXDrXM7h320PlPEcHp2/8KcO21a4I7Q7eU+EYw32HMCQLASBIAKJzgZDEUf9lQlKgcQ0iVh67n0a4eOEFrYHd0BLCzcSauRWQYKCbHC/69TpOYWjzpF2H4xtJMyAbOVlIRFEwsQT/krM/YgdfqXwvi1UXt8mAC2qeHjqCwxmXfPwbEq4nSTzdPVG2Bj7fOGPj82ujRY6+ADLeIOVOZB+gis+tuZvthOUxIEw05/qdxZe+93iQslNaHz/37Q4U2JMAaBErp5AGNHCzqboCRrVW8B+g4Mrc8CW2KFnr85UcK9eVJokeL301MTEcUC7cpi66RAPaByxHDYijHBA3WrEjS6LsYnjGDfF/BXApGud+gkF0kjYS22Zyt7Nfj+P7jzqzBs9cY7VsxH6UYRt/l/NYgG1fwRU+5erOKpt5s0kwNgWi//Dqdt3sl2EuMZwCdlk2jBpi2z9KesbaPJDvIr1E7oOgme5uvVdCU6xcgS/Eqc8oRwM6xZY0+v3h8Dkw++rKE+GB/E41o66jS9pbc/0TywtrPPXCOtQ2XzcQnXu8TCUzKg/GwLhT2TjhCbCifAfdYIORfn9zkYZRRzlYplbazo1f2WZB1Hf+YrSsV5lu/GzhHuQuk5TufXw1WqygXfMmGjac9ze/WvthsFXZIPCnwZZStsTcwYTt+2qV6zdtq1fUN8m+juOX8yHt2senk39Fv60YkkDEw4yr/2E1Q2VgTCCDIOpmSBRmghTkF+EH+VB+PJPhh1utd/9lXXpUcLfDIokeihF90lpM/uNsAnHofAs3wTmmLpfL7TTEEGEt48EbrwK87tTPD8P8zfy2v+v3Dz88A6F+DcqI8MkUT80ZsVxcOkE0khgQsKfFga62e9S19+68YhsCOCBbhT/5WN1M1l8h8mkqfqsfbOjlVLGBCZoFY//2Oy2xeNnb9//rXt8HxJlE+Fpfkzhc5hvhBmre8oj1L7QhUzt3iHGeNh23V3/a/BJcJHcWoL4UWahT7It44p/MH1ePweBfsfnNeXJ8ejUjtLGl7Q4hB+f/PKFlQAOfrn8v1UUr5yBZEb9kQj/UWeAlL87AsHOhTrF+MBmE6OVJiXwvkleC2p9TuOd3/HOKlzjB4KP27C1NAN59Fe+8yl81fgQxu1kgmzgHTNakHxOZ2jQD/VOowUNvDLXrpb6HT6mkUX4+/na0ge++DZR58xWFH0RqXDvlEdyQIkJiwAOIWyUsbGVPGe+XnXUri8vEqtRfplCIj6Jbdz9xqyWxVbRXf7WXltX/Df8Tm5Z6Dv/MTS+2nAr/n0X/hnqTJmXrBftD86uIFSuSTjR7cRvTMy7upDiJYS0zjMuZDlWIZv47/S9tzql2PozkEbC3rDwT7c/ngP+1ZlHxoYU3mhe88U2TJHb3Vn4Z4/fa/vOyjWHC2+r9lSVL/w78o2Xn5xEOrQvlTXzYVcTTuNO2a3vCo4priyhb4S5cxsMhdLPKGycT175Ejb4fZUXXiUdbkedx5dwHJUc9VG4K/nCX1gJlM+zOVM5A8mM+qMhEP5ELr66z56xbepRrywp/4AQ8DobbQVxNCD8rX8x85ftZLrp/PLX1mBj5SfGPx0jkPh2g2fMFSI2UNNAhfHINhLNvsuH6eCtKPA7fEzDDLx2ZdrrvI2LUuLWouM92PlD6ICvbxOVLf4+j5hw75qHZ5M/cUjgEMIGn6mITjCbR+qDto2nfwG1FX81yi9TNuFvxS6tTNtDqDxj+k44GUFBj5Ed7T/AHx5twEKe+eTHJjC0lW7OTrG4+mvAfl8oxeKQLR3qTIVP1otLhs4o4Mrsf0+4k8T57WKpCY56twKt6Pp5eDtnNupzaO98AwcB4W2DxL4EMEm0/1B74YkE0gjkH+M6nQmyExtKj+ynv9knidggj6iuOvHGXz3mbf6FqZt4XdvczcJGzJUk1meE48fK3LF9fx/MPxbfGmO+kE32XJJr13oHizA5QX9qbLSumLH2FTfAnnPCRZ2OZXsaWG2PpxX8i/qi1Ft9sE9owFKlBQeERcxthtdv6JyBz+tsPAbirtVq/vjit1VeOlr4eANWar/o7OaD0fy2mKWcPDv5rhA4f+FPMzy8BYRIaSrPHe41h31NhxaftUrNCQLniwCtKsRXWozQiN0+4G5KUG9+VbfLZLGVVrf8dwVQx2sOgtobNvjW6BvJg6o0ANtVZNPxqkO0P7hbXqyop/z9w71s0Kd2a+NQh81vAnkKO7UVqKmDtX65KQ+yHdwhY3sQlu6oxq1zFLN/B9+ql/2l5EE22QkMDewkhAk/zHMHWpVfQeuADuUyO9DU4ACCP1CaoRuakmUirrg+i3hCYsPgZnd8fJwCf9OAP7kAqy1zExPeJrJ0F3b+Ed/Q7G4yoluWdN9Ku0l0eFevg1pxYHlCE0SHQ5zrzCY6GJ5aZw/gmOqFuPKiBUvvmMPq1j0C8f8n486Rwu/UePhSNcNpzOPRFlQqLXiqzgvgzTP0xmVcjb0LS7UdZ5PlCitT7GsvdRpLgE28Ge/oMLrNn3hFXKUV/BT7/SzocG0nHnXizbHhIdWjmkjiAX12mNrWNR0AxkCPoLG0Bq2D/0+/iDNTfP/Adcb2bfNPi+8fQCfXMLqphyaZxt1pugz/+a9uKLccdctWoj8N9Bc7f9WhfR1Aa+l9fSEJ1o+xV7e9Lv2jEbD5hQ141PoVVIIHuBOVDnZy4bsWmduRrl2jd8d0r9/ufVUAjwSP0cYu4wv1B5b7XrlI/9nxyvud/5nAba87D3l8+a4QOGfhTzNK0xDJ382/tm3pU2jdeR8WKneg1sDr2OSfIDAIBEyHRitq6jPjm3tPyFu9be9EAJWWtlDRVxSvafy8saxfJjZ5DWYmqR3hJ4m3UBv7g72lR19ftwGNFZwwoMgw1/OhD2sNrwY1aXKRSavAFgezy+Ff4cbjUAHUZ8imb9UvvHxR/hqUV+ZgHFfAa+bNx2l5+DaN/wxqH+OgTpjolWE7UCqBsgNb/K3gqv8hX2KKx7E0hYgN6FSwZJnemHnDvHlYpzVe+hg+jr35GXH7V/NWYJ6f/h48JGiyi18pyMQhX/XFMn6+ASvqLbFsEhe7DpYmUb79k+oq19gbqVNEZcc6e85v8cBy3YDat5/D0o0S3Kks2OtN9e1RuELJr3Hm/L4Jta82UuO5HQDdLvS1szjx5lffmrL6NqUJEHvWhepmHLLVafLdqzHe/bYGH9IbZJGfKVxVZQrZb/1WiHv46Ylay3t/ksevomS8UUnFr5vEm6j09acun1TeZY7v6vdE7duYwPkRjO9M1d94e8DbvsrLsDCObnA15X/P04v3pzehtvPUCWua0PD0Eu3r/4bG0gKU7qy4q4SpP0Vr0vou9RstctAkhUQ27Wj5BWN/+3011j3vM23Q9PrVOyfEc3T5CvVVL+J4JHjsbnijW+AS48u/nTFt3uQVbHtmwkYLBdb+wBe7m064YZj0cgZSkEcAcM7CXzAXBAQBQeCiIYCr9q+x23xOYz+uwv8CZvg5DpUcXqf4Dlyr6QnRaXKQuKOAgPBoFGp5NMqod7/GyQNkNAo90FKK8B8o/JK5ICAIDD0CuBU9jffkB5deT2a+2j14B2ptf5UYBz93jevJEpXQI4eA8GjkqvzyFhgXVmb0O2YubyGHqmQi/IeqOsQYQUAQGC4E0Ff238JrqS+0Opm12q/Wd7nQN4dcu0F+8CdLU0KPHgLCo9Gr88taYuXm+loFdvqwrnJZMep3uUT49xtRSU8QEAQuPAJ08E3dz726Be2+DUr8ALjxew365154CKUAZ4qA8OhM4ZXEzxYBOvCrzpnRYfyzzVJSdwiI8HdYyDdBQBAQBAQBQUAQEAQEAUHg0iIgwv/SVq0UTBAQBAQBQUAQEAQEAUFAEHAIiPB3WMg3QUAQEAQEAUFAEBAEBAFB4NIiIML/0latFEwQEAQEAUFAEBAEBAFBQBBwCIjwd1jIN0EgIwLs5UdZXjqSMVUJloKAfWENvaQsJVzHx09hp1GBhcmrMGPvytcvaHNv2e2YwJD9aF74E3whzqBNdQdPLya2Z4BfXzh8Bnb1M0n1VtXTtNF+GNOtTYf6gX7ke9o08C3TDagsTEOU8uK80+Yg8QUBQkCEPyEhn4LAiRDAu4dfZp20ecvvUAqxExVsyAL/ADsVfMsw3oDTu6hwb6rM8GbMfiPwtAE/WWqBf3N/v7MZlvTcjUj4RtCLVm58n8ISLLX6+b74/nB4WOr3Itsx0H6gE3D4rhB6a7oI/05IyW99QECEfx9AlCRGEAF1Hdk4TPfpfvcTIXj8DdTeWYbWqChJoNfZ9y78EV896J+38Nei7+IJ4BMxMhlYrf5eQOGv2vU0lPoq/BX7oF27carJaxJkedILAoPpBzJY+qIFpfGILSZliCNBBIEeEBDh3wNoEkUQ0Kuab0Bl54fzBeO4DVtLMzBarze/qML/GA4erMJM/gIK4NOy+kIK/6fwoHIN8qfYWUqHrT8cTk9ffsmKgAj/rEhJuMuKgAj/y1qzUq7+IoA+uqsLMIkuJ5M3oVJ6CyLl3/8UWqVJ44riJgLH7d/C0sxV8xzdVNxvaJj7PQ+TP/sQFsYjyC804GnsN/OCJxNXveGQtoPRDutW5HyqtUvMNNxsPILnrRKMKxcZk/bBA6ihD+n4GzDzxriyTeVpJhP5yNlgwTvYgUbFlBt/n1mGrfZz+3P8C/qp3oMSlRtfTLWxA+Q0cdzeglXMn2yKpeXFjaZhofbAxGWiqbGly6Dq4X1opNqigHR1Fk3D3MJbkI9oxR99fT9WtrrV+KewU7up6xht/7gEN8hFh9c/5p2fgaWtNuj3eqHtNViYzEMUXYWZUgVKN34Bjd9p0U/lda5KT2FnY0lNCPC3/MwSbOyomoeDnU/hTmkG8uPvQ+3e+zCJL7gpbVkMNd6YH4UrmZ0fx4Hx0gZ8ReWINBfS3z+WZouPn19mtCQeF9tFTZUDAKzw792WWHqYncfFaHIBVltYB+zMTXQDau0XNn+FvXGdOG63oKaw/RAaX1F95WHy5ga0j0n0U5sz7evxDjTulGAmPwkf1u7AzUn2u+Ix8Yk4ir8bG2KNg36fhFIqh7EO1wyPMJ2rMLP0W/PyuBDH0nf9Orc1ZhitMmNZFE5kJ+ZPZcvALawbgxPfLYnbMQ0LlTUozcxBrf2Y9ZvpdQZYux36FFYSzcdEm/Z57PcD8RQAupW1F65Rn4hv7K7BztNHavEG+1t8QSD21ap9Ul28VYIajTUxDqCt8TZ38r7DL6/8PYoIiPAfxVqXMp8MgYPfQWXmqhG9P8BBa0mJQxLqODg9bdyE/DS9dtz49Obfgdqj56AE+1USaLQKTIM6DoCvQRS9DAuNfQDoFBcgudNgBIsVouasAfmJKt/Rl2GhtgGrpQrcKf055K/V4NExnlF4DRYaO9AqvaNE9mOcKNjJBE5ONuDmZN6J/YMtKOHfZoLig6jKOW4E8fEjaNxEkf8alFqPAcCciZhcgtbBC4shiW49qbkKM5XfwQH4mDgxkp9ZhQc2fr6Dq5VJY9JMDkwdkpgJ+aGrZ6bOsGxo0ztK+Jv6pbIYHOzES7mHvAzXat/oAZy7YlkBTL7uz+FR7R0YN5MewjhCXB5v6a1+JQiuwrU7v4GNm9Omvhja9q2XbvLHy2MnJRTO8pKlob52sOXgheZ0WplBx83nr0HlwVMAwoQOu5tyR/7vXWxJTQ8xvYZtEOv/GMDWp8cvLrrJbxrbAmFhsNWCmnzvaVJOPCOXMi7yIshf+xVsbbwPk/kZWFz596oPIP4qODGP125oPHyorbsaTvRSOKzspYketQFji7I/hWOJvDq3tURwjpMuiKl7Lfy7c4twRCFL2FH/MW4mVvQ3To5pYmTstH+jrjW+7jRZe1SDa6l9Srwk3E5XL537gXgK1L9iOdhEl7hjudvNbtMHx7hm2ks0DpMzH+oJsuG0XkA6Rl9E3f5pAm0XZK6avqVDe83ad/gFlr9HEgER/iNZ7VLo7AjQwIGC1aybKlFDq2GYEg4EP2IilESRFv6xvJRAGmeruCQ2SHx0iEuTAjsAHRsBTeJHi9VreRooSLDiYLPi7EeD1CAzDQuln8BNJVjN4E0TBhqUlFCn9WIjhNjkwJVNx+eTAhqI9a6CEW40aTCDnB6gzUBqy0Ui4UdmMkQYOVFBgyTPz9lCAzhNpvAXh4W91ccT5coFgIQqT8yK3JvQeIpYeDiostCkJRbRrjxbIaJEBJULw5JoIluNaCAB7SXn/gwcJvfKY+3kwsolANDRlkdqgpK3dnhlNiLVnXF5Du0GimKDUZot9Du3A793SU9ziTDSkfVkMYJI8YZEOolK4jitZGOcJGZxt48Az6xgj+dtJ7KsPGjja8Rvv3w2nXQO6/K4fLRtJnwnjvl50SSJbIm1NT9wCKfAeZi0+rTc8rEzvGb4JPnYrc669CmBoridJj3RTvIm0A/46XQtaze7McEk17RtfLHCS8fUU+xWHz7pePEAKtP96Dv8Asvfo4aACP9Rq3Ep74kQSB84SKiTaHEDtsqABl9aoVQPSdSTgMSHZoBkoheCcTGsFshxEalX4B+3W3BXbbXTTgKGp4HFsw1l8E4FptHNRK3+4wMcVNxhZf07TSCU8W4w47bSTzTQqVUus2JG32kygWHRZebur6w7kCoLDW48nE0Xv/iiIixWXBQKz0SgioKuT2zC5g/wtGqN7jULK3BXuZG4VLUbwF9rVxwsm50A0eosuoEtQOVuy7hncJcXs+Jv8nTuP4QV2RUQDNwE+z0Qzi+Prf84DjaJrrZgSHR9SJZZ84Nstim6Lye0pXN6VJ9MNGNOxBtVD8R1VtaEkEpill34e3mjC4ra+aO2he34hpmoOhjct0AZEvbp0OiSpNsyX0HvwDGXSfxbqK3FQ+i/AnbEcQnwOMEtr3xUN7E27deR/7ffrk19UT/CP2PpskLFeEc2MU6E+gEWXX2NpYFPfDv9v327MU6Sa/6kJJFuoB6oz1d9zbc1mOEY2O/UDgN5+mWTvwUBABDhLzQQBFIRMB28FXhMbFjxa1aQYitbJkF/dd8MhrFVaiM2Y88wuh8Xn6lVURIaTrzTtnTpzl1okI81hqf8SNwbs+xkg7m16LRpMmMmI3Y1T0ekFdaErepnPejYSYnNi748h/bWMszk0Qf+Y2h8taG2tc9G+JP9VB5tQ3cxg7iTrzKKLnK7wPmKPrORnynBnUYLGniug/MCfW+Nf7GqD9op8UWE+tsXkYQRfmYdvAPh/LwSgoXnQ2Iu3ZZOZe4s1Cltfqg5IJaYOZ3To/r0beUYBNJPCCkeXmce5wQJRZ5P6JkxnMQt9gW4GvvaT8yOECuY/RpIx7ePXDvwfMmdT+GrxocwzlxnlH93iGM2D/rSoa1REP7p2xESx1255ZUvkGZC6Ib4GYun6yu9T+GFMN9jdhJvuvQDfjKxNPBHn1v+3+cp/Dk3fcOT/PZDyN+CACIgwl94IAikImA6Uru65A4AOvGrV+Ht3zhw/Tn5+tO2sllxUsKdVmcwU0rPiPlOcWkwZhOMuGihQjyG1tKyEiBaTLmJAoVIuiYZO+1kxgxsMWFrVhz5ZMElaHcjlK86uUSp359De+cbOPBdOcwArwd14+qTmrYnKjDdmECIGYIzHuOjHN+xSOCVGOBZOvaMAtbdP+l3NnTEh+IalxfaWfDzMDgkDuwe78HOH/CAb9bBOxDOzyshWMhG89nRlj90LrOKy3aMvKS7rm764TumR/XpcZkmtsqlhUQeW91NcCSJWZwTAZ6Fdpus7WYHL3oDVmq/6ODmgxECacfsozI6kaptCwk9j2PWHvPF1Kt1w4q1NT+wWyDgLiZxXLJM5PzyGaxZf5UU0N3qzPQLNIm2pps+xf7NvsTaAGHapR9g0dXXWBr4xBf63ezGOEmudW0TMT4YozjHO7bXk/QdJm35GFkERPiPbNVLwbsjwAeex7BT+xncXFmGufzLMFfZgL/BG2VUx4x+l3+AB5UPYfU/r8GMvamBxLJx7eEdt1rdW4BrM3gj0J9DqdaA1n+5lR7XuATlFzbg0YM1uLn6AI5JLJE7kbq15zVzmM4MxLGB15RYxXMCg7aTx0v34PPKr9ThW3VYmQ520kqkLVcYOb0jgG4ya9BSt+3gjRx3Yam2A8dqMHU3qNCtNnrCRG4TdPBRnyk4bjdgqdKCA3KH4qufpuzavztgD7nt0KFnK+T1Sj6Kohfk7mR8oV+0luEdOqBLB4wVfv8dajPjEKmDwj+4W0YI2xctWHoHD0yjHVQWI1KNiFD11voVVFp72nceby1a3TIuQXib0ArU8GpYWkWOTboC5aNwZAPmbMrjVkgNf70bpVxqJFxDtux0LjPhg7eOqAPZmCoK0hWotB73YAu5soTTc+5vdKsUnSmgczSeyLOcNa5UOHknzCy2FIf8rkm8Yt3tQEu1hX81L5ALCXDahcM8vEmJA9l8I7HI0olxmPI2t7wc7MAG3kBE6XbimJ9Xx7bmB8a/4xNv2unR7mh6oaI7t6h8hANxy9xkg4sBdG7I7iQS/kaYB+rsH/Fwbz6lTwkUhey0CzEZ+gE6wUTJURrp7ai73ZZrHdsnTShMX0z89A/32gURwjTUXk/Qd1BB5XNkERDhP7JVLwXvjgDdwKNveFBXU5KQI/cZGrzN1YIkJq0Pt71yEHOjFX59JWht55/1S33ykzCz0oKnRriF4+qBNf/WO/DhL+iKP9rSN+IG/csbdH2mGcztKrUrrVrNiz03q1M04GDQ2CCMA28l7kbkkmPf/OsI2QDF00Mx/vkGrEzjDR90bWdaXBocTRlR/NcqcV9XuyPDTFFFYFeq5q9BeWUOxtGNotaCb7fcVacK75kafNtahhulNajQlaMWD44znqHYgMYKvk3YiJrHW7B0owR37LWnVCY0gm43Ymcv/KtBiSO04ke+u1agxstldzsoXHQDPq79zF7diuUZL30MH+NkhYVR11x6SakzF/bqQH1GQV+R2aXMSsixK24xH1MOfo1sf2wxRlsxrLngrjKk3/XtW6rMWHfKnQyvkFyH1re/ZTcm4fmMn0HtY3yhFvHKCFxzk5W+GWkHtuxVvRiOiXaLoze5t8/5l2wc/kd2BTBem/t5Y1mdw1HXmn61kc4xnhV+79rWEhHs+yaI08rNyJxX8dtKklv/G8zMvJzAUrkm2WtlzTW36qpftitjb2cyfSKvM7V4kNYv+GWgA8lUn+5Qd2wi4/UDbU/1650Ol0ayrMb2Tnb7XAu2zwZ8HuCWvXJW8ZJPeEx5T9t3JGGTJyOIgAj/Eax0KbIgIAgIAoJAPxDQq7+j9UK9XnGjCRAT/r0mJfEEAUGgZwRE+PcMnUQUBAQBQUAQGG0EcGdtxryrYrSR6F56Ef7dMZIQgsDZIyDC/+wxlhwEAUFAEBAELiEC6lzLa3SY/xIWsK9F6nbmpK+ZSWKCgCCQgkBfhf/R0RHIf8FAOCAcEA4IB4QDwgHhgHBgVDiQorGH8rEIf5msyGRNOCAcEA4IB4QDwgHhgHCgRw4MpcJPMUqEf4+VPCqzWCmnrNgIB4QDwgHhgHBAOCAcSOdAisYeysci/EX4ywxfOCAcEA4IB4QDwgHhgHCgRw4MpcJPMUqEf4+VLDPf9JmvYNMNm2ewW70O0VgRms+6hZXfY3zarUIhmoBic7/7ALW/DfXyHExE16G6+ywY/nC3CbcxzKnr4gnsNiswN5HT95lPzMFKcxcOh7h/wbJXiwXInaDs/cPrNLz+GqqFMRgrNuHZEOMb463YGWx/gtFp2oHEHSb+pGjsoXw8osL/CTysvg256ArMVn8fGJz3oVmccC8kKVRhVzrLQzRtAAAgAElEQVTu0eu4nzWhOOZe5qJe9sNFUuL3jIJ04FzSwsm9vAjLOAaFv/gPULAvNPLKHeVgYm4ZqrebsHt4EQac76A+95Jpw2nCn+HA67WH+jncLsNU9DqUt7+Hw911mJ/IQW6uDns9pHUug9nhfShPmUlK5rL3D68TlXGvDu8uisg/EWbDyjuxa/TG0RGp86FU+ClGifAPCn8UNt/Ddvl1LRxE+I9wZ9Vtkqh5MtQiL6Xj1WI1gmiqDNtWzJNg5mIZV7OrUCxcUe0hV1iB+/uHF4ATNIHnZfEnLUbMZha/fnzWV5wqjVC6Z/2sl7L3Euc05dDtS1b3T4OhxJVJk3DgrDmQorGH8vGICv8sjcC4Y+AKqAj/CyDystRpb2GeNYswlupeonlyIYWJcpuJPJcJ4n1ALB8+hPr8FES4+l/chP2UCcVZd7DZ0z8v4W/yEeHf537iEPbvr0Ah53O0t3acnTeSvmAlHBAOnIwDQ6nwU4waiPA/3N2ElTkUEL47AYkN7i+LLgYVaO4+MYPKIexv16E892cwMYFb+fh7GerbexkHHRIDOm8u2A53G7BoVzWXYb08Kyv+Qy/uTtY4e+nMTiL8nd/0B1D/omp8vnMwMb9uXGSQv/fgVsK3mnM+gmhiDsq3ilCYrcLXauJh3HGqX8PREXO5iPmv78H2+qISSti2coVFWO/ULk4q/JELe3WYy0UQ5eahvhda9Y+3r4js425RaiLtlTe6AoXFhsYIffOx7LkJ+KB6S7nNRBOL0Nz9W/vc+fh3SOeIbHkTitWy9b/PFT6CTdufhFawsY4+sTscUa4AxfXt8ETHYBjry2gCYM8YmH6O+/2nlTG4k9KhXg93obmC5xhMHrkCLG7yswXxuNHEPFQtJ6jsaVwNtS2Kw8+n7MF23eEbRVMwt7LJXMI8PPH36n2Lpz8e6Pr5Fyv6HbboSvcQtutrqm5433101MkG5IjesRorrsMX1XmD1xTM1x8GXD1D5ZZnvfSdEkd4MyocSNHYQ/n4/IX/4e+hOosuA69CsdmGw4dVmEUhgQO7GvQOYb+5CBO0qmjC52ar8BDdEfY3oagO0JlJAqWXexuqD2ly0KWxMf9WO3hQupTOfgvKZhIgK/5d8Lzkk4PMwp/xKrJCllzGtP/3EQ9DAvHoCezW34OJiIQI/U27TYewV5+HHPrhK+GP9eG75GiXpDEjasnP3LWrQB32Ivxtvi/BXP27lMn2Htwvz0Iu8sLsVmGW2rGaQNDOQRuaxVchUrsqu7HzNbnZVdhcfw8mcm/Cv/vxvzGLBewsRWo6ePiXhD8JzSewu/mRmhjZ/oQmUbYujnSfNGYEtN3l0P1VeBAz+bA0jqjfIrco259gOv81pYyhPqxTvf7J8MLYRn2YtcO4qeVmoXx/z/WddtJGE8grUCi3YP+I6sFwNdiufeHv5XFEdU91a/DM+XkQNwyPVf//zPT9bIXf46h1T4tYmKPONuyp8xfexIjaYczNLdBGghhIuHA7EFwEl9HlwFAq/BSjzl34246bBh/qgEkk2L9pcKfB2xyco07cDm7kmpCDqfL9jKs3NODR4EHCioQWkpfS5c9Gl9Sj3KFlFv5KJPjC6Ah0fC7avTCG87FzArRCbtzMkmlQu6AJMB7WfIWJcZpwkMAKcNcTVbqOife0++bHo3x5efwwtDPA2yS2sQ9g3kwW9ITf2RbHmGxwv8dto76BRKULF0+HbOVlIVxI3Hp1Yc728LqgPos/i7cHk4/tk45Ax3F2YXi7yKHEZloZPSwVN9Lq9aG+pID6UprokB1mUuT6RTOhtOH9shNX43bHy+rFCXGXFmPUYef/qg9ZM4GtJ6WmTDRBooPQhvd2QSbEUf9ZVxu+hyM/DmFFO1Ii8FMm8R4fBSfBSTgQ5ECKxh7Kx4MT/jQ4mU47IuFPgoe2ru2nHoz0wB6xqxBpAD2JQDeDl101IoFAEwHs7HpJVzrJuEi4HHjExaRfJs0TK1QCK8g6PhfKcfGkRSL//QiOqB1kFf5G2Di3CLPCGdsl8GxPiCH8nXjPxTKPRzsNTnyH65yv5B6CWgG//tOEe5C6HlK59aC9lCbZQH9T/mnPjyCcDrVrXhaa5FPa8bqIu1ERhuYz9ayPL/xT7KS+TvV9KWH8QTVTvaIry6+1+xj2l6ZvDfIqlr5fdhL+Hhc7xQlyiCZXE1Dc/I2+PSgVO1O36LJ0e9W6V9n2FErff+b/rexlNuDVr4kwIW4Qz+Qz3KYFF8FFOJDGgaFU+ClGnbvwpy3wVFcf8iGmiUBs0KGByQ1uTqiI8E8jpDw/XWeVFO48PRRwb7PdpixiKh4mmH5Pwp/ELLevw/eEGMKwJEi5WGZpUPtUq8ZP9PsI7OQcBTLFI5c9PWE/3F6BWX4g+HAXNhcLkEP/+Vv34Iv6B+wANdnglyfwvGM6IXGXTfhb4en1P+G25At/T3TaNHi9B8piwzG8VR35OLjf6VxSrlCEW/Um1PEa4nMU/rQbEseLla2r8Cf3qytQKK5B/Yt1dYWuTS/EUe9ZVxtE+AdXKMNcdtyS3wUL4UB2DqRo7KF8fP7CHwe3/W1Yx8ONSjBgh191h3dpVSzibgIM/JjwwMOFNMjy1XoWPjSY0qqsXfGngYpPHtgztk0tDaEbtpfwdyM0gq4eylVhirnYcHGnsUgKey9MKH1P+CdXbz1Ra9w6ErftHP4Rtr9MOfjuCSjNbeI9CXhWn9bf3flvd2wP5IIxW4H15XfVHfc6PIlvcrehCT0JXLKB/iYb/Ofd0vEwUn2B6S9S3V28nQrbfzyB3e3f2wOp8XL7wp/s8lxmCA/l1uKXhcrofXas1y89NxrPDtNXuvMMXtrUD9Lu6xHVwwlW/CkPctVJYPxHbSOdnbJ4GltM+aw7kuH9SYQ/HTiPt0+vnhNcD3HDx0f+jvNc8BA8hANpHBhKhZ9i1ACEPx7+ug6vpvrjm4NaOCmgQ2l4+LFZN5MDOoBGh+3I9cAbZP0Bhv9tJxeRe8mOGcAiGqDooJxZzbQDEU9Hvo/IShJxLn5bCd1GErvXnrhlxRSJQDaRpTAkPq1PNB1CZf7g5CJBAksdjqVVUnJFQZH+P81L6biNe7BdXYbq9vfBeqKV0pPd489vKOo2CLhJeTwPEr3mMLNdCKA2TPF84U/PKVzWdAhXwo29uM+vC+uLz28Tw1tpbsNidTvlDJHpg6g+sV8g33V7gxD519MBXiqLX0YfU+oPQ/W6rd5gG028B/Xd791NRNYO4i0drMW00Y5lKDfbYA+ad+Kq38cl8KKDte42Ie3D/5J5OSLt/OAtU+79D4e7dVgsN2FfCXLilLuByIp4Oyleh4fNVWU38daGsYd702ygMxd8cYjGDTf5TBvQ5bnPSflbOCEc8DmQorGH8vH5C3/TkSd8kflVd3g1m71yLXAtIbvCLvdmAd6M3QrUjZC00kOiiVa3cHCn6xfxasF70Lz1HsyVb0G1nnKVnz8oyt9Bgek3kAv5N3KuildMEm/wcwrmynXYpisYaZWeXF/GfgrVtevs2toxKKyteW8DNivr+/ehSlfcovvLmsmLhL+9LcXkW92EenFKvU33dtNc38jahWpfsTbF24XZcSA71WfGN/eesC3oA61s0mPaCLmooJ14feNn9Y9gCu2YmIXCBMeYhHG43aanY66t9OuNY+LXl3VT8q8I5aKb43hkfcd5f2YXCeyERpfHXa/ql4XK6KVN/UlqvdJEBtPHPmsd6sv40kGctFQ1L9Pi+mUPcdXeIGXs8uNYvJxgVzgkrj/tgCe5amHd41Wkn63DsnqjsJms2V0mfd3r15v4Tg3GD9Y++FW2/ApWvePm4owV12CtMMbaZWB3i7CXz8vbp0vdSt32kQNDqfBTjDp/4e+Jej5gpt8NnjIg9rHSLqQYlfJf3o6LRJYVNtIGpI0KB4QDwgHhgHBgGDmQorGH8vH5C390oZl6x7tzn7aDZeVlGAktNg2goxXhf3kndTJhl7oVDggHhAOXigNDqfBTjDp34a/9M+lFRUZQme3eMXq5jzSIS9UgZOLQw8SBzpzIwXJpC9IfCgeEA8IB4cBQcyBFYw/l43MX/vrV6vqV69bNx1zpZ32leyZ4yHfZ+Xaq/OxBth7EWM92SV4i/k/AAf8cjHB2qDt84fYJuC19qHBZOCAcuIQcGEqFn2LUAIS/DBIiFIQDwgHhgHBAOCAcEA4IBy4HB1I09lA+7qvwH8oSilGCgCAgCAgCgoAgIAgIAoKAIAAi/IUEgoAgIAgIAoKAICAICAKCwAggIMJ/BCpZiigICAKCgCAgCAgCgoAgIAiI8BcOCAKjisBxG1qrCzCpXoiUh8mFNWi1n3dA4zm0WzUozVyF8VILXnQIKT+dAoF2DWaiSSi1DlISyVgPXdNJSb7nx2dgF3K0VoKZfCc8uhmc0a5uyfDf0a67K7AwOd2hnniEs/j+Atq1GxCNl6B1po3xvPI5C4wkTUFAEPAREOEPAMePGnD3b9IGWR8y+XtUEHjRKsG4fUtoHiZvbkD7mJVeCSt+a9QNqLXPdARmmZ/26w+wU3kDoukK7Bw/h3bjfZiMXoaFxr6X8D40flJWwuJ4pwLTBo/LJ/xdOT0AhuRPZ9+w1kP/7TIcVZw7qfA/S7yMEO7JrtPQyZXpNKlIXEFAEBhtBET4H38DtWt/PsBVm9Em4IUovRX4V+Fa7Rvg2h9Ai5P8QgOeXojCGCOPH0BlOt915V6JOb6iaLC4bMI/Uc4hq8uEfcNaD323i0T2yYT/2ePVm12noVWiTKdJTOIKAoLAyCIw2sL/+BE0bk5D1HFbfWS5IQUnBFDMTL4FM5N5iKLXoNR6TL8AgBYAF04Iv2hBaTzqLPwPfgeVmatxV4K+CzsG5aC+hso5KFtC+YbsG9Z66LtdPQjsc8GrB7tCdZv1WahMWeNKOEFAEBAEGAKDEf4x3+IIoskFWG219UrqwQ40KgswPTkJP8Kt1MkFqDR2QDviUGer3SuU2DICRr8MzLhaxJ69BaVaBRaUaGPuGgcPoLaAot9z1fj2cyWIbHqPvoWtpRnIKzeIFtRmxlkcswplBjuZQDBmXaavWL8zNXj0qAbX8hFE+Xeg9oh84X3hj/7Ea4ZvyK2rMLP0W+MixH2NN+CrjSWYwfSiaVioPYCn7d/CEgptxfv3oWH97Y/hYOee8q1Xv+VnoLRBbSIENIZvQMXym/vvx9sQ8T8xcSGhwdqHCmOF3QZ8VbtpzgdMw83GI7cTcrADGyVsM6b8pXuwcxDfJ4lZHQuPttZY+Kew06D2a7Ba3VJ4OlescZipfQsA37L2afoC7iPe2HJtftLgGyznBnzV+FifZfjwDtxTiwOYN/s/U4M2FsK2fbKBlcz+hvGwr2hDqzTp0lFp8Pq4AbWdr6Bxh/m0B+1rwYtu9YD9KE8HPO6l1Z01n2OpJ4g/xFzfDL62jKb8J7YLM/T4bdpDvM+fhFKo/qy95kuveKnoT2HHtskI8jNLsLGTto9H9cZ3Ijq1O7KPtw2P6/64mJ+Bpa02HAfLtAWPdz6FO9jO+I6cwjKt7QMct1tQU3E+hMZXteS46OOp0vPzwXJS3KswU6pA6cbyGZ8zSBgmDwQBQaBHBAYg/B9Dq/SaXTk9NmIqf60Gj47pNxpEn8Oj2juQj7iLxT40Fl5WgyeJFScAnI+1e2biPm3AghJZrKO2EwT2DIch68v8FpTu/g20n+LK57T2fz7YgpKZRExXHlix86K1DO8k3EB6rBWJNlwIoJhRIo184XFCugQtJWY94a94lofJ0hYcAPHZ8MuKJJw8mEFduZpdhSg/CTMf3lWC17YJ4z6k/h6n8LRL5e88OMh0/KswU/kdHODA/WBVTzCszbhRkWHFn4Q0FxZUhvw1qDx4CkDtQZ0VwMaDrnOTZrJDeBEezkb7zZQ/P7MKDw5ewEFrSU0mtOuUaf+UFzyFB5VrkI8ovf+fvfcNjevI9kX7Y+uD/MWBkA8zNAJh8vIGTgiBaZDABgcCOdCgK2JCSDBDB6SAzQkY+oNAYDDHQwff0Ax5QVyagAdBgg5pCH484XcNOjc55MZ+Y26fGZJn0EU8Mfck2GP3oU8IBATrsarWqlq7du29u1ut1r9lMK3evXfVqrV+a9WvqlbV3oMn65dgqsTxAkvl+ICx4Jndx0CEfWruGtzZ/pn8ewq8/xLJpXb62GEHeR/dWYNLMy/A3NI/wH9C35f6MKle50nXrlX+D9KPTwVjmcV+CtTBa7+D9Sf/LuSVMSkpnyk81w7p3Hgf0yT2bLqX3efhRfZ/EX6nLsH6Exq4URz17UEbXYJLvDdkSLmwriRe2WdYP0ywkYhLjEj7eYntX8PqC5+yWDvDGNm+DZfQ1tJnEtWwXN5OyXZE/C4X64wL8mv2K4e1oE2UqmcGo+6eUJeBDE++Nul9dgDLExKMlVdg9f5PiRaaL7F6zLUXfNojtut1Jf5p5ekV1cDR1MDkiT8TcBGsnGpckPHB1M2oMbGAZ27WbDDiT4MBR/IFSXDXRH0oDHdeGSlArhN1M78/wub1NbifM6np2qh/HD8NIB54hleST7PZN0n8befPpAX5NW4QFvgibDF2OVWoVBIdL+PS1JneQ8D48+RLqpQ6cknWiNQgYXZkd5/E38tP/kj1Gdlk3ezT8poTl8mOaDul35m20bOJdhJ5Yn1Z/QqfdvGBJwHSBI0HPSVn04BUoXxkp0TdwPJ6+wLK+NLbnhi7tvEfaXuE9sPvL7k9IhF5cwZgWXbwuMrDHsdS1hXL7D+trEF7z01Bie0Ztj+F7yQ+0nLRQM3Fd5yVRtL9a9poHtEHYTdpGy+zW/mRfUyRXAZrXCeWxYRYtF1WQSl+fpU3bWceTFi/+xp+MIPUDKyzj7JeGceuDRGMpnBRJANOVKXLSftQoqF+JY1lMfrniYXwXv2uGlANHHUNTJz4u9k0DiJSQ0x4IkSpVOLOiTsrn5/synT3MOHCJfb9EH+uUwrJs5qYkkFE6smX0PosPA0leEa/Hl8NIGlwJFHaHzu//xvut15L5crjkvrHJtWC0zzo1KgUAckmNpaYUkct00z4bymT0266Y8efmGw6ojhu4m/87Cd7vCDLl/iM+RKTq9hvnnw7mU0b+RlLaNOkheMDl1mkXyw0orOUnUjBwQx+krTTPcFHkjzjjPYczMycIfL8CzxZf8/PmKcI5aDyDdDuVJvCZwLB8Wti8LUHzzb/AX4782tKfdwFeLIOly6Jje2FdQT2oPL9ICyUIbgff+Z+Iop/vGEQewZtJ7kT6VwGv3JQKWUL5YrUmfC7f4Kv8RQt7o9kUYm/MSXrv9gUHqzf9ZOx8sNr4XdbcNL30/ekfSghUESfvCpDqbgfbyZPOwsf1++qAdXAkdLAhIk/z5jhcrNYPmaVcEA/6sTfzfxh4PsdfHT99/AZL4VzW/Tz5GgASUFIMngpvjQDc3Mznvjvbds9IZiH/9Fn8PX6ewPO+IuZWfYDU6ftqJPkN0e1TKQcYaB7Q0J2kMQ/rDtTXCbxTNKTNyYJC/+WJFxp0hIQuhiRTugXy02TIZ7xT+udZcaZ2x/h/uprkSNQWVb6lOQZVzxfWoE7tzFFCWeTv4b1xUVxDGyyfbaEQeQboN0hBnhWOZeMUntNvN6B9cXXYPXOmkmbnFq8Dd+tvwvnzf4KamthHUH7GK+hfzkVBvfj9ZT93M30xwj6MnILHwyLTH0P5OJ2hNh3+igm/nu0x2dqbhk+Wt+EddwP4sqLtCnEbaEM+O6NdDlpHwobm34GAPfe2H0wZrCUmRIVlqXfVQOqgcPWwISJv595LGWdGW7y9/3yKnf+PgByB3eIM/5oNQ6ypRJkLzkftnm1/rFoADvvCDGxaT12w6cliDyw9cv5tlMVhMIRAX4BVkAgUOAEsaFUiFTH+jNs3/8zbXqXraT7g4F1ctbZ15EmtrKsSIefkp/9Ecn7z5Rzn95/sLf9J/hTaoMv60vu4RH1I0meCv1LEtE9WsmQs7JSHnynQpF+sb5B2unlsnafgnMrH8JKbpoPP8MyL8JHH/3Ozu5z2347B799Cd+lwPdG5B1IvgHanWu77PdPOOx8dINm9xljfwdzvz2fzA0vrCNsH5clN8yzLvAzvN9jN3uVYBB7Bvoy9uC9I6L+vR24/6fYBt9QLm5HckLL6W59h3wjA+u8N8WlPJF8wxB/LiPX99O6GY34s454H4/0Qf5NP1UDqoGjqIGJE39wGx5xtpxO1th7BJ/d+Awe7eFSMm7u4wDMxEB2/jzjRtfckZwircf0DfzyJZpNZDLF6TloDXcNBxqP4NFnX8Cf9vAyP+sJXNp4LEfePemn9Mrx04DpvF2HLOXnTo8HoUwG6JQbd1pNeiDrB4uMIzE4YFxSnUw0/Zt18VSNj+FK677bXC6lsvfz5j0cpNoNwXYDPd3JxNPllssS+G8iCUgkHt2B1dVNeEIb3/2AgQgP71HgHPzESV3fQOvKx4LccvngNwe7Dbwk75UbsPnsP+zmft4IjT+Z/G+xsZDbYQ4H+Bm271yjk5I4HvAGX6FfesZvah2knUJmJlhDDPotAZQrnZwuIfZdmCoYDx4zbmAyjB0iOeosQ6btZBPl326Sg2XiOF2iF8D5m4vrCNvny7Kbd+0IaG97Ha6sbsIz1448+/n67V+D2DPALefY44lCdGqUmdVurUArtunVycU6ERtr+RSv0O94lTCK9X+1J1KZPvEnf4qXI/HpNj1ju7h7BpCBn3EDCu5jQxwKnfIzXM8vm3DldTyMA+9h+3k9iCf1T9WAauAIauAQiD929vJIMzwOTB73J45DnMIZJcylD2YQ5fFmM5fgw9Waf8MqzswyceIc47lVaMlj9NzStiAKHIzDZ12AjFgPCURiti5yj146xhqgzpZxlDg9hptlT5p5btnO4PNyPS5/4ykyX65fs2+7DXGKZaZwOQPLX66L42Q5x1f4hJFFkhOWQ36GxyNKH+PBiV2psDnNglTJYvAISPNGX9uWL1rvej8r4WDnQ/gwcbytHWTvbd+B69GjRBOFuy/59yePWMTTkJJHmfJJP9gePBb1Dqwvn4OZxRX4ePM+3En4/Yw52nfO2RNtgMdyFrWTV2dY5BHIjiFPZ+i0J1uOJcly4oBnodk2PItaJF9oh/8d5ubsyWfWvmfglblXBrIdtzD5SWRdrjpRe9xm8cRki5U/jY+0XPYY1ix8h/rIsl9SWtxUOwpuITxOUw5eE1WEcrGd8vzOFpCNddEXmSOAb8P6Cu4J4CM//yPRpjvffZGME65Py5Eh1bf9DlofvuaPl43Ft/AZrOe7L+HKa8vw0eqiO84XjyOmXUwJTekX1YBq4Ohp4HCI/9HTw2gSPfkMrlz3R3qOVog+pRpQDRw7DeCg/0wyrePYtUEFVg2oBlQDqoFTpwEl/iObHJdIV+B6dBl45EL1QdWAauDIawB9/204Z97VcOSFVQFVA6oB1YBqQDXgNKDE36likD94if8VWP3mG/j4+hcQ2/Y1SEl6j2pANXBMNWD2MQSbWo9pU1Rs1YBqQDWgGjhdGhgr8e/3+6D/VQeKAcWAYkAxoBhQDCgGFAOnBQPHaeigxF8HKzpYUwwoBhQDigHFgGJAMaAYGBEDSvxHVNxpGRlqO3UWRDGgGFAMKAYUA4oBxcDJwIASfyX+OmpWDCgGFAOKAcWAYkAxoBg4BRhQ4n8KjKyj9JMxSh+bHXtd6DTrUC1XoN7ZPdxAj7Lcuga1yuzhy6KxYJ9Y2IGtdgNqlbNQbT7YZ1nqs2Pzd8W1YlExoBgQGFDiL5SRDrSP4WHzIpRLZ2G++S30cu8dsKPa3YK1ehXK5sU8Z6G6tA7d3oDPjqN+LeOEBoCn0G1eEC+44RcrBZ/Tb0Ljg5fpvsMm/lLmYWTpwU57CZYSg5bvof3mB9B5ehJ96Xi07WmnDtMmrk2Ph/h3m1CVLzAzf1+AZvcp9He3oN2oQYV+L1eXYG3rqwgGerC79SncdDEX/eEsVOs3oL21UxgLet11WKqeJX/B5z6Brd1e8jmUpYmD16IBDw6MbkCdy6s2oZuIx6Gs1NbEPSG+scwmNGqzUEqVF96r39N9vOpEdXL6MKDEPzeojpn4976F5jx3IkzIyjDbuDeeQUVuW04fuE9XQNuFTv03UG1swq7BAX6vQKnE5AFJRRNqs29Ce+cxDRKGIdsHhR8m/0PI0rsHjdnkCkFvqwGz0/UTSfyPU9ss+R8T8Tc4/gG2GjhQlXFyGzr1F6FUWYCmIe+I7U8soU5gYAfuNebNxI0k7L3uBqwgUS7NwkL7YXbs3d2ApdoHsNF9DP3+Y+i234JKQg70ie+hXXueBgY57d69B02qs9ZoQceUKX1qB7aaC6b8Su0a3Op0s+VycR4HwAs0iVRS4u/0IvWqf5+uflDtPYi9lfhPLFj0YKfTgls8y7S7CQ0z8yM7NAXtIKDVe2I42YXO0hK0d3g2MiT++AySqDo0uz8cY+LPZE4MFNiXEqQvpqNjeO2YtW38xD8yMNxpQ61cgul6B57K+I3Xz/Lgrwe7nSVLpOsbNBgW9neTMC9CvbOdnMGXZSb+fgDN6jSUa23YSVzvgxmclTKIP9dVnofGvdgqg59g8gN3IWtQVyr+mYFwWYl/kZ709wFxPgT2VKfHUqdK/DOBy8TJzsy7TsbN3PCMPc+o9t3y82ylAr/CJehKDRrtrXSng7NHnVWoVcpQrq7AvXDpOFMmdchUp6e6ygg8jF+BT6crQabaGzQTiXh9C9pmJtKnJExfvgmfLODsKBOkHdhaW4Jq2eLfplgIMhOmssVSI5wciGchi0vdETO46EflKtTX0I+Y9LPv4edZqLycXEWzvppVBl6n1I/pt6D5iZ3FrcTIIcqZaE8ZKrWmSPXAsto2zcKknODvq3Y292kH6tMkp0nB4HbiNSaIGAeaZqZ6ur4Gd82ML/5OM+ItDtUAACAASURBVNFM+imdpVRCsrsGdyldxNuG6nH3sc0tUcXnMtNARm0f2xD3aKxwys0svFF7FcqufWjfLDsMGstYb2KgR8QfcbG0IWfGRUoUk+HSy9DY+iHiI362PEbko3EG652+CM2HuAIQyG/Sktiu8jdP6rPSRXsPmzBfLkF5vgkPR0r7JDtrqk/aLqGd9LvqSDFwnHg/TP4cf9d58OwSLTuXF+zMquk034dbmHPap+Vn1+llBXzRGZtc00jOqAJTg9O+MTAI8S/RwPOpmx3FtLPHLlcbSfdFuLnRgoXK8zDf3IIHzYswXb1q0h963TVYqJShVFmCDg5ezcxmhfat+NSITFJt2pgmdoYITROp6z2EdmLgkb6/3yefEjP+mWV8/okn5Lh35+YfYW1hNk66aKbWDs5ZRyU342sJ21lKr+rB7r0VOyBifTBBdYSMyaYliHaWmEg7k1iOObMN2DIkMNk2n0cf2OYfbTtKJUGQ+3Ym+sWsyYX9to9jHg8Y3UDFE+BMOww8yx6zN8dW1B0OthrpfH3eH8CxOuZPg9xjnuPByyzU2t/HY1MW8Wd7lqtw+XJsbxenMp2F6uW3xIDa+lhqgBFrB+Pf4UwOPPTvwXSoelI9nR4MHCfmP3nizwHVzLThsrII0uGmXA7wsuPljsV14gQsd6qK7fRHn+k5PUDVoDSsrQch/oIk0gy1m/0k7LrvSDgMxn8lyA/7w/PmmiGykmixT8hrKeISEjtbpqyXCbK9Ft6PekmSY5vS9LIj6IidZBl0f65cTNLFjDENQqwc1PZEGUxIKX2PZ/0FIUulwpCe3YpiP7Rb2LY+9GO2Qb3SQMPrDmW8IOwlMbT/9v0N91WUrO2tf3KZTPyLbCnlyfo7Zm+816+amhUNMwCg1RZh75IYDKZiCMdntw8mJgPbg1dVMg56MGVxu305FndiJajXhY0lHAAQRthHKjVYMXn9j6G7cdUOAMJ+I+U7XA9hROAs1dbMZ7kM/VSdKQZOCwaU+OcGRAqojvj3wc1y4vK521zWhz538jHiH+1YOAcVOxRemlfHOy2Od/DtZMISw1aETDF+mTykCKknnJZoMRHCTyQ8/5JzqlBMBsZ6KIv3uVQ9RrbwfiwnJMdFZYT3syzyk4h9pm/Gy+ABhiHyoU77fRgn8feDBZabVh15MIKk8kXczM37Pvg+/Nxv+z6HB+YUqaRtk+0rsoOUJ+vvmL3FvcEkiktXY1LPuojFeb4nb3DAz8l6YmVmEH+rDzk4wvSxDajjShkS+8c2JcwP1rBtvHosBp0sR/ST9My+G71H6Ex/j6/aqF5UL6cEA0r8cw3tO65EJ5vIi6XcZ+7kByb+GIj5RIhk53nwpFA7gZOv44Mi/mKVIOE7RNCySBSTLJeHzrOjIbGzPpfwt1g90s8yiH92GeTXWbKa+gqIMc/UhmVQO03dHBMEIUsSYz+Y8rKGdovIKutI6IZXNuxs8tOtBrwY2Yhqsb/f9v0R7prTdpLkNNm+IlsOEodCfNhJlqU3gw22WTPp48zxzxssDUP8JV5/iBF/2eb/GRlQh/0FYUTg7OTHt0Gwo/coDhQDMQwo8Q86zqSSKKCKGX//u8/ptZ02k3g/u8Ozf2a5+TEe5fk8VBbWxLn91MkPvKSrIPb6V13k6yIkkFJfkljQC7xCkhojlyaVpAypnP3eX2Drq206WpA3Afv6et2v4KvMDeyhLORHnCfv/PMxdLe+hd3oZuCQHBeVEd7vZfU65bSVjNQOHrQHs7/W5ykG8OBAELIkMR4/8bf7LM5CafZ9aF7LSvPB9u63fX8heyf1k2xfkR1ieg+vhfig1dWztM/K4SPUJaddZWya5ZN2MgcGoRxCZylsct08mBXPptKv8DeLPzvLTzpK4IjanLgmypRtNn8TngXOPI7zntPfVE+KgdOIASX+qSAqHIE77hJv6HsK3Vvv0wkjvGSLmx7x5V6cusPEiDtWepaJFeaiEvk3aUOzFzKOeBNy5Mmov+nyZAwDucSGZ3vF7D1vRKVBKA9a/Uw04pHJ1CzUVjZoAIvnj1+DJp6cwnW6fGX0kXvQXLpFG1VjmGZZxIDZnHIi8qLNyTC3YKm5BT1H/PH+Leg0rkNn97+bYxZLSJQebkCj0YGdvDLYr8PZ+lCPnJIhj2HEPP+lVbOZ2W3u5f0+vAfAnc7CpM6eBJN8GZQliWk90zOOkBKpk20zufV84ECoUx93jD6iaT70zH7b554PN2Jj+pdddfhbnh1CfUe/Mz4oJx7voViaOFGKZ/zL8tQdPgUq+eKtgc/xD+SxaZ4vRs/+t3YUMrpnvc/YdwbQpneBKYujoF+oPC/eyRHaOPjOeNYJJO0LHO4CjOh1xYbAgBJ/oYzkyI9nTDmXmfKYP/0j3HvIb3MM37wrNpyVfwPVV/GYQZ4BFZu2TLoDdkbNyItc1GGTdlB9DKsPO+vKuLWfnsCHuK5AvdmIvCHVP++fxQ2+8vhGe2St3ZRo7eRJFT4vyXvMjqEsPGMq/Mj4ihxoiH02fBKOe7kSnlLEp6FklEE51W7/QAH5z28Pn/bCx4kmCaY5ypJP+jG6aMLd9mWYxmN+b3XgwQa/6ZZtdANuVKfF25cxpeOv9OIo27b15lv0dlx+JjjLHuMZEfJk3nhM/6hLfplVzF5F7cPnORbiKUPz8MG1N2Aaj19tdmhgmGEHPLGIVpVcXn4Yi/l3lx6GMl6A5oPP4f33N2A7cZQq6gff3iuOljXlYf0tceQqloF2KnpzL0/kWD1bLMderBViuATpDcX8ci4qSw6MjYyo56Y53tniMon3PP9P+7oYzIf61O9K/hQDioF+/zjx/kM4zlOdRJ1EMaAYOHYYwFWDFzNO84kPAPLI5cH+hisUb8F884Hi7Njh7KhhSeU5WF9V/Z4U/R4n5n8Ix3kq0E8K0LUdiuVTgwFM25qldyscdTKJ6WEXavGXYh112VU+HawpBhQDxxADSvyPodFODYFR22hQVQwMiQHMKX8dXmzcg94R151JM6q/D81Ueo4OUjXGKwYUA4qBg8KAEv8j3jkelOG1XA0qioGTgwHeJFwqDZ4frvY/OfZXW6otFQOKgUExoMRfif+QM4rqXIM6l96nWFEMKAYUA4oBxYBi4Chh4NQS/+PUcJVVNaAaUA2oBlQDqgHVgGpANXCaNDDWzb2nSXHaVtWAakA1oBpQDagGVAOqAdXAcdKAEv/jZC2VVTWgGlANqAZUA6oB1YBqQDUwogaU+I+oOH1MNRDVwN42bH68Aosz52B581n0lvyLe/Ds/jqsLp6D0lwLts3Nv8B26zUonVmGzV/ynx7frz/D9mYLlueegzPLmzCxasMGPLsP66uLMFN6DVrbhyZFKFX6+3GRMy35Eb0S84NRRX0C929fgbnz7E/DlIN+sGb8cTQ/yGjHdgvmSjMjxogc+TH+tJZhbuoAys6p9sj8dFz9cLsF5+euwO37T46MKlWQk6sBJf4n17basrFqwBMA94ba0jlYXF2H+48+g9WPvwMAIujmragjdry/bMLyGXobqSP+wzZkF9bfbuxrkLB3fxXO0dtdRyM8w8ocu/8ZbC7P0Ft3Y8Rf/k46O7MMX365DGcSb6YVtjCEi98cK67Hqh/4mpQjJufABU3gxj14sn4Frow0KJ2AeFzFWPwAAPYewfqlczA1dw3ubP/MpQPAIP4MAAIvI/nBMO14sg5vX9nPIPsnuL/6CvnLqNhGvdyAxZkpW87UHFy5sw17QnOxP3/ZjPjcl+s+lqViyXfQmjvj3qg9km5TguzHD5/A/fVWMOEiK6DB4xTFjplFuL4p9YIDvE/NRIntH87B4vU7sJ1QXF4ZT+B+6xLMTJ2H1W+U/EvN69/j14AS//HrVEs8aRog8lAqPQdzyy3YZAKBs2vXcTa6JGbFmfyP2vHi+IHI/4jE35D2cawOEOkZT6c8Kii4M88i1Hvw7JvrMIcd8rlVuM8d7bN/htW556BUegVW7/+UrPzJOixOvQTLmz8mr+/rW5Gc+yp8fA/vfQOr50ZdjRqfGAOVtE8/QHL/qPU6TM1cgc1nDAw/GBjMnz35H9kPBmqHJe0j1+EUur/4s/eoBeenpmBm+Q48Y/0NGkuiPvcEvlk9D1OlKTi3+k0wgNiF9cVfU12uAfv8YxQ/xMHwJZjiyYJU3CUcOVLObfIxxOrtOZhb/Wd4BhyTWI/YpOIyAJ/bvAIzU69D65EcpO5TJfq4aiDQgBL/QCH6VTWQ1AAHeQ7qyV85oD/n0mH21/Ga0gciCqEc9J0730E764xizOVjQfxRUiQQL0Bp6hKsP2GCx515SDjs9TOL6zDeebVRCEee8g/iN8byPgalByFWVpn78QMs0wzwXoDF9V1RA+tgUH+eBPFnoignEITIQ/25v/hjZ+5ZZ+RDckCdKwv7HD9PNxs7BANz/Amvn5E+m1v4gD/uww/NoHhKpFhSlXQ9MSjje41uaKUlEXN59YUmHgrL4ObZWDY19vjE5eunagDgUIj/3vYduI45zDzCdp/zsLQ0L65jB7UtlvtLNs/5J06HOANzra/F72fgt8u/92XPvAvrPDuLo2mTO/13MDPzApRKUzCzuArrmlOnfpCjATuTUwpIZfDAsztwZfkzIpKxjjdYBp6ag+Xb98HvAJDL61MwU6vZGWwz84TPfgYfLc/BlOtY8FqLluNxFWIVll+7Bps/8iw3p7IQkXj2DbTI36bmluHD5UWR6hEuP1+CFvuEI/634WtchjZ+eg4urT8KZu6EPsQqiPFvkSqwt70JLdOO92D9a5Z/CmYu3U4siSfiw8zrsGhm7rNm/LHuOOFw6UoJ4oId60sJMpior1QSaSFS9+9C69N3YQbjhpkNBUg8N5CcObp28YnjIsanG7S6xGQG7Up6ECkodi8IYoj3ZMTsxYTXY6N0Bu3A2OL2id+NvVnvIjUjNSPK9h+1ffx8nh9YOyfSKVJ+xOXgJxGvxGAQM39wRnsYf84g/s/uw23EstER+uCncN+tKhS0A/PQP+I8/Cd+xcr1g9jvPYn7OG9zSdSPWGlR/SL+rN9xfl9K9IVST8m/rc8gxr+EbYwx514bLvWESH6CuDJJTqy+RQbgmbFj3H6YbLP/RhgP8e3ioEzDkvj6V5u25OKzLdHqkgZBhWWEExaRlUovqP6lGtiXBiZP/Pf+DK3zuARvl8lcIOblWJdWUYKp8y14hP7gAsdzcL71Z0M69u7/Ht6mv11qBHba5hmaAZQpGM/uwLLJW6SOjOXQZbV9AehkP8ydaAkSHVluo/kZP6tqMH6GcmUdvnmZmJZ3S0yoBUHDDshhnwa92PGbay84XwDE8uvXKKefOi/XCdkOyvmSWXJ+l4h/sPzMPsJkicklL3Hz7wkiLZXBBJzaxvejLD9jignlDWPK1JUvYHsvmBXDoswzZ2gw4GdCHeGV1cm/U4SDy0YiKzrR1CwjxQoTf36xS+0cN3jGmcjd+Y/+CW5jvjjGmCcYT4aRM1/XNg7yLLRoN8dFXtVg4o9tpzYj8f9/xZ6MEg+2GDvOXgE2s9o39x6s/CccgHgMY3VIZF6auw7fOIIrDbDf9hX4AdaPpD3Tj6Qs+HeMxHH7h/HnCPE3fccMYfhn2F6XA8KidkhcCv2GxDDPx6nvmjK28Ji1MUq0MfF7uPIV6ou+M2ZMWiMNZjgO0MAkMfOdKob8iWMI4cbuF5IyhAPwnNjhJvrQl5+D/flhSmBxIYYZ72fJPoDtiHzif0ZWHK2/nCvh5OR3zlezy+ARHeONnhPS6Z+qgXFpYOLE383CcWBwgUYsD3KHxh32ky9g5fzfmdkV6zg/wf3rK35Z33Vg7CxihoxG765eR4g4QMpgNC61ajknQwMeR+nOjvEjZ0ixE/jJnsDjSJPtIGTAZyyaa4R/+bskdPZUn4DMG7wzSQw1HdwLtg2WJPCsEj1j/Ezin0gM+2ZIRqisZEqNrJ/JHy/fk/6cz4Wy4XYG3BTIfkudKddviuZBPM88y/rk3wHhMHp9Bd5bfl3kF8dmGe1EhNM/xRJvb5I5IdMIcubq+t/tpsxEHaRLlxvNWBR64LjHM5RZ9nKDBcasIJxMkBN1x8gOtvm1xEqJ1L7FbBaWBmhfoR8U+FFCGL9PxtsRb2AdxlJqWDehP//iNvhyWcZ/pb64D8NrP3xtBrgOT1gt92dsJ3cIgLBDaLtMH2eCLAazvIHZpIdwO0TZhJOETKG+jHpwFeN1mJvDvtavbPkVNZ6ciD3M11g+7s/Rbr+Fc++9BzW5Dwd1kkjzGTB2SL1HV3UGjRcsr/wkX3d24t+4zHOw2PrGrNTubX8BV3Al0sjzC+0RECsve9tw5wquCLEeisoQsZnwwnhjKfRTNTAuDRwe8WcywEHTOQg2jZ0EO5Kv4cfP1uCz727Dolui/TN8vPpPPkeXO0BHIHyA5yMR3akDXK8LvqV0Tt+4tKvlHHMNEMHDma5UZ0BN41lt1yGFHS91Jm4ZXxALLNN0+Ex8qUzGs6szJMw/wubySzYlbmYRVj/eFKky4b08A4n14ilEa25zsh2ABHVLi4VkxBEnQT7l/e5vTHX4LzY9CdvtfC6ULST+9LtrNxbIvlxUJxMOIp8oO850/4gbeTm/GONKMs3HiYxpBh//3p3K4TvdtMzx2eR8OfN1HauDZwyZpEbKD3FSaK8Qm9j6eN0AhDHGNcbpl972ky1OcfaPfbev0A9Iziw/CuThVWBvR7xhFH/mGVi2A+tQ+LGT6TVo/V8fwpzrh0io0E6u7xHkPGW7LB/nNmT5A8snyk7VHyqLV5iI2HNMo1V5i4Xf+hXG8PHwOw90zEoT2m0OVu9/Z2fFzWTevxuiHN9nM3jscNgdKV6EQuN3wliiPLpPpEuaOLpcM6mPfjBFp/IYLOAA4Hc2FZP9B4spLIPqInslsUu/6YdqYAwamDjxN2kJeak+plHciSPh+ge43voSnrjBwAuw+FELWp+JDVsc2FzA5U7SEzYl/mNAyykswhIazAnOOmkhJE5hx2t/zwritnw5U+pnK/1gI6wDDYHHz33oiGrJpYTE7hU5sqZjojQ7kx4yXuLPM2G4l+Cj9U1Yx+M4ByX+PAngUlOwnezLWURHgNIRjhW4c/tteMmcIsKTCK/A6p21YJYRn/0Ztu9cg7kpzNP+ENa/vm2OIPT2iuhzBDlziTGX5/REbUqQwYgeOO4xUUncH9NdiE28J9I+ql5i8xdM88nZcLjf9v1ssJjnB1ZObxcSMuuDdOOJmb3RyjmMP2cQ/9BWEZ25OdzQTgMRfyww5uO0euJWcUIFRGycqj94hvHn/E5MFsz8Dlqtd2GO9rUET2Z8DXzuJTxti/t0tPFncDsyAB82drgUYCc3ihPxkwwp05fJF9if0jfQFW4Lp2tGbjSxSK6ahPfklEH2GhjrYdH6XTVQoIHJE38UKLExKTgikQWmTqzkVgLYUabg1+eW4TN3eocgSjnE3y23uhE4z5zwTA5XrJ+qAaEB3guCS9/BJlR7V0icwo6XOkFHzLnsn2H7/p/hGZFVn4Mv8Ow6oLAOLgM/OceYCXzevbgh9TZcwr0uWHasbll0IZGUN+Pf1FbXEVMn7EhSWrZkqg89nxhkDdORM+F4AWZmcJYRj/EUcWNmhgYDQm7qoN1Rg6lONy2za+cwcubqmtvNKVJWPktSOVWA45UYAIWErtBeITaxnlj7SD+M/XP/AK2VnDQfvH2/7Ys9n2gf6SjLj0hk/0Htcj4UtGlgfw6JP+MpTfr2tv8Ef3pkV6bz/Tlih5TtfEuSPv6vlFbi97vJO/27RIaY8ee+1vktlihWHJz/JmvK/sY6moJfS58jG5d+PQMzZjAgSyD7OhmKY8dIfiirTP2dgZnEfbw6kkPq+WS1FFa5oIIyjD04nvMz+qkaGJ8GDoH44+bF19IdcNgmnoVwRN13LonzuvE57iBixN8FEg5kHLA9SUge9xYKot9PvQY4kJsTX5ah5V7cIk7XcZ0jEzQmbHySiDylBZ/7GK607sOe62B5wysTeUolQPz+Qhtj2Rd+2YQrr9PGdz772Q2QqfPCex/dgdXVdVi/8q4/F5qW8e1MKPuE3C+A9a/A6uaPZjMnbsrzM0/sMyK/OAEOqtucIPKTf6ENy80+7XTlCYIl3n6mkV+45AYqZqUiq14Wgsvj1B66zoSD9wzx7fhpOlke1PlTadxMcUpmfGgUOQt0bU6bYQyYnaz2xVN8wIEbwBDhcznEhBOxwTfbXkw4EZv3YXP197D5xOak+1UZqRyhT7ah/Dnx937bJ543G7/TfvDNd3TGvDvtSPpRQhif1hOTeyh/9ilXHhN0QIV8iROmcVz5GO7vFbfjvtvU7mMEvyhsavE2PNr8Pax++Wm2j3MqDm+6x6Zjnv+VG7D5jFcEBPFn/Lu+MNAV/44bes059HZyzr4xG/ElYhfqbrGRfC9CUJz56sqUPsvxI1jZMQ8MGzvwoVH8MCYsXWNfz9KTeyuw8NNEcbhCs2pSfDh+JX7GL4VlsM9JvaVK0QuqgX1pYPLEn2cXXF4kdVwyiJomWQLlgq25hoHj18GLQHhGkMopvQYftn4n3twpRs7iuLCp387BbzH3N3NUvi+96sMnTgPizY4J7GLe/EfwsRkMhFhk7Mnj/RCnwVsdEyTuOZhrXIPFM7QS9t0XwdsvX4PWd1/CldeW4aNV+/IwUx5tOvOzg3ws5f+CzSuLsPzRCh3/KTagoY2ET5jjN8kPfw7exHlm+UP4ULxpM37KDqfNYBuxc7wN6yv4JtEpmPn7OToOlPz0zO+g9eFr4uheoSuTemPvm5q7AiuLvwZMHfIDrhxwGcIREgsiHLEOXeoeT8P58jasmNOHzsHihyuwyG9RRpu7AQvWL9uKuh5Azgxd25QQJLHyzZ/hEZFIGsRxrTOXoGXSkuy+jS9b74qYh4O1uL3cQArb+kUL3stsH+k4MVDM0Tv+tN/2SVsgfqQfmGOZC/woFM9gQZDrxO+D+DPvQSHMIgZoBSFxlKskxqQHu7GT/CDRjv8ljp/G3wn37rQvIpU/b+b4eHCUrKs/LHsGllurMCfjVbgCYnQSYg/xTP6GNm3h0aOkA8QdH/eb0Gf4JeZzeaRW+lNR7FgWbyWXz8X8kAYU7tS0UE773aUCO12JgZObWMTYuUKxXpYj4n5qzxXdV1gGl2f1luQ9/Jt+qgbGo4HJE3/MW3RngouAig4Xm50ZTzu1FNWAakA1oBoYWgNIRDI2RA9d1qQfoJNidHJn0oo/evXhIPB8C+wpaUdPPCsRrWAkUgiPqqwq13HWwOSJP84gnft7n3pgtMdLdiJ/9ThrVWVXDagGVAMnQQNImM5dKU7tOLJtte/FODN3De64lzkeWWFVsAPRAA4AF+E1fu/PgdSx30Jp5eLM+eFemLbfavX5U6mBiRN/u2EtOA+YlnjPuHzWU2kLbbRqQDWgGjhCGkDC9PfF+7GOkMRxUWjvxpGf8Y1Lr1f3oQGTfnYFll0q5D7KOshHt1twfu4K3B4ojeogBdGyT4MGxkr8+/0+6H/VgWJAMaAYUAwoBhQDigHFwGnBwHEaMCjx18GKDtYUA4oBxYBiQDGgGFAMKAZGxIAS/xEVd1pGhtpOnQVRDCgGFAOKAcWAYkAxcDIwoMRfib+OmhUDigHFgGJAMaAYUAwoBk4BBpT4nwIj6yj9ZIzST7Ude13orNSgYs6uLkOltgqd7uOcTuoxdDtNqFfPwnS9A0/H4ecow61rUKvMQr2zm1P3QeLtKXSbF6A0XYfO04OsZ9CyUc+rUKuU7XsOKjVY6XShl6nvA7BLZl3Uht0taDcQOxeg2X16SHYbVJ959z2AZnV6fHgu0ttIvw9o324TqqXKYH6EftesQ7U84P0jyZ2n95P22w5stRtQq5yFavPB0fCHsdv4AHCIuBq7nIeDLSX+hxkkTPCj9wMcQkfee9iGW196AtN72IT5cgnK80142DscQJ5qcrsPLD7t1GHavdClDJWFNehKG0qsmfuOEwn6AbYaL0NptgFbvcfQbb8FldLzUGt/H3Ra30P7zQ8MIe5tNWCW9DEe4k+E25Q5SQLi23QUfcPq+WVobP0Ave4aLFTKUK61YSeBZd+G8dulKE59D+3a8/TyteOE+T70d9rw5tKYBq0JexTpbPTfx29f8v2J+93oOjiKfipl8n3F9IjEvwc77SVY2u/kh8P3+G08fhwiHsYvp7SL+dvp5GDxp8R/QgExZWBTrwDSpIl/71tozv8mMeOixP9gnS2OgTHX6Qj+WZhvfhvMvFq8pYnZmGUYt0/17kFjtlw402mCvfQj0sV4iD/qiMn/5Ih/qk3j1u2+yqP4JXUeKS/VhrHbpQi/u9CpV6B0rGb8rW7Hh90iHY3x97Hbd/J+N5FYHfGVSdVryf+IxN/E4/2ueob4PgAbjx2HB90HhDoZo08GWFPiHyhkUo5n62Gwlya7dN97CO2FWSgNutR6qDo6OPBP1tYTagcGu8qrUDWpFy9CvbMtZsUt3o4dmXjagfp0KZ/4725Co3o26UdjD/zsrxMi/rE2HSlfJEKdR/xjbRi7XYp867gR/x7s3luBarkA80cKC8IGY7fvhP3uqOp1jHKNTvx34F5jHsr74g4xfB+AjceOQ8T4Achp7BrTifCpMdoeec9x+ncox3n2uhuwUkOSTCk57pOXjWWOa5h73IPdrTY0ar+BSgWXm/H3BrS3doiMMYgk8S96xoIhKVey3l63A816Fcosq8y73b0HzVR7LsCN5js+VcR15AWyECGzunkV6k3MG8Rc30iqyZiBeyJJ+zh0hMGu2oSHlLZVKl+E5kPOhbd488RfYhfxfRaqS+uUIiRzJNfg7tqSISKl0izUmvdgp7sOS0i0EWOVt6Dt8u0RM5+Y3HrzW7kK9bUt2M1sG2OMfUxiWfgHY7kUIUNMLsN7XOBfg7vNBdof+kynxgAAIABJREFUMAsL7Yd+JWR3C9acr5yFav0T2NrticGSDL4sjyT+efLTs4k6sH1NXwfmjLq9CyUolauwtNGFXrRNG7C99SncRHmdj2IdnLNLefZoo5UNl+rl4sH0ZWjfbQ7oowXtIt0m4mJCpj70o23owNNB7IJtcpgrQbm6BGsubkqbeB3bPH6K0zLm9Zn4yxiFZV6FDYfbHdhijCBmb9ThgkuzycI0Xmd7vAXNTzAFrQzPCxyWSjyryjKgfNh3/DW5N8L5nicAXreIt4ew1b6R3rPi9i/E2h34MLevFPhApm/aPQUsB8aNHxIphdQHOixQW4vsizLfjOTsZ/qJ8Lv2hu+/EnEnjgnv24Hf9fPwHbdrpf5/QIdtcPkmfGImz3hyJQ+vGdhyepiHRvuG2yeTxCX6Ee9R2YeNE3FmFt6ovQplh02sw/OCcrUON+q1SCoPk36SA3HOPp8ro7RNFr637d4lHFDk2TiBkYJ4PRIO075u4rHzkUGwmC7D94H4G8dglL8B9QvvQ3vTDvTZ1w56UlaJvzOoBCf9bdJhkNxY5+ZUmFJlCTqGHPRgt7Nkgn2lvgG7dL/Lkd/dgLohwhQguTxHxhhE0oGKnkEnpXuMHD/Aw+ZFKJcotYN/M/nQmIu3YAcA5QVo7xChcYRdEhhatk84c7EsPl+Q6t9pQ62MgUGWHdFtnt71twziOYAeMdhVm9Dtcy48EnPGq8WbI/7GVmUw2O1vQ6f+oreb68wFGXX4rUD18i1DXtknOH3IfJ8m8upWlrhzTMtvnz8L1cYm7GJnTDOdXuY+9AeZ8e8TSeGOCDHEbSjPQ+Pejvcb4xu4UQvT3So02GF9sT7SssZmewrl55hQXYF7u08pXpQoD579k/TDvuvaELSJUp5M5+DueWz9n9vY586Z2iGfceSSfd3m5scG0YXtMj46wIz/KHbp2zZNEzHnvQMJTMgYkdBxTww4GHdMuu2gdRd9Y+OqGchyrDbpSC4u9wHbf5GIv9FFDNOff2JWomxnfRbmb/4R1hZmoTz/j3Dvru3I2S+sjh9Ac/4NOxDP8z2BXfZVIx8NKPiaxe9ZKBtspdstn3EDSsYD+4DUY/Rviguy/6AY79uG9lqABd5zk+t3jL2gj0jYMPQT30/atvLvZZht3PODeCl/bnnWvvPljLizvRG1qydlGBMvws2NFixUnof55hY8aF6ELLzGsdWCT9zeE55w8fGPcTkeG5MNeaDkBuQ8KLU2cXUa/3srQvwxJrItRP+e0HUah7H4wrHZYdmViwNyGSuFjU09Q8TrUXBoYvA07ZHjPoEGOibmcvuz5cyMF7j6bvwPMUNpuNimi1ftQQ0kr9dJrA8azzUl/jJYBH+7wMlBj4Mmbyx039kJuIOhzW68wdB10gwaBjN/98Tf1Zn5DJOFyMwnyu+c2srgiTmvUHgilSTno8jSh1T5blDBQWU8QI0Gj8Beeg+RXUP8Ue+CBJrNvtbGHFgsufObZK0tGcueOPP9PugLwsj2NnVSByI2dzKePUmQeCASwP5l7ElEtsQ+4vHq5ZBl8N8BScayUoGU/JPqsx2yGBCzPyfk4fLxk32EdVQk/13YNgNvoS8aDFl9MGlnGUIiHWlTSKRJ5oR+qSMulbjedDnW1lk+WtQuJluhvFJX/He67iK72M7xV2LzNsnDcTfwe4sxj2OMAxbbJdoQznFZxEC3UU/ESTd4Ytnx09Yt9ZvENLUvhRnaVCwJ9k4bFhbsxufhfS+N5+J2p5/pu9UPqQvZ3vTfqXpCP8HvL77pJ5YK/C7tR9ynMV5xUG7TUa3eQ7/zMUHaxcf/ovIGwXeGXaltiXqNPrLxanwtiq1iXKZ0n8J2sY3TZbB+2P+tHG4AGfiX1ytiI22LdPmh/6UxlY4B6XJ5wod1beqRfhbiMJR7aBwynxGxhOpgGWLtT8pZEC9Mf8kDzkAvKXmD38P27eO7Ev8c5VlAe1JuOyRcTidgMOlJLO3i6ND+7khxisSXoGSIEoPd11H8DAeLDOLP7THHTl2Fy/O/oZQfEeid3ExgpEMPIws7CraZyndlc1A5OPAmA5LWY/SBwcMRf57VxlUrDDZfwlbzQipXHlNBbpml92AWLhWIGK8CN2xvUyd1lil/YLyHNoqQQuzYaMDsiD7V4b4zxhOfkbJS8rPvIFZ/oKVlms1JyCx8JVFH2P5InQn5/wh38TQi9o1EWVIXmJLxB5vCg3K4eBErP7iWaiOWy0SZ7RQ802e/zfLR9P2IrZRdmEQ6eWWb+O9IWSmZpV2eugFbYobV2Ccmb2gTqpdJgZEtKN/YgckP6YhXW0w65jW45Y4kJfkT+CDMSMyndMDl86pDMCtOWBjc90KCN0i7w2dQNzFdsK0yPhPkB1e534dXK7+CMveDYkDjYlAiJS+sM5Sd8Tqo33nib/vRUO6i8iKYTOE7fk+asHodZ+I1E1uhXrAdjBvkEF2f/iJP0Elg29fv46Msl+NcUrfJgT9nLiCuZ6HWaOUclRzaLvxOtghlDGNfKgZEykn0Lfz7EPE6VYfUCx7ry2VynOQYJ4h/ONESeYaJv8ViUbzglXVcia9B41bHpWRGsRXqbUzflfjnKdLNnNng7WaROHXCpbVIoPggVEziGXi+sy9+xh9P50ehvk4MHDaHbNqkcGy7nEzh+OxQiXScUWRhAoHOSOW7smOdtJRT/z6QgQsGO0n8Ed+u46lAtVrxxL/XhY2lKpQxp/nmp3C3fRmmJSZSgZMx4gNlLOj5DqjAxlmdQ1jvQRL/FGHLkzlof6H8xcS/R3slMK/2ZrsDbTx9xskUIx/Ja2kyjvIHcqY6L/bbDB8tbBcfMUkdqZM3prukvAMRQ2N/gbG8GJ0a5LAMst6ww8d7mGCJelzONcYzTvmy5WRjWtbDddMn+Z2J06jT+fcpRdSeBz6c74UEj8mtkN/oKZAn9KVRiD/r2My2/gXatQvQ2GiZlM5ybQ0etN+CeXkefGGdIT65LaKPStg8vH+fxH8gfAd6ZHlSbWO7hHYIscD7GiS2Yrhk38TyvrfHGMuYPLSNd6kMsZoSHfgjb6D9KmaQywPWoB2p2MK2C9ufob9MPRbZmH7PjTWBrClbhfqO1Emcj1c/mPN5rhV5hjmPmAjIjhcoI+7Jsvt1zGCR+WRK3qA9rLsxfCrxL1JiajNJ04+GOYDItARZHg8M3PIUOwnP1jOIPPHHs5tNjnzmM76MkrtHAISfp2V+N5BgYo7yMVATAWUUWThIKfE/EBIvsTTo3xg8QuKPs1m82dfNxDHx8R2CxYoI4KlAxBgR9zCWTJ00KOVA5mR+DN2tbyMbfOn+AMeWzIrB9IEQ/8e0/yXdwfW6X8FX0Q2+YfuL5P8L1RE7WhV9lp536SAhkY51nsE18nffMWG5FCOcXoNnoh2/iCEsl3ve/payC5PI3M44XXd6ZivokE2bmHgLuXp/ga2v+GAEvs44FnhB3FFstnoJyje4DHXE5fk0EzuZ0bXvAcjEdKR9Dvdcx0W4ufYBXHD56CzzML7HBJP7Di4jr93hM9jGmC5E253syWvO9jdXKV2Jsf8bqL46b97j4GJgKm6EdYZ+xG3J8pPwftGHRWKdH9Rllceyc4qdbatro9mrkGHXVNvs+xZq5QHx6vY94SAHZ3/DY2YZMyjb3yh+7MfGHOeSurCxPj7wd3tqoroNbcG2K5AxxFVKj2G5oY25niHidaqOIhwiDvz+H7uCE24gLpKTsJUZL6Rf8R4CskNKXnnveP9W4h8CMvEdc6QvwIsuYIfK53xk3OxDGwgROJ02DQ54WYfBSqDgJVLuoHGE7TrZomfkDK4/PafX/SOsth/AYzfDj3V2abSPxNx3Mp74o7M+hIefrsNXPQo4Q8qSGlgwEcwaDCX0G+pTv7vOc0Q9mc7LEUmpTw4yTBw4gNEJH26A6wO47Qh5IyqWxRiJEH+q0w4w5Mk8OJN0C5aaW9FNePZ+3tzmSZffaMYdq5RDtov/po4a/ejhBjQaHdgJU4aY0LIv8IqePAEGT7dYugVb8uVnzhbcfqEjM6DKkZ9XW1x8oDYurUJn97+bN7HaU5F+8KchuViQbtMuTza4e3ifAG2oxkGeeZGW3EBm34PgVxK4ExX7KFwbrT4Hsgvr08nCtpCf6TYU2oU295YTpxPhySjXoLn1Q3rju5ul41N6COtusy7bLdzc68nQ085VuMgb7nijO7UrF9Nsj4zBD/tQIv66WdNs3+PBEc6oP+xch0Zn26VauUFeYbs5dYF9Hu3CfZDoDwLbR2MQt9P1XSI9JIg33GY/6xnWyfbwfuRWJaN+8tf0zDdPcAV1O9lz/a5HEyE5fsvtDeyabhvqlHmAPE3L4zUbWztE/Dnnmzf3ikHEOGzsdBEeumBXH2Yb/wQbS2/509/kSlUKG9xvoO22oNO4Dp2df4HmPG4yz/I/GQ/obyK5Ht/MVUTfEtp4yHidtlUxDq2vZ608oeyM3Ww5c+PF0w4sXeQXpLIPkR+kdCKP4o7oMGWbwe9R4p+nPDJEKndPEgVctnHHpEWOnRPHaJVfrcKreOINjwbD8nmEnfeMkRfJVMaRiW5zL45Um9DZ+iOdLCSCnBzVUqD1BB6DgcjJzpPFkXx+pgFNM4NB3+UqQ56e9bc0mRlaJ0SwzDIt6j82m2M3+56t21QNTjNBe2PQ/rx91b7ttrIANxpv+ONdDR5C21ag/nlbnH7Bq1Y48F11R9OZnFFxtKTrmF37AizjXgR3pCZ3Mown/BQB15WBAc8PbLAt6823EvJP12/Ajeq0OJbXBve8Y3GTsvJsEcvC+s2T3wbi7Drk7BL65xq0r+GeAD568N/oLcXWPhsP1pP6dv6VPEoQT3Bxx8eFPjr9DjRvXBB64HaEnUZBu8LY5VaSwnJGs0tfxB0TjxIxN6wDJ0PksawZcbiJR0iS/YLykJxdqK9Cg486rixA0x0fmoHpx/b9Eq5/CEiiwQ+TlYCg5vmeqdfNDNu4/WBDvplbxOecdocxPeoDX9yAKvo3n/iS8CmpZyI83HfhfYYcTydO1imu83+DapXfpIy28PiL+8kjIsfsdxVzbLSRmWMd95uB7PHy+GjjHHynfKZuTl1Jt41T3lAXwbG8Al/Z2OKYwsdrYhvl4IH0v18bd5+CxBtOUn5w7Q2YxjjRxBzzXegs1aB+85o/6lceOZzSq31DtzspCn/PkTEZR6lNCXz/AZqXceWj2Mb5NvV4TdsqjP9xHLrVDicLyWR40sMBsZgRL3AyCYn/hTrcbNTc8dJ4PLY57jqhEz5W27cpqsfANoPeo8Q/V3FJUu+BKWfoD8YwgxpQ71P9KwYUA4oBxcDoGMAVoCBPP7dfVF2PrmupOyb+eTPM8n79ezx6z9EjrnZUxV4c4we0EjOPx2TnPHuMflPin2csBMHs634JjEFgzu5XZz1wJ8yzjf42hlWCkxHEFIdqR8XAPjCAqxIXakE/t4/yNDYPGJuV+B8tv8U065ehKjeqM5bDk6v4+jH9VOKfYzibIxa85ZBOQpme5zwtDZBHy3nVHmoPxYBiQDEwCAZM6kT9fZHWpHobRG/juSfMOVfdj0evI+qR93WINC2Ux6RJzZ+sgbES/xzinzp2CfO+6OjDreipHyMCLlcGLfNQg4HaZsDZK8Wp4lQxoBhQDAyGgXBPVtbeJdXnYPocj57wvRrNepXefYT5/bRXsst7Q8ZTzyTbFKtLib8SOyV2igHFgGJAMaAYUAwoBhQDpwADSvxPgZFjIz69djJG7mpHtaNiQDGgGFAMKAYUA4NiQIm/En8d4SsGFAOKAcWAYkAxoBhQDJwCDCjxPwVGHnQUqPfpjIFiQDGgGFAMKAYUA4qBk4sBJf5K/HWEfxIxYF6ocgHmY0eTHcX27m5B27zURByTa14SpZveRu+A8SVFbftSKnzJUbcJ89UlWHMvpsru2HCT2y20R+ylVAeAn0nXF9ep3XDp3jiLL2W6hS81moV6Z7c4TsYwHOjqaLQz2+5xvYT3B3oK2jhYGWGZJ+X7Dmy1G1CrnI0fC3lsdEUvT5yQ/08EM+jP5iV+B9enuM3BuXobVbfjw5YS/2PjiCclMGo7DjrI2bcPPg/VpYN9+19uO3ba8OaSeLNlrp/xedZ4ioIg/rnPnBYcfQ/tNz8wbw7N1XdMV/INpObtpvRCQnpbd3Z54sSR3A5sXDaYdH2DyC3fGj0IUeCjGfMwPO52ShnpDaPhG0dLL0Nj64fiQUsMPxO7tg+MT0zGQTCDL0JboBNh/BuJs/1skDIndM9Q8XpCMhXZtlBmtMcSLJlBO7152vjHIP48aBtFHXwcKNZxAHHTv414/9hS4l8ELv39iHcagzroKbkPX8Yz/zxU6hv2NeCHgl8bZN3M6UAyMPlX4i+JgnmXyH46ESb/hvijD/RgF19AWL5Y8MImIqn7qXsgu7NfTro+rjfvk4n1oERhEAwfQDuZcIS26j2E9sL8YKsVQ9kqT2fD/7ZvjB+i7NJX+W9L0PZPzri8g/8cJV4Pb+fxtmMAmY1fyNW6Yf15gDam6jgA/xb4Hhe2lPgLpY4XmAOARuvWQcVYMUAzTuUFaO/0Dkm39HrzcgmU+O8zBuxuQqN6dn+zRynijzLZ2elyrQ07mfg72A4sHWsnXd8gthmWKBwS8e8fRd0Not8+9MeB8UwMDyjDmJ8fFzlL+8hBtGfUeH0Qsgxa5iAy78C9xjyUS3LQPqw/F8kTq+NgfXFc2FLiP2ann4yzFgFSfz+VdqCZvyShewzdThPq1bMwXV+Du2tLUC1jWsAs1Jr3YKe7DktILnF5svIWtN2LSkR+uFkeLUOltgod9zuljeBv+FK7G3W4sLQB2/dWqHxOPZCBN4lL89bQ2izVfRFqRg6a8cd86Zt1qJbl87E6bTpRoqxSCcrVq7DhZEWCsQVr7sUsZyNpUDuw5XQTPo+6+BRu4vPTb0Hzk7egUirTqgr+9onRr9Eh6mJty6+2FNWLeacrNagYHVtdLm10oceEiK+XeCBVUF8f7b0KtUoZSijjG29Ye7gZf7QBpyTkpYHEOrBQR3a/gO2M2N4808kkGK/zKk78eeursfqSeOln6aov6xL18aAHdYjtz3we68H82RvkJ5yiFiEKuWWwHK9CvYl53miDEEuxdubpJdBBtL+KlRk+V+DPwt8uN2/CAspeWYJO6kWVaT35vObL0L7b9NhbWINuD+XAuvk6vhCpAfULV6GzTQPbEOM5Oi6ui+sTPkmxbpd1F/pk/RMY6oWcbi8HYT540yuTs1fr12GF41u5CsavjQzZcczqSsgu40nMRkJ3pVK278Xj47/BbjRe74h4VxdphpxjbnFt+pCVDbJx0M80FyimzcJC+yH0TLszcPA0xCp+l3EM9cwx25N+E29N+2Ufgc8yISf74D1mNUz4c3sDmmybVL+XoX/GD9nQDizCOtgX83yB+xLSbcyu7HsJX5iFN2qvQtnZOaa3wa4p8U8YczClnUpSqXo6pBn0ITBpNsNy8KfnzDUKTtz5mHSgs1AqV6B6+Zbp9HoPmzBfLgEPGuz3s1BtbMIudtzcQVBAMsvzIl0E77/IOf1UZ+6M/+4G1CvTUDHkQJRvSOIubDVetgMCMWOTXSflVxvZntpUFkeUUQ/b0Km/6AY2dg8Ed17YaezQM9RJmRQJGpBgOe/U4Z1pDvBnYf7mH2FtYRbK80148KAJ89PUqbvnXoR6Z3ugem1OMN1vdFIWM/zcifjO19glsz5K4ylxZys6wATx70M/hpWEj4d1P4aHzYswTQMqp0Oj8785fDB+HJmff4NSivKex9WpsL4Q9zxYydIVt/V5qLW/976KG5rnm/Cwl/+8wRaRKI9bQRRMnnB+GX03ALGD6l0kLxtXzcALsfLQkOCwnUV6CfUQ+x6WSf4034Qu2TTfn3egU6+Qv5WgPH8dNtbeiqaDpfTEaUZGd0zOOJ+aBpbmnudhvvmtJYAYfy5eJUKZlj3TJx7fg8Ys+21GXf0+JNtKvl8iXJjYV6GB/2PotuUgPqbb4BrFznJ1Be7hoMgN0Nnn+2CJP06UNG1s5ckVipfZcYxkj/r3/5Nho/PQ+OQDi7HECt4DaDrfK4iPYbyWNnXpYxanZbc/iP3NToDsbDVglvwHJ4LMIIfLmW3AFmI/FweBnnfaUCvz5ArbUBD8UOZE7MKyQt+V13AwjvbjvqIMs417Bpv58TWQMVoH4RkHKqbvZNmlLxCGjW55ssD2L0nf+0ui3/JYC/r4VNtDOdPflfiPoDQl/mkgqU4OXye2wxHBkbGdCpIcFMWML8+OGoJIHXciZYgCf8kGycedOky7TiBoe6q+4Pd+rHzeHMmzwyyjb49pX6xO7oy546O2OAJH3z0pDeun4CvaawmOJJEU0MU9fWqHL7cPTIzMtcJ6uTPl1CySw3W2ISmycmfWRx2t/L1vOlCa8WY84CdddzqSv5m/g7pN2b8SpJp0yISK0odK3MlTHQsLlE5U+HxQX0qeIl1xm3wnblc2LsOCGQgM8HwKtyEGi8rgTpwxjLhnPbGvBe0s1EvoO7HvVCYTL/50g70Q71gGtYX8uedIjMR8rC4eNPIKFN4TtKnP5JcIivEDJkJhmeGzRToO7w/qiuDQDlItdi3pZn9jMlqGUsKvQxn993Rc4IFGCRj7PONfFSeq2eeKYmeBf2faiGJnpu/hvq+zblKnH8bHFO4jNo3FFoq7Jd5Anion8IdcHHgdI5ewgzePxVTflqor+Xw+8fd9CuvCxswi/Q9SRxY+fVvS/sJxRt7DfYm8xhMPSvxHHrgoUQ1BrN+POyZSwZHJUypIcqBJB0CTEhHpyE0wplkdQxZ5dhrTSWrX4FanS8u5MWIQYouCoyMm+HvQSbhOTsiYVye2FZdFb113aTeO1KY6rbD9EWKU0lk6oLsAzkRLfmLbCutlveCy9h9sKhGWkUn8SQZZD/+N9RmZg06BOnlrV66vD9zhOR0xVtxn0F7Sh19e5xUQro87JZ75RAK3QKTbYyL7+aA+J4eQ2VzL0hXeJ2c2e9BHYnLhnWC/S87zKZuHOGFZssoIMYz3s14Yx0E7C/XKdeZ9BmUycXIz/unfU/4c87csG6T0lC4/SX551hPTCWvQuNWh9BBsU/pZG4ezdJy+P1EX+VwK76YtbE/GrvyUg7UsXfPzbEu6j+skv03IwzqUA+3MOEZtY5+WnyZWZtTvMJbheyxDVnxM2TNil+g9FDd5VTZ1T+gPeTiI69wcf2tSPtFWQu+pusLnY7qKXEvExyL9D1JHAT6NLcJ7InI5f0ziMoottu8QnyMT50N4sDTOOo87yVP5QyfU7zYoyBkC0kkqSEYCjQyAQUfmsBaW43ITMSjzsqwneZmkksuXM1SDEH8MbNE6OaUC84dvQPvuGtSn5YwkzyLOQ+PejiWE85jq5Gf+kukBPBsqdRkGa9StvZbZTp5V5VUKniGT9VIaQLlah5vtDrQx5aKA+GfVJ2cVbU6tJ/gpIkT2ziqL2+ZkMbYXHW+skyFCY2bP0Mbz7/sc8cLnY/pN+nQvV1d4L6c6Wbv1tlZgXpxuVfh8iG/X+fp255cREh0rk01d4TKCdhbqJakD54sJ/QdlJn4Ts9oOV1Rmor2RmBCWw98Tz2FZ6frTBMXvDTCDP85hjjybr+OCuji2JCYVWIfUxlAP3K7Cz4DouvuTMqXbzqtRIiZF45gtJ9snc2yU53su5SwjPqbsmbapjS1CftP2QJ5UOTF/yMIB24g+e13YWKpCGfc43PwU7rYvw/SEiH+2/gMZI/FhMF9I4iW+OsFY45VCW3cUWw6HoXzZ38fJpQ+6LCX+Ixg43lFkA0LvP8a6MYGXZ2BFO1IBOQjYiCtJ/HnmVBBUxEVsmdvgxeW20+xEqj4hi8EwzcyKPQIDzfhL/Ms6/+snJh+U8zS5LTKAM5ngGedy+CIr7mh4lk1uqjP1hsEa2xTMMDv5HkN361uzwTe/3nCJnjpKR0zCOgvqo1lFn08e2lXYIQsrrg1B3aZsMbjj+3p/ga2vdiinnldOLsLNtQ/gAuXNGowUPh/Ux+W7zyJdUduI+JXnV2Ht2pviDPsBnk/hNvSTojJiRId1woPMoJ2FehE2c7oIrwVlpu4juXP9OWxrWIf4ntJTuv5sgsJ59RynwmeLdBzen5Hqk4gtLDuvvvDMOF/vQ6/7FXyV2sjsf7f9Ij8vJwT8wIpT7GJtHyx2dqFdez6yqZrjSZ6NGGfZvpcZH1P2xHYHeubYwumUBmNcJ2E7VU7MH1inIQ74On6ynj3ptTrlwfMAk0tRUh7RX6zfc4NSlon1z9/5M1JeqLcw7c3oLdBtVFbWwVm/NyZaFssy3OdBk/Vxlq/EPxXQhzO2DV76zInVA5OeRHBmwu437vq8YxFIOQDSLLybAeeXgBHRZlL5tHMVLvJmPd48y8SCOoBybQ0edq5Dw2x0lbjjmVl/4onbLGqINwb8bdrg6zvZzDr/6z9CFVcczEZhf0IKd8Qm5WP+Vzlv0qQZ/ugsIcnNM4mOlNvrVk/yxCM8ueIWLDW3oGdm+PPqpQ7AnCrxgz8diPXInQh+f7gBjUYHdswm7Iz62A7uBAzuXCmlwa2wcKfiO9aUT3B7nSy8CjILNXeSB55Ocg2a4gVRPDPo8n5dzCp4PlWfxAv+XaQrvp/ICOLItXew51l2hxuXn88YLJKB6w4394rOO9XOAr04/XH7Ip+pMtP3FPlzNCZk1J3SE9fvfIPxRfstnnZg6SJvbmbfD3TqMH4DGtVp2ogf8YmiutyqD2/gtMca97ptWGp0YJdX3eRJPLv3oLl0y25AzWiz8w963p8aRj4mBhpWP+nNvYPEztx44vAo4raQl+2S8j0Tj3PiYyxes55D/+eNuzgR1F2DhYrftM31+wkXGsTxHoBcHEjMMqGmQwrcKUyMGU/8s/sYLgOf2YJO4zp0dv9KfYobCV+tAAAgAElEQVTQHw1oOFbk61/KiH9H6ti5azegZ/kC2iulW44bQi68j1PCWOdussuusLuBnMCAw2nBtXES84MuS4l/gTEHNbreFzrwSflOHa4L1jwbRsQPyVC1AU1xgofJm/y8bVJjeDbcpncggRXHmiGZFMfeIQm/UF+FhjsSbQGaWzTz6wIUn7wR0y+n51jZcAb+Wu1XgCkvzc4WbCRktLODmXXK2XoMkp+vwTVz+gcRMCeP0IMZYPCGw4Agm99YrhW4t70R0Q+3CXOR+fhMfEYQ40HqpVNf7HF1a9C+hqcZMWn4Nzp1xA+Q0sfcifowPkhdoM0+uAq1abRdUxzFajtkT3C5LfTJg0CnB1rJSRwtZ/O1V+TeDlO/3UjIHWki1mQ9n1VfIt5JvCCuQl3591Zw553sGPOft6kEAh8pP0EM/jd3Sk/cXrivoAudJh5DS2VJgpnVziy9mPbTYMMdiSptxcRDyJ04zUrem+fPPDPL5QQERNjBzrzyfSUovVyFqjvxCvenvAPNGxfcCUHmiMkbN2DpQh1uNvjYWh4YoXze9yyZ/v+ydfx61R97i9iM1WU21Ob4pCGsG/6YTeNrfEwx65NJstSf+NsRUauH1OqhOYrSHqFsY2rSRzPjmNFzluwD2IgHNYkBbxATcuMjxevHnWS8c9jzkyqmXWJVNMTFdP0G3MABnIwhDz7PwYHQr7GRP2YacfF5+6o9NahC/YyLrdl9jJtMMsQ57FMq5sjdqpOPD0DI0n9SPo5riTrWm3B5AF/ANFSvl3mov+lP1ErsYwj0UCrPwwfX3oBp1HtT7pOJy8Yyxj4PmqyPs3wl/iIAx4yp14Z3gBOnMxP8D/vNvUfNDrip7HU6YlPIZo7iewOa3cew23kfqiIf3OICj6y7CPPidI7h8FJU71N/7OTEfJtmXMUM5XBtEvqbmMxap9pokhjAgXENmt3D8M9JtlPrOq1+NU5iftBlKfHXjvYQiNIxDI6G0PJZ1cdQ/rHinIhuNI3ne2gvXIb2w8+gXrkY6ehxBYWPgxxWjwPUO/G3K9Os9zRtch6rnofVj95/WknHUW83rhhduMCpSYrTo24vlW94jB40WR9n+Ur8taNW4j8oBsxy9IV9zFYPH0yOZgDm/MnkcrtNibkIF5rfwt/MMaUybx7bbkny/MgEoLhed/LOoDbd7334MqtwU/N+y9TnNSadGAxgmsd1qNftSw2PZjw7KXFZ23GY+BonMT/ospT4n5gAq05/mE6vdSv+FAOKAcWAYkAxcDoxcNBkfZzlK/FX4q+za4oBxYBiQDGgGFAMKAYUAyNiYJzE/KDLUuI/opF1VH86R/Vqd7W7YkAxoBhQDCgGFAMSAwdN1sdZvhJ/Jf46wlcMKAYUA4oBxYBiQDGgGBgRA+Mk5gddlhL/EY0sR3r6t478LQbwXO+2PYc/euLNEHoyL4DJPvs7jjl7Prl/2csQ9Y3TD0aSfQhZ8Yz2W9egVpmFemd3Ah0VblBsGbuOV7eBvSLt6nU7cAvPancvrwn1hLLZ883HK1tYz1H6flD2GLaNgf3G6UNjK+uwdUXn+Gfid4wxM1dnRXIMY/tD1Kl7p8WwfcMw7RvkXvEOBPGOm3i/NEh5x/+egybr4yxfiX9usDj+YDzNjjjxtsuXCe2X+B84LvFYzSVY2jdxHlc5g/oavxAIX9gyoc6P3sKJL4g5OHIdaxe/aApfrFSHztO0jvjNngcrW7reifuW9IeJ2CPS5p02vLnUgadSlqP+92HpalC9HFjM/B7ab34Q9Zl9Y3dgnY4pNjrc8almE4x9uXaktwjvq6/DN5Uv0Evksl8ctm+b5bYj4usj3D9OYn7QZSnxH8HAxwGEKuN4nHloPXJHtq9gOAHZzSvOxzBjPq5yhvJDJskTIv4oG3X2B0f80eaxdhH5zyD+Bp8TkW0CmBwGAxNvsyVdB2v/A9LxxHU1ZDsOIGaaAXGezwyDtdi9g+h0LLExxF0sRgyp71h7Rrlm2jcNybd5DyMLvpdlFerNe7DbfwwPmxehXHoeau3vJ7CKO4ycg9170GR9nOUr8R8F8PrMsXTMoUn8KHY+gE5s/HLj23PnobzvGfNxlTNYYPV6OITOb5COfhS8JJ6JtUuJv7e7wMlE7MH19WD33gpUywe54sN1HcDnRHU1gvzjjpnmZYtnM1fJonhK+OEAbSjU6ThiYwx3sRgxgLzDtm+A++1q48vQ2PphPHzA6FSJ/zgJflZZSvwHAPhYAoXWM57gMHE9Yj7nKtQqZcB0ilIpXI6Uv5eh8sYbhiCUaMYfc7Sb9SqUpy9D++4nUK+ehVIJX2zVhK2dh7CxVIWyKXcWFtoPwbyAancL2jfrUC3zjDbWwXnca3DXLY2KZ/o7sNW+Ycr3s5JiGbVchfqNOlxYWoNNQ/qxLfQfZ8a2fZ2XmzdhAdtbWYLO7r9ltJ87tuxyMP/+aacO01xPaRqqzQfQ74v80NIFervvDmytLVndlUpQzn0pVqzzw1xh1m8JStjetS3YTdSFslJ9TDZQNmOrrOepU83r6Ok3q0+0WRc69YrXrymfZWYZHkXsxfew3bHuYYh/Fjb60OtuwEpt1slUrl6Fje7jA7JPH/rmZXeM7dBnsF0F9kYfwL0NjJ1KDVY6XesfGANi9ih6ph/YuDQLNTPbiPJIP0YbscyefDl/MQPmhxH72XZnyz2IHxPeTJyTfsK4eQr9ELuY970idFWuwtJGhq7CZ90qE5bP/llkn1hciaVAob4/hZsm/slUNanrdMw0/W2In/onsLXbA3xJYKdJsbG9AU3GdOUtaHcfQ59JP+PGpOdtwHZUjiQGS5UFaG7t2H5qGJ2m+qSM2IipeoUYZftn4W4bus0LNs0x1n6WJUt//Hvks9ddhyXun965DLXpEpRrbdjhe6VOKgvQqL8KJZPf/5hk4pREj4/yPL6tmd5uXi6B/c5tlJ8042/6nN6x5ApZJPsoXlfiz6DWz2PpbAc+KNtpQ61chkp9A3b729Cpvyhyy3GpcgkqJSbgIuAbsidytB2R4CXNaahUL9uOpvctNOfPUhD9K2w1XiaCZgmgzONGQms6dbPMWobSbAO2en2Q9zDxN9fKF6H58LGxbe9hEy6aHOWQYCYJRnn+OmysvQUVfPbuH3LaH5YTy0H1HViiE0FCO/8GyWZ1Mk1ktNddEwOPWCcQ1tsHbNv8NOvmIbQXkOS+CPXOtiGZdoUjmE3Ct+6ajqno+QyiKWPG7gbUK2XRUWJ+70Jy6RrtfOEdaO/0ovbab6pPqTwPjXs70CdZGBv9PuXimk71KWGWZ68Pwj7kJ0TGnD0NGUNMPzLL+pn2Jn8oV1fgHpI9R+bYnhF7DPCMwUj5LFQbm8KXCRO5fp6uL+Zv/QIZ5DNZfpyOZxxTsrDLOCPdsO1lmks4SDJt5QEvki8ug4l/vj9mxxVJ5PrQ5xiFdnfyFMVMfA7jYQWqS+vQRdLYfgsqOFlS/xQ6Ljbi5IAdvFq9lkXKSTBYjspBcTj0GUNk/0a+O4ROZSwwf6djVBE+0rZP487HCGw/+gf7s2h/pv6wDwtsZL5zDODBLvdzAnPkg1bnP7gY4mO6xdB07Q9wt/kOvNm+Bxtm8mMeGmsNqL35B+jcvCBwwHLgIPAPcLM+D7O1Vejg4C0qI99/dD+PIsHPkkmJ/zEF2XF1juMmtyULPgDaGWyakaUOxQe/PvRTnWrQCSHeTEcsArWblebZ70inEXbeqWe4XCZ0fTubyx1bAueR8t3Mn28r2iq3/e4ZOUMdK5uIJw1SDAZ22rCwQLNJRo+/ErmdPIBIyuKxE9Zh75d2YJLlrhGx8/mo2FFdhgWTTzrA8yn9hx0QySxOuAhlwO8vyhm0VJlhu7COCH4Stkzb3a2osCxMSLlumvXlAaIbGIzLPlS+030/0E2Bva3ekra3OCy5gW4441/8TBqDdkBicZeP85iO09eKZUg/42zFK1GhbfF7LnaZwC6YAaUrzxHtSJ0860+rkuhXNq4R8S+wj7k3GldCn4jgd4CYafTI2MX20zPJ2WURc1LtiflMcC2lUxpgmHr/zeabOxloYiRPpym7pX15IHyE5QwSIwJ/y9dfZCLFDBanaXILbcaycxoPD+RxBZieN3LxQBGfQf/6FVSqF6BmBtbkb+VfwWztFjzsUQyQMYZjm5kQoFVwLj/UwzH4nkWyj+J1Jf7HAFCe8MQCq16bhH7MsYom/QaXxKnTSQW/vl+Gd51q0OEg3lLBnGfcx0v83cyvSS26BrdcqgQHdtF5umAvr3lsRdsffSZWNs8o8owtkpUFIt1eHz6VAnUcph54WXzHxLKSjs0z/Cx9OjtQR8RLyUiGafbdkeu851M2k/LYv5MdO3aWVahUpmkl56kYaNCzqTJjuovgJ4xZqXJCPFF9uFR/6zqlm/kBop/xHZN9UuQuaBfJG7f3v/hUBnniFJM/Jl+JNgfls37kM4/vQWO2TGldadtxDInj3GPUD5bCawPIgKkeCblRjgxbcRvMZx52uS08c0rpVawnfD6sM0WUA+Kfa58HfkUpFVdYFvkZ4NeULQljGDNZj4EfG9/E+PhDGh+p9gR1Gh0mr1lfDeRI6BzbMIROU89yOzhGhd9JRxKjkVO7UraLxdxE+7meLP09DWbUw4EjypUk6cm4hr9zPOeBgbehS+XhCTBecTbtjG0ExnQwOgK7JCfDSD8pvR7d60eR4GfJpMT/GAGLOyf9nKDz97o2Dx9zxm9+Cnfbl2GaiL8NiEGwSgRhlDPZ4RjbhR1xqvPn4M2dRqTzTj0Tu4dySt2AhVOWIuXHOhT0jZz2pwk4tjdWNsohUmGwE5h/P5g9Em0t9MmwDqvjBClLlcEpBnYmube1AvMmfcvbKPf5lM0iGKRO3Mx0Y8f34jXYWON0n7vQrtVoPwM9myozbJeXzadKROpNlROSSc6xPQvV+g1o312D+rQk/uO2D5MJSj2iFQc7Y9sjIpplbyIdPLh2dgz8KNHmAZ4pIv65OM/wrWFlGJn452EX92/Y3OxytQ432x1oY4rFvol/ln0If24fEhJMjisRbAbxrzhmkg9I+R0GsPyIjwwSc6NyZBP/oXWakDEm5wAYHSfxz9RfYCMZs7gNMlZzPyPLo2d8KiGnmvLEAQ8kPS6s3cVAgeviTxoo5MZgvveIfmaR7KN4XYn/EQWRkvsgQB2KndIzG4lUHwpWbpYDZRykE0oQBmxnSNQinVvhMxnkhPXW47z3jFmzWIcamdlJtD/6TER2IwN1fOWLcHPtA7jQuOc3aho9+k7CYb/3F9j6ijbbcTvMZ1hHMCPq7n0M3a1vfV4rd3Lzq7B27U1xGsUAz6f0H8Mnt7EGN2++Y1c0GCOvVuHVF+1+DNe+VJlhu7COgPC6ton6U+UEeCL9ujQnwmiyk2XZx2EfT0Z5Vj+xWTvX3tvpvRHYZrYdpysl2sx+mkwPSj5DNuYZyIQe+XlPTJI4z/CtoWWIlRPYKiGXsDG3Pwu7LoWCypNELSGn1yUfQIB4tO0lIpxrn8AfE3ElnE2O4Jf9gfbWGF9IxEy2hSeR7C+97lfw1S5vJBUDk8TzkTqNTgM/isnhdE9YGUan7lm2WejL3K48jPKz4jO0XSzmJtrP9WTpL0j1MXqQA6BwTwnpza2c8u9y4y/FDqcvH0vs/jKSyf0u2sd6M20IdMO/HZPPo0jws2RS4n9MQMXBTz8jQePAbMjBmzbvupMSOEDxJijeFMUb0WiZFQPd3yjFwOWL8uyInHHlzp+JBwVOcaaxnTGRz1DnVOJnfLmcW/20cxUuNr8lgk2yGjm488R2bEGncR06u7ypWHSorpPJaj/rJ1YO68jbi9tQEjJbPNMMMZ6ysrIB3R4+gydDXINm9Ki4iH5wcy9uwnYbxHAJ+RYsNbf8AIOXsDFtIOiEbI539vMsO+s2yw/5Pje77TaEBytDuH9iqwGzeIIRk1knn9Adz64J/IR1czmeyAfYMOShDJWFNej2/Ekmvl5rIy5n3/YxM/y/ohOcvP293AX25j0JtHnTpFzgBk9B2llW14bCZ3jWnDdFWgLU67ZhqfE5bJmTUrJw7gl7ubYGDzvXodHZTtuvUAZv80xbZcYyxnyIXSJmZiP1D/5kK4GXlK54szfpk2e3fXrdf6Mz1eP+mB1XAlKJbUnhd5CYSYcdyJOcdu9Bc+kWbHGuuFwRIhLvfZp0gjp4uAGNRgd28+QwOemIU4zf16DRuQPN6jSUhtJpiPNIbNz5F3OIA29KjuHa+wiVR8Tf465Lhz+IOB22n3BYiuovkNM8S5MuZtWrBvNVPJHsN1BvtqHTfQjt2vN0wts2bDXfgYVrV+GN8vPwRmMNvjSbcVHfZ/3mah6kurhm49F0/RP4fOkqtLfv2rQ7Jx8OJi7ArIlPgXyZ/nD07ssi2UfxuhL/YwSsVFBQ2YN8xfEHA9kpYsD+vH3VkDV39BunCJgc1LNQ/eAq1KYxpaIJnQfrJqWCZz3xKMkbzXfE8ZZI5NvwuTz6MZVnPg0vV18OnrkBN7Bjcvemy8XZvAedq3ChvgoNd+SdP67OnbRiTgnaohMYOC/UdypF7c8vR84kIQmgDj0g3QbX8qg4bJfrFEKb8iCJZeU65BGB+JskLb4MJvhu9tv5UPbzdjaU65OnofhynW+aTk9ulGOy5wdoeG+6zAY0EziYhuqNGyn8NLvJWdWwnOl6GhvNPz3wx8aivT9fg2uY7544znJc9sFyeHVJ6Iz9g0lWkb3dINuWIVcMwja7meucZ6x9sm1chHPfJjvIf7Ahj6kVmMiRIZQ7aqvAvg5XbqN9OIDkNC7UE8q2Bu1reCqY3SxpUxOFHczMLZ/igtfFfZUaNG517MA7xz5I/LPiipTXrX6KOGXwmxcz6VSX5PGzPCB/lDwmF8l/swFVVz7bwU/AGJIdicMsR+IYVBdzRtFpOhYkYyMdr5qDj4TuOC45X0Lb/gGal8UxwZntD4/vZf3FTszxM/i2T3tk91CUK1C91oFdPAKX3mHhjkjmwQiv2pjBg4hv5ruYvOBVS3dcqqiTYr3DHbf7GH4eRYKfJZMS/2MIsGiA0HYc+CBA9Z7u3FQnqpM0BnBW93U6SlXoxxwJ+EZyn4PGLY1bigHFwAnAQBbJPorXlfifAMClO17R2Wr7NKgqBhQDE8MApdS4nGAZi76H9sJlOnZSXte/NYYrBhQDxxsDR5HgZ8mkxH9iHeLxBrUGJbWfYkAxUIwBzkUPUq1MesdFuOD2nKgui3WpOlIdKQaOCwaySPZRvK7EX4m/zoYqBhQDioHxYQDzw5t1qJZ9bjkeNdl075FQMnNcyIzKqVhVDAyGgaNI8LNkUuKvHf74OnzVpepSMaAYUAwoBhQDioFThoEskn0UryvxP2Xg1NH7YKN31ZPqSTGgGFAMKAYUA4qBQTBwFAl+lkxK/JX468yEYkAxoBhQDCgGFAOKAcXAiBjIItlH8boS/xGNPMgIUO/RmQLFgGJAMaAYUAwoBhQDJxsDR5HgZ8mkxF+Jv47wDwUD9GbH6Tp0nhYFxB3YajegVjmb+zbUbqdlXtbl3wpaVK7+rp2xYkAxoBhQDCgG9ouBLJJ9FK8r8T8U0qdOtl8nOz3P92CnvQBl83ZKfkttBD/0NkV8m68S/4h+1M91gK8YUAwoBhQDB4SBo0jws2RS4n9AIDg9xFRJ1iRs/bRTh+lSDvFHHBP5V+KvmJwEJrUOxZliQDGgGLAYyCLZR/G6En8l/joDcAwwoMRfO1jtYBUDigHFgGLgaGLgKBL8LJmU+B8D0qeOfkiO/rQD9Wn/EqJStQndfh8sCcfrdga+192AldosYJoN/i9Xr8JG9zH0+z3Y3foUbtarUJ5+C5qfvAWVUhkq9c+g6677HP/scrjOaXi1ft3XVa7C0kYXeozh2Iz/7hasYf1GtrNQrX8CW7s9HeyxzvRTsaAYUAwoBhQD+8RAFsk+iteV+O/T2ErKD4mUT8puu5vQqJ6FUnkB2jtMmHFj7hsw3/wWev3voV17HkqVJejsPoXdzhJUOM8+MXA4C/M3/whrC7NQrr4Bb1TKdqDgNvfmlOMGG2Wo1JqGuPe667Bk5LoIzYc4yIik+vS+heZ8BapL69DtPYZumwceG7A7Kf1pPdqhKgYUA4oBxcAJx8BRJPhZMinxP+Fg1IHJfgcmvLn2ZWhs/UDB+3toL1y2AwFDrs9CudaGHcQSkX2fZ/8AmtXpYOCAMtF1Jv4F5cRSfXpbDZgtlWG2cc/O+gcz/uZ3OWDp3YPGbDkiy351pM+rnykGFAOKAcXA6cVAFsk+iteV+Cvx15mIIgzstKFWxhQdO1Pee9iECwtE9PnZXhc6t65DHWfhecbf/BYQfL4/JP58PaOcGPHvG7nEKT4J4k/HhVL6Each2c8L0Ow+VbuzzvVTsaAYUAwoBhQD+8DAUST4WTIp8d+HoXV0f1pG99vQqb9IM+V/ha1GDeqdbQqSj6G7cRWqZcyfvwHtu2tmX0Bqxp9n9h3ewgFBfjkjE/9UvafFZtpOjU+KAcWAYkAxMBkMZJHso3hdib8jYpMBhzrh8dSzTavBPP0WXLuwAls9agetBrh0m6xUnxQBD4h/QTkx4m9leh5q7e/tICQx488pSi+KQYqVudf9Cr7SDb46u6WxTzGgGFAMKAbGgoGjSPCzZFLir6AfC+hP/ICG8+NlTj1ix5DtMlQW1qDb24GttSWolks+55+fC4k/X+cc/IJyOJ8/3Nxbnm/CQxqE2Htk3bi59yyUKjVY6dDpP7v3oLl0yw9cFP+Kf8WAYkAxoBhQDOwLA1kk+yheV+KvYN8X2E884Xf4eAwPmxehXJKbfPvQ73VhY4mOy8TjNT9fg2u4gbY0C7Ub16AmjwNl8p847QePAL0AzT89yC6neQ92+4+h22m6PQSm/JUN6BLptysC6aNHk0eE4qlAq9AxR40ez5WX04M3tY/aWjGgGFAMHBcMHEWCnyWTEn9H7NTBjouDqZyKVcWAYkAxoBhQDCgGjgoGskj2UbyuxF+Jv874KwYUA4oBxYBiQDGgGFAMjIiBo0jws2RS4j+ikY/KKFPl0BkPxYBiQDGgGFAMKAYUA4eHgSySfRSvK/FX4q8jfMWAYkAxoBhQDCgGFAOKgRExcBQJfpZMYyX+WZXoddWAakA1oBpQDagGVAOqAdWAauBwNaDE/3D1r7WrBlQDqgHVgGpANaAaUA2oBiaiASX+E1GzVqIaUA2oBlQDqgHVgGpANaAaOFwNKPE/XP1r7SdFA3vbsNlahrmpGVjefHYIrXoC99dXYXHmOZhrfbeP+r+D1twZOLO8Cb8MXMovsN16DUpnlmFz8IcGLn3wGw9ejr3tTfh4dRFmJtTW8db3M2xv3oDFmSkolUpQmlmE65vbsJepYLy/Bctzzw2Jh8wCB/hhXDgeoKoDvWUUPzpQgY5X4RhPry/CDOK0NAUzizdgc/vn49WGCUiL8aG1PAdTE4pH423SGH3k0Pvf8WrmoEubMPGnjtk4c2kCncmk6ztoc2n5k9VAEj+GLBF2E3+feRtWG69YMlU6HOL/y+YynDGyndkn8Z+Ehndh/e3GGAYJ4ypn0DbbjsrYfiId7Xjr27u/CudKr8Dq/Z9gb/s2XJqZgqnFdXiSaL7Xqb3fvhRuuIFgosAhvuzBk/VLMHVscCya9mQd3r4yzGBZPKt/Bhr4Ce6vvgKlc6twf+9n2F5/F2ZKL8Di+m5w3yS/7sGz+59BCwf9pdegtT3YDMfe9hdwZe456hueg7nlT+H+s+yh9lAt2vsGVs/RIH4i8ShPup9h+841mJuil0hOzcHy7ftwoFNgzucILyZuHE7/m6eZo/jbhIk/AAiwTqQzmXR9R9HKKtOIGngGm8t/B3Or/0wBDL/PQMkFfuwMWrB47m1Yf/KznfU+JOKPDbTk/+gTf0Mox9BRjauc4cBBZHwM8g9W77jqo86xQO6UTrdbMFeaxCSN18ZxwbGX2Op2Iv2Zr/Tk/kV99pHS55N1WGRS6+J/gQme3YEriw24Y1YqeAAzBedWv8lZZSsoM/XzuOJDquAhLuzBs80GLF75ArZxTLP3CNYvnYMSTTIMUdAQt4Y+x5N0SvwHUeLkiT/4WazJOPak6xtE7XrP8dDAM9i8cgXWn/AMTUj8sRUYgJahtf2TEv9BjPrsn2EVZ8AKCGhhUeMqp7Ci8IZJd7Tjqo+wm6f3mE6V+IcACL7vwbNvrpuZzsn0Z0H1J/HrL5uwfGayg83B1EiD50GJf6pQ68vpVbbUjUNcGFd8GKLKQW41ceOgVmliPqfEfxCz8D1Hhvjvbd+B64s4SpS5pwRqs4SDS0g0mqPOyH3HQWb0eWymL0MDM5tdP0fTQIz4c0ki8KzfgZbD8ruw7nJTcYXgU5MzbXBesByawHSpBFNz12j2iOpM5MGeg9rib2GqRDP+MudxfRNuYx6o8a1L0Lq/K5Zlp2Dm0m07UwOYX/1hMqc7UU6sXXYJ/KNEnimthJhcclzeXoXl167B5o9E+p0/Y+d+G77mOt/7CD41M0UvwfLmj0mflu1ngpoo5w78eP8z8HKwrWjpmTtrIhVG/3MtwAz3YWzi4kmCQD+B+7evuGXuqbkrcPv+E1qB4fp5JUbKxSkD8eetlQfp2LEN67DKmAtzol28ZFlK6YFXVKeb8Isj/rfh69Ylyrk+B5fWH4lZyzz52T/E57P7sG5SJkieYK8Bz/j/dvn3vk+YmoMrd3g/whO4z7KgD324DK+5NJsse+J1xse70PoU00em4AWBoRL7DqRtFPfF/3Ck3+DJlIV91KO0H2Hzc9st91Pk6VroMfWn8N9BfQkGrTe0cRCLcv0Idd+ivSUiHqSyZTiGCpya1absGAEmZuHeJkp5KZ2Dxet3KJ4FbXM+eg4WW9/AE5mGMyPjdEqxdIHlY7/Nui/jOq4anHkdWo8y9v8fzYkAACAASURBVCok/BRxtE0rzKQPE69YBryGcvwPsyerdOY9WP+adSxjOsoynE/MLN+BZ5nPZLQtcdmm7J0534JHPGeW+B2/CKy6/WR5fs0FeNKf9Lkf/cRbZv9rfdD1haUxp16xiMfg82gQ/2d3YBkdd+YKbD77CR61XoepKXIQ1yEll8h+2bwO73Lnk/e8Ev9jAMPjIiITgljg9wF5au46fPPsF3i2ecWQC17a3XvUgvNniMC45VBLctMa2IX1xRfIJ7gsOQv2I2wuvwQl7rCcnyDB/B8UBG2HwQMGU/9UCaZmzsN7rW/gGfxsfY3yZ9M53TzDFZRjcsXJH0UqnZvFN9degPOtP1tyuPdnaL1+jXL6k0TW700oQWnqdfjozhpcmsFn/0+4ndv+ZDkyhdDJAU/gm9XzMBXmB2+34Dx1SsPZBK0U1Es6PEODMs6dt7HsF0cMk7N830HrfI0IgLVB/HnsNcP60kixdn2OUtJEx2jiKfe8hN3EgCUsK1IXk5Gp87D6zRMAjrUm/xqfL5I/qAOxcP45sD6yB+Bw6/3AYgI3dLZMPrTLk6Y+weCU+weTWdCC14n4Z9rzy0/NLLIlC8/B+Y/+CW5fOgdT5/8zfPO1nbHPtlGBL7rBkc3xT/sRCpnfbvlMiQc57FtO14Eug6+j+NLPxpeJWGbWi6kcGMtowOdil30OJ9R+zottufEgaAR+DWb8s9t1H74zXIGw6fx9Cgx5ZezigMy1zdqhNDUDc+99bPGFsmNcTO13CWXjGB+L/+G98jsT73PF+xTIv7wsvO9FzJ4jll77Ha1Ek88iiTUpqdQviDSb4X2iBd99N0xfJdtKA8Qzl8RKufzd/i3xzhOyeX6dKiHwOQC2DU6Qxftf64MzMGdSknzqlR3opGo40ReOAPH35IIBwIHfEiYGPjovg2kXPmt9SZvSip5nx5Ck6UTbVBt3YBoYhPiLHEPqwGwQtzj1AR2Ag5+85kRnosCdUdAZ2mdFZwDsJzyzzIFQyMMkUhAJ62v8DABkBlRRDs+amxkolDggjOZ37ohci+iP4F68SnUm9FDQ/lSdpvRI2SY3V04aoJ7eg0tmo+CQNonVYUjNr0WHzvGIbUOkUegcnqzDpUu0qbbw+UibSJP2g+pzsRGv8oBOtnt/xJ9jM/BsONdXKH9CWMI868b+ZgcuJdrMGd+rYvFu2/MzbmTngUii+CJ7ki5ZdvdskY2ItGf4IuPX68hjmq+l/RVToS3htJtY0884XfNqlZM3549RfCnl82Gco+9Cb8n2FOg9Nx5E2hLEOnNHtF12c2ssbrj88lTbOC7aTe6m7FQ8i8hkb6QJlWGIP+uSBlel5/yESLSatD9bXfuBCX5/ibEYxl6314t9rMA2/LywrU1ffSUxEApliIrOeuRVNDE4j94f2Mb0RVG/jjwdPOuJf7qfYnyYNsh2mtg1JXhlpJ4TeukIEP/QMdhBPND9bB6B+cmX0PqMd/gXPU/BfsIb1E4oXk55sxhrscDPHUo68JQMQf7/2Xvf0LiObF90f1R/kL7YEPIhQTQYM+QdmBAGImjzZIjBMAcEfk1ECGNMkEF9QWEOz6APguYZzE1o42uawQQxiIAOfUnQIQKjy2lyr0FzJwffUd6Yo5vznGfoQSAON8YaSwedYDAI1mVV1apaVbv23t3602pJy5Coe3f9WfWrVat+tWpVbaeHbovS6Lol0BF4MdTmwec2PEgTCarLl8Mn8ZSGyUNGnnl9/Twx8hEphwy8lTskp+R10mF79Qdts/WO7QvTxupkOETbn1FOrGzg3to97XlNecuczbF9Y9vGZFEfA/nNBGTz0aRnw0ZoQUYebSTlk2bh4dqenT+oLxQn2ma3qCTiaUkk6/tUUbGyUhNsMAYK289riegS/kwTsJEtpZOYxhyuVO2hXQcV0jQHD+yVpAYr2wesX/kYTGFQ0EfUhCxdTGHk+tUfr3wsptudXkAEWJMceX9jslD6ruUP602TUV/WItzz7AEJx/7mEH+nzyHGlN/IGoQFu3wRHUzZMyor/Et5fbsbpop+R+zVdc/cgRlNGSyOEbsKlMsjhqC+Zo4LzJ+2D/74KeqbdH5bZuY4istNT+0VoxieaRco9Cv7G+pq5rhmeehjmNd6/NkY8/qV+o7ZBNu+ffQnyXFC/w4A8TcTc66S0GBGRVqEp1/Nw1f2wGVRfqf4bvCf0N4SsY8ZgXBC5OKQYckyPFoPu9dBuh4N4xDvQuu7RXbgjcYD81pZTw957yPyFE4Ssck0Uo5nUBGD2OThYjgVqbVhJ5G0KSOOZea1P6vOSNkYq6rCFLTTYG/tNoyrGFZXRvd94vLYcCIlO+tzTBL+49v3SHLHfwttutKvMH+sTayCgDTbX1KYGt1NkV6bI96PWeWQF7pQfl4+6W2Il99Gn7iY/Jz44yOMl7+P783AidyEdhg9zO5Pvx4uGYUwKaIS9lGRLqYwCsdRd+32ybRqZHCLmCdx/EtMlp7lT9s5vTtBu3i0o0ReZY1rNu4oapY9iDSjS+JPXmi/3sBepfAIfsfqU/YsIpN6RHkDomjqcIt3ssFhOaQHQf4wmRnTShdR79+Zg5VFvOYW8f4OWtUqu040rdP++Cnqm3R+suc+rqGQBd/JLmU6UMIxYsqLjutIXT33q+m7XPsXqeeUPhoA4k+DwW31xrCmQZ6U3oPJxX9mB8uK8hvFFo9/DFZ51hMC6QnRZadJgZEab0IJPM824yvorP2Qvu84DFHxJkPyUPrbxr7Bj8gTIeh+npgxjpTjtQsbEps8qIEUS0mTYSRtyoiTh5eFqnjtz6ozUjYmpYl0/A4szn2s7rHX0vXYJypTUIfpp1Sc6N4GrP2Zbsg3NgrPMCzOwhV+nV9h/qA+LTj7v2kD38LGJqvYbSJmmPyIiH+h/ExUG47G5WL9Y7yDKZ2MtseUa+PNkUz9hZ2LobMNmI7GWB6WxX1EZ3WIKFpiFNNf7xmN1/x2Hxnxz7UlsTEfsXN7HViZMRcEoKfUu5igl3EU2gOuH+ZzaqzHZCQbEXqVqR9NWLDXD1h+N/YsIpN6RHkLiHtWdtJ/6wTJSkhtqML9+5/o3UHVhwmU3q/A++/g+w0ob1qn/fFT1Dfp/BDuklJVdhzZBzkfsN639VmLrFSpvmEJvXGdOgVuw0PtGCzsVxqDtPPq6trr/Bn+TI4Y9/hUf+o/8aeVIPPw21hHe0AFb+lpw7zdwnWTg43dY92Smz9SH8sqHwWB7hEwcecxHaS4SH7TFIUnUAyv1lP+Fko89PUAZpprbCFrxFFGkW5ncDdq2K1T2ha1h9bo7mTtAb1Y/6/wGF+Cww+20lhgXg89STiCTQtsW4+6rhTLYQsaMwlRu4hY2zM4r9swc5VudPA97naRgET12QrU623YMgcMnRGniT6n/bTYYOVsU/sCEuz6Ju1c6KlPsGtSdZD3k98mgrdTzEFz7WerW4RrWncK8qfqs0XaD7oN582hNZRR60LJu1UjvkCwhagPhgQwTNN9Y8qxhwcL5PcrYIdc6VYYQwRZPLDGKn24l9rzun0LrtLBcTBhJKbPc/uTsGT6z8XL7KOisWgIDO5GP2t/DnW8kcrotB1HdGbF3syV1W5+Fi3Emksb/0z19jKW0nnCek0f53hvc3HPtQeRdhDJZWEiaRkxn5GLbCCqvnoxnbtYgPLZfojZM3Jk8HM4EbGcHfF3WqNJIw+1bO8EN2JFEmI76NC1tWUULuVstcqZ0mkiuC5dbt+k8mt5cvPERWZPjW7TxRPsF/6R2kh9kzeueT71OTXm/qJf+pY7T5mD3fwWse3H0Jx5wBZSqZpO5YM+E39aMVOcFXkB+XVfoTeBcDer4OjgzMqfVR+VKX8Fge4Q0ASZ9Fb/dZMrecjo9zLUmnX14iO7/asmTbxe7k7G1XOBHNzDhhPbw0WYU29p1FfR4RsR7W0nygM3DrNzEzCCnrhmC5o38UVjJM8IVO7eZbea6OscHz6kt/1SuuBvpQ5N9cIyeh5p13sVqIzQ7/j3CjSfPoSZKzW4b69sdDIr76t6E6e+nvSb5nXzxmFdhsW0sP3kOTTXnD79xm8fhaIYWGkis15bC3cPfUIEweJqPH8Yv3sb3+hpcOATC9VDi8aY/crKn1UflWn/0q0hGW8INZOk0wdOLm0h2jOe2zd34W5lhOlVD+3n1Wyvuetl1TWt+vpTl8Rdw6hl5osqjMy4BVdqd9z1pWW8opZ2VzL685W+G95iECP/WX1UpIvWO6kXX09XgnFFhDmn3aF9GalFsP7Hu9qmZBCqdBnmTcI58v9t5W3Wn6gXkXo7/2bensvHuf5sb2dCb3CWbUPin2kPXK87bzyvpwyf1KpxG6GyOqeI6lu2ExHikcTs2cOWbzdieoH1pMZi1hii9pDDg9qCC1l+HoXSZfxVhHzE85hroswWHaFMI59A8+4V1p/ErzL6JndMZOSxOw1cblqUUFsvQrU+D217jTVPqz+n+6YJT3PHdVCGN+Z+H8x3kXnKjEH/Wl7uhAvKP+Vf+0z8Tzma0jxBQBAQBAQBQeDIEECP7nUYbz49shrSBSOJ/S1U7NkYSoHX5V7tsyxUt/wVBASB/SIgxH+/yEk+QUAQEAQEAUGgnwjgrsSVavZLoI5CFhVWeJUdKKVKcBFCV+PSM/krCAgCg46AEP9B7yGRTxAQBAQBQeDMI6DCFGq/ZWFN/YFEh5iEYRH61q3xK3SWpz+ySC2CgCBwcASE+B8cQylBEBAEBAFBQBA4pQhgvHfTvkvExtI3+fs5TmnTpVmCwClEQIj/KexUaZIgIAgIAoKAICAICAKCgCAQIiDEP0REvgsCgoAgIAgIAoKAICAICAKnEAEh/qewU6VJgoAgIAgIAoKAICAICAKCQIiAEP8QEfkuCAgCgoAgIAgIAoKAICAInEIEhPifwk6VJp01BLZgrVWHavk8VOz93ubldVkvpDlrEO2nvdtr0FIvITMvqtpPGZJHEBAEBAFBQBAYIASE+A9QZ4gogoBGYBNaH89C+3V3eLi3INKbGrvLd/pT4T3jMzDTxvcc9/qPv41ZiH+v6El6QUAQEAQEgcFEQIj/YPaLSHWGEVD3ZvfoqdfkX4i/pzbqtfcXobYv4o8lEfkX4u/hKl8EAUFAEBAETiwCQvxPbNeJ4KcSge0/QL1yHhIh/gfs3i14XB+HUlIW4n9AJCW7ICAICAKCwOlBQIj/6elLackRILDXaUOzVoHSyE1offeleYkNvsWyCWtbz2BlpgKlJIEkuQiTrWewRzLY+HD8LYGkXIXb7Q77/TE0qxfVb6VKDe7WqjDTWtakX5Wn843U2hCN+NnrQPt2Fcqm7onq+1BKyOO/B9trX8F9JXfNhAzhsyZUyyVIkvNQqdWhduWW/s0rK4GkVIGZFSYrbMHa4gxUSlqmUuUWrHReUUsBAMsmbCL5EYv7NaiUynCzeR8mUYbyDLS39wC212AR5VTtQLm+hDV8rv4V1YsvFrpj2oSynYfKzDfQ2SPSb7DHsmkhlVsfgHo7qumXpHwVqrgIS8TjzzpbPgoCgoAgIAicYASE+J/gzhPRjxqBp9CsjGjibknlK3jWvKpIdrlyE5prWwB7P0Bz/DwkpUlobe3Z76XKbXisyK3x4ifvQK39HAB+hrX6e1Aap9fdY5nXTSy6qZOIarSJz6FdeweS8nVoIQGnXQIi/irEBQk+I7zq2Zsw3vxBLz5Q5qtI/DEOfhJKJNv2CtSQmNv692C7PQNlWtjsPYPWpF6wYPlqYaLyjEB5chE6e6+g07puFiRYfxVqn5QNhgmUxj+HlcXrUC5dhebTNWiOlw1Zp3wlKNdWYBsXE0X1brWgWqL0BhPr4TeHm+13XJ9gP2XVh5E92HZqxx5sP75tFjtC/KNqKA8FAUFAEBAEThwCQvxPXJeJwP1FIELEO02oJCW4WH9sPPh+LLiK0U/ehGpr04q696wJ4+gxv1iHtT2d3i4MbCr8EKnP+x0gXT6Rd/L4R8p53YbayHmo1P8A/lFXs5ChRQvFtVvib9pmf0/Xr88XsPaahUep2oItJTuRcJYGefhaHS6ycoEWLOrZFrRrZbeYovQMV42pK1PLQaE9VCd9L6rv39RizC7elNyb0Kq+KR7/QP/kqyAgCAgCgsDJRUCI/8ntO5G8LwhEiLgi/sbbrWTgxP9n6DSvQMI9zZiGSK0i1OTNxlCUi1Ctz0Pbhs5E6vPaSYTW90KnD/eG5ZBHXIcd1R+0oUMRNap8DJv5vQ4P4jsFZnfCI8RB+9MLkbBuktmRcAB6xsJxVLgPfse2baeJeFAvwYLhWA9UKBHmpTqo/PB7Vn3/rHd3Kk3oUMG0CJJQH4uIfBAEBAFBQBA42QgI8T/Z/SfSHzkCIYkFgBQB5cTfEFZLQEnAsBwWh68IL4UBhekoP/3VYUJJ8h7U136mh1BM/DEp3vd/15xTwAWAjrPf63wDM5XzgGcN7rfa0EJPu/X4A2jPOu0WUKiT87RTqBPtYNDuRtrjTyQcZTHEnNVjG2M+FNfb0WcsShWo3f8KvmvdhBGLewbxz6qPFmZqR4Yk4f0aPWlBCeWvICAICAKCgCBwIhAQ4n8iukmEPD4EIkQ8l/i/MjHzjBij8KnwF9eivc6iPvCqvM2R+lxSLMiUf97F6yONbtdghGL8Vfq8ciieHkOD2jqcxRJeQ3Y5Qd4zBJs88ki0F9dYyNAr6Kzcsod/9eFhfkg3JOEKEP9sAWvjXufP8Gc8G5FbL+HgFkD5oT6UnhZYrkJd34bGAc8ePKODy0L8HUrySRAQBAQBQeA0ICDE/zT0orTh6BAgTzCLRdehLbFQH0NCzWFfd/uNIdqWVG5De+a6I5jmQK32kBvCjvU9W4F6vc0ItmkmHcCl23e8A7fm7EEo9+s2zFylw8QUaoSLk7YOcVEHhX92t/PY9hoPvxcC48OtPfN+6JGfgnYpuMcf1zDmUDS/8Wj7MTRnHsDaXlG9tJgwtynZ23powUW/4/c1aNc/h/bWP+tD2NH6CJMEqN/sgkwteNwCw2+bfBMEBAFBQBAQBE4OAkL8T05fiaT9RkAdiOUx4VfgbvMTGCHPt7rVpgUPMTTGPjPk1hJRnb9UmYFFvAFI/UPiX4Xa/TlzFaW5HlRdY0neeEdAY82m8BxVb2kcZucmYAQ98c02dF7hQV5f7ubThzBzpQb36+4K0GrzMWwD99bjdZiL0Jp7D5KEZPp3/5Ye206UT99a5BNkVm9pHOqPn+lDujafT/696zNVnXfMeQeHg8OWsKR6dYgS/o5k/WHrFlzEesqT6rYlKxctkHCt0VmB23Rdp1cfosyxwDJnYK76tgqBavKrWGMdIs8EAUFAEBAEBIETgIAQ/xPQSSKiIHB8CKAn/LdQUVdscinwrvyrMN58qq/BrPxW38tvk5jrMMf5YVn7Yxcfuqi3i1IkiSAgCAgCgoAgIAg4BIT4OyzkkyAgCIQIqLCiq9DshIdbMWb+Jky2vod27T2o4AIg/LfVgslJutIz/LHge2G97qrUgpLkZ0FAEBAEBAFBQBAwCAjxF1UQBASBTAT0eQYM+6EQHEyqQ2LGrzTh2evHUL+Ib+L130ysQpHGq+4cQ2YN8R8K6/WuIo2XIU8FAUFAEBAEBAFBwEfgUIn/7u4uyH+CgeiA6IDogOiA6IDogOiA6MBZ0QGfWg/2NyH+sliRxZrogOiA6IDogOiA6IDogOjAPnVgsKm+L50Q/3128llZxUo7xWMjOiA6IDogOiA6IDogOpCtAz61HuxvQvyF+MsKX3RAdEB0QHRAdEB0QHRAdGCfOjDYVN+XToj/PjtZVr7ZK1/B5oRgs7MOy3MTMKru2B+C0Yk6LK+/2Kfh34HN1QWYnbgAyVgD1g8yrtYbMJaMwtTyZg+yfA+NsWEYnlqGlwep+6B59yV7D/qCfXbvFkyMXugRnx7q8DB4AevLTdWvR4LtoepgXhuxHQ2YGjvXZx05fr3cWV+Ge7MTMDo8Bcsv8zA6yt9ewnrjMiTHKsNRtk/KPuvzvk+tB/vb4BP/l8swNUwvBRqGscb3PZCBrMG4AasL96DRwAn03CGVmVWXPD+pBuHl8hQM2xdPDcHotXlY32H9qUge6Sb+vQyN9ZeHoJ+sDo+EHebzn2B19l1ILszC6s4LWF/4CEaTN2Bi4cf9yc/H6UGJ/5G1meG3sQAfTh90kbADGwvTMN3TAoXJ0HM7DXlSOtnrwmif9TIdLyT+m6uw0JNNPWQdTOH5Iyx8+HeK7O6szsIFM5YL25EqZ5/YDUQ5euGhXoLXV9LtsD+p9l/kPsl633/ZB5vq+9INPvFH47nzCGYvDEGSHAbx/xEWJt6FsbFR87bVwyiz/0omRqmPmFvycw4uNf4EO96ErsnL0MQCbHjP+yjffuo1Y+pQSRCR/4En/rrPDtx2hWG/PO+kT0T++0T8UbeM/ufjhXb1jd5s6lHoIBsLiuxzsttVOwjn0/TXkH+OBcPpKOaSFPZHXN9RtEHKPE1j4Ojb4lPrwf52Moj/LnktDpOkH0WZR69cYoyOAWMkDKO/grFRXHz+AqaWO8wrrolYPik6BpmLJlpD0g9V7hNB/Hdg89EcjA0lBwz52IBHs5dgqOeQpIPqwqASf90u7Vnv0k4fhQ6S3m+2YXbsnB9aIsS/P6E+MeypX+QvmzsOagsk/yDxocGm+r50x0L8MeawMTUGQxRGMToBc8vrzJP6AtaXPlWTc5Kcg7HZezA7Nux5/L0wjLHbsMzTT7dgfcMYfqxj6BLMPtoIBpwQ/0EaNAMtCxKGsQY8edKAS0OoTx9A4wnFwofEH2OJ6zChFgkY/nMOxlAfVYgQjzOeh2/np42OX4CJxiPYWG/BNJIV1NnRj2DBxttj/PwXKj5Z/TY0BlPzq7CZOYmyeHs1xnj8PhFHHqKURYLz2oKTDv99CEZ//WvdHuPxt+N8+AYsfEvyoywNWN14AkvTZAMuwLWFJ3r8Y7jIZ1MwNkQe7QCzxjVzJoHl2cXQvTtB/PYGrFJaxOvOFFyeXoKOIf0KR4XNKEwtLNs6bzQ+g2vYd6PTsLz5vzL6kkg/wxC9qZ1AdloIqXoSe/bB2S4iyBuwanUhgaGxaZhfDe0VTfLUf4QPPs/Sj01YnqKdTRaKxuVSfZWV39TZC2FWaaldJHP4l9rA8EtIB/N0F3/7Ej7DuWP4I2h8geFpQzA6teSPBSKehDuVbdsxD9+SbiRcj1DOXvpiF3Y3V2HezmV8rJuyuF5y3FE2M07S+pDdH/6Yahg7EwlD9GxDzOOPY2aW2akLMDG35Icyem0z43ZzR82jO+tLMIfneQzGQ2OfwhLaqyj2S9Cx/cbPGeTLsL+2hrom3wd6bvX09GT3lU+tB/tb/4n/5hJM4cSqYosxRvaaXgAMXYOFDTQqO7C5PK0m96FLDXiy4zx0fqgPm9QMsd8hYqaMERrDe7Bw611tnFLhB0L8xSB0aWgM8V9Hoqti4ZGYIzFEfQ2I/8YCTAwRGenA8tQvICGvsCEeRN6nl9ZhZ+dP0Lh0DpKhURi7cQ9WN3eA9JjCh9T34THQ6Z/AwjWccMOdB9cWnR8XzG3YxPFEZNfKvAu73Xhb89pixykRJ0aG1Vij8YXkjgjRC3jS+ACGkmEYHbsBDSS3tv04/v9VnztQ41cTWx6bnQwRBib0T9mQXeBpaAdDPWMLNMTkA4rptwQQY/yZHUkSGLp0G5bmP4JRzPvt77L70vS77dtdE6/OZFfji4iQtW/YT6gzvzZhYxqTYUOcdtbn2cJDkyx/nBJpdsQ/Xz+oX4LzG+sNuKTs667Wtzz98vByeubLZZ6rtEXE36SN6GCu7naW2Hmvc3Dps7+H+WsXQM8ToVwRskvjjxxB3lyE+XvtCzO+zSLd9p3RgRuzU+lzBYX6kNMfS//ZhLzyMUV69y7Mrv4UOLcIkxALMw4Jh13SEbJbGF6r7dLQ2Bw82nzp5mQV0mjCupQ9cb/R2NulHXoKLbKhugnbgSmQgeex9qObtlKb5W90fJ4ioj1o7Rtsqu9LdwzEnzzx2lA5bwcdjKRYUT55EIngz2gCdJ4TIjMJeoHUQUyWhoyQVfxYmWIsBm0wDYQ8SBjswpFNkkzHaNLTxMWRLK3fjqSl46VJR9nETZ5BVaee7GgRgHgQ0eXPHE5mcvSIpplkkyG4MPtIe9YjpMuVocdBblvMxOzJoBYKbDyGBADHniJfTA5LvGn8Ex55mBFZpzxULnmNd0HhbolNMK4NAaQ+o8VbEhxuzm1/ivhjHRHZd8m5wfp390dYuHZDOzoUjm+xQ9VEbpwO+f0S1tGFfpgFnO17JdMNuKYOcneRP4VXgKe1qdQP3E7npE3pYDe6a+y2p9+xOkKyS7I5Hdkl3aOyeu0LI78bAxH5U9gV6INZQLoyw/Gebpe2MXmYB3liY5cW4Anq6b8ahxzT2R3tcFBy0aKAzjWl+jGoT+lH8KxQBlzEBHl2zbg+lLN+MZ2RZ76tETx6wcOn1oP9rf/EnyYJvMat8SncuPQ3JuTHTOLGiDhPGiqfMQDegKcJkBGNVF6WRoh/hjdIBnfh4MbJ2xJ/5w3TYWgPYbVxORUvjtvU91TICnrn8kgs6ShLQ3qc8pz7oREUKuDLn54s8XdaLFiym5qss/Ug2hZFaAKy4cnNxi0feykiFJL4CB6FeSKkjry56ASYuAX3eChhqrxInWSnELtoX8byxJ7twq63c6I9upevmcPgRhYKmXB/A2ytPGEdZBsD3UCvs9VZ7qHd0d7cy78xO6xd5E/hla0remGXJXuQL6WD3ehuPI0/Bvape732RYq8hn0T0Uvsxzx9sHNdVn+m298z8Y/2p1m0KFv1o9l5Ywtrq3+sD9XVsrdtCKK1LdQGPu7DZ4Uy4FW++2krky8mszwTHnBEOjDYVN+X7hiIP8YvYmzisIrN7NgrE4X4pycvMWIDytHBAwAAIABJREFUgQlOUpZEmT6xxHJU3RBlJ72ddR27jnHln30J3y7cgOFDIP62/CKjZchI6r7scKJNka6IruW0RS8kuOfehQ85wpmeuNM7HkdE/BEne14ASRQLYwixiHrqcYGX15cRkpdVzq4JCVGeZQxnmnAHxJUsbNFX1L+pOjTG+fpB4ZN6F2FndQ4u2bj4LvKn8IroCsmt0u6T+HeluxGdorq9v5F0qXYEutdzXwThKuQ1px0ElCdVJ2KXow+G7Gb3Z7pdvRL/lBNA4cb1uYj40xm8czA2dQcWvp1XIVhO5rSMIYkvlkGI/0DMfd6Yyhn3ks5n1gP+rf/En8IB1JbiT3pLXsVEknfBGA3Pu0/PONEgQ8U8W+RxtESLpfG8D6jAVGaXk5Qo9tn1FODkHRJ/9ASzMyV60ktv4+tJmRG7FBEgHWVpSI9VnYG31urhC1hf/ZN/qFH9ZtJz8mE9/ix8pJD4F7TFjGMvvtqTm40xPvZS7Q/IV4rYxshTmCeWhk1SJkzBvmchJUOkDyIhOn5fxvLEnmk5NNHBuPQm3Lo8B6v0PojA+2sn+51/gdU/xg74hnV0qR/knb5Uh/lbH7J48C7yp/Bi2Fp9NM9U2i5takoHu9HdGKmMyRNJl2pHoEc99wXuBrED+XhGJDyYnaqzQB8wDAyvReXncRTGNN7T7eqV+OsdhwR4ONEunVFRduOvJtQndn2x27GwoWOpfkzLaOdbsgVkPyhcSLUxDJVKl1Pc1pguyDNrV8LxKt8PjdcMONf3xOs78dcDFz1weDhxnR3mo3hCIhx40M4c7jWHffU2OBEkMtqJOShMBgnLJoJD25f8UJExAuRd4nHPMggObRCcJkOjSJs5SOq3yx321cSfSJk58GpvxSB9dCE3btIlHSW9Zp5zOryqFhj8Zh7cNbsH041VdhOWm9z0goQO1KLn2sTnmsOcqg3RideV4eLVs9pCB5epHoeFGqco+1/NIVy2CEl7+mgc0/gnPNKYOY+iIUfGeYDtoXIJ15fLn8IH9p0L3MO6Y72wQxPz8GT5NsxaO8T6wC5AstpPfY1yrsLy7G1Y3qTDyU52qy+Z9obOX/BbVfBGolvQiB7WjODTlX5QPmYvjb3T+pKtXyG2tk0Re6nTcgcN16ngc0QHC3WXcCQCGZFBy2dII+rekyWYnV2GDfMSr2w96rEvlIf/rdwXQGZiR+2IzD+5/UH5bPtpvszBnPLYcUg7FeawvApnw0Plb7j3lNCOJj8ng3Zkug7Lq/8Rxuw5OncLEo09S/IZ9pv7kYHy9NLWTH0IdE/SyVx/yDrgMesB/9J34u+u+8JtwgYsr/69vuXHntzHAepfxTe99DV8NvEhzDbuwYK55s4tIHQs5PDUHbijrvzU39G7d6fxG/bmVTrUZSYEtctAafEv7TiIgcib2M/Wb6GuxDyZ+rDvuSn9FljuAcQr7r5e+FTf7DF6De7M/trTx2RsFhredYujMPX1Aru5hBas/NpM1FVOEmP6GlwHiGNr6gt1Y5Aj9Fz3OeF15eW1Rd/IY0Jh1Fg6B2N/9ylMDJtx/X3Lb0d0PC7A1177uUz4eRjeHXvXw6ybcY6hRt8vfwqXp+owS1cOjl7Ttwihsbc7ALho+R00bvArLx0WRe23t7io24ZWYclrS6grRCppgeNwxpCi5bkJc00p3hgVXm9MaWmRRDhRHd3pBxFK66m1E192/tDOujAukon+hrKR7tLv/C8tmqgd+Jdwz9Fd2lEi220JIS+bPruFKI7DVuOjQj1Sb93uui+4HvF24Gd9o5YLYzW/e7uGOfrgXZOLec14f8HfYo/4/gYady7bKzX9W+8MDiFmdp5zhF0t1CNXBPtXdrKFIYXAYT+g7n89D7fUCzb1tcSb7PYzdc1nxBboN5znyBDK3U1brT6TDsjfszVfH29/DzjX98TrP/GXwSkrbdEB0QHRAdGBE68DuJN01Z3XoPaoKzt/DZrcHi8ZEeIn+IsO9EcHPGY94F+E+JOxlr9CREQHRAdEB0QHutIBc2Da8+ITwWDXtXZVFuWTv0JSRQdOqg4MONf3xBPiL4ZZJnrRAdEB0QHRgZ50gM5MBGF3KgzmA7hsz5cIkTupRE7kFt3tRQc8Zj3gX4T492TsZSD0MhAkreiL6IDowKnVAfUumikYG3Ix/kNjU9Dg74yQ+UUWlKIDZ0IHBpzre+IdKvH3SpYvgoAgIAgIAoKAICAICAKCgCAwMAgI8R+YrhBBBAFBQBAQBAQBQUAQEAQEgaNDQIj/0WErJQsCgoAgIAgIAoKAICAICAIDg4AQ/4HpChFEEBAEBAFBQBAQBAQBQUAQODoEhPgfHbZSsiAw2AjsdaB9uwpl9UKkEpSrd6DdebVPmfdge60F9epFSCpN6OyzFJWt04RKUoZae7uHUp5CszICI7U2vO4h16En3ZfsPUiBffZgDqrliz3i00MdXtJX0GnPq349EmwPVQc9wYMv2I4m1Crn+6wjx6+Xe502PKhXoTxSg/axDY7X0GlegeRYZQhUQr4KAmcUgcEn/q/bUBuhWxNGoNJ8evCu8iab81CpfQlr23sHL1dKOFUIvG7XYITeEpqUoDy5CB2uJorkkW7i3yvQ7BzbzNoj9j/DWv09SC7WYW3vFXRa16GcvAnV1maP5ZjkfJwelPjvT4Lecm214OOZgy4S9mCrNQMzPS1QehPTT23Ik9LJXhdGfkldf2M6nkv89zqwMlOBEo2XchVutzvAh0u6zkPWwVQFm9D6eFaR3b21Olw0suW2I1XGSX+gFx7q7bx9Jd0O+5OOoMgvCJw2BAaf+CPie4+hfrEESXIYxP85tGvvsNeca+JWqrZg67T1rrTncBCw5Oc8jDd/CMiMJi8nTn/MmDpUEkTkf+CJv+6zA7ddYdgvzzupMpH/PhF/rNbofzZeaFOvQrX5GHCPZq/zDcxUzkOSvAO19nMSPP33KHSQ1aLIPie7he1gmU/VR0P+ORZH3L4U9kdcnxQvCAgC3SNwMog/kNfi4MR/b+0BzJgJCrYfQxNDE9ATVJqE1la+f6p7WCXlqUIACUP5faiUcfEZkhlNxLJJ0YAiYUj6ocp9Ioj/Hmw/vg2VUnLAkI8teFwfh1LPIUkH1YcBJP5bX0FtZkWRfmodedhz9esodJAE2P4D1HHxwcmuEP/+hPrEsKd+kb+CgCBw7AgcC/HHmMNmLW9b+BV0Vm6pyTlJzkOl/gDqlRHP4++FYVQ+hzZPP/MNdLaM4Vekfhzqj+P+fJqghPgfuy4OrgBIGCpNePasCeMlXCReheYzioUPiT/GEt+Bqlok4G7SeaigPqo1JY8zXoTvFmeMjl9U3tIt6ylNIClfh5aNt8f4+S9VfLJepFagtrjmES0fPBZvr8IbePw+EUceopRFgvPagjXy30tQnpjQ7TEefzvOR25C6zuSH2VpwtrWMxYachEmW8/0Tsr2GrTu16BSIo92gFlz0pxJYHlgC9Zad4P47S1Yo7SlCtTu1uDKzAo8N6Rf4aiwKUOt1bZ13mzeh0nsu/IMtLf/PaMvifQzDJFgPg9kp4WQqiexZx+c7SJHxhasWV1IoFSZgcW1uL0CoP4jfLAfsvRjG9q1MtvdNKFoXC7VV1n5jVbthzCrPFmhY9QGhl9COpinu/jbV3Af546R69D8EsPTSlCu+YsOIOJJuFPZth2L8B3pRsL1CNvbS18AwPYaLNq5jI91UxbXS447ymbGSVofsvvDH1NNY2ciYYim6/SfmMcfx0yd2amLUL294ocyem0z49aExO51VuA2Oc0S1NlbsIL2Kor9Cjy3/cbPGeTLsL+2eg2XL4KAIBBBoP/Ef3sFajixqthijJGd1HGh1uO+B9vtGTW5l8ab8GzPeej8UB82qZU0sd8jYqYMPhrDB9Cae09PfBnhB5r4RyaPCFjy6IwiYIh/B4muioVHYo7EENl8QPy3WlAtkT5RWJkhaYZ4EHmfWenA3t4P0Bw/D0mpDJWbD9RZE9JjCh9S30cqoNM/g9Yk7lKFOw+ub3R+XDD/AbaRFBLZtTKj2PrsTK5HNq8tWK4ap0ScGBlWY4126fji5xU8a16FUjIC5cpNaCK5te3HHbd/0+cO1PjVmNmFOT4rEQYm9E/ZEACehtqjnrEFGmJylWL6LQHEGH9mR5DAjH8OK4vXoYx5v/t9dl+mCLiJV2eyqx4hImTtGz5FnZkwYWMakxFDnPY6i2zhEduBJNLsiH++flC/BCS804RxZV8B8vN3E+rjdE9/Mnbda3OYJq6Dubr7fIWd9zoP4/f/ARYnL4KeJ8LyI2SXxp+ZL8CbizB/r31hxrdZpNu+Mzpws15Lnyso1Iec/lhZNiGvfEyR3r0H9bWfQxDM9xALMw4JByAdIbuFa0ltl0qV2/B4+7Wbk1VI7Ca0qm8aG+h+o7EHtENPuy02VDdhOzAFMvA81nnSTVszIJDHgoAgYBE4BuJPnnhtqJy3gw5GGqPixfMTiSAPGcpPE6DznBCZSexBTJaGjJBtOn4whoQRBO9n+SIIIAKW+OMXNkmqw75ax2jS08TFkSyt346kpeOlSUfZxE2eQUWgtY7SIgAlIKLLn7mOIp3moWtmkk1KcLH+WHvWuyD+uW0xE7Mng1oosPEYEgDCksthiTeNf8IjDzMi65QnTU4V7pbYOHTUJ4/44xOq0/UbPs1tv83D5Iw+I+cG61/YhNbkTR1aqHB8mx2qJnLjy+JaQLJSvV3oh1nA2b4HlOkmTKqD3F3kT+HlpIl+UqSxHDkPE6RO6WA3umvmgqJFRabu0c4CymL0iMrqtS+M/G4MRORPYVegD2ZOcmWG4z0k8biGx0sI+NwY4BxiERu7tABPUE//zTjkmM7uaYeDkosWBXQuLtWPaRmzFgO8nbTYSJQMuIhJl1Pc1rDt8l0QEARCBPpP/EkCvFmneQtujv/S3AQRbkPTxIYZjAHwjBtNgIxoGAOU2LhbliZG/JXH55f5B9BIXvl7dhHwiL/zhukwtP8Ka80rqXhx3KZ+oEJW0DvHdDlFBEhHWRrS45Tn3A+NoFABv2PSkyX+TosFWqDQItl+9wvxvkXbotoRkA1PbiwiIkuq/SGJj+BRmCdN/K03F50A1Tl4wG+YSZUXqZMhEG1/lORnlOPtnOgFxZVJc5mAkcWFHlEfB9haecI6yDZSPvbX7nJyD+2e9uZe+cScaeoifwovK0zkAy4y/xYuhuE3kZRpHYzoS0p342nSxUfSpdoR6F6vfZEi0GHfRPQSBc3TBxozateA9SV+5/aAzWfFZDjAIoUDCmUWLcpWbZqdN7awTgOMp7ih/eBzG4LobElQn8obPCuUAY+JB3nUJlHRIicmqDwTBAQBjsAxEH+MX8TYxBEVm/ncXpnYZ+KvPBhXXGwxR0U+CwIcAZykLIkyP1CYQFKGSqXsiD9da4hx5fe/gu9aN2HkEIi/m1S5YJHPhox4hxoxWTjRprx0sbLMFY2RtuiFBNtBwOyDRPxRHnteAAkUC2MIsYiSeGSc2e13uwRswZZVDpiQEOVZxnCmqnM2KFl4GZF+8B6F5FKTo3z9oLAsvYuwt3Ybxi0x7yJ/Ci9PIPYFw8ruQPXj4NpblsL7GOpgV7qbJoNemfZLJF2qHTHi30tfBOEq5DWnHQSUJVUnPszRB0N2s/sz3a5eiX/KCaAw43pVRPzpDB5ehX0XWt8tqhAsJ3NaxpDEF8sgxN+qsnwQBA4Zgf4Tf+XtwIlYbyNqo4XfybtgjIbn3adnnGiQoSJPCCMelmixNMxDosM1PoaP6UAhgrrdhtvNteCqxkNGW4o7mQjg5B0Sf+SF7EyJnvTS2/havxmZSBEB0lGWxiPQgbfWIvgKOms/RA74mvScfFivKQsfCUmXLZc+FLTFjGMvvtqTG8uJEIBU+wPyFSPPhXmyCJZpiwlTsDYmVV6kD1Q4DJ4/cuEOfl/G8sSeaRk00cG49HmYu3Ib1ih8X+HIFiUW/g1Y+3PsgG9YR5f6Qd7p8TuwOPcxiwfvIn8KLxLS/4sx7h9X78Djbt+JktLBbnQ3olO+GOZbJF2qHYHu9dwX/OpS7Z1PHcxO1anFy9QHDAOz8fOkJJiHxnu6Xb0Sf73jkIAXZkMef2U3XptQn9j1xW7HwoaOpfoxLWPKFpD9oHAhBUsYKpUup7itpvvljyAgCGQi0HfirwcuGkk8nNhhh/logiXCgQftzOFec9hXb4cTQSKjnZiDwmSQsGwiOLR96R8qsgc0ve1UKjcTK/nhjCKgJmlzkNSHwB321cSfSJk58GpvxSB9dCE3btIlHWX6RwSaDq+qBQaGrNCbdXHXDK+ljS9U9YKE3TBC8bnmMKdqQ3Ti5a0ragsdXKZ6HBZqnKLsr80hXLYISXv6aBzT+Cc80pg5j6IhR4yUU7mE6+v2Lbhq37nAPax71gtbqi7Cs/bnUG//xdgh1gd2AZLVl4QPyrkG7frn0N6mw8lOdosoebO98w34K52/4Leq4I1Ec9CMHtaM4NOVflA+Zi+NcFpfsvUrxNa2iX2Ikn7Uu49/m31NckQHC3WXcPQcOUwQ+9GQRtS9ZytQr7dhy7zEK1uPeuwL5eF/O/elkpnYUTtS+kAOhYz+oHy2/TRfcqeYBUF/oDx2HNJOhTksrza38FD5m+5cBu1o8nMy2J8zd6C99p+gYs/RuVuQaOxZks+w396PDJSnl7YGTZevgoAgkEag78TfXfeF24RNaK/9g77lx57cRyH9q/hmVh7C/erHUG8+gJa55s4tILSnZaR2F+6qKz/1d/Tu3W1+wt68ioe6VuC5t4igtHKPf1o15ImdwOwCMRZ3rQ/7nq/pt8C6lxfpK+4etm7pmz3Kk3C3PuHpY1KpQ9O7brEMtYctdnMJLVj5tZmos5wkxvopuA4Qx5Z9OzURVqb7dofMLyuvLfpGHv621vNQmb0F1REzrp9+47cjOh5b8NBrP5cJP4/Ae5X3PMy6GecYC/20fQuu1O5Ana4cLE/qW4SwiXYHABctv4fmTX7lpSP/Re23t7io24bWYMVrS6grRCppgcOw9t4kjjdGZb31lhZJhBPV0Z1+EMG3nlorQnb+0M7GzpVYHOw4IflCrzJVmKeDObpLC2KqxxJCKpf/dQtRvGrym+b1Qj1Sb93uui+4Hrn2aueUvlHLhbGa371dwxx98K7JxbxmvL/ib7FH2/AJNO9eYde1kj4wHELM7M66I+xKZgznC64I9q/sZAsRCoHDfkDdf7gIc+oFm/pa4m12+5m65jNiC/QbznNkCOXupq2s2fJREBAEshHoP/HPlkV+EQQEAUFAEBAETggCuJP0t+68BkmtruycAE1u6aH8FQQEAUFgMBAQ4j8Y/SBSCAKCgCAgCJwYBMyBac+LT8Kz61rpkfwVBAQBQWBAEBDiPyAdIWIIAoKAICAInBQE6MxEEHanwmCuwhV7vuSktEfkFAQEgbOCwKES/93dXZD/BAPRAdEB0QHRAdEB0QHRAdGBs6IDJ2nRIMRfFiuyWBMdEB0QHRAdEB0QHRAdEB3Ypw4I8d8ncGdlZSjtFC+I6IDogOiA6IDogOiA6MDp0AEh/kL8ZdUsOiA6IDogOiA6IDogOiA6cAZ0QIj/GehkWaWfjlX6me7HnXVYnpuAUXUv+hCMTtRhef3FPiepHdhcXYDZiQuQjDVg/SA2YL0BY8koTC1v9iDL99AYG4bhqWV4eZC6D5p3X7L3MJawz+7dgonRCz3i00MdHgYvYH25qfr1SLA9VB3MayO2owFTY+f6rCPHr5c768twb3YCRoenYPllHkZH+dtLWG9chuRYZTjK9knZZ3ou3d09SbwfBj/G/+UyTA3TC1KGYazxfQ9kIGswbsDq/DSMDelyh8Y+haV9E56sOuT5STcEL5enYJheFpQMwei1eVjfYf2qSB7pJv69DI31l4egn6wOj4Qd5vOfYHX2XUguzMLqzgtYX/gIRpM3YGLhx/3Jz8fpQYn/kbWZ4bexAB9OH3SRsAMbC9Mw3dMChcnQczsNeVI62evCaJ/1Mh3PJf4767A0PQZDZrwMjU3D/OpGgS4dsg6m8PwRFj78O0V2d1Zn4YKRLbcdqTL2idvAlKMXHuolXX0l3Q77kz4PiPwnfQz0R/6TxPwHn/ijAd15BLMXhiBJDoP4v4AnjQ/sBKXftJgYAtQfBRFDcsJwtuTnHFxq/Al2vEldk5ehiQXY8J4PeBvNmDpUEkTkf+CJv+6zA7ddYdgvzzvpE5H/PhF/1Gmj/9l4dWB5+kOYXlpXY2NnfR6ujQ4V29Sj0EE2BhXZ52S3sB2E8Wn7a8g/x4LhdBTzUQr7I67vKNogZZ62cXC07RHif+iDnLwWh0D8Nx5C494j2FQybsCj2Ut6EaA8n0erGGJITii+SBhGfwVjSGaSX8DUcod5MjURyyZFA9pmQ9IPVe4TQfx3YPPRnNrtO1jbyXb0kYArmzWIxD/UcSPj0DVY2NhhYyVIdxQ6SHPPZhtmx875oSVC/PsT6hPDnvpF/maPB8HmRGMjxL9AgTHmsDHltoWT0QmYW9beIk2OX8D60qcmFOccjM3eg9mxYc/j74VhjN2GZZ5+ugXrG8bw4/bu0CWYfZTedt5ZX4I5jEnO+F2IejBRF/TrqcULCcNYA548acAlDA8b+gAaTygWPiT+GEtchwm1SMDwn3MwhvqoQoR4nPE8fGvDzS7AROMRbKy3YBrJCurs6EewYMPPMH7+CxWfrH4bGoOp+VWzeI31EYu3V+ENPH6fiCMPUUoy4p7z2oL18t+HYPTXv9Zj1nj87TgfvgEL35L8KEsDVjeesNCQC3Bt4YneSdlchYXPpmBsiAh1gFnjmjmTwPLsbsDqwp0gfnsDVikt4nVnCi5PL0HHkH6704dnCRaWbZ03Gp9pb/XoNCxv/q+MviTSzzBEb2onkJ0WQibEhM4+ONtFjoww9DAvTIb6j/DBfsjSj01YnhrV+qRkMKFoXC7VV1n5jW71TJh/hIWJC5HdMdJVagPDLyEdzNNd/O1L+AznjuGPoPEFhqcNwejUkj8WiHgS7lS2bcc8fEu6kXA9Qvl66Ytd2N1chXk7l/GxbsrieslxR9nMOEnrQ3Z/+GOqYexMJAzRs9Uxjz+OmVlmpy7AxNySH8rotc2M2029kLNzp8HYhstGsV+Cju03fs4gX4b9tZV0TP6e2vnY0+3B6Wch/nkds7kEU3YbGGNkr2mPu/UO7cDm8rSa3IcuNeDJjvPQ+aE+bFIzxH2HiJkyRmgM78HCrXf1xOeFH/gTT3fxqIOjYDKg+9wXhvivI9FVsfBIzJEY4iSodcl6jzcWYGKIyEgHlqd+AQkdVDXEg8i7Co3Y+RM0Lp2DZGgUxm7cg9XNHSA9pvAh9X14TIdS7DyBhWsXIjsPDhOdHxfMbdhEUkhk18q8C7vdeFvz2oLlqnFKxImRYTXWaJeOL34ozG4YRsduQANjwG370Tv8r/rcgRq/mtjy2OxkiDAwoX9ml46noX5Qz9gCDTH5gGL6LQHEGH9mR5IEhi7dhqX5j2AU8377u+y+NP1u+3bXxKsz2dU4JSJk7Rv2E+rMrw0x1pgMm3NGNkyG95VnT8l2OeKfrx/UL8H5jfUGXFL2dVfrW55+eXg5PYvaIUMWh7sJfYvoYK7udpbYea9zcOmzv4f5axdAzxOhXBGyS+OPHD3eXIT5e+0LM77NIt32ndGBG7NT6XMFhfqQ0x9L/9mEvPIxRXr3Lsyu/pThMQ2xMOOQcNglHSG7heG12i4Njc3Bo82Xbk5W/YoLuzeMDXS/0djb3Q3qs6G6CduBKZCB57HOk27aGuqBfI+OU8+mCEaHgZEQ/zylIsOXaEPlvB10MNIYFS+en0gEechQUWkCdJ4TIjOJPYjJ0qTiG50nURMx7sWVgXAYA+HUlIGEwS4c2SSpDvtqHaNJTxMXR7K0fjuSlo6XJh1lEzd5BlWderKjRQBiSkSXP3NYm8nRI5pmkk2G4MLsI+1Zj5AuV4bW/9y2mInZk0EtFNh4DAkA2gVFvpgclnjT+Cc88jAjsk55qFzyGu+Cwt0Sm2A8p4gs1en6TeGsHAnumd+XlIfJaW0Sf0bODda/uz/CwrUbOgxG4fgWO1RN5MbV6/dLWG8X+mEWcLbvd1GmG3BNHeTuIn8KrwBPY++dLdee/DghZ3lTOtiN7pq5wNNvVqadewLyaXXP6cgu6R6V1WtfGPndGIjIn8KuQB/MAtKVGY73dLs07nxuDPEI8sTGLi3A1bz8r8Yhx3TWOByUXLQooMVdqh+D+lSfBM8KZcBFTJBn14xrjxuEbZXvvr0QPPqFhxB/a3xzlA6vcWt8Cjcu/Y05aBtuQ/PJ0xgAb8DTBMiIhjFAzgvH0qSIv5GNvD5e2Tlyd9M2SZPheTqhuOLkbYm/84apMJ7Zh7DauJwKlcFt6nsqZAVJENPlFBEgHWVpSI9TnnNNqGyYCpfJ6lx6slQk1txqQgsUWiTb7zZ/uo+ibVHtCMiGJzeWE5El1f6QxEfwKMyTJv67dlxjiMItuMdDCVPlRepkeETbHyX5GeV4Oyfao3v5mjkMbmSxfaq8xdjPAbZWnrAOso2BbmA5Vj+4h3ZHe3Mv/8bE33eRP4VXWkfc5ModKlmLF5O/K8LoiK/W1YhOWWy4XJF0qXYEutdrX6TIa9g3Eb1EWfP0gcaM1QPWr9wesPmsZ+KfwgFxM4sWZat+NDtvbGEdw1hdLXvbhiA6WxLBntpFchfKgFf5psspbivXAfnsxqVgcdRYCPGPGQn7DOMXMTZxWMVmduyVicdE/JX3C8ONsiZaGTBHPWAGvnycpCyJMvpgieUojI2NOuJP1xpiXPlnX8K3Czdg+BCIv5tUC/TRkJHUfdnhRJsiXZFyc9qidx24596FDznCmZ640zseAfmKEepQdvLU8utTU2l0/LU+L4DkiYUxpNJGCBvaq5w2LMLWAAAgAElEQVT2ux1HtmCLya7sngkJUZ5lDGeacAfElSy8jEg/WNuJv4Wyaozz9YPCsjQR31mdg0s2Lr6L/Cm8imQksl5gU0Md7Ep3Izrl4UOyRdKl2hHoXs99EYSrkNecdhBQrlSdKF+OPhiym92f6XYVk2E/D+0Y+nVwvSoi/nQG7xyMTd2BhW/nVQiWK8+vT9t3/1mxDEL8B35ejI47Gn9n768Q/zyFoHCAzFAfYyA8Ik7PONEgQ8U8W+RxtESLpVGeBmOovYOTtH3ItjXz5JffTpc3v5v+xMk7JP4YcsPOlOhJL72NrydlRuxSRIB0lKUhPVZ1Bt5aK+8LWF/9k3+oUf1m0nPyYcODmAc2JF22XDLYBW0x49gL5/DkxnL8yV5NZKn2B+QrRWxj5CnME0tD7UACT+cijHMhJUOkD6xDwNkFvy9jeWLPtBya6GBcehNuXZ6DVXofROD9tZP9zr/A6h/TFxKkiX+X+kHe6Ut1mL/1IYsH7yJ/Ci+GbUpvzG+qXeENWEG+lA52o7sRnYrKEEmXakegRz33xS7s8AP5eEYkfH9Bqs4CfcAwMBs/z29EovGeblevxF/vOCTAw4msx1/Zjb+aUJ/Y9cVux8KGjqX6MS1jyhaQ/aBwIdWHYahUupzitgY6FtUNSWPtjOBzaHxGiH+OMumBix44nBTW2WE+mmCJcOBBO3O41xz21dvhRJDIaLM7+I0xSeyLiGj7kg4VsTxE/hUpeNcchBSDIAYhrQOKtEWve3WHfTXxJ+JnDrzaWzEc4SZPl5t0SUdJr5nnnA6vqgUGv5kHd83uwXRjNXingJbdHpCk24QoPtcc5lR9HJ14eduL2kIHl+kmE4eFGqco+1/NIVy2CKH2O+8gjUka/4RHGjOXx5Aj4zzA9lC5hOvL5U/hA/vOBe5h3bFe2KGJeXiyfBtmrR1ifWAXIFl9SfignKuwPHsbljfpcLKT3Y4n8mbzcxbKTtL5C36rCt5IdAsa0cOaEXy60g/Kx+ylsdNaX7L1K8TWtinLzit9+0X6hXdh+ogOFuou4UghI2GZ9rshjah7T5ZgdnYZNsJwNyLZVo967Avl4X8r96WSmdhRO1L6QA6FjP6gfLb9NF9ypxgfx7jwDcch7VSYw/I4ftS7F95wNzHRjiY/J4P9Ol2H5dX/CGP2HJ27BYnGniX5DPvN/chAeXppq+3/AAN5fmgEt3D8n1Gshfjndbw93IvbhA1YXv17fcuPPbmPA9a/im966Wv4bOJDmG3cgwXzNki3gNAxkMNTd+COuvKTYiIvw53Gb9ibV/WhrhcpD80UNHj8b57s8tsZMx6GPNh421jogj7se25KvwWWewDxiruvFz7VN3uMXoM7s7/29DEZm4WGd93iKEx9vcBuLqEFK782E/Wbk8TYBBdcB4hja+oLdWOQ8xjTOMG/nPC68vLaom/k4W9rPQdjf/cpTAybcf19y29HEhuPC/C1134uE34ehnfH3vUw62acY6jR98ufwuWpOszidb3Yf6PX9C1COIbNQkhftfo7aNzgV146LIrab29xUbcNrcKS15ZQV4hU0gLH4YwhRctzE+aaUpQ1vN6Y0tIiiXCiOrrTDyL41lNr7Vl2/tDOujAukglDqsxNbTRORidg9t6yfzWkrQvz0aKJ2oF/Cfcc3aUdJarHEkImi63HLURxHLYaHxXqkXrrdtd9wfWItwM/6xu1XBir+d3bNczRB++aXMxrxvsL/hZ7tA2/gcady+y6VtIHhkeImQ2Pc4RdjY/IFcH+lZ1sIUIhcNgPqPtfz8Mt9YJNfS3xJrv9TF3zGbEF+g3nOTKEcnfTVtv3rP3y7IzN2cfX90L8ZbDJYBMdEB0QHRAdONU6gDtJV915DWqrcm79GjS5PT4iIp5ZwV50oH86IMSfDKD8lYlfdEB0QHRAdODU6YA5MO158YlksOtaT127qY3yV0i16ADXASH+YuxkohcdEB0QHRAdOLU6QGcmgrA7FQbzAVy250uEHHFyJJ9FH06rDgjxP7XGXgbtaR200i7RbdEB0YGedEC9i2YKxoZcjP/QmJwZ6wlD4QriHDglOnBmif9JarjIKggIAoKAICAICAKCgCAgCJwlBJKz1FhpqyAgCAgCgoAgIAgIAoKAIHBWERDif1Z7XtotCAgCgoAgIAgIAoKAIHCmEBDif6a6WxorCAgCgoAgIAgIAoKAIHBWERDif1Z7Xtp9uAjsdaDdrEGlVIZae/sQyn4FnfY81KsXYaTWhteHUOL+ingKzcrIMcvQi+SvodO8AslIDdrHB1ovAp+BtHuwvdZSupxUmtDJazGOo9tVKKuXdJWgXL0D7c6rvBx9/W2v04ZmrQKlgdCv/YzN/eTJgRj768EcVMsXe7B7W7DWqkO1fB4qzac5hZ+mn9CeN6FWOV9gSw/SP4dr+wZL17kuHAQjXs7Z/dxn4m8U07x5se+EZu8HmH/wB0ei9n6A5vh5SEpXoflscCaXs6uOg9ZyX1/VGy7praH878jHUJ99z7xB85CIf6cJleMYJ1st+HjmOBcaR6EDe7DVmoGZQ1mQHYV8ByyzL322Ca2PZ/e3mHrdhtqIufkml/j/DGv19yC5WIe1vVfQaV2HcvImVFubBwToINmZ7uw9hvrFkh7nA0H8D9Kuw8jL7WP3du91uwYjyraN9ED8D6B/PTWV9Xc3+ZidzpwfkjLcrNfg4nHY827aYNOwth+Lrverj22Dz+yHPhN/AGAK1V/i/wqeNa/Cee49FeJ/ZhW/u4ZvQ7v2S6jU/wDah4/fy5AkV6DZQXcyejKbUL34MbS2XmlPc9L9BFgog5lU+jdONPHqX32FCBxOAmVzevFIHk61/SmlP322t1aHiwchu0T+84i/mRsGSv9SuqO9jbKjRNpN5L83u6fJf/fE/8D6R+IW/U31d34GbMf5ym14vL2nEqbatf0YmtX39eK17/Y8X/bUr6m291fX+9bHqYafvQf9J/5glClJCra8DrMzyHvUzzoPU34p63gQ2Ib2zAy0trRRBwiJP0qFxKsGzc7PJ5z478H249tQKZ22MbIFj+vjUDrMBdnxKGOk1j712fYfoF45f7DwqW6Iv0kzOMQ/pjv9JUORTh+wR30g/oehf12hFuvv/Iyv27PwMduRShF/dA+t3YFJDGkaaOIfa3sfdb1vfZzfn2fl1wEh/ibm72IZym/jVupFqNZbsGZW0aozvNjPBJJyFW63O6ApmYuf09ttPDZ0C9aakyZmlF60MgKVu3fd9jMnBdtr0KpX4WK5DG/j1ly5CvXWmvH4AuiBbcp5vwZNG496ESZbz4w8Z0V9zlo7Y8SfMGATYGsFmtWLOiSgfB1aNkYZdwi+VHGeSk9LFagtOt2ikuzf6ERB8bEm5ADHyu0V6NDaRO1CsDrw9+Zjq797nRW4TbIlCZQqt2Cl8++W9LvtavTgPYO11t10XKoZIzoOO3ssjtQW4Ts79vLHR1wuE36nvGYaz1KlBndr1YywHcT3K7hvY7BpMqNxn0TIq3NEYNuRdP5sQxEwn9ndMX2RJNpLmSsvMJuDfXy3Blcyw6eydIJ0zciO3vafWchMMg71xTm1UPP6rNWG1n191uRm8z5MlkuQlGegvf3v0GnfgSp+VyEH56Ey802x3tCEbMIUCKPXoZ6ldBltMtVXgvLEhJY16vGnscP6SfXFInxH+nfzPnw5iTrwDtTazwEQYxUnTu3xx4GLT74Jre9oPOC80IS1rWewMlOBkmpTll5m6Q6RISy3afAsQXlykWG5BWuLM7ZvSpUZWFzbssM69SF3PGE7zRj0MPj/3HO+i729Bouo/9E+ZmVRHn42KctuhXNvqQIzKzT3Ut8VePy9Mi7CRPV9KJmxpPDwfk8goTqy9C8rvS5M78QqXT8PlVodaldumTC1rPGW1d+p3sp9ECP+NoO151l2MdI/XduS0PaZWruynVlt70bXs/C0rWYfMC2NGdYvz41jwbMxWWP/h5Te+2Odyi8akzjvnd3w7gEg/nuw3Z7RxNxMCnvPmjBeSqA03oRnitA8h3btHWv0/d8pfwku1h/DHmxCq/qmmtxK1RZoc+smUe5NUltLStnIaFE9tAWpw4NKyXkYb/5gSL0rS58N+Bm2WpPa0B5kK5wND/k4qAhQ31OoD5eTJkAk07j1+9roNeklgNLbETNp7j2DlkdkeFnms50oKObe6GNpHOqPUbPJYJegXFtR5F6PjfMmPIn0meKkzdhQRJDkYx7+oD43PlgaEx6n27gHYCdmTch4Hjt5mxAOHbsdaSeN2ahcOpTF2QLE4Hqc+FM9OKbtWKR+oTEeq9/gVJp0uztbLaiiDbI2BOudhEnl3cvHUWHAzg1hn1zNIP75OkE7ldS/Bgu1WDOTltdnpJ+aQJfGP4eVxetQRlm++z1US1QO6YXDJF9viAC4A9P5cpNNJlJNeppA7uHewOPvOVlKV+H+yjxMlt+E8eYaPG1ehVLmOOCLOVrgkC0fgXLlJjSRiNtQT9bvnnrEdIfKDsfYe1Bf+xkAdD0jpo/2Oots8WVX566WgvGUhcH/+X9PR2LGTb8aZ4Ot28xx6ThzrU+0cNROgFegxzDZLYz7xvnNLLi2V6CGhHo/44ucINZm0DxbVEeofwXplR1APTFzNmJ8VRP/fL2N9bfrqm4+dUP8E9JbwlKdacGdgXqqT7u2JVHb14PthFjbi3S9xzktp1+AIkGMXmXpfeX/umqduIrL8XYnNNZJr2lMBvbIzr3aTnJO2E0fn4Y0A0D8qZMYuSAlSEzHmUnYGRsOvdvu1sSCTX7Wu+SeeZ1sJs2EPP5WidyESNtzjrS4smgSc0oaI4RcVvl8shGgvo/1c8RwGiKjyaMxwpZIOkPvyGWAjkfq3PkYLz2RFzVWftSLXjORYGl68n9bx5gSySAZAqJFuh4bI/RMT060kNDyatKYmEOZENnSzsMNhdSH7G27PLl0XrvQCCBKfw1JQqRf0pnMpMvaRbaAFgP4/R08y7FXIK/ZFaTJPVKXe9SNThBJPw+V6lUoq8URI5ChjtgJnLUFIVbOFPdM2yyyc2Yhk6U3ZI8t2SuQ22Bn+xMbTDbc2mSHgv3k9bt5atrnlRUr3xsHSMBDPSC9JEKL5RfopcWScMI86XI1lgZbJZsZb6oJNL857E3L1J9expOHAeYO+96zN5jA1E06HMsTa6MpR89vZsFkyzCYWV0oHl/pNhJxJ+JfVEeIeUF6JT8tzBTM5n8FehvDgmfv4rPWBWpXkCHsL9I/i226T1V5XdkSrCvEqRfbGevHsDyKeCBdLsIzaH9mv8Rkd1gU6n2q3SQn9YPRWYZzWicDWU/51wEg/mR8Y8Rfd5weTNyLF+8VteUzcx3G3z+vt7PtJBOrwymWJf5k8GghgNWYwWq3/GmwohfFlG/lo7CAuHjy9MQjQHrUG/HXemKMqPK++SENpEcpeMKJIvyuMhCxKENt5b/oW0es3qdK1A9wm/zB5zbkiEg96br9jqm9OmOTg1uQ2IW5lwcLycONyRiVi7w1iBmGAM4XXO8YTlYZMrNq1UePTGKdv4X3y29DiW6V2WrB5CTtIJrMUXmxucYrmmBoyRw8sCGJYaVd6oQltTThsnJSWOe3F23kAxUKhHgaQmvanqmHqYm1QG4lE026RlayrXm6adJk658pK9VmfM7Ggbq9KdSDUJcxT5FexrBMl+uRPSMbedHd3wAP1ZRY+d2MpwwcPB3GNJHyU9hF0kT7CkO3fq/D6HraUaPyfZvpYWaag7sl8TrSmOssWelpsWxCdR+0TRhWgd7G8LKydfch3i6TN4V9RP/CNF3bEqwjxKkX20n91M0il3S5CM8Qs6x+ickeG69ZOIbtDom/sQ2M+PvzWijn6f9+Aoj//3ShNLzjvL6hmFrcjnxqbl5xxNwZeL64cIplJ0AyeDQhYh3WkJPhosHqyhfi73XGKf5CfU+6wJsaMZykT4rsaOPkkRqePfY5mAS0lyLQYT5ZFRL/V9BZuQWVEsZX3oXWd4vqnIuVKahPieQ9C8kVCR0YXi8PpsnDDX8vkEvFk5vYfbVwojhvqp//DWTh+ORe58knhw1oVa9AfWXehPsswtPWdRi3d44XyYtNXjOx9kiwKcSGy4mfu9QJGxqBRIafGXH2yfZhVnv3OjquHWPx738F37VuwgjZuX0Sf1en3y6tp9yzjhzUnE84BOJfOA6Onfhz8uRj43/b73gypaTGGXnCTSggLRj5vJnKU2S3cNfwG5ipnAc8X3Mfz5DgzWZde/ypjRR2oWUPCXJ+HeGYLpIJ63Dx8mrxpXbK/mfBO0kiWPgdVvgtbJeXIYV9xC6m0nRrS7CmNE765rlubGes7eny/PZ1ab88EGL9gjuY6bqIe6XsTAqjdF5fTtrxpF0gM07IqePJdza+DADxp20/Fk9LE5GZmMjQJ9GOcvkPHOpDscasHlu3NXQ0WIX4n40hwltJfb8f4s/jwlmoBpLetR/s4VteW8rwpeLOMXVIWN/Mfi+Fys8ImSFj1rCmDGpILGmsBZ7n0NOYKicPNwoDyZGLgWLjljMJZDgJxCY0ViD7qMf6m1C9f8d4902flX4JlffHTQx3b/KCjSeN6UwXOqHyv6filV+nzj6F/YONibWX+s2RLz0xEkGldma9zyTEtEBu0lN7RutwiT+FDfkhAHwcdEskCvQyimWIReBdNGOMztxY9drbgLU/hwd8qV96HU+m1NQ4c4SYdhpSB4tTeSL64i3STF/bMDCDmZ0PI/lto/EDtZGfkwswo3k3s44Q8yKZuAB0Tga91G0dChmGy1kbXNQWXm78c0g4vVQp7CP6l0rDSsi1JZguxInlxZ6g8yZR2xlre7o8v30FdsCvPvjG+wVf4pauKzX/UQkpjNJ5fTlV49mBfn14PPdiDarrlP7tP/G3pJ4RfdrOogFpJo7Eeir4FpHxeO09g6/ufAXP9mjwoDdsBtpb37mXrISGBG8xqbbg+bOH8NWff2aHacjw0tYYeejIaDFZrfcyRvzdxHpK9eVsN4s8aHT2xEODPFtEpogguth3HWfNb5zCWw4ewExzLXobFC06HcEhj567VUMbczrIRvpLB4z1AmOv04KZehu2lcGk2w7czSO2fGNQS9VFeNb+HOrt53aM2DQGAzoIqLz1+KIlfpjVHFKzCwqa2KO4EXnNkguvVL3uXrBnbIWVx+sDFiZhbQdNaDjG16Bd/xza/LYwnt/aptAeuD5UyQtwfN2+BVfpYCEY22Xl4RWSJypLJ/Sh2BE6k2FJFGFF2KF9oj77i34JFnnzVXWEgTlsa29+SbeTn6WwekOTMrbh2QrU623YUouQLLnJXtNhO5rkTYibtcs+FjFCT2PA6RLmKRoHMT1wZ2pcWTR3ZNltwo3pDs0vlvjSHEELV/Im8luGcEd6Dprq8G/Q5n2NJ10GYWPHgirr7dyXYqXykOOA6wvNv6qfDKlSO00/u1vJrD6T3SNdCtqHX2l+p5t6LIHVu2EX67+H/1QZMbtZsTqMDFb/7kI9L/3rNsxcpYtByCZq+fJtcKS/s2xFpJlWLxPSBT8RYe/0zxBnZhcpDfVpL7bEviPJ9k0vtjPS9kJdL7Jffvtx1y+rXyzxt33chq3UPKLLCzGy7S4ak9EFTyDjGfnaZ+JPymUmAHadl7se7zy8X/kllMLtcTtZYV4MVfjSXPfJDvfiNnZzBdZWzC1BZGjUgk9vV6q8+EIm8mrYmGvyyLFr6JSnD88LuNACvZJk8nvXgrrFwBnRnzPTTL/fdf87A04EgvSiDLVm3b55V3nflNFhuqX0jpMDH8pUfdZoOcKuys29RhHlYXVQuAfWjWPj4SLMqTeRmis/7YSsCdvTFXrDpmkXyeCNRVxkuOsKQ7lHanfhLk7SqXHG2psr13+B1kwVavfn3NWJeCVjbELOGNPW08XsAaudfTQkhhwQ+ItaDIyYG8NM0lx5H8Pz9i24UrsDdbo2tTypb5FhNbmPWTrBbaVZTJqFmcUS+8Prs99D8ya+YI7poQlvolAK/A0XbQ9bt/QNIla2LDlQUkfcvQWfva4z0DPMwjFCez17C6ojaLebkTMavK1O9k9qVfOGV/3MjTesIGccRPTgbvOToKwWPFQv43P11SKhYJ7ufNOEm/QGYsR45BNo3r3C8Daxz+FVk97V067n7aeexpO+4SscZ+p8htUFahP91SEOz71ranGuqkMzxCBltz6Df1ThgVgW2oVFaM3hW8px0VeHevWtdPttw9wHrn94q83s3ASMqPka4+8pdC5WB471fzdvcda6u9J5aUIWM9I/X4GZKzW4X6+aG2D4lcZ5es684tZWmEVH0fm9lM75ZxLD/orZxVBHsU+fdmtLUvUjn3kO7W5tpxqy5gYqbHu3uo62Ic8OOBVQ4X65/aLe1K37+Jvm9WC8Zuj9exWoFI7JP1v9cbZRjw3u6OCinvbPfSb+px1OaZ8gIAgIAoKAIHAcCOBOy9+a9xyw+tUZkQnztnH2XD4KAmcCAdz1+S1UzJXXrsm4o3qVnd1yv5z2T0L8T3sPS/sEAUFAEBAETjkCJqSFduW81m5Ca/Kme0eF95t8EQROOQIq1OxqZOGLYXo3zbtZTjkGQfOE+AeAyFdBQBAQBAQBQeBkIUCx9iy0DxugQq6uwhV75uRktUqkFQQOioA+E8DPI2GJOrxs/AqdBTloLScrvxD/k9VfIq0gIAgIAoKAIJBGAM8WNGtQKen4ZX2eowbNzPdIpIuQJ4LA6UMAzyE07XtrVJy/PV9y+lrbTYuE+HeDkqQRBAQBQUAQEAQEAUFAEBAETjgCQvxPeAeK+IKAICAICAKCgCAgCAgCgkA3CAjx7wYlSSMICAKCgCAgCAgCgoAgIAiccASE+J/wDhTxzwACNnaXvRws1WxzF7p9iUkqgfdgr9OGZq0CpS7Te5npS1dyUeLT+hdfQV+Havk8e3FSb31xspDBl8619DsKojfI9LM1Mez7Wb/UJQgIAoLAyUNAiP/J6zOR+EwhQLd14IG9POLfAyj2DbX+S2a6KmGrBR/P4MtUjkCurgQYrETuxTzm5U2DJd7hS0NvdcUXWB0z8T9z2B9+b0qJgoAgcAYREOJ/BjtdmnzSEKA3mx4S8VfNN2+k7Mnjr8m+e4PqUch10voGX0iJbzg+I8Qfu4feEnrMxF+LcsawP3nDQyQWBASBAUNAiP+AdYiIIwikETgKgt0r8d+D7ce31VWBQvz9HhLi7+PRz29nDvt+git1CQKCwKlEQIj/qexWadShIrC9Bq16FcoY3oD/latwm+7G5nHurRVoVi+aNNeh1XmVFqPThAqVo0J3OtCulXUeGz5BRB/ruwLNzs/QaV7RoT7ROjDu+iu4n4rZx+dfsvuLL0K1+Ri2lVRE/G9C67smVMslSJISlCcXobMXiu1Iv2q/kh93H54XyGXK2V6DRZRN5TsPldqXsLadqsQkDmQuVWBmpQNe6tzyWAy6qi98cQsAePnx9yaTp4v82Oe3SR8uwkT1fShZjz/mD/qiKx3pot22W0zfqfYlgAuxn9WuA93fjjrzGsDqmtmN8OROIPGw3YK15qTWcbzj+m4NrqiQLlup+0Ae//dr0LQ4nIfKzDdWd/Y6K3CbxkKSQKlyC1bseMirK41DbXHN6Kx+IVU29k5E+SQICAKCgCAQR0CIfxwXeSoIaAT2foDm+HkoVW7DYySr23+AeuU8JMk7UGv/Bdbq71nSTuSG3hR4sf7YJ6yEqXqFeAlK1RZsqWf46vBJKCVvQrW16eq98gm0tpDyuoWAluM1bLdnoJyUQNWREbO/96wJ46XzUKn/AbbhObRr70Bi6yDyGP7+HtTXfiZJ/b+GSKY9/kjsEJ9ALsyt8CsbUvgKOq3rSu5ybcWROV6LwmbELEAovSG0GJb0Cvsjuzy/zWzBUp6BNvaf158kb2L7ojA/4Vg2CzurD0SuH0P9Ii6i6PwEPwvhCHBKR4ra/ZqDhJ9Nf5YmjY4AgIm/d3r1Cp41J80r6UnHUG+fAxgdTEyol5KndBWaz/RiFXG4WkT8y5PQXNsyb4fFhd15GFdviN2EVvVNSBTmDmPSm7y6FP4jZrG39wxak7iQNjJTm7OwDyGS74KAICAICAIpBIT4pyCRB4KAQ0ATNEbIkcsqQp1AcrEOa3tEyln8PXlEM2OgDRlkpE3XwwjoWh3esQuD7DocySMPfg3aiiQa8qVk1O3Z6yzCZPlts7gI01Osut9WhwRYDzIROLcgSbed5NIkj5FTWqSwtvM6dOgGk8Gk7668f9MLMa9sJL9XoaQWSd/BT2qBxRY3hlzq8tP9gq92d/kfw+u1Oly0iyeUnAg1j/EPsc3uPzogW9RujhF9TulmiC1+f+djszAw7bDYbOudJkP8Vf2lcag/1ktRqiP6N6bfVDfq22uzWCb9NelJb7Lr0vhTX2PdfFz81BX2UYnloSAgCAgCgoBBQIi/qIIgkIlAhLBhWiI5ijRF0sSIUVCHT9rQe1uBcnkEEkXMXsNW66bx1GLGbuoIyCbJmLn4CNKrM5sFByUzPf5p4q8JLclNISj8rwlHycUFf+RyFpX3z9CsjAB5saloIo8jtX+A79QOTbxuvy7K7cjnSO0hPFUhV35+TdoPRvx9fQjb7WTxPpk+1kR5D7bbv4X3y2+7naOtFkxO0q4S5cTX1/9eh4XZXQkMf1qBGoV7VefgAYWyUTb+N6rfZqFpFhIqOYYWPfjchpoR8c+uy/S1CWFyYWV4g9Bd+MeusOeCymdBQBAQBASBEAEh/iEi8l0QsAhQmAYjtuq3GBllaaLEyBaqP3DShiEa78zByiKF+3wHrWpVx2mr1ER48+rgMrHFySAQf04GAxhSX71QnD27u6LJrcEhqzxa7IS/2wVLAfHvOj/bMYgumIK+6GbhltvuFErmAd+h2IBW9QrUV+ahWsKdo0V42l2940oAACAASURBVLoO482nNvNe5xuYqWDYWg3ut9rQwrMlHCs8y3K/pg5wq/MeWeFYUf3mxP8VdFZuQQXDzGp3ofXdItRG9FkEG7EUrUvjZhcIVnL8QGOxCHsvk3wRBAQBQUAQCBAQ4h8AIl8FAYcAhXGw0BP8kZP2bkidK5B9ItJWhfv3P9HefYrRfr8C77+DYUSUfB/EHwwRY3HbVJr+G5JTCvXhnms/Bx0WdcSsSC7Cj2K0XXl7nT/Dn6MHfIk00u4APwxcVB6S3zfNrokFz4SLYB9umLMUFIvu5NGfCDMWmmTDTbLzH4bHH0OKNFmOtTuU0323OwX37xjvPrXhl1B5f5yd1zDPbeiXH+rjSsQGU2y9v7Nh08SIPx8TSo/N+RPMZNI7vbElBXX9hZ0NcP2nsFn7Z3imwrT8vktjz8qWj4KAICAICAIpBIT4pyCRB4IAQ8B6YulWEnPg1BJq8kQyb7wh8PoMACsr+EghKDq8B4kOHcBlpEnl6aIO8lbbGG4M/cADwHTwVhOpvU4LZupt2Kb01uNLpDqsmwltPOfoTX7W/hzq9nBzTtsNft5NSNuPoTnzgC1sXB36/EQG4cRkBeXp/OyGGYrhH2/CM4SAQlp4PDummbmjDv92nz88gIqEPThsbfuiuP8K2+0g8j9RP9pzB67fff0zCz11MPZnd9uTkfF1+xZcVQdzsfjIwWFeK9UZHu6lMaH0hG6I2oK1xRm1i0Cx+3l1aRz4TUx4y88DmGmuwZ7tuxzsuZzyWRAQBAQBQSCFgBD/FCTyQBAIEPCuf0QiPQOLeJsJGK+pjUkuQ61ZZ9d1FrzdVBGoEeA33OjFAA9n6KKO9ypQGSFPMf4l4ozx3HfMVZ34/CJUb69A51VbhV7YGOqRT6B5F68LpTIyvP7WE4zE+vfQvMmuIcWrSTPa7l/tyEldgDPyenUA2dyKY+XBqyfdwdP88oLrIBO+Y6DrO3h+HTKj8CqNw+zcBIzgFZjNdhrb5P+ASuVNhm0cp/+/i3an0cInZlFBtxbhI6NX/q1SfEcB+28RWnN4I5W+zvS71m/hSu0O1OkKTiL18Uphr9OGpr2iNejTvQ6szJjrW/HK0IeLMKduOtLXyT5v38qpK0NnzQYAhStFsTdpMkSWx4KAICAICAIAIMRf1EAQEAQGBwH06lZ+q6/etFKZaznHm9Cxz07Zh7Pa7lPWjdIcQUAQEAQGHQEh/oPeQyKfIHBmEMAQk/egwg6k2qZHb6ixv57wD2e13Se820R8QUAQEAROIAJC/E9gp4nIgsCpRMDGjrM3I6vwn29gZrxqXy516tp+Vtt96jpSGiQICAKCwOAjcKjEf3d3F+Q/wUB0QHRAdEB0QHRAdEB0QHTgrOjA4NN9J6EQf1msyGJNdEB0QHRAdEB0QHRAdEB0YJ864Gj14H8S4r/PTj4rq1hpp3hsRAdEB0QHRAdEB0QHRAeydWDw6b6TUIi/EH9Z4YsOiA6IDogOiA6IDogOiA7sUwccrR78T0L899nJsvLNXvkKNoKN6IDogOiA6IDogOjAWdGBwaf7TkIh/kL8ZYU/MDqwA5urX8JnU2MwNDwFyy/7PWm8gPXlBkyNnYPhqWV4eRi47KzDcmMKxoZGYWp5s6+6trO+DI0jxXIDVhdmYWL0HIw1vjdtewnrjcuQHEv/HUxfjh6vg8l3JARicxUWZidgNLkMjfWXGfr5PTTGhg9vTBzGuDptZfTBTgyOfg+wPvWhHw5/HMfscP9tjaPVg/+p78T/5fIUDNMbOccasJ5hwHaeNODSUAJDlxrwZKe7Ttx5sgD3Hh4eudiPDNlKbQiBafuhEasM/LLl6A5LyY84aQNNb7TN1cWdP0Hj0jn3htYc3c7E9uUyTA2bt+ceA3HcWZ2FC4ehnxsL8OE0Lhx+gtXZdw0m/SD+P8LCh3+nF0w7j2D2wpCu+4iwdLZsmBH/fo0v1tbDsAF9wCtT7w9D/n2VsQnLU6NGP/OIf7/6dNDq2YGNhWmYPpIFOy/7sOwELzPA8kzqd4BB4Rg5rH7otd6DpT9eO+xkH3y67yTsO/Hf3WXGNocc9Uy6FfH6m0P1KvYsQ9HAYsZHiL8bMINHCLhsOJlcgyFFiH8BU8udiFdwBzaXp2FUpXkDJhZ+jKThZeZ9NouNIyKrhVivN2AsSQ7g3dSTh9NvWvAePfFXCxcPt6PHUk86/Sf+6bbm6VS3vx09XoX6V2RDD/13mo+E+Kf6Rs1XFw51TrV1pMo+BDuRKjPU+7Oo3yEGRd8PoR8OfYwWybwLx2WHrT7v7jpWfQI+DSzx54AWft55AgvXLkCSHD25KJQlV+mN4TkQsSoeBAeTUcoP8UOjcm50FN5KMnag1KLzLRgdfeMQdPCYJ6cDEf8d2Hw0B2NDfOHQp4lksw2zY+eCEJujx/JYJpxoWw9j3B49XuHYOv7vQvzjfbABj2YvwdCRzKmxsg9qJ2JlhmPiLOp3iEHR94P2Q1H5R/P7sdjhgOudAL5vRTxm4n8LFuanFVFIhsZgemkddnZp9RaGPGzAauOa8arib8bLtvkIGhNI+k169dd4b0z85gVD2pLRCZhdWIVN1WFk8KmsP8L60qdKlqGJBXjGQ5K4FxFj4OYwJtTUNzoBc8ta7l0bH0eyXICJuSVYt6FKxvAI8T+AR/xoDEd88tN1oVF5Y6oJX0wgsU97/ZX3dfQGNGYvBcQfY+brMDFqQk6SczA23dL6gLr5mY59v9H4DK5hmtFpWN78Hyqe2MaIGyKu9Zv02un80NgU3JmaiGzHO13DvOiB/4nrNMU02/LNeLLEfx6+tePtAlxbeKLGpsJpcxXmMXZejYFzMDb1Baxu/tWSfjcWcSHe0THvSCAWltxYHf0IFtZfGD3Asw1fqLMFKu/QGEzNm3GaidOO0yEiwjQm7fiiif4GLHzbMP0wBKPX5tmY3IBVskG4sBubhvnVDVd2YNzVGLfj/wL8euJXMES2aDd2RgOfUd2I1SxMXf7UnN/I0Q9VViRfxyxwUm3NwpDL9BE0vvgIRpMhGJ1aMnaQj6cu8Artn7XbrJ6xW7BgdYfp/C7G4t6BqbG3YGz2d04XbBlGlqh+YX/zMyi96qfTl531JZijOWP0A5jABSONh7C/rczu3IuLFc/TK47rLvh6kwCf7+K2x9fLZPQaNLhe2rMJ4TzE5zVjL+wYTyAxu+z5bSASTfNYAskwtpXOH5Eesd+VPtLOF5FH/D3cSYmVjeeZKE+OncjUvawygz6g0E3VFhpbgT3IrAPLYhwEbdSdKbisQhrDevLS0hjoVZ+C8Z1cgInGIzeGM8dMTLZd2PXSD8HoRANWN3GMdNEPahxmzGuWA+X0I44xr35uI0heX/9Tdtnrp9AOUxn9/WtZ9Qn4cLzEf+gDaDz5yYVSWILNYs3MMx1/TGEUqBSfwtQ9c6DOxkZzj38Hlqd+4RYIuy/gSeMDGErOwaXGnzSJsaE3w/CrqXvwcP1H5eUYnliADR6fbOWiMjX580OB6Ld3YXb1J9jdWICJITR8JDMqoSNjLhSiv8oZn2REhjxcNPFfhhcmBh4XhhuWIPwICxMX4FLjj/AED3VyD5nSASJZpB+oo+ssthh3EW7D0vxHMKrGw3/3ib9a2F5mRl6PDXfeAPX6owjxxz41dQ5dg4UNQ3yMXro2YP5rcI3Ck4gkDF2C2UcbsLu5BFO4KLkwC6u4gFW7G6NmAfMC1hcCImkXDnQ4mCYSJNVz8GjzpQmLGoILs4/UOFTjaNgs/O3uHY6x/zcHJ1o0kO4SaeWHomm8nYOx2TZsEh6JGaPGJgyPfQpL6y9gZ32eLcAcUXS6YfCkRYtdcBjCY+0JEiUjh3r2BrM5f4LGB4b4Z+rHJuzm5SM7QnXs7kImhl9/4c6NoO377O9h/tqFjLNTRXhR2JtZ/JJuoBzPyN5xUkuEDG3uP0HHhsyhLmjMdwlDpfsvcvVrg51BscSZMO9WP5XMw2bx53ao0gRV65WedzTBVTab6qNFr1rI03xFekU6SX9zcIse4DdzVTgGaRyb80R6PO2AxdA6JdAmoZOCkW6aj5D4d9UGGrdmTrVzLGLB9ej/0bbLLrZNm7GOX1zWNsTaSsIjKFv9Ts+y7EQRhpSfcwCqj/4eQL9f7oLSBdJTM+Y+yCD+WWlpDiFnzMuu+sKM76HQjhluUWSTQ/w9/SF7nICeEwjHrH7YNdwmNq/9yM50uTGux5Cz93ZeMnbU2l01prD/nimulm2XC+xw2N4+fT8BfN+KeLzE33gf9DYN9w445aMJlAywnTB4Z1qjxAa9HVDsGZEamiRoAg2Nlio7LYMl82zCdaSAJjmj4FYm8oKg8SHDw0MhyCjJX4flYGFBxP/lLk2oboLXBh6J9Qvn2TaH4fTC0C38tJ6TPpJ+ud91+42OoI4p7+67vrfdnJGxkz4fB5HPetywOmhcWBKBE/SHbmGQIu7Gg2jSu/YaYhyWl8pP7aR278KuGRt6ojELGbaYsmNdPaP8rA2Rdtqx5Y1NhqUhWLoPTFlK9rfYmQwicPG6UljuEhmJjHGSQ7WVJmxfr3P1Iydfuq1FGBocqM+j+KFsBXiR88SWY3TDa6vzKit9Jv0wNlfjz/EyhCrRdvOvSO5t+bjQNIe06VlKv8jDrUluvn7+qyYmVJbCgcY0I8khPqk6s3Dy2+XsGRF5WoAHuIX1mQUhLYzVTgcusI3caT0kYpiYBbqPiZKD5iN7rq6oDTTu2Lgl/fDwQ70xGLLnKOMv2Jh2WGD6WNmRZ56dKMIwkj/EleQnfbXRBTTe8+tQukuLsVTZ/tjOTduzPhl8LW/ZNU4KbbvydT50YJDNcnPYrnG2+MSf9bvXD6RrhBlFaFD6SD+EuheUt0tOVtKfAruc1n9qU9b48/vG18XD+82y6hPw4cQQf1JOHUYQbHORYnFva+yZGXDOE2KMn92q50pACuy8d3rSct/jCqS3o6dvfAC/Uh5/roxUnxD/OHYc/8H5jP3+hrre0h3i1UYSDfJbxnNN+kIG0MmP2+r3VFgPLm7p96z0RkeG/gbGfuW2gx1eToYEt3tnm7BsQ2ZcnTa9IU5aXsz7H+BXo2/BEO1EbSzAtWtsByM1KXES8ZNZ3GgPqAvpYYv2VP5IO2lsKhLixoRfHhHISP7opGvKYZN6NpE1Y9Lag7A9fMwSpiSHTxC1TeDpQzlopycBFWp4b5mFGemy4/qRly+sowjDMD21KfybTpduH+ZBG/c7fe0seukIc69fqWyfFEbLs7tQX8B/U7tmYX/k6Vcv+vlPejfNkl+UkefPuM4zpdPd4kQY0N8M3AJ91sSG6xTlx7+kh2RHzG+0QFJ9EWlTqm+K2hCrJ51H2xmySUQGcSF6mS2oufxZbYjUl5IZ82ZhGMkf4FpoD2z6jDpohwtD5SZuwT0K8bX5WDvz0vaqT9S3nt5SXdTunDHjyUfODd+O2fkipl/RfsDFR5fzWpjfm5Mi+pBrl//JzEG+/FG74rWb8Dq6vyeA71sRTw7xV53I475oq8l5EB2pynhmFYqUxhiyrog/rSpxK5s8N4ES0XkDjNXuLJktdm7AqT4h/s7QBBj2ebB2IwcaFU38KdQFY4LfhVuN/8C8k2SA2YS8sw5L02MwhPGgn30J3y7cgOEeiX8S9TCxeGq1PZo+d+DaZQy90tl/gYWJyzC71FRhaEMT8/D9wkdwyd5Bvwu7qUmJkwhD/InoxfoqlT+CizcR6DGRHfoWyR+rN+LNK5zolaysv6Llkn7ShMk8ZdZjGBnjHkYurlctbtRZjh0V952tH1hvRr5UW4swNHbHk4naxf+m04UT6s56C6bHzgGeLflsYRkW8DpMKtfrVyrX6I9JE5an9NTkG576Gr4vegdCSr960E8iUMxz2i/in4tboHf5xJ/0MNRb3nccE7OYSfUNT6/7yu+b2LhL57F2hmP7MthFDNoXX7xE6gtkzscwkj9Vb1p+v81IZnP0G8uzZ46QaDMOkqorJ21KhwvkImzziD+NwZgc3jPSH+JANE7pbwTHoB/wvEq23eoiv905NOGkJvTI8qpcu0zyF9lhak///lpWfQI+nDDibzqR4kJJ2UkxLanCdMbTRJ5NjMmjGFHKRxNoV8Sf5WdlWsNn65NQH4dJ/wbdUdaJk4Ml/njo0l7dyeMWQ4NHC0VnoPQkQxN2mJ6wcpPA0vcm5pzFlYbttPGR0UlBl2m3Rj+rG+8+eWFxV+GSPpNCk0NqUuIk4oU5j5NeaOys/xH+iIfDUvkj7aTxqmQ2shAZJjnQs7f6J9iMeaBsGsIM/zrc3IvP0s+8id6LsWdl7fwLrP4xPOBL/cnOCHVN/KlsOhOBC4X/YbDM0g/Kg395PjzXFLarCMMwPS+bf06n8/AiG2eJs0/qKYSLDpAqXTWkRe84UVgAXyiRXUVv8b/sQ7960U9c+L4BiTeeeP6j8vib/snCLdRn2gGJvsOG9JC866b/PJyJHDFy5405zFPU15FxG8nj7JEJkzEOkewwH6w7VnbkmSdzEYaR/CGuEfl70m9enj2LxDDmv/PPYdqUjSzqC9N2T29p3JI+5NhkLosNT/TtmOvHCI5eP1B9WXarKL+WmxZYtMvrHd7NtcsdYyN8+f1+JGz6+/cE8H0r4jEQf6PE6Kk0ZEV3Gq6gSZnIcDHv+vrvYErdHoIxa3ob3B5wJMVUhPwJPPmyBX/cIYJGq3JSWDrEwncFOIEjZYnIYA8H4ra9uZVk5wl8Wf8Snrygly/p+txBNFY2rdzx9pDM+EeqX/46Y3ScWBi9sZM28/p7Oz+kLzQhkwE0N+LYWwzod0pPCwHTRtIRszjVceCob3jjD+r+JixPfwSNJ+Zwq9lSztUnKtMuWGlsUEyww5cWx84DT+PVjE3yzvDbrHCna/qePvxrJjXcTXiyfBtml9fNgS/WTkNs6MCwbiNun9dN2BLuaNyD6cYq7FD8p7eod/I6HTGTJ/bJkyWYnV2GTWq3XeiTDaAxSWSF376FN3fcggYe0PcmTPTgmYPOdAuNndC190/FZFOdpBsvl2H6A3oJIeGOOrButqwz9CMzH74jIt3WDfXCwwwMSSaLQww/Fk9v04V4mXqV7fvJ3cTE2qpeQGd3qejckyMlZOvtGRVy4pB+F+jXwfST8GcHD+lAt9o5o/nHx4fqtGMshWeIk5/f9lcWbqGe2XmGnw3Bxd8tmMX3iNjDmeaANC0MLTEkeQw5Ig+taqOZdwvbQPYLdXUVlmdvw/LGt/qleFY/gnbSuLZ2JvjdtjNS9qY5f8HHOZWnbG+B7tnFBJNX2UsmQ2Gb8+t4ufwpfEAXg1Afke7btun68tL2rk9cb/GCBB23v7O+ANPKzpmXR2bZ5EA2Z8eMxx1/R1s2XYflwn6gvsuwWzF77fUjzZ9v5bz0sMAud2OHwzb34btl1SfgQ9+JPxl+vdIbhrE7d9itE9oofe9dO2gM1frXsPDon/QWk7p2j4weDrQX/5u99w+N+8j2Bfu/bf0h/7EKhGE3QyNWGDNcuGE2kAYJrMWGgC+vQU/EmHkTvPM6ixRwmICg/xCIaxDXQxu/IIYQxN3G4LuCCRrSELwgPNcPzUsufnE2YrVzSa5BF/HEeyTY1+5LvyEQMJzlVJ1TderH99vdUqvVLVXA6da3v9+qU+d8zqlPVZ2qrzmK002NwFw9OnaKcqbtcYw808O5cYKYmJk8/s0OUoJjqMxghDs57FSqUG8+gE11qhB3Mv/Vy492Z70CkjEAoKY6RacQ1Td1BNxhmk4JO9a34QKdSmNmOs19Gi9f07IxYh03pX/SeF+/Gbc0A+WSwBaXawaw/Nss1Jur6oVa2l8Qo7vQXKhA9daSPZ7SHMWW1R4aZDC5wraqTnDcnKyDWHB9E9PRVmG1PC6OytWzW85xiCrflQk7dSDqnRp4RNtvoX6d34yKbSpBtV4T7WG/En6qdMhEPN9HXfzyrDj521cbblwZ/yXUV/HUJdYt+Z9zLJzOwzfH80Yw4cxUFWfgg6UrMI6pXPUm7JrBP9cxC/WvPoGF2SrcqvERwHZ/kizLxccc1B+sZz5nVwA4tuAgMEOHvkxZpM3HXlRf/8nGWXU07To0lvDNzHQcIKc3miMyQ31qjBWhdOWKPsbZxw+uzMrjNsXvfcGn7CuUXy7AUuU1itl0LLOwu19n4fUylPnt2oilqJ7otDlTjuifYnrzCaryz5xjo/F3M5GgsebMmKrfxbGveBTog3WojtOeoC59w6wm4kB3ow7XnXbL07M47tC+lAwyLP3VKXtzGzbNG5Sz4sRfw6d03DaeKlRe8LB30LKncvHA3OhfTvKRb0btlo/vB433YLa6AjVzFKx3xKqoD4l/7N7D4ynDv+mo8CyfkTqX3+P3P3FOUcuK1z31a7F470yYcKzETzHQ7RCXZexEzufE4Rb3294x1MI+Uhf9+j4CfN+IOHDi3y8lp3I42KbPhIWEgYSBIcAADx5y0s408UmTHqcTr3qlQR+HPQR4PGaidzptOAi74QDxLfWOF0eHavXvCtR3M1LuerUnrjTM1GG31+cOeb9h1SPwJRH/QxrZAWwqI0yLSDpJOkkYOFsYSMT/bNk78G9MCyyHhC64bxDkMtUxnByF0paikwPfQmPuuj1a+ki4wXShCsya1Kzjx8MI8H0jYiL+RwLX8YNpOJ03tTvZJWEgYcDDgJ/LG8RWzj3nPRbe88H96fdRwpjaq3OBXvSXbHnGB4FZvst72zidk+5T+1Au9YeoqzShBajKNxsPAI+GVY/Al0T8BwCIUQreSdasgJWuJ2wkDCQMJAwkDCQMJAyEGBgBvm9ETMQ/Ef80M5EwkDCQMJAwkDCQMJAwkDBwSAwYVj0CXxLxP6SR04g3HPEmnSSdJAwkDCQMJAwkDCQMnDUMjADfNyIm4p+IfxrhJwwkDCQMJAwkDCQMJAwkDBwSA4ZVj8CXRPwPaeSzNppN7e1mBgdfPHUXblXLUMw6L/1Y8YZnPdehWp4A+wKubuQ+vntau024g2fYn4g+8tpFL6IJ5PLOy5YvxYnabhA634ftRg0qpQnx0pss+fPaPBy/ISbqJ+YjJ6EDjAsNff579DQTlkmfPz4svnsaY/4gsDeIOrqzTcJTd3pi/zva5wjwfSNiIv7RzvxoABgk2FJdg7DVt9B4+wNoPu9QFx9nqF7sE3vBTYfnD4VFKxu/ERJfUjUc5IFfpIIvOjpufSA5rndBrvJtoHWo3+DKLxkyb2w19hmszu1Lf07i/Hvb1r7EGn576kB9JN/mfWmXwUakLhkXcol/5Nm8ck/Nb3ja0wIsNA+OYbZZlN037OX4RN/qOKtYGN12G1Y9Al8S8T81wXN0HebYO94j2liRwa6JK5Hdru8/mt0C2Xbr6s24w0H8sW2D0AcfE0lvgTw0uaKj5jrY7iR0flIvvgraekRf0r4+CEwcza/6HpOY/B8am0PWnr7ggNqkyPIUVI+D+AdlHx17nX3i6HX0HX/9tFcqKzpAHQG+b0RMxD+BOAriFHioU1JvE5zoYcZ6gEE/JtuZJP6SQBShcGhydaBfWZ9H/E9I5ydC/GNt7Uu8HKCP9EXePpDuRPwz+pl9eFibgWKhdAzEP1b2EbHXlU8csY5hwWySIwOz8XhgWPUIfEnEP4G7J3CfqQEBB3lMS6B/aiZdvSCkAiW+XizDwuYutBSWvKBPRFw/P0uvI8ec349VLr66XixDdX0bDtTz+7Bdn9Nl4/XVKswuNOG5j9Ms2QzxX4cHXE5hCuYaOyRfG9oH27COOdZK/gkoVz+G7YNWgAObYoLt5zQTIsfqWd2e1u4mLFemjI6K5fdhc/cplefqw5bJ5dHvojyFsS5ldPFIZXUk/pG9GI6dyN7+AOAoOm/vw/b6ApSLuuxieQHWt/cDnZv2OBibgiuVN6BobBCRv43X6lApFaFQQJvWoDr7vk5Pc8oqQMHBa8Zze1tQK08Ym9r0Mbw/hl0p0zWof3wNSoUilKqbhGvZWTImrkPjActchNLcOuy29H3ZmBL1lJegYTA+AeWFDf38wTY0blWhXJyBWmOVdFIAF5c5foD6quPzJag2NqHO2C5dg4bBdc7zylflXpEilK5c0bbPxCamqq06+3Nsrni2ngxeOD7k2lragL+7uCyU5qAucYm6xD06HOvMnpcwDrSlD1E789vAxNzG18I4tpX3STGOxO9KDo4dtM/Fjx0UR/WAQjyr/PkI2Mvyf9a9+TxCHSR7V30A3nvw0OCzWK7CarVCKVOHxVNnPHTTdwS4NLph3J2+zxHg+0bERPzPACDPohP2r80cxDlHndNKLuhX0x9sQhXJliGJ3v0qMM9CRbxFUL3hcpwGC60daMwhadblqWXk4iWo72jijPdeihF/hVuvLrzGnS+Snof70Gb5puiNmq0voT5TIpL0FHYbeQStBQcPlxVhcfPcv4L6zBWS8VtoVF6FQmkBmgfP4aC5oEiCTTXyZWT9ceeNHQCVUaCBUU8yyg6E6sokV3RvZh5uFzP+sdSlTjpv4+vjL8E4DYh474DWWTjgarf3oFm9AAUmmoZwkM5i8qtrr8IMv6IedXgJiT/rOwOvmc+hrnzbtSETu598DNVxJlkTMHPr72B9bgqKM3XYITJvfZLKxQFKbQsOuL0FvbfC4CGGKX47MJI9M4BhAjkBM/XfwzriUZFBHgwIHLM8mRi7C83a62bAw4MF5ZcF8cbhzOdxoNMiP+ABN8tXyFyN0uVr/enJhYdQm8JBHF7jdvBbT1lPEvv4vYOtg75O47Lox4riHDT2W9BWbZyAYnkZHuLEgMEhYcn3Wyyf7YM+KHGa2QYm7zTjzysj1G6Lo7+GzXWMVd7+JazjwqyOdUH7vLLV70fAnnzexHvfBsJvDoPvdhu67wM0HqyPoT2vKeJ/ODx1g4du+46YXk73NcOqR+BLIv5BsDjd4LSdb2pnd7rwyQ8H4EZfCwAAIABJREFUR+oc2z5ZFPerWdPX3dn2NgXrSgP2CXscpJFcP2lWYZw74o7YFHXxxmMioZZ4k3zUmetOhWVvQ5s7Z+7sgzqJlPPAAX/fb8DcHMnP5IDbQx23rT+UMUxb4dlDWkHYrsGUlKejjIxlqqsT8VdtDOVqB7bkcuVn5LkOOtc6fg0qjW9php8J3Kvimq1D40H+xoRODpY8OZTemUjbsto06CgafXp4zXwOy/Dq6IDdfb7f1CXlkN/9ctugMUFt7oQpJofSzowRhVMXT9rPWee0cTsXY09htz4LBZl+4tWZ60d7DxRpdwbLkhAHPka6CXCUpSeJA6nXTrFJ3sskXQxm2jQRQPYLcUgDP1y1ytKzp6cQQ2xrbkMOOQ9wRLFIXEcZL3DsCfSaU7Yg7j1hjzEung/7kSy7dYdvJU9XfYDGuRmY+e3vFU8Kox3wIHTfue/w8ObLd8r+HgG+b0RMxP+UgS8MQmfL+frf/jCI6zpwKf+3+uhOnJ0yHQHdX/wLKL8RO1aTflczWjxDSp9IZHiGHtMkKktwp8kpRDE7RmQLgr0kQd8RofHqVbJwGpJfD5NOnuVDcjEHc4bE0v2YYnDnpklfOjzxP4yMLDPpQxLCTP+O6K7fxJ9XMMgmevZW6p7JD8uPn0xWXHuEgyVfflolQFuWKlC70zRpM/l4zXvOr4P+zsJuV6QI2+iX65NB0kcWpgJyifdLUriv92qw/hUGGMdIvnY7+AFjUOSdO3WyjaQt+fss1D9dhbJJy6K2OM/TNR+bge92qSe/HCTw0djk1quJfQyDeB+3UegA6+EBlop3MrY814PaoJ2d2hCrJ3xGY5hXUnhQjIO52ejgWd/fXdmhb2E7u49nui6p21D+nuroug9gfSD2pqBSW4OmTEXrEU/d4YFxLj/dWBXqQ+rm9H43rHoEviTiHwTN0wvMs+qQR2t3GMRbuxuwUMYl8CrcajShUS1lEv9CMHOjy7PEOII3k6OMwTUrTxqfC2XjVB9bvuycidCYQUqk7pg/UEekZjCx4595D5pmT8BT2N18H8pFzCtfhcaDdZXyYesPZQw7wT7IqOSmuoaS+HsEKqZndc2dmWbshjoL9drGfQSUJ64GGSpVpgX5eEUMxJ8L8aXrtLb18ROTyb8H/w7vc9vXAVMBucQyCUNZhLTNgwu0w54m/pl+ECGMTp30e8bzmkDJmdM2tJ3nYzqxaXpWv530FJbT2db2mXyixzj0cStlkn47COIvBh644vAc03ze1mlJUX+K2PGo2Is8zz5qP6WOtL57wje2pes+QOx5UQNynqDpHU/5eMjHvG27xddZuzYCfN+ImIh/NGCcXfCeNWft3F4/iPupL5JwIG7s/ZtfrcMc5v+LnH0zM0mkzNb/FHa3v3Q3Qpr8/6wZFVuXecdAMMsjO+ensN+YgyLtJ7B1t6G1+zl8bsi8j38iAcVLcGv9A5itPbQbhf3lYSI4eeQl7GD6IaPQ/bARf9JRsNG19Y+w/bm/wZdnpjFf/UujZ5c4iLZGySfv3cDZ3Kbeg2FStXy8SlvL575ysKzxRdjPxG4Ej9H4Gt7ntK8TpmIkmmaidXqNxBMRUkpTKqhUhX/p4AedUn3YRoJkUTuVH+2sQ6VYcPc3xGT2dRP4bgc9+c/zqkdXtuZUH09OUya3kWfXCSeOnnlwIOJT0M5ObeiOnNtYRelMhddhqf5eTpoPyttd2T1hT8R3E3ONztiXOrS5E75leR37AK4TYzj1Nxz/esWTkqsTHjIwn9l3WPmsDU/nNcOqR+BLIv7SydL37FNGzqxuKIgjYdjZhFptFWrlcdp4+Z094YRzH52lcJETK8iS2iBZxFSeFVqaxVmbO7BQ34anzffhkiF8lIbBZQc28GVrwj7mLjsb4Iis8cZJyp/GdJBlTiPCDcgLd2A72IRpA7Qm67gC4W0sVJ0Ln8hiT4Qw+c2sD9kGp4Ph2V1eOp6F+tefQ31mQqWs9CKjSUMwxMfKH3Q6MbmYOElZ+6FzzrPH5fjlTUrBwdOblqC+/V3oc7zUz5tXTeevV4CmcODly/+8CQuXeCMtpwAgaWtCPQ+vmc/hfoQIvnbqMJOBXSNTdDAibMGym/uYZNIseSdMMbk0q2m8eZZJCRN/3vPAm3vF6lmuHzChFbPdhFmd244zz7hJPgujnD7Fm3J5QEUYz8An+1jgO1l6ysKm2hQeiU3B/UJOtckabYSyLkGtuWfayBuc9W/XoGQmMthuNEht7cLmAp8WRhuZO9nakHPE6jY0azehua/3SNj0SYEdbAPbouANSoL2MfHPK5vb0CX2Ij6hT2MTMnZqcwd8P++6DziA5sI1cxAEH+TA+OkdT93hode+I4i9gZ2E7kb4txHg+0bERPxHGGhnxaFOtp2209Yd4H+h1BbsxLFjX4fGEp4CUoTSW2V77B3nzTcx35dJLRMJedQf/mYJIQb92eqKfgMtPucfr+fg1ZVto34Nxk1dePrFKqwi6TPX9Myce1SiHIDkBGAmOj5pkZ09EtVP1mFJnUYyBZXVJaiYk16wnTwzyESN2l7fhEZ1ytnT0KuMetaO9YyfrOtIm5g4Sr2ovGz5vHd6iNH74XSucoaXY8ciRuTDkz0onUzZrjgDHyxdgXE83rXehN2nTXGCDso8C/WvPoGF2SrcMkcvTtFJUnJg5eG1Uoftvc2M51Aut636iNYM7PoyGbLqtc/X/fgvob6KG2lZ9+NQ/pvfWQLpYwpPx+IySpegwkeOyoEsp/0U+BhULNv6GMeTOMae0P4AlqcE1XpN+LA9mSf+PB1jK/0C48QH70NlHNPh6m4eNuEqwO/rZShL34npqY6rMlK/HWwdm5X1j/909OgfWYpHonrH0JqTfihWqVQ/yjf/asPFaUYbzEw12nqjDteddvNparKdnSZE7L35ZR8Ce1GfsPWZlC7Gc6zNHfC913UfgMS/AtVbS3RkLcbyujqa+dB46oCHXMw7WBQ6OSPXDasegS+J+J8RULodxNlzytT+ZPOEgVOCASb+nNIQxHCe8eeB5ilpd9DOs9ouPUs/nnmaz1nVS2r3Scb4EeD7RsRE/FMw9WaNUvA4yeCR6k74SxjogIFE/M94zMb0xbJ+j0rqv884FjrEigHiw7DqEfiSiP8AgZE69OFx0mSLZIuEgRHFAOd4+2lnJpZ7+1rM9RFtb5LfIbdqj9QFeiFh0o2jmxTTTs7HR4DvGxET8U+BIwWOhIGEgYSBhIGEgYSBhIGEgUNiwLDqEfiSiP8hjZxG1ic3sk66T7pPGEgYSBhIGEgYSBgYFgyMAN83Iibin4h/GuEnDCQMJAwkDCQMJAwkDCQMHBIDhlWPwJdE/A9p5GEZZSY50oxHwkDCQMJAwkDCQMJAwsDJYWAE+L4RMRH/RPzTCD9hIGEgYSBhIGEgYSBhIGHgkBgwrHoEviTif0gjp5H1yY2sh0b3+LKTehXKxZyXRQ0dvvZhu1GDSmkCysELgAZl0+OSQb9pdrzahOdS785Labp8YZl8Pn1PZCBhIGEgYSBhIAcDI8D3jYiJ+OcYcmgIZpJxCAPOd7Bdwzf24hs+R4f42zc6jp8Y8e9WBufttf4bRbv2CbKTOvqR30T7KlQa3x4Dpr6FxtsfQPP5oAZQqZ4UoxMGEgYSBoYBA4ZVj8CXRPy7JhDJuYbBuYZLhuewW58dKeKP+tPE++SIf1cyHGxCtTQOpbl12G0RYS9egvrO094Ie+sh1KaKEKwCHIPft7ZrMDVeTcT/GHQ7XH6f+oJkj4SBhAEXAyPA942IifinTqo3IpX0JfSViP9hg3/+4INm6Ytz0NhvaX0TgS9WGrDfCwbpLa/HTvwPtqBWnoBCIv7CP9yO8bBYSc8lPSYMJAwMOwYMqx6BL4n490Ii0r1ns1M/2Ib1ahmKKq0Hc8TrsH2AhFQQ/8Ym1CtTOvWndA0auzwz/RR2mytQKRUpLWgCygsbsNtqQ1vuEch8vg1tp37xvMHjPmyvL0C5iGlHBSiWF2B9e9/ayslxn4IrlTegWOhlxr8PbehFBiL5hXIddk0bI4MB8xt2irhvYBWq5Qma3WfbaJ3olKxCdOa/tduEOtp3/Do0HtTJVkVabeAOl/clsB2noLK8qe3IpF/hQ9d37AMNp+0sY/ocdnKQ5EsYTRg4nRgYAb5vREzEP3WgliAmXYS6aH0J9ZkJKJaX4eHBczhoLkAJybWaebbk0v29CFO1h9BCfe43oFIsQqm6CQftPWhWL1Bq0LdijwCS9fdhc/cpqHSRgnien6HBRGt3HebMIAL3FjyBnfolGOfn+ffSAjTV4ITq5MGIIak9EP8+t6HdSQZVn0/SWdevQ237u8BOWm8R0t1pxp8HGYq086CK929wXU+VjovFGag9xAHVPjyszUCxwHbFjkxvLE4z/qezU09kLdk1YSBhIA8DhlWPwJdE/BPZDUhUHrjP1m8t2G/MQbHABBBn6XegMTflEX+xuZeIJqektHbqMFO0m0l1igvfz2SW/25Dm543s91eee22N/OtiOtrYrMqk1ZdpybEtv52m9vUPfE/aht6lmG3DuVCFvEXuvJ9N/ZcJ+KvyghJu5OKFEszogFhwWAjLONs+UoiBcneCQMJA2cXAyPA942Iifj75CH9nQYCBgNMomehvvs8opcuiDuVhekkd27h0Z84K83ktYvnA9LpPUNkl1NZ7CcS+3+gzceu/A6pNW3tHLAP1waWtwcZYgTepFWJQZgve+y5fhD/WLk8ADO2TMQ/kZ7OPpR0lHSUMHA6MWBY9Qh8ScTfJw/p7wjBPZ2O2jkA94H4t3Zhc6EMxWIZqrfuwoPGdRg3ZJFJMQ8EIjP+bS/NhGeaeeOrIqXieQe/LL9Llnsm/kdqwyFkCAY7iL8DaFZLUOB2O+0kfMYIeh+IP6cRuXn7vu0S8e/sT2c1jqR2J2wkDJx2DIwA3zciJuIfIxDpWiL/CgOcFjMBM/Uvdc6+gw2f/PnEnZ+3xLvnVJ92G5zz7P3Nu07+vehcWv8I25/vUaqSK39vxP+obeDne5GBBguS5EcHA6K9aJdjIv56nwbv6+A6fRkT8T/tHXtqH2M/fSYsJAz4GDCsegS+JOLvELkEZh/MZ/5vdZ58EQpmYyfl+S+sQPPgv9IGXTHjThtTC+qFUTwwmIK5xg60zOk8nHPPs+FZz2NduLn4tZyXbdGKQEGcMoMn3NSXoI6bYI38ZVjY3IUW7VHQKUFyE3EW9vvQhkPIoPcVTEC5tgUHqj1zUOpwjj/PzPP+CoVdsodzzfd5GlTYjbk8WGH98KoL6VANxnCT9atiQEjEHwcrO5tQqzXhwK8n/Z0mFBIGEgYSBk4lBkaA7xsRE/FPTngqnbCfA5bW7iYs81GdeJJLZQWau0906ok5wrEE1XpNbUo1efblOny9uwELeL67mql/Hz5pvA9T+ExpBsoledRk/Pldh6jL+5kU07GgyxV12pCq23vLrbNiUJyBD5auwDimHtWbsNsiwlqgwUnEH+TzePpQz23wVy0CGWKDjhYcbPPRmqivOajLI0o9OfUqhtBPeRU+VS9XE9dMipWoj1KBjM3Gfwn1VXwpGz/Hm6DdI1MLqL/1bUHu+a3A9oSmfmIwlSVs5tk+6SbpJmEgYeCkMWBY9Qh8ScQ/dSKJ+A81BvA4zreg2txz7aSOxLySsen4EJ0AzozPyHPzD1HGUOsxteekO8ZUf8JgwkDCwGnFwAjwfSNiIv6JrLiEMuljiPTR0u8NcF5kxR3Ht9CYu27fbHsku2EqSwVmo/sYuL70eVo7rNSuhO2EgYSBhIGjYcCw6hH4koj/kQjT0YCSHC3pLx8DvAdA5u/r1J7NhUv9IerqjboLUK0/FGkryS75dkn6SfpJGEgYSBhIGLAYGAG+b0RMxD8R/yGa4bZOlAIK6QKJeZ3P/9d558VyFerN3cgpQ0l/CTcJAwkDCQMJAwkDg8aAYdUj8KWvxH8E2ptETBpIGkgaSBpIGkgaSBpIGkgaOJMaSMT/TJo9NTppIGkgaSBpIGkgaSBpIGngrGkgEf+zZvHU3qSBpIGkgaSBpIGkgaSBpIEzqYFE/M+k2VOjkwYA4OUebN2ch0l1Zv0YTM6vwtbeD0k1R9DAy70tWFuchrFzi7D14xEK6vTo3hpMFyZhcetFpzsH/3vPuPoB9rbWYHH6FTi3uAXHo7Zn8HhjBeYnX4HptW9IJ9/A2vS5Y6xzwKrPwMTLvftwc/48vZviPMzfvA97L3NkQ/utLcL02KDw9RJePN6AFZRxeg32ckQb+p8ybHBycqNufwcfDiImRRs5CN+OVpwu5mhg4MT/x61FOMcvx8lx8pdP1uDiWAHGLq7Bk7wgJRr38skGfPSHIewIhYydvp6GNnRq46j87mC1MAaTV++5HaYK8vyiJ/y8DGt7x0Nb+q+zP8PjlZ9D4fwKPH75A+xtvAOThZ/A/MZB/6s6cokHsPGL2vES6aiML+HZxg24kUuuxT0vH8HK+TFNsPpK/EUdUTmH6WK3uLI2ffl4Bc5Tn3BcxN/68jlB/Aekt2cb8IsbxzWg6dAGhclzcH7lEbx8+QQ2rp6HwthV2HjmdapGRrKfsseAiP+zDZgfoziawwk6tPQEfj5Jv7T+k9vwH7dg8Rzptq8xKa9WK9sgfDtPkvRbXAMDJ/4AL2BrcVJ3jjlO3jPxf/knWLv4l8M5AxbXfXj1NLQhbNXoXzEE/xW4uPYncLtM3VGOzW/As1FqKZHU4yJa/VSF6jwG1mkJyZWOzufHlOAePYtc6Ke8QR1CxmH72iWuApuSjx0nHjX5HzTx1/HhONuVBwFNvDoReF/GH2Fv7TIUBrmixAQ1hxPktfNEfjtBvwz8J1cBxxCTcuoLZBuAb+eIk36KaGBoiX9E1uxLPJMxyECVLc3hfjkNbThcy4f/KQxck2/C9CTO5v4MFre+FzLrTvKkOnYhSG9fqaMderlf/BFWpl+BvhLprjT1DB6tXISx3JgSu6ffnWysjq4acDI3dYOrmE0HQA4GT/xfwotHN2F6rHBi6US6zXnEPyZjIv6dnecE/TLmP7kC9zsm5VQWk20Avp0jUfopooETJv7LsHHvhgqMhbFpuHF/T82m2mXZgujwn8HjtauUj4xLVzRz8+IRrJn8RVrS6iHlws1/9PKcXzyGjZV5OD85CT/Fpc/JeVjZeAw6mYicSSyJOnLzzAXPZKj73oTFNcwzRQIpUkey2vDNZ3aZDtv05Bu4f2MaxjAlY+XXMK3KlMt4HLCl3iJWT5d60wAGruk1eELpZ4Wxt2DtCefC+8QfcxpXycZom1dg+sanlCIk8x3vwReM/cJ5mF97BM/2PoUbSHIV1t6BDZNvj3mad1UOtPptbBoW7zEOY00RObMKIxLXAiMCP5kDgBeP4R7mh5py1uDxC17z4LxpSm/BdnD+sMS98gVZL/muzCXeuG/9eJLazp2II+c9+GLjts4Hf/dDuIupC+J39Z19jzocEysCVWXZijt1jicxf8q6hzvZd2Hji7XQ15UM3dozo47vH8PGhzIHe4RwFbXpFvxoyME9+MLE+fNwdeOJXWFzsPgKTC/eFVgMjOvtYTkPlfk3YYz7DUDsEo7MvgLRx6CP3V6Ey5yi4+xbKIDsrwDLYpnNc/fheyL9Fp9MwJ/BY+P7BRibvgH3HuN6oczHfgfW7mL63RhMLt6nPifSRr6EfZWDCdk/MY65fn7Ikn5Xxu/tjH/ML/nxnuyRF5MAgOPFm4uwZvYdydgJAKKfHJtehNuL8zYNL1MWYWcTL855MYNSNFkGjCcYQzJt3q1foqI6tLtTDGRd82eW/2TKig9yTKJ9RyYuIi44PTUvJsXwHUldy5LtOHyb9ZE+D6WBkyX+ikD9GZ5tXNXEwiyPizxDuqaXLDkHGQPnEix+RJu0jMP6ga2DTl7ch0Uk4ZM3YOvFn+HJ2lswVuB0ju9ha/FndoABP3i/A4DJTeR642lMdkBAZQfPicDnzTDqdqODvgmLH/0B9p7hDOh5mN/YhxdbN2gg9HNYefxnauwL2LrxjiCmHXSQfu6sAQxcikxyLjwOAhEzSIA94q9sy501Y4jwIQMuD3RVetcrUBibhOl3P1JExqS5UfqQ+vscDYzNypC/8mCboZ9/BaZX/ggvsONhAmJktnjLJPxYHMk2Nn0THr340eBNpzWRP4xdhJVHSFq4M+S2C/9gIg6YE4u+jsT/sd5jQKR9bHoJ7u/9ABrvYzonWTXJ7bSsLyH5egs+vL8OVyd/AtMLv4Z/i75sYgg+jHHkIunB6sd8y7MV2TU/3YEHM+z/WDITLtY/Y8D6aG/29OsQsZFjxajhinUkbcVtYDxxbFZ7UBiLkzSIZj8UWDNG5S+k92AQqQedNq7a2Xh1TQzq0U5vKeLPuCWfY9lk3xR9DgCoXdbPtN+cY7zv3YOr3Ad9f19M9LwCFz/8Pdy7er6LfW4RTJAatL9IfLJ+xGcgI2MOByXS94VfqtjQvT06xiTuwyevwhoOgl7u0SQX98e6jXbPH+rxHU38c2T5Xu4pFPHi4tp/hC/Uih5zCtLH3hpcVPsK823Ocd/Gh7gN8tv9r13GQGEr9dWNiTi40HE1jk8Tk9jf1ADqspps4h2ReTEp2y98ufBvXzbrA4W++Xas3nStFw2cLPEnQmA7cx592sDDHTkHaiYITiM5aHBH6PyY9Qc7iw38zp2Uq2odWwCYO6Og3k7E359ZoJlPrDgoi6ThDjHaNhtsTEB8sQU31x7bWTKnUemPQ2kAbWDIqyC4arOvxip37DrQ284k6HgzO1lLDA0WVJ3U4Yk9BMYXxDXbLsKEs4GPB62i4ya8sdz2ef7G/iHkokGHIv7kH87eBh7EFOgZxrTRHcIcN/cz7tnPBTEJnsnuSJy6TedndQ8o489+EW5kpCbm2yoiG6vGfMbuCeXVbWa5erVnrI7ItZHBFSov1FFIkCmWEo41+RCbUjk+Ozg3hqEBJOscrzOeGXs2nrMPKDsxObFFAfCkj6mLZCMilf1cWIfC5Pmfik30HMNZVtKNqcsRJOePCCZUt4L+JvwrVkImdsRz5Jfsc73Zo4uYFPg9mow2y6v+VutcD0R4xVE3pqMs1D6W3aiABv5q47O6iBh5F66qAw54YoMx59o8JP5YgG+DLtodPCO4gIibRmb1xfefTrKK+7/HicOfuytpaoLk5yD1I/uY/4YxO+oXrlT6L1EXn3MR4Otovh2rNV3rTQMjQ/zBzHTi7LdOjeDRqiFKnQKcoxsCXyGD+HMgkmUSgM3yWHCPLVMeS6Y7frGsZp4TnZC5JoItyuvX6bQBQJMXLBvJ1r/Cs9+tw+/8Exu8Z9KfPWoAbSCDsCG4OKv7B3i8djnI4cVjHT9SS+9oG2HTIAj6nYUf+CmQ+uksvBwdNCUSeLEPpZNTmOSwz5i/g3KYkPBg3LshaAf+zs9QexnTQnfaFxj3ndqOZUbaE60bUwH0Ch53YNjmn0UHR25b4raKyOY+Funo4/K6be7VnjE5ItcCnUTucezRqxwROxwKV3EdcZyzeORYivj7M6WeoC/5/2L45La7v7l2sLHV1Mkz+ZheM78MH23p1FNrdkyp+lt9NCLKYWZQaeU49pxvF/o7bAf7RFzPVoasb9xmEWtUKOkv8df9Gtfl2wL/dnWupY23yYlJDja5jQewMf8T0vNLs+Ko+v+VdTp6uAtZfBtw8UDl80ooxvXLv/ImCjJsHiPswbUu2h0848d/I6z4Ei8XB6hRfHIMHftLmH4zdmQulRf4FqU8dfQLIRrXxb6BPwX6P4pvy7rS98NqYHSIv2qhzI0Uy7wcNCTB6qgRcvpCwRnpmsdiZZqgTcEtuIcBTQ5DhR0n8QcOXtjpvLsKN29+OlqnyxiFD/EXtLsgr0pSEwwnYXp60hJ/XqLGXN8PfwdfbLzrzrgFQZA7LtFhM65UnTooG3LSSU08SyYDLz7j10t1ZJfLJD7WkUcGEkoury1OO7TgLvny7sdbgmcinZzfFl20GHjgIPh7eLxyWcysmpvsl1xbRWSzT9K32D2hvG6be7RnjBjErgU6icjm6LZHOfqGK1RdqKMAn+b0N8QfEX8f04E9+AJjV6xWGRLMBDviE/i4yZVHEmv7mJe0/wZzyz/c2IINPJlOypPxXNAuZSfh6yyy+YzoxvyW9yVib9PmvPpieoiU5WCHfpftzxOtG+w45XNhkvjjNbEHQpFUTG050IPCPFkC3+DyeTChV1tePr4JF8V+inybR3Tk+2U37fafQdGiumCZ8TPESL6sdD8Rf5NyY4rUv2f3Bdl+YYowX0LZAh84km+bitKXI2hgxIg/tZQ3kbCzs6P0RPy5c8BcYV7Ok5rkgQEvwVqyYwJ+UO9JEH8h19Cewy71OoLfsePwiT92Q7zZ16wacTqBJRya9ImON+iEIh0I40rV6c1KGfX9AHuP/xTZ9Ef3e5jWs2sWy9y5ZAd7bgvn2JqK9Re1TO4PmsmnuG7u+ITuXBLcqe1YVTcdiZVN22QMzi/fhuWcNB+b+pFlq4hsthr6FrsnlNdtc6/2jNURuTYyuOrWphxLkfj/4OYwCzu83PsavjabzfmHOHZdO8QILz+vnFufea9msP9ZzzxziicTF+5/xGN2ZZoGzL5dlN/YAYV59OU+PP4a98qE+DH35H6JYOLYiD/rN9xnFLdHFzHJiXnUUIofvIInm/+S90ZM/wd4pPYN5cji28ApSKcTjV1chXvLvxB75UjmTJvH9O1f66LdfSH+nWS1mLr/De0pEXtSzOQhr3wY/UT6GJN5EZ8QiuI30P9RfNsIl74cQQMnQPwJpDhiJ0KgAzLOsHAnHCHle38Li+YUB71xy+S1c9BQxPcJPPndp/C1mwYYV5GZtbUn7Lzc+z2sbnwDL3F2QW2e5SDNwU6QHSY2RLhNMBJtw4pt+8hZjLxhznXBa4N9lnUTaQoWSuNeAAAgAElEQVTLYYJU5J506dAaUKQ5qlveZMjpYhz46TQSc9KEJdy8vG07M8a6GBwwPqhOJrP2zbo48/UR3MjYy6HvFydicG6+fBlelLh7KmL/kPmdWNaNVdh68d/1ZnfepIxcSXXGPxHvOuCOT5+CxLNSOs0BZ155g69oO8mlXyyG8lCnhYOJJ/dhZWULnvlpS47YNr5YHTs30B+dbMW/o+0ew9bKb2gztywrcs+zL/RLvAwp5Lhhfb03e0bqeMGbAkcUV13ZlO1IcY/T6ybn4San4OAmxRsfweNYrDfY9TfF65l8zOv+kXDEOPlxawneMu/poM3BahD7/6k3/BbURuE/2xO2aICb/dxLs9I2Nn8Pnmz9Bla29umQCHECljoVaBnW8IAGjuUGPxJved85jlhM2MGtvBYpg4iZlfGfadNpjl/2aI+OMYnb7W/uNQTVO7SC7Kts10EWjrnxSQ7WW4FeZsj6obiTYXObzy/jQ8Qv1eRQXizm+nN0zSKZTz8m3oaV6XOQhU8fU9oW8oAKnsSSp7/ZPuaHTL+IOZ4vWyxeH9G3jR7Sl8NqYODE3xJZDMDnYPr2bXGSgR4MfCN34jOJ3vsMNh79v7TTH08b0KeA6Ib/AHv3l+hYUD5lpBuV5B1hhc9jzhwdzcjLZM457uLEFJXfuQIr8z+lPFRaUmYSp5YmsX0rsMYvMFPXeOQcaYP/bGZngOTiF/AzfDtjN81O93SpAQpibDuzKVU+rjf7vkJHAkpyixj9bGNJv5V08ircXqnYt1YrXPtYmITFzzZcf1A2FzhUskjSIGXh7x6u8UhRM2hmIon+x/9Ep8NF0GfucbdIWMSxhHjEoXvMqO8fazr1CY/F/WgD1t6lF/kpOSbVUbfOEbVqYsAOrlCfn6694+gw7Mx5wN6B7KiBij0+1bcVnixiBvJicOOpx73n0zV4l9+SiW069ytYu40vQmI9c5pJb/Z05XgM9534cQ5+Pv1zRydhjBk2XHWy6W24jUTG6E3HyHws+pbBgai1L6Y31JYrcA4xurYF39wXb5DHeqbX4JutJbi8uAorfDw0k1DsB7h/Ucfz3oON5Z/rVKB5xPSvM56TKweS/O3BljmyUh8TrQYzmfGefdZOULmt5RlUibNNPVgxOhR7EtyHkfXR6gbK+Ldd+iXq9z7cZF2p/m+V8u79CvDvvJik78e9NmvO0cGyPCT+87D44bI9InfeHi2cJYvLN3iCxpWPB+J2ky/+nm9zPNK4k19Or+Gpg3nt9u2WFQNdeZVs6k3rzIOeZ+Pzr6bFEeiIj8uwtnVbHAXOsT87JuHANu4XvlykNyFbGK/749uxmtO17jUwcOLfvWjpzu41gMR/GW6aIz27fzLdmTRw6jSAqwbnYul7p66lqUFnSgM4UzoPa3t8XMqZanxqbNJA0kCfNJCIf58UebLFHMDGjdvxJe+TFSzVnjQwYA3o1a/zYpPegAVI1SUNHIsGcGb68uU1eJKWdY9Fv6nQpIGzooFE/EfW0pSDen4FHn1zF27+7mBkW5IETxromwZUvu9FsUmvbyWngpIGTkgDmIbxG1hc1C/4OyEhUrVJA0kDp0QDp5T4+7nZnPsoPjPz5UfFsv6LpEZF7iRn0kC/NcAb5ES+dL+rSOUlDSQNJA0kDSQNnAINnFLifwosk5qQNJA0kDSQNJA0kDSQNJA0kDTQRw0k4t9HZaaikgaSBpIGkgaSBpIGkgaSBpIGhlUDifgPq2WSXEkDSQNJA0kDSQNJA0kDSQNJA33UQCL+fVRmKippINDAyz3Y+gjPnj4Pi1svgp9P9QVs+9oiTI/xWdH9aa09m5vfgdGfcoe2FHrBknrviTobfFCS6r1S4bsSYvU/g8cbKzA/+Qro88sj9wzCF7rFnNLpYXHZi14ienAuxfSWVb531jq9zOxH5zz9Tu/4cCo/kT/cM/eHTN5u8XMimjtrlWb5QUQPLx7Dxso8TKo3bWccdzuI+BMRbRgvJeI/jFZJMp0SDfCLd3BT+WFJRreqQAKxpl8+RG/E7vbJvt73bAN+cWMLfgSx4fYY2p79NmVqTfCa+L62Mr+w46hbvdE45+3d+RId86/8dmLEOb+kzK/yGH1hQJjzW9SPv+0gNktvthb9BlqNAX551Fjl/4B3z58D9fIpfhEXvVHYPjmgb8YOOfWpN/QOibwsppH7eGMWV5c++60BfhMwxp+syaBjjD/9bs4AykvEfwBKTlWcZQ1wwDlO4i+Jl34L6d6JqFx3nHaG+Lja7tdz9MbiGelvqQHL0cs6jhIUQTy/MtTv6tAkNo/AHgcefCwcRx3HYVFbZme94b1ESr3T6PRg4Dhji5Uz/5tvh/jdwyMvy+fLPXr44ZZ09YnHHb+1BFsZk+JdlTGUN/FbkLOIPwp9ym3bg10S8e9BWenWpIHeNTDAYKNm08agcCIz/i/hxaObMD1WgOMn/jjD8zOY3+jPuyte7n0KN6bP96283jHS6QmfnHS6/2R+70xg++0Lg8Tc8em0s96wbiI2HvHXz5408Y/ZIa6v4ZCXZYvJ3W+Mcl1D8PlyD+7fmIZz8xvwbAjE6a8Iifj3os9E/HvRVrr3bGngxy1YPCfe/UCEWndeNq3BzVktwNj0Etzf+4F05XYk/rMAOo+xUPCWKV88hnuL0zCmrr8C04t34fGLTq/spLK6Iv4v4cXjDZ0apOoYg8n5VdgiuV/ubcEa1n/uXdj4Yg3mJ8egUBiDyav3YC8Qw3aguh3YFiQj38Pe2mX9feM+rM2fB/X75DuwYfSDctyFxelX9G9j07B47zHk7oZQaS84s/MDvHhMsk3egC3Uj7SZmSH/AfbuL6lBiZFP/fYDPFl7i3Ss7WwGLSZnVF+3NuUOBq//BOY39o0M5361CL9ivJi6CQYmd1iXV3B0IOX7Gfxq8a/gnCqbBjZqQPfT6MDE4gnL5dl2KaOeAcvGKKaI3Vb6P/fuh3D3KtroZ7C49Sd7fRFTt/A/L8e88ApM3/jU4EHLcg7eXPwN3GRbj03Djft7oCHj+oLWzCHsrx48AubQth96e09ePDL4HJtehNuL83AjuidH6Mvo5Rk8XrsKk+hHiN/bi3A5b/UIsXAT85HRZuehMv8mjBnbRco3ezwIO/jcuZ/D9M/PaZ9R5eBvPAB4Bo/v3TB4H5u+AfceI9VDXf8OPlR+/Q6s3X0HJtGn1Vuus+2QHwuy7OB7sIxz3I7XYH7loxx5suMTGH+ahMWNLRsrJ6/C2uMD4e9DErNQ+xxTlb08uTLjDY75CJsyhYsmecaQxBt8YDw6AD2RgfFU/43ugiuaF8dY796nKvd7i2HG09hbsPaE+jEVczEufK/dlv7fXfz5V9jbWqU+BOuWcUPg/Ujxh2Pem7C4hnuNsL/K74t1E7Jx7zT0lP2RiP8pM2hqTp818OKPsIKkVAZdtWRYgYtrf4KXQPmFinj+CC+2bqgO3RDIYHmR03KYpKG8nKNIy5Tq7bOTRKp+gL0N2UHnta974q87gldgeuWP8AIJAc3WF7Adz76AlfM6cNogTakGhZw88yC3nYkeBuCb8OgF62dM5yRzh3SOyCHnKCvi6XYwstU6v38Ztr64CRcv3oRH39+HxXNMelifPzV1AHeSF9fgyUtN9l8xpI3aJYi6yZ/mAdyL+7A4OQaqk1WCkA3H5mHts9/A4soqLJ7/icCDqBvvZwwpUvI9DRTepLcL04v4mCBTXRJvqr0O/hxtGNtZ+fD3b2DtYoU67myM/nlrEc6Jjv7D++twdfInMP1v3yJiKlZwVOfPRJHeHG7IJo65sCwcQK6pQaohIIZAMB6srRQOe7S/bD30jDnGMRIQlkNfG1P4wNIRI+9Eib9OVdHEiX1c28eSpPy0MdIbD/wYG0T8Y+Xr9hKx6Tjjr/F9jrDLWFZ+rfyESd8rcPHD38O9q+cB2/3NN2twMWaH+83uYkFgB8dK5g+NEdK7HKQXIvKMZcSnFz/QhIJuCw/KmdyOTV6Ed9cewQtlRxzYWwJsBOEvgdyM0X7GLI6v7BtEsinmsI24HSDjDfYFVxfh3sYSnJexV/miaBf+fe4qbDz5DBanfwFrj5/A1uKkWH0F0NiS8VvHhbH5D+Gzm7+GlQ/fhfPKV/87PNu46upNxea/jGzc57YVRHxE5Yr4kxM3nIHD2Ftw+PjDxP88zJPtebLH+jXblv2eBkQx3HsDHIbLaflMxP+0WDK145g0wETdC5hX34WNZy8BFEl/xQY96syYFMTyCnWwk8SfgxbNzj5egfOS6HEKj7wWbW23xJ/Ij1Mez34zKaeyBNEI5faEyOxEbaDlGXlNUolwiaVnJj4uiZX16GfOzb8L786vwqMXL6lDo0ET3qo6GmEvtpEhdqI8pVvabIiX6V5FlMwKi0+6iEiPTcL08pa7OpFRt1se1/+SBopyJo30bgYihL/cVRySxzyjdXD1Ki3pc/tZzz5GyW6Bzj17amJlyYZD4jCDVhF/iWsmG4wpv+M9jP1Zd/TpyRjzNxdz+Jwvh7avHpwGy1lehQD+YEO1e+wirDzqnECh8W11iLPwmmQJvQVtQhF8DGqxfBvoQa5cHSJfN+SX8OX4fic7dBELojKHqgvk5RXPiDxy8KsHY0jis7CEdfm+E8ekI1Ugt48NBWy18nvYmKX9hgfMTu1dxhuSSehI69HGPPX3ZAUWr/5KD/ZVXJMnbBEOvBgxP1aAscnLsOwTXaUXgUm1x+QXNFnhtYEnrryyOf50ihvsT0eLP24fqiVk7HNf4Nu2E+79dp6evxPxPz22TC05Lg04MxZ6luAykyquUx0V9huTsnJ44v9nZzbLpKaoWVkb6Lla95M6vlySiE+EHTleZdKtZQ/v0Z2N7Azc2jmA57WdSZjeh0B18Iyz/MxsAz1jZpH9Do1n46/qgRmJqDsfnkEUcivb2oGJ1sErNHvP91Gd3LHxTKXoiPWdYd0h0eMy7SDD6fD8gYjqVL0VBFGEU69ZKcFB3FW46u+ByMJoQH6ogozrmLLwkUqVkbPmGSRL6ZdXDfyO9zD29xofyOjXYYmb3fvi38MDMGzPeZhfWTcpb15t+k+/Tl6lUasdy/DRFqc2+U9zva4fB37ll6+K6ZL407Nu3MB2sd+SzsWA3sQD6X/8Xflh+Ex3MvvtZ4xYfzN1x+RxrvnxiXWZX1Ygpy9SoOtIuezvUhesH/kZjVkUn4JYoQXpKt4QsbZxglaNOB7xxm9cNVGr0KwrJrxYl54csLGZbeHP1JOCvMkBjJ9Bn2d0yYNXnsCIx5+suBH2G1RwYBt9PV5OjPizXIwR37Z9iD9GB6P1JRH/0bJXkvZENECBVgXvf4XHK/Mi15HzszEP/zZsfHFPzQ7ZAOsHGw643BFjg2TQIuLvdXrdNZsCWbQDEiXwCoJfhxNou+jsRZHqq/M8XgnbHiP+Vld+gZG/vUGY7tAkMebla38DG5M77pywbJ+o8wyRS8z0oMF2kPHOGsvz6+6m03dnf3WqmLim2is78IhO8JKTHvAIVi7+Wu95ULd3wGhgN6rDv06bA8cwj/3D38EXG+/COZMuE8M1r77kE/+e7O8335exI+awgAguZf67InMSJ16lQZ2of943gCQ7Y3bXEDTXngE5jZXPMcLzWf0sExtejRB/e6LnEe1sO3QRC6IyB5XTqpCULyybU/MKXltdghizYVhWoFtfpEDuSLkR4p+tK68CirWWtMvfu4s3egWTY4JNrTEycB1mRZPimhkYsB9yGSgDxyaboiYl4zit6/getm68a/P9nRvpj7z40yFuuHYVhfu2yS1H9qF8ZFF3xN/oUVR92r8m4n/aLZza1xcNGLL34TosX75pj1UkIqrO0caavJmSGMnQZWUR/x9o6T8kHi/3voavTfpJrFnU8XUi/kRQ3aV0niXizmEQnSilqPDGXNOkH2Dv8Z/cFBr6TXXk8n6fGKu/uQ1ojhvwlyuPaHMp1Wf0ozsL2ylT5+EQDh70cQfJHaa7oqDE8+o2AzqnPBxv7MEf/vBP8J3KoxWDDM73FrODqr3495NH8LvMmWSsneV6Cz68V4PLps3c6XOKRASjfgfLdnCucydqSatPOmMkS2Od7eGTqt7tz6KZT0dGvOrXYdubPeNvSlNfOOfa3u/+nklU8DazT0XY1TzOOrQzs/hToLegTXhXDJv8rCDSFI/0hl1TMcDLfXj8NaYihX7NA9YwHY39MHymO5lF/fTVx0yuPMIP8PF8LOEdXcjpixTouhN+esRs0B9oAV7u/RH+sPffVB6+O8Dx4w1hhnXx4r46geynJnWL/dv6ZTgZQjjhMpQyH6m9Gzb2+YohXU5/CI+3anCVVhL8u+zfWfGHMW/lCzAQ2IBKda53KidG/FkmjtW+bXu0pW3syH9LxH/kTZgaMBAN8Cy5yTGlWlVw4hMa7GkaNqBS8AkCdUFtqsPNprwJSS/PX4a1f/oa1i6+AgV6M6fKOsaTHW58ZAccsUazjHKmJ3af4id4yoM4XYEIi9kIxWUZ0sqBVxBIv2wK1GPz9+DJ1m9gZeuf4fHKz8UmSu6kClAgGfVsujxRCE9Z+AhurD0msi4r0bqUMzSqE8FNtvdWYWXre00OFFH+j7By9Sb8X//hMpgTdOSsFBar2oj50F/Do5V34ebjf3UHXTzDVDgPVzeekDy6Q7T2tfIpYmLq/g08fsm2tylGasPr/CJs7PEGOj3A09cvwzSeRnH+XVjb+APs0fNj838LX3y0Ah/xCRu2SuebJkY442w7WXVDB4zyc1Kv+Bxf123lTpN0YU6dYlLP9/MGxpfmdBGDKR6cCF/ozf5Oc/Ufh8CcGSQZOV7A1o137IymjxOvWlcvSKqW4C1DjJi4MdnwHqay8fQfddqRGSjolQKcQPgR9/jgiSS8J0MVQSRFkjdesTLtwBt5r855mL95n05cwlOHlmHt8Z8J82Pgkk0+9SXDD7uJBYEdYpvzOYZYzGTN7mtc5MSnCJZiZWmSeYIxi3Vn9oBgvK/B/C/wdDTWB03yROONjiEKCy/+CDcXb8Mf1UrbZbUR9ubv9nXMkjFfDf7wtKMNWFnBPUhcxj148mgVrt58BC+VvYQdPJiaQdTkm3Dx6kfwpIutL+wXbvzpNm7wqqAVhMvrLv5wrPU398pBNt9j233k+GPFHalvifiPlLmSsCenAe5QPVJlgrU+yu/GZ/dgWZ2IgwHo/4aNxUlx5B7P8tNJLiqlAO+7DxuL52Fy3uYHu8cvyg45rgHdwSF54H9iFjD6iHeMGR6xxkeG8tI2l3XuV7B2G4/l5LK5HV7BhsRgh/23sPaubPukOmZt2pTBLxrzj4iUhMUrX83oTYpjLW2nok9y4I6U9fWMBh4sN1+nI+pUp/wTePPiO/BrPnJS2lPlbK/AhjoKkWShGVWzwmNE9OumOvgoPtVuoWN8jmf4zUk4f4K16XNisx2TPXkkpqkw/MIbkyUJwLtkm5BwCoz+1fRPhV1t5xvgaXoN/km970Afu4onkHymThopQEGdVoSzyWjLNbPPReXLG/LJM3JsC8ZQnv1p1tEZeHnN7hlzK7AW+OQXsHVjHhY/XLbH1tLJRF5tNDvPbdAY/mZrCS4vrtqjcY0+/Kf13+a0I8TE2EWoLVfgHKZPrW3BN/fFKUv4O65OEam2/od2ug23p73jPHmQ7hwXivaZh5u4WhT49aJ4kVOGHX7wjjTOigWOHewRr1YDbEuhOxkL8DvLrx7KiU+8+mGePwfTt2+7Ry+fW4TPPnN16Q9sdTVPYEMdYXtcMQvbwcch03Gv8rhi6ZuxeGMGOBw7+EQjnmxCvzpvTzDDRim8YKzTp2vxQHfszbfg3V+jbThWeX2ZNZZdYeLTp5zfMv7IiD8S737cuL1SsaeKFY4Yf8wRr4Qxxr0S9zDxJ6Odp+ByIv6nwIipCUkDSQNJA6dWAzjYurgGJ/M26lOr1dSwpIEcDeCkw7TYy5Zza/pp5DSQiP/ImSwJnDSQNJA0cFY0gCtt83DZpNKclXandiYNnJQG8N0xNbhh0htPSo5U73FpIBH/49JsKjdpIGkgaSBp4PAaUCkrN2BRvZDn8MWkJ5MGkgY6aYBOPRv7K/Uir3n1YsdOz6TfR1UDifiPquWS3EkDSQNJA0kDSQNJA0kDR9YA5/3z5tgjF5gKGGIN9JX4t9ttSP+SDhIGEgYSBhIGEgYSBhIGEgbOCgaGmOcHoiXinwYrabCWMJAwkDCQMJAwkDCQMJAwcEgMBOx6iC8k4n9II5+VUWxqZ5qxSRhIGEgYSBhIGEgYSBjIxsAQ8/xAtET8E/FPI/yEgYSBhIGEgYSBhIGEgYSBQ2IgYNdDfCER/0MaOY18s0e+STfDppunsNtcgUqpqF/WVKrAcnMXWpnYb8HBdgNqlSkolOuwy/ft1qFcKEG1eZA6B9bJwTY0ahUoFWahvvu8a720djdhGfWrXkI0BZXlv4Z//7+Ow3i1Cc+57L5+7sN2owaV0gSU619F5Oz0+7Bh+hTJc7AN69VZmIna5YjtbO1Cs16FcnFU/fYrqJeP0y8Op9/WbhPuoN+PV6H5/HBlDEc/+Rx261egXP0Ytg9akbjQXdvcePYqlKZm4N9cmTrGeIZyDVfMGmKeH4h24sT/ebMK4+YNfLbzbO3UYaZYgOJMHXZa3YHvKI7U2mnAnc/6SWiews7ab+GzkQ4Kx6/3o9js+J/FoDjrvNlUvj3TfB/y4N/arsFU4XWobX8Hrd11mCsVoVhpwH4WsXzehOo4vf1QEv+s+/t6vQX7jQVYGInBxQE0qyXCh41dHXHZegi1qXGYqj2EVmsHGnNTUCjOQWP/8B1vpzptnB2PEH/U+RwUVRyO/X7YOKBJm/ETE+fl21uRkO65fla8BPWdpxkk5Cns1C+RrFhOlt471F2qQK3+W2juZtWDbf4WGpVXoVBagGaMFKmBsGxL7Hs+4db++CqUFzZgV/ZzSNjvLNnBOuoOZW48hJ3GTbjT1SDzO9iuvU74zJejE36iv5tBr253sbwA69ufQ+PtD0aADB8lzghsHTX2t3Zhc6Fs8RyblHHuwUmCTRcrGH/RFnXES9bAnn34Kew2rkFJTuAcPIR6ZQqK5WV4GMN5p/jux7P/xfrB8U1ktCE/pnF7B/cZsOshvnDixB8DiiYmCBYbxAdK/FtfQn3mL/o6k6nknxj12YDBOU20Y+kUcI79dyR2fwHl2hYcqLqY6DFOcWa8DpWpt4+VtB1NN9T599pBMfkfNPFXnchUX33xaPrr5AM+Jjrdz/HuGIhYB3/QHWU2se/0+2H1yPE9JAF70KzOWlvvN6BSxH6gCKXqJvmcp8+DTajSylXu4FXpggc0bptxtrZeJbJVnIHaw/3oIIP7oELhVag0vg3uQX1NCLIU6E8Rqjeizypdqn7n1aCtPDgvFMtQrTcNybOzqr1ghycvennG03kUV2i7C1AozUF9G/WHsfBjqJYnoNBrrImW340MR7jnyHGGyP+R2oo6vASV+kOF9dbuBiyg/goX1GBY+xvr+Ro0dp/SxM2rMFP/UqzY0gC1i4G7xbSPB13PYSZatX975dGgOPT5I9gsgpPA5yL3HDZu9frcEPP8QLShIP5tM3PChKq/4Mg1IM+4yRHwEcFjAveRgsIAdXDE9ubqd6TLPoDmwoIg9TGSh8S62lOax2D1RTL3isUTIf778LA2A8U++uLx6zqGiXzf1Z2V11EOwE86dZKdfj+0LrslAYi5ideg9FoRCtFZfz3bP14qwWuFQndpBKpul/jrdvDMJ86kx2b00a/fgFL5DSgVCtEVsufND+BtMSCI6a+1vQJz0RQeGpT4Kz0HW1BD8pc1IOl5kuqYiD8N0gJih9eHfsKrH3GmD8R//y5UF9wBrj9I1n/LgSdN5Pi4MROoMaxTPFLYeQ1KpVehEIuxyqayrvw4xvEgGs+69fkjxr2Yz7Fcg/4M2PUQXzgZ4i+XrjDArS9BWY1WNfHXxqTlIkNY9mG7PqeCsF46lgDHHOa6nm1Q5RShVFkRy7gZz9ISl7sUzYMPmRcty+OOHuVDGT6H3c33oYxpSZV12MEZYM6lVrIUoFD+d/Dvy+MiZYQ6fTPgKcEvqxWb8lRegnVFgLCOKTMjYICMy8DLmFdMv8eW/o7oUKauVI6Y6WPbM0Y4MIqlX4HjdltcLy/B/9lYhWr5NSjXfquWVhXuimVY2JT59vuwvb6g8IS/6+Xz+IykspG33I7pACZ/3+CLfAllM/7EsvOnh/crV7QMPOOP9dzycoWF/xTLVVitVihFR5aFdU+4qQzR53aI9EdkVTnQvBw+YfNRhUzX67dUClOcxLXBzpbq8ovl92GT0zyi8mSn/TlllS5BRc3SCUxkySvxwLFBdcA7sK2wMWHIrJmVHr8OjQccU4pQmls3M8AqxzUPK16cuFJ5A4oqZsVy/HnpfBzeqN60+w8Ynz6WGBfmuozHjCn6pHsCkujHFiT+r16H9Y8x7Sgy669maf8CqvUPVH/RsTwsX9WdJRvPlEbIjiJBr0Pt4UOozyARz0s/0u3siYSotvgpdzaNKXs1owUHzSWoNr6NpDqIeGNWzwXxb2zauFPSM8gqhjg4KQCuNLgxybMn6pWIf3jvt06qj+MrKp6x32F+dqd4yPewX+Cqwl24has149eg/jGmrERwwriK+uFedpzh5+gzW3bURx+Iv1efsoXCK+ORSL6xpbZDOBgg++RiHQc7szBV3YBtlb4am3ggf5iqwbZKOxPYiaZeSrxx3Ha5jeOjeX2V0gXn7NNeNOQ+PrdxsDoFnWLaIHnMEPP8QLQTIP60dFWYoOUqHn0jcLjzZMBbouKCHcnR+1C9gx0YBsIFFQBUziznZYpZmuxn29DmmU1nBGzLVEvOaqQ8YfcbUNBG4v9G9Q58tvutCibjlDdtBi6SZJkl6qLO7SWnf958Hy6pZTvRZl7qo3rdpWbWn/3ylwcAACAASURBVF4O1Et3rMtIgI4Fl3RNkPledJZF/NvQzlg5QuxdKNfgk9v/xuRxGtJpZveYVNCMJpFSs3IUnZHEOjFFbcLmZnJ5jB9lZ5JZYjGwP+N9CuYaO9BqC59UBE9ikzsMfc0uDaPs1zTxV6SAO2TGaxfPtSMdjWpjiQYOPEuLZa9Dw+TX416gm7C5fg1KUYImc7WfU7zgGeOcdgR6wlxaTDUZJwLegoOHyzRIo9iVKa+d2dPxgfXBqT+641QdpYkveI0HTWwDvVej3e6EFdI7EzyDjSwSzMQfJznqaqOfST0gnRo8OlhCuWZEOlzEn2LEX/nLNXelTBH/KjSf4h4InPWX+x70DPk47vnawU3mbL9IfdJuuWSIU4H8GX1RV4vvceN2jFD0RPyjcjGRYuLXoW1tlk3alAcz3JeyT+EkAuZwM/65PVwGpZdwP+XYOCaHHaSo1KxKDRoq5Ufem+V3m/DE7ClBuWgwwBhlvKm9ScIvTF+t/WLm1t/B+tyU7Zel3XP9kHVifTC0Z5bsvPn+OIg/2cLgnmTwbaGww/YT+o5iCn/X8X1K2f8p7aeJtZ31wtgRZUvdet/9eGYHMMJHO/ZVhCez0sV9EPcjKEvvMS20a3dtOsxzAbse4guDJ/48U2BIPs/KoDMz4BiAPvEXQcKAT3S+aqTK5Axn2vWJJJr4x57NIP6m42Xn4DK50+UALYBt5OEO1MrOIGI57OzRHjSX17zRtZW7bYiQvWbK4GDAwdCM0o8P2NyOs/vJOGCcerombNvZOiRFsybHN0YMtD0piCvcvWbub7eZ7MWJgH7W/c3kcBo8dEH8Ce9WbjGjxzO7BouuT8Q2hGkZrFxux6DliT1n8c51ECk2HSEOdiQp5E7M1hXFJnc6vKGZfEbPRuXJ49mX7SHlMRMNGhPKJvJ3R169edfVB9WhOm0ZT0Ji4eCnA1ZCbDDBkyTRbZ9TPsUzB5+GaAp9oxwXOuxxoba5K6sy3pMcTPyfs6yC3Mj2Brpy2+FgIJMM6Wd0m218Vc/KulAP3GcZn4rXF9OfI0vQR1icq/s4ljuTUFyX7XOMHst1+EodjiFt6sco7ktFXVSP9ncmXDzI6iJemHb4K3tyZVxMTET9jvtJKTsPgoXdA1uTHqSPGXlYV93GDaETv4zcmIH1hP6ZZeuur9NgxebvZ9QR6ITanYV1HMyVf6n2CMRirJWP/S5HL76e2mxH7xlPxjAetcHpq/5Fx3WnDyIbFPhgCjUQFLHHxCMXQ7Y9Fg+DuDbEPD8QbeDE3wRaJq4IJAJJHvG3M6rYYUTSXzDHDTdtLVyDmTdwg4wI5mY2NvJsLNiaa3i//Meg4yAcB1y0jdhOA2QKbPufQP0ubxrjAC3kNk5lBxGmbEcuXJ7lwD1YsA/CoYanDr9T9XVNMxJsC48URYmBHCwYP5CYw+8xnDFevICrSEtRpPR00ZHHOgz2gUziz6sEKN8UVGprIrVO60UdeafSg/AeljPvOb9N/LevD/wbifZ3ObNXvm3Q//CklJsmJVAT/zx5/DLI741O8HeJCZYnS1593KfGAeuD6vA6yhixcPCTi5V/IL24A1Tn+cwO3MMa4dMs2dOMMHfQ2KFfYGIXKVP5btA2joVX4jP+eBIazzwrX3quTx1i4h0rL7dur03mXiY6csBFeOC61L28asXx38eF/ruTfmUci2KAfTfq71iHxSrrP6xT4hHxxj4k8Bb4NpaNJP63Oo0G+xbZPxt9xdut/EodGUq451Umfi7qd0wYPdvIeIjPB7bOIMNcl/rkNmf5Ifup0InzvGhnhuwx/5T27f07DsDegilnU3tGW5VOxOCIZVfXPX0q7nNJbBZm3cTbHsUll5/xGX3GsVtGnYx3xNpXsVU8nvhCWfnkr95iWu92ELbPaG9WmQG7HuILo0P8lRFk/rNcAuIcflyu/Moesed00BnPchA0xETM8GSc5mCcPiNAa0eIBU/b0RRKv4RbyzfhrjnCj50jj/iL55lc9gjOLNCm6904vN+phs/IGdLnHikKO2m74qSIlQqW8YAc2kcGRZmP7ncWnYm/lNmc7c9+YXyI8SnlEzm3aiBK6QK8hwdPJbl1Fx40rsO49C91Agjl6srnApJCdWaSkJhMoU0UqVH7cHB/wCo0Hqyr40oNmc2UxyuLOyqHFEpMEKHIlFeX17mjxPt8O3pEKRcrjA1eoZT1esRAxI8oPn3iz6seahZuz1nRCjFK+nNIAF0T9ZrnEHOv8klonEpShKmlVViaEithfnn0t52kEW1Uv4m/nXo5LUYSer4WI41+SpDblqj+nPrs/fpeWS/+xnbLOcbaa3tYp8Rjd8SfU7pwn86tRlOn0DGGs3T7vAkLb3tHArPfF5iUPqX9b3G/C2X34iHqzmtvzC8Mfoyu+xE38mXvTg5r71BG+RtmLaxA5W25f0fgwevr49hhXXlYD+zn4drEdy2PLlvGeCln/Hv0GcdujGu/XBvjNh/gkdNyAI51yfj+LR1N21tMy9d7vD2HfWaIeX4g2sCJPzuynd1nwCIg2ahs8Bh5xtkgOvlABSdBhlWHzIHPJdDGmM6zNtDYGUmcjaJ0AhPAfIAQYHsm/rJsvxMRbTbOKNpG1zRJk7ryZUt/G1ubjqBfOmFsubMOTn28qjP1HtSXbJoP3hPr6LQ9iQAokiUHtCR36x9h+3N/gy9jwyMPhF2eETQz0tyRx3TCs2zynRldEX+rV5P/Xf4b+HuVv8u+zO32g75+1j6HaXnsA3wvt5EGFEL21u7n8PkBp/rw/VYexyakV70HyPq8Jf72OVcee12XR6TQ2UcgMfGUzsPPkrePqT65WNkjOdy9PzH8ST3FfnfwSfrXS/REyDul+eAzDgnwdIr+MvtLfXKWQ/zFrD8ODuVgK688gRHVNnWvR4bUPbxfxD3VR7XXI1qqHO4TYr9RnTH9Sf063zPkMukPBd5v4+nLa7u2j2yfxGM3xJ8wbfRLz+fFC2wv2moissos5evgdzF9BXiT5Sk9W7KY/eKsPsSNDrL3k/hjzHm7shI9Qz/QBw8OYzjMwJSDuyDGSnxx/M3p3wjrskxtRy8GO3Zje+T0VUrfPieiAYNq678cKqZJOY/7e8Cuh/jC4Im/yYnlTomXUWkkqgIOjxBFCsvub6Fq3i6nn9EbCznQUQDff6A3hsnOIvNZSwL0Btod2Lm7AZ+3eLYJ6+dznnEptKHTGZgUZQwMtCOQ7Htfwt27/yDO3OW2WWKkAclOh8/RqQpMIuXKg7nGm7VaOoVhzZ73fNwAP7PlG937tpPBk4OcwK5DDITdeBBqNu8y7uRpBriatQT17e/CDckkj9kch8v1+HIWh5gyWY100iaIsw/yRlJBiowfMW45eONRp9fsi5ZMCsjH8Pfq1AgiLuZkjU7P4ewh+wDeuw3N2k1o7v+DPlVFnlaEp/As3IHtFsvkdTqmXWQX1QnxiTh25U8PjrLa4c1mqjJFqoW/AVutXLwOtb+nU2Ci8qI8jA/Wh5ZRd/Ci42OiaQgYP2dnU/WLrDKwYlJlOJbQi8KUnFyGxK3Nr/Y399oN3Hy/nRW3A0z+LfzktgUDLZoh5kMRdC699C32hw668u1t/madSWJMKaF8jr9MSyF/DORU5TE27eZnNw6yrHHduvfaCaBQf2LPGm7srtZFCh2vbIuZUSZMatDOs9Q8q4sE7oBmSoWP0DN6MEVEWunhO3sWf4xYGr3aftM5dYxn/Dn+5PodTwjkxUPGZJ5fhHhTuuZYHfVDtqWIM/6LqzrIbiYHO+lJ6izyPUr6MT3n7ff0YNjEeNqYrU4N9M/x1zrQftYJf9x2gQcjlz8IzNCtuR9/Zx/r4KOmHXyqk99Xkf8w91Gp2/iySdHWQ8S0wO8c2btpX/f3DDHPD0Q7AeKPMzn6TXG4NKtIS3MVKpUlqNfvqtMkDHFWnRTN3O9+Ao2H/2DecmfJjgiU6oUnm7C9iaf8CAKd+SwaVQRLQ/Lxug2yWk58KyHOuoqBhpIv4kAcAFX7Im/Dw8B7gY/MYmCxQ2J7l6Bhji6N7GcQ+lOnfpgBEZeVPvvt8AEmg2VJoXNDgl3yqMsoQomPysSj6JxjZ5EQyKNa9ds6zfGcsaBliLXu7J2OmGZdbAqEIAx+WQKzClMfvA+VcSYeT2z6nMI8EqkH0FyoQPUWv13UEiJOHWD//qTxvlrG1S/72cl8Dm1mZtydDmDTHi9pdObLFPFDbqNsG5b7yTos4akxaq/Q76GR0Y44hkS8UP69AEuV1wDTJOpNfSyrewygtDGvFDIx0yuan3wi315egMLrZSjzm5NR3+O/hPqqfIM0EdkOWJF2wAmMD5auwLj3Uii3jTi5IY9FloMKgW+Ta+529m5ZeH+kvQo/ov1qUmPXfXOv9C0nVvqxF8vJmp3sULd6c6/ub5TcZjKHZDOrrtgOEZuN/KJe/1llM05ZknqT34kwZRFHPPpQvYmVjzYkuYI3DvPpJ/g79hWb0KhOQamyBHea27ApTr5Sq9r1Gh2dze38a/iUjqPWJ0itQ2MJ3/Zr/Tm0qyb+7723CXvbDahVpsxeOCf+5PrdQ9hTG5Oz42EQcwO/yNdxth/G44zTzjzZV5egIv3T2W/Eg0zGDE84SNvr7ybWGUyRTTCuyH0zTn8f4QMBJ8nIlFDxkOWKxEs1IJQ+nXOvKiviY+NVCOIZ+1JeX6XKs5Myqs/CWLW+7bzILz+msTwZq2XcHxzTZ8Cuh/jCyRD/Y1K847jDXMf+XVhYfihWATAQsJNlpCgNc3uSbN5sPM6cXBCn8+hArzsy7hjCjmBk8Jvs7dn7DNoSScJ43irSGdRJr36hZkHDN/eelThwNuIh9gUVdxN7rzgZyP0yi2LEfRdj04w+0XGQvjTEPD8QLRH/gTiVdCSc6VmC5SB1IxH/QTrpsdaFgWcqfBvo2ejoJNbT92PF2cBjF9sTY9jb3gkk/Fv67MnmKr2I31NxtnR3FuIh7tmYna3Djnoh1pDal1Y3xtU5/3ofUk8YPrE4FNMnpgxVYFa9Gyn2+/FdC9j1EF9IxH8goOXcYP0myDvLG7Af1Mv5yt5GtuC+4wPu6Dr7MOkEA89bcKHmr+hwLmSnHMxhakuSJflEBANqpnoGasHkReTeFL86rw6pFIhZmKnH36h8OjF42uMhps3dhGr1jkpfHl4b4oTjFfs29FH2V5X6uADV+kMnPWhQuh9inh+Iloj/QIAu9iHIzWSibj37YXP8snNXU+c6KEdO9SSsJQwkDCQMJAwkDCQMdMJAwK6H+EIi/oJ8dzJs+j05f8JAwkDCQMJAwkDCQMJAwoDEwBDz/EC0RPwT8e+8FJ10lHSUMJAwkDCQMJAwkDCQMBDFQMCuh/hCIv4JxFEQy5Fs+p5mNhIGEgYSBhIGEgYSBhIG4hgYYp4fiJaIfyL+ifgnDBweA7ihql6FcjFyLvSg9Ipnnt86YRkG1dZUz+GxOky6Q7+5g+/AmIJq8+B42oR+UatAKfNdB5bAtHabcAfvNS+Mw9/0uejxF5rh7/uw3ahBpTQB5aHZmIybatfUuwWy5bbt7g+JpRP5HN31u45eyjukPOq9LycYx4fJPw8hS8Cuh/hCIv6HMHB/gkUvjpzuHU6d48kUC7BwXB33sGJzvwFvLzThOb8+Xr2A5qQ6DPlSp5OSoUv/NHrr8v4Ts/9pxvW30Hj7A2g+P0kbiKObC8eFWekX4mVjUUzxi4/yXvwU6sseSDFE7yYRLy0cHPEPdTPY/uoYMT0yMeukbdAeYpofipaIfzQQnjyIBhs4UnsPpe/WQ6hNHeOM3VBiUx87aztVJjHHRWC6weYwyNBJTl9vne4/wd9PMa5b2zWYGoqZ2UFglsl/J+KPWCPy36NuhvIsfiL/NkadoC8NIIYfH6ZHKGYNQM+dOEJIr4f3SiL+QwCYToBKvw9j4N6Hh7UZKB7bjN0wttkeS2s71UEQmE66GAYZ8mSM6S3v/pP87RTjWr0sawIKPZLb44m/g8BsIv7PT3v/fmyYHqWYdZLx0tY9vDQ/lCwR/9MeGFL7jpg/uw/b9TkoYTpLsQzV1SrMLqzDliL94r0LTCZMXi39VqrAcnMXWsoOmBO7CtXyBIxfvwUfz01BoXABqpsPbJ58ownr1TIUsb7SHNS3v4XdzfehXMTyilCaW4fdXt4CqV4OROUVJpwXtbR2N2G5gjJoWYvl92Fz9ym02y042L4Lt1CO8WtQ//iabv9rJSgpObjdOMu/B7v1WSjgAKixCXUuz3tfhVvXFFRqK1AtX4H6Lr4qvkQy0MykWK4vlOnV6+rlLJivTHUXy7CwyXr1SZRIXShwGgK26WOle9VetOX6dg8vesl4/nkTquOsjwLggOi7ZhXGWc7y38D2w2WyH9+HumqafQnX67dgrlSEQone9pxpM8xfrmv8VNfhwfoClTsFlfpD2N/dgIXyhNalo/8M2YPYwKSf5RSpH32Vif3gNSjXfmsx49gUO9R92DZtLECxvADr2/uUWx7xo+YeuDjDZwjTTJDYLs4nY0TihrAo9o+4dvqXI+LJx2wb2jkYxxz8uvLH69B4UIcK4iUSD5z2ly5BReGBZ/xjsQxT9lDX/ow/22hCYdoQaEfGKbhSeQOKxsewnG6xZgkTD6xs6hDij23Cgxe8Jmyi9i4QTp0Y24Z2bMbfwW8RSpW6fbGW0yYd5zm2dNY7tpdjZVWkkLnY1bEcsRu2u91Gv14hm2KbJqC8sCHivKfTgvb3gwimx6ubsOfII/UndCjjFsZYgfNqcx8OgphFujZ+w5gSPsOxOtrGWLtP17WQXg/vlUT8zyhI4wHodDliP9qollGLl6C+g4S4DfgK9ksqvz3WcX8J9ZkJKPKrz01gvqAIstOxFS/Brc01mCuNw/9ggqklKljPTLEAxdIMXFdvIsQ3Al+CYuFVqDS+zehAPPupN6yWqBN5CrsNJPBFKFU34aD9LTQqrxLZfA4HzQVFqtVMvuwUChMwc+vvYH1uCoozddj5ug7lgia4mgywHlD2ZXh4wGXZNxS3dtdVO3nQov9G4sKdB8li/m5De78BFRxkqM6E3/Kp9dg+2IQqEh8ebLVZBk43QoLzNpRF5670OU6DhdYONHjQ1dzrSpe5z/vlqVSZV93O2yEjbmdcnLkJm+vXoIQ4+2ob6jMZNpMDIibJysYTUCiWoHxdvyXUYKfSUG8Iz5U9iH++LpGQIq77JdM6fNWY0wPbgsV7m33F+JrG+zgRd4OZ0gJ80rhuB1bGj16FmfrvYT0L06qdPrllXDHJRP+RWJSD0gJIO/3NJ38NM0fAUzvALMsSwfhTTClEf5GkkN/0/rp9g7Lyi3GaHLAztuxn2bEM2+3qRt1Lccmu7qE+LkCBB5VsM0PSdXw8vF6szEXCro7hX0F95oqOwYT3rBir7nd8jfHLcZnjUwF0HUfUu/J1so2JRxSrizNQe7gPJl4V56Cx3wrjjYp1HJdJx2IlWfvzBJRrW3DQ5t+5H3Dt1o7KwwN6fob6id06zGBMbzGWEF8cQyMDKBPnxD3YJ27X4AL3eUE88fqkU/z78NL8ULJE/E8xEPtBfM96GYqscwB3sBISJN1ZusGVSVhhqgbbOFNPnZLbsYVlmY6Yn2u3odd8Wt3Ri86GOwXsgPb+QQ9SuIMlsm87eepQ/M7K71QDAtOGNpWl20idilMOE18m/v7ftgxN/Lkj5bbQ/aajlfrbgYe1WZhyVka0DFLnTGzktWysd/E8D0aKb0DlygUaXIlOL1NvHl4wB13qStoMSUNmOYIA8sBNDZq6kL0bXPdVpjiWtU1owKja/ZoY5BKOeOAb8yMmhZ0wbXATk8PHImNL2qlXnQocGF1zuUyiOmHcI3hBPCD9SDs5g5jnOn5EYxnKF5bvYy2Mb0yaeeDUD73QwEvEPZwEmJujQSz6B2OAdJkVY3UsYxmFfxCB1b5/VL1HdEdEfqr2kFZ6adLFsY3FhJbf4kvHecZFqA89CGbfiNgtZstAJtTLdZgzk0g+Hm1fZfsEOyFj4ybafFb4qW1Xdjw9nfeE9Hp4ryTibwLx6QTjWXO+vreXCR3OlFeW4I5J2/EDpf834YmJG5ONgLjhfbFnw4DeG/HnMv0lWvybCTelF9y5aVJgbJAP61e6DeTnerij8kg7t99ZBvbJlf+3V4bxUVwS/61OQcLZSNap0d8EvFH+Cyia6+zT1BaxssLpTSaVyNTBz8jP7p43BCTWwXejN9OOHJt1U45D/LuT3fqNb0/+u58yxQi3RyqoncZOxnZEMgM9CHth6kaXmA59yscit1/gm4mVkUnoxsG5kCnAV6xcvD8L46E/urLT7079XlsyYxnWG5bvEn+WV8SOYPDRK9Zi+mGiTisfbSTmc0RQWQZpC4xhtCLCfu9ggwZEMuYFtjiK3kPd6QESD4ZibYxfU0eqqmOJEU/URm6bY1f5fMRuMVvyIJDTCXGQPPtLsQIR0a2jR66TVhw4xqF8F94W5fB9Z+9zeGl+KFki/tEgcPZAazv+1PZAFyb/EQMyL8n6gZI7GK9T8oNwNJj6ZaENwoDudvSd7ERlcmcY4Pwp7R3AvP9VaDxYV7nqfSf+DgllmT1C0vb/Dol/i/LXi+Uq3ML8eNwXYNrG+iPijzmyalmc69O6tG3j691+dvO8TVOI5V67JArrZZklXjrZLDYLFynH0Xk3sks9+OUdh0wZxJ/kVnZSfiJ1I2WM6QF/7x3ToU/5WPT1gfX0qlNPduWLYbn5GNd1Wsx7OmSCKGfKY34VjWW2TbJ8F7Mc38TMeQbxP7yfkZ5ogKJmlbFdM+9B8wBTZFgGHxeebpwYy8+4AxYZ44+kd2VLt/6eiX9rFzYXylDEfUe37sIDlcpGbWS7Hpn4tyidU68stLaXYUalfDI2Qzy69uf7dGrPVEGvzD3HNB9eYQv6GPuM1Pdp/R7S6+G9koj/GQfraXXCY2mXyXHETuQ7u6lVnePPM1V2yVbJQIHbLI06nRIHxkjQPTLxZ3l45ozrakNr93P4fGcdKkWbh8/pObbTdjszo89A/ojsEeJZ4Bki5W8+uYp0zk4Z/nI3PR8Q/xJUNx9S/v4EzNS/pKV2ep5nu4zPP4Xd7S+72ODb+Xm1/D71FtR3Dmgvhqw/RlQjemt3sBmSn57131l2Y1ulF1+u45DJI61kDyeVxMl7tthtt/4Rtj/fj+iBVwx6w3RI0nxs+vpAWXrVqZDfYM8vl8o0xN3HeOiP7qCFnjd7JLBOvy1CDieWPTeDmWzizzhwcR2V4dB+xvJRPMD9G+sfwKxJmWEZeomx/Iwrt8X8UfWOMnu2UdjFPSGYP89tyvpk+eyASuuUBzcxu8qyvLoVvmLX7MpIcWYF1pfetntDon4fi1lUL6XUFabeg/pSSvNhLA0vzQ8lS8TfBGLpTOk7g/msfz5vvg+XDIGUy5xPifhjJ7QNzdpNaO5T3jyfJIIzkLihVnTGmmjIzbGINSa+okPjmR5DbpksCWLTCbscoOWpFwcPob5wB7bVJl0+JcieQGEGKJH6FRaIeBYr67DTvAm15i5s1163S9MoE3V8el8D5dCqVCk6SYPlMsvv3PlR58wzYJxKUf538O/L47Sp8Dt7mooZTLD+eJZMb7JWJybR5l2dhoPpWivQNCcX3YGF+jYNDvJ9Pvd5tclxSuS5UmddmIK5xo4uvxu9oe5YNzGbtXi2jTcmSuwwURCrJUQic2UPMMSENMR1oY8yaXLDG8JbYDb3GtLIuJmCyvImnXCCm7aXoL79ndpQOOVsMmeikoNpJmiIm51NqNWacOCQNF4x4NQdHOAfhPimTf4zxcPjKfR5Imtq42wE44E/ss9wPOAZXbth2myIVn70OnxQ+98zYlnLpssYn4pgjVOFzMZy3iSvV0Ixp/1f1KEER9GL9kOOk4WCJcQq/pB/mNOacmKsiWVGbtpsq/xsBxoLK9A8+M9Qz4stHfVuCbWd3OANuHLlEfuCJagFhwmwv1GsMKcPcV8g7YqHJ+jNwa3dBiwgfmOYZpmFLXU/znGyAGbPmfF//o3rZX/CWMOxng9CYOzhCUi87yo/fp4FHhHS6+G9koi/AX4C7llwzl7biMR/trqiXgGv8o3VEZv6WDbTsXJHiFgygVuTB3sEIRN3JhVM/nlWjq+PQ3l11TkiEmfhPvlEHBGpCM8qrGKHJcllBMvO8X6KfBPxleQa5f9kHZbUySFTUFldgoo4otKZBTQzhXjk3G+hfp2P4kT5S1Ct19SpPyY3Wy1Ri2ME1ZGiNdpTIJbfzQkhdIypSj3CYz/XoLn7X8SRpljvOjSWcLCBBKMGtcr/ZI4k1ccA/p3uzGngoFcx/CPzJKEk0pWry6zn+Vnec8AdubBn/Stod9KbePtzls2YLFvd1qBujkIl/X/SCLDTfJ4lezzmxXDdb5k0notQunLFHlVrBmUkl3/MIg08nsrjUiX5z8M0nYylT7ay5BiPDNXv40D94TGJm9CoTtF+nm3Y9PVr7JSnU8aEGPg5vhnx+fp/ysb4W2V7jC1ievyXUF/FI3Q9jJlUJ30dY89S5TXA9Lh6cxeeZsUyXl0z5c3Cav2X9uQkvE6pJpwWo+ouzsAHS1dgHFNU6k0anOXohQa/5lQgRyceFnkAbFZAxO89xFgrtzy6WA5M5GDPiy3d6N2P1TyZkYFdfayzaAsOIsUxvDig+aTxPuCg1h4BmqNTHvjwCVlfbbj+z/KQrnkSwG48RlliePRjljxeFPs5fbKaGVyxLXuxMT9zSj6Hl+aHkiXif0pA1yuhTfe7wXdk9YEzljN01v3IYJk7GkH8h0H2kdTlaOLYTREZzTZ0jBkJT+HRlSqd7RrM4GB4GHw+yXBIO+Cq5gWxyil9GFcEzp6NQ3o9vFcS8U+Of0jHl46evp9MJ4bpEBWYNalIo2KHYST+o6rLUbG5K+fpJ/4JT9GYiDP5sxXzmt8AFQAAIABJREFUXpToPalPHv4+GQe1U/TCQd9eZ9TGw0vzQ8kS8fdBm/4e/qCTbERv+VyAqkphcEnV8HemnAPv5e+elF3Vsvyo6nLUbI/yco4w56ePYhtyZE54ivYhKl2s+h7U1duXc/R3UnEg1Ru1W9if4KD2LbhgNl1bW55lG4f0enivJOKfnL1LZ7fOHQaC9FvSSbcY4Pxnzk8Wm1KTL54BX/T3QPBel27xk+5LsSZh4CQwYDdcy/1RyRZsi+Gl+aFkifgnsnEGyEYKThyc0mfCQsJAwkDCQMJAwkB/MRDS6+G9koh/Iv6J+CcMJAwkDCQMJAwkDCQMJAwcEgPDS/NDyRLxP6SR02i5v6PlpM+kz4SBhIGEgYSBhIGEgVHEQEivh/dKIv6J+KcRfsJAwkDCQMJAwkDCQMJAwsAhMTC8ND+ULBH/Qxp5FEekSeZ+zKTsw3ajBpXSBJRP+ixqPD2kXoVyMW2QTdjuB7YjZaiXJc3Gz10/2IZGrQIl7yVBvdkCN/tegXL1Y9imt5L29nxE5hTTE3lLGEgYGDAGQno9vFcS8R8wOFKnNtodtX176vgJE39+xTqejtOJ+H8Ljbc/gObz0dZ98p1+2a87POg3+L4K5QXvrZ0qZvK7GBB/R3wR28FDqFemoFhehoeJ/CfClvrkhIERxMDw0vxQskT8RxBgiQD1iwAdrpzhefkQH42YT/zVMWzj1UT8k68rQtEVHvAlPDOvQqm6CQeZemPyf0Tir8rfg2b1AhRn6rDTOpxfpriY9JYwkDBwUhgI6fXwXknEP7NTSw50Ug407PWOFPE/2IJaeQIKifinWTSMdV3hgV6wVZyDxn4rR2/9JP5taOPbQIuvQqXxbU6dKS4Pe3xM8iWMnkUMDC/NDyVLxD8R/9TJdsKAehMn5jJjWsMUXKm8AcUCpfpgnvMtnWd/vX4L5kpFKJToVeYmB5peVlWqwHJzF1rtNoQpQ/LFVmIGVeVYl6Go6p7w0i7EjH9jU6VLFPC+0jVo7D61JE89q2UYrzbheay9ObK289ooy5J7DhpNWK+S3KU5qG9/C7ub70O5iHIUoTS3Drs0s6ve9liZAiV7oQDF8vuwifJj2ZQGgr8Vy1VYrVZgoXmg3v56sF2HCuq7MAHlag2qs+/HVzUOKVe7zfs5sA5t+8ryppLb2g+vc9oXE2G8xjbch+31BWo3tmEB1unNpa3dJtRRR+PXofHgY6jiAA11U6nD9v4ObC6w3adgrrGjcKN1sm11q9pO+fFOO4+Ah9ZDqE0VoVhpwL60b7sNjq1Kl6CiZKa2xnDyP/7Pxq5WT4xbqSckS/RG56kabKdZ/xSXPeydRTKZ2jw6g6iQXg/vlUT8U3BJHUwuBnQKQkimkew9gGa1ZIhNceYmbK5fg1LxEtS/2ob6zITNW+aZ1sIFqDb3FHHdb8zZAYSSgYiPIY1u3TrnmkkopvfswW59VtWv86Ofw0FzAUqFIkyZ16nTgCJvxl+ldWTJ+v9kt3GHyLmSXZI5S95bO3WYKRagWJqB6/WHcNDG171fgmKBZ3apzWqwxPLz21z1Pgab/oHPXtPEX5HTV2Gm/qUmxNiGSzHif1i5SM7iDNQe7gMOAh7WZqCIxFylv7Tg4OGyIvQuQf4K6jNXoK50o8sYp4GMsZ9q63+GenmcsMMDOtbNOJTK16GOAwSyTYFn39XfJRoAPoXdxjVl71L1LjRrr1sscp3bNZjqFQ+7dSibwYzoeA82oVoap0Gbbb8e5CBWY77wv0Htb95Wg2Zn0In2uzBLuuU62FY8aOLr6TMRwISBhIHhxsDw0vxQskT8c0nfcAMtBYLjt49+TTmTVKyP0iAMMWKyIu9pQ/hcG5gEF2hGM0wZ4hljIj7Pm1AdL4iZV9rQyySwzXWLHP/gmc7Ev7OsXI/bxhB/fJ+Qp031i1lcp9086ODZZZJfk0Stj+imT3XfBJRrWzk56IyPw8gVmfVmEl54HWrb38VnqPcbMDdHM+VqcPKaSF3hDdmsx4htFOmWAzcXE8pWxv5taNPsvB4YPKWBoNA/6bNQrsOuinWROr0YqO0jylC/+9hD3foDVdYzt4/1T/cJubEdF9jmpn72Lb9uLid9hj6XdJJ0kjAwDBgI6fXwXknE33Q6yXmGwXmGSwYmMu4MpENcY+Q7ek2QNJp9d8tB/Lkkj0mdnVFmeZgY+X+3od0z0YuUgT7BhFLJmnFP4Dux+0KiGbYb69uF5p2blO7CM/4tWsGgNJvaGjQ5BahNqyEqtakCtTtNkzoUYugQcikCznJwbGDizvpnosqrODhjPwdznKNOZXAKk/3k1KBQN+2gXomJ78wKjy0LdcMpM/w7y3cYPHAamihD2ZlkNQOICF6zcN9mO/KAAPU4KwZErN+suu3voW3Tb0knCQMJAyePgeGl+aFkifgH5OXkAZSceFhswESPZ3i1XC5xjZFKfi6DPHVL/DkthtNNeMbZzJxG6u6Z+Hcja6SeqN/E7gvJrau/p5T7j3n6q9B4sK5WOWxaSAsOtu/CLd4vYFKl0BaYg79qBgtmb0UgW+9y6VUQn/hHylHpL5QPj4OlmfegyUdSKhLvY0BiO9RNV8Q/M20rIl/PeGDyzSSd5OWBoFi5CQaqmcRfDCTx+eeY5vN2dOOwxkaezqT+0vfUVyQMJAwMBwZCej28VxLxD0jCcIAoOfMw2IFndCdsLrnZmMuzthGyZdKB4uSJZ/A1ueRysL1ydve52nvR2t2ABbWBUs/sys2h7RjR6pnocRvzZI21MWaf2H0huXWIvzrJRaS2kPyW+Nt6TI68M+uMv3Ouu9SlfS6qJ05BEiQ6lEumWWF5NEgyAy957RLcWv8AZs3eCj6lhvcECHla/wjbn+O+gVA3+cT/Keh9IbzCYMts7X4Onx/0J9VHy+DrktN1LtH+Bazbx2vM/iwj7194HZbq70XSfPA+ft5dYUuxkHWYPhMWEgaGFQPDS/NDyRLxT8Q/be7NwwDN6BaKZVjY3IVWawcac3wCDRLWz+Dv1aZKb5aSc9fNCTVETnHjL2+KVaS3QGeX88y3SN34+nOoz7yW86KwyGw9lcn7CAy5RLK6swm1/7+9Lw6N88jy7D/Vf1h/XAyL/5hgGnxiL3cwSxgugjYoEIEhAwJfsyJnzuSCDO4DDTMgEKygWYHZBJmMaRazZwZh0G4fCV4iMDqumdsszq0XM5qNWV8ODwINBrG7Y6KLNPiCwSB4x6uqX9Wr+ur7vm65JbWkMiT9qbu+qle/9+rVr6peVc2vZmPiS2WNlBPFDOnEIAIzxRmCbci+mhXHKT/uBBw9ONqi1esfOLzk7Pp3q3T9PZz5HoaShJ3jPuSyqy1G7+pEmzt0+bzYUGwwwOpAxcb+o3yQ3QuE04DUKsXSHC3xHgFgIwYSyMsNfECuzaoTVn3ECVHq5KPrn9KDXdRT2OK+7CGyv8GG64iN208YD2w2Z/k26UGsLcBWIIvd2A2c8GkGF96qAn5Ln8NKeJJcyTaTDbzIsush/iYRf3RK6TMNAHJswJt1H7lIP5t7n86MjNPM0jItfehOMsncoOsdxekf5agdJU6KYbJ/gaaW7tHyzAU6PzVHn/Kxn94gAwMC/uRNrf+NlsUpKqrspXkaF0d36g2dmA13hC3qpHNlBfFE+YJUeniF6c7Q+I0bKmzHxqOfmaHPP5+hM0LGMx8uUQfHVvLg6vM7NHeBySTj8de0fH2KZj6eM8d2mqMuOZSGif+7M/TxvDtmdUqdGhR2wvuUSx176gYiqg6s8zsPcgdObrAlZOC9CwuQkY9aNUe6YmXGYvEu3Vj6Tz42M8v0eajj1S3/SE11/GeLVp9seKfqvJ49mFUgMSDRNuMPTnn1aW7qB+qY1aXVB3QvIqtva2ZfRiZfg5caGIhBo2dfAtP0ffLVyQaSDQyZDQwxz8+Iloj/kBmP31Gmzu5048FE6ZI5/lPYgjoa9H1aeqLDgU43RgKX1JYHRwbUykLZzb39Yq8HFGcyp/lwPnpQ4I5u7TfvlD75gWQDyQaOzgYy7HqIv0jEP5GFwZGFhOUAsTThK5l4dnZsv6Hlyx9GN0cmx390jv/EYa8GmLgzYBC4cijPeHYgu/tEXVZ2ZnyBvsTG6ORLBuhLBqG7lMeJa9+pjQ20jQ0xz8+Iloh/Mv6BGn9yjoPqIBGvLePD9bGX966/R+/i4qpkv8l+D9IGVAjYu3Rx6devjbO6x+IPw1t5eUPv+zQ+Y24fPsi6pLxfW4fJvw/Kv6d8TpotZdj1EH+RiH/qDFJnMKw2wPHhSzPqdljEyY+Mz9ASx/8Pq8xJrtSepA1gA7PdiyBve07k56SRn1SfZNOn1QaGmOdnRBso8c/knr5ICCQEEgIJgYRAQiAhkBBICCQEhgKBRPyHQg1JiIRAQiAhkBBICCQEEgIJgYTAwSKQiP/B4ptyTwgkBBICCYGEQEIgIZAQSAgMBQKJ+A+FGpIQCYFjjsDeJnUXG1RT59JXqda4Qd3NlwdQqZe02W1Ts36WRptdenUAJWSy3FmnTovrNkntzUMpMSPCYL54Su366OHhNhihhyCXPdpZ71CrMUaVeps2IdFmm+qVGjW7O/gmffaFwDatd1rUqJ2levtp5E3+/ebhtvWIFEfy1cB8zn7a/CvabE9SZbRJ3SN1d/uR/Ui0dewKTcS/X5XtfUN3bn91OISjX9lS+gNEgAnnHd3520uXxqjR6tD6xmfUuh3ruA5QnH6z3u7QldmDIsrf03rrbaqMtWh97yVtdq5SrXKOGp2tfqXMSb9FnSvzqhPaW2/RmMH/cIj/FnUa50hvrj5OxH+PtjuzNHvgpNSQhEqVatMrtLmXo8Kh+rpPbF51qTlqLrCTxH+o6nRUwri22a8Er7pNGlVteTRK/N3vlVM2WN2hbrN2fHzOoPqWQeXTryGewvSJ+Pel9Je00b5EZw9rprEv2VLiA0Ngb4M602NUqZylerPtZrLFLPfhkND91lAT8wOTce8RtcaqB9Y5K7IvZ5/UTOthkgF0xMeI+CudjB3ibDRjdOV4rIjsBxuQ/0T8PSeUaZver+V/aHIfJ/7q7UNv6+UyH06K4+JzBtW3DCqfw9HOcS8lEf+eNYiZzMMkHD0LlxIeGALb9Kg1QVUm/a2vKLuoP+yDwT3aebRI9eoB2q0hRQcysNj5ilr1s/6y86GTgePSCaMRwGYPMQxlZ42aE4u0PvQz/vvEJhF/GJf7jLVN92tPT4n458F0HHzOoPqWQeWTh2X6PkTgSIj/3uYaLXK8pA2ZMMuoNoaWwypuUKNWpQovIXvxwoi3/CHVarwEz7+3qLO+resGB63ynqRb3c9ololDpULV+hytbW4ZIsdlhmQur9xtWm9Pm/hlyMqzFA/Fkhz//TVtrs0pklVtzNOf1EdFHU0nbEhLJcWGhrY4lH/vbbRpolqhSnWaOts5rGZnjWabn5GxQKKddVpp1qmqbJBXCe7S+g7ehf3C/n373tvsUpvfHb1GnYd3VXyrtvE2rW9v0Nos8h2j6c4GIVeibVpfmVW2p219llbWf2dJv2trNWp2utS51aR6tUbX2rdoWrUz2LX5xMymtdfYrBzCPPx39QAA8bvchvn3MWosrplQEMbgM7ql6nmV2nc5NKhKteaaP7ACsRB+QuVtif8KPbTtMsCjUAehqRXrhAid8DvUbHNMsq6T9idmH8POI2obn1atN+lmsyHCbGK6YWuJ43BO1LdSAe6QgbHklYffCx/J352l+uwXtLkHYit0olZLcuKlbSyxSV9r0GJ3U9sVr2i1tZ00O2u2fpXaVerI/Rts/415WvO+K8JD4O+V0XXtpjZN7fUt609VG/BCiYrsi/MXPrtap+bNJk3OrtBXahAfYiPksY9BXzA1pdsW2gXjZtqQjfEvsIGwz/NsR9kB2jr7mjrNrhkdWHlCG+K+DHtohG6v3aK7anXyLWp2n2scMn7Beqqsr1I2ZAulXLnz2makLs2VddeuxSop+4SpxjtUtTbuyrVPtq1zmGLgb1gXnv0U2Sj26YR2ruPI4R/Zv3xvQ5A4rVnl8/zg12KfUYEPspXQD7lYmnTe77VL1FC8xZTv1bPXdiLswkQp+P1L23Es27akT0KMP3+HtNyftag5+VPqfKUnlICd5jQbbl+GZ4vPcvyVI/25+bDsHq+r2L02LhwMfpJl9duSZ3+BTk7rn4dP/Pe+ofYEE3HtmCyxqs1SV5GjPdrpzjoiYNJXJ9q0wSyHZ5ZUx4sGYfKrXqL2hnaEzhgMsbdlotFfpZXOnIkVNvmwwyoq13b+wcypCXPgDvqd5m36n2ZgMdro0LaVtUpjrUeWpL3qztGl9jf279NqfMNfb9fRVFmfvQisbK1mSBhWiRyp1faOAadwesr+/7fafKkdIIicXlHgzrFWv0ZtHuDCnu1gRKcZVQPbl7S3uaLJPNqU13lKAlmh6sQntLZylWrVS/Tztf+q35NhNcRLsBM5qx0GkMyMv5G5OkGtR4wayKjBwXPiZ2ni1l/TyvQY2Tbu4Ww6ZikTOmHkj3am9hgwn2afkK8DL3tOrgZ3eTpRTscM8Meo0X5EO/TSElIts16mdvJz/a8a4l+gm+drLna8InH4OT16qDtV3+6eUntiSvu57Q41qrCr59RtvkVuMgF262b8o3sjjB1V64v0iH2vJXPsm3+r922YQQiIqs7H92chnqRs5m2hT4mHTA05tV+2ZZjBdrU2QdcM3hxiWbX7Rkrsi3XKe0FEn8A6vqT2uKBMh42USD+jL8BgEvYLwqH1rdsp8imyAbNPRLXHV6afEf2Ist9Rs0cCPsP0VcruA3ls6KFJIweK1Ut0a+0OTdfO0UR7nZ62L1GuXyBjN2YgZ/2Gyo/r9UTvb8mTm7JtU7WlUTNwsXJiEOKX5+wNpC2rCfJ8lyGg9SvaDxo7A2G09qP2AQkbLbRzHhwZuaw/ZZfF7atCrv2xzU3TdGdL2xYwxyANPAA+KFOVfmxA9Atq4PG93mwbtsWSdpJp85BR5YP+Bbb8NrXWvyeSaeBz1XdsT4azMJ6X5vTGX08/RI578QBW2OKfzNFUrr8i8vVs2q+pr11Jhn+SelKDwSkrW7H9ZZRyar84dOJvjRHKs4ZmNgPav+FQQVS0Ydr3YZR2FkA0dBADjNYFabezVTaNKaekXDfrJxy2Mhs3Y2ANVJiTldd2Qs+pu3jnGCyJi0qc2kfYXqhzBgQEQna+k/Tzv5qnMdg2J4Ndqe9+r8mU/J0MianAfrOdqXaK+J0zhVwY/HKM/ZtiMy2cuWlTgXN2socbcHnT47QgWEb+t67kr3YoKPTmR2v/ps6u0+R8MOA3HQxIg4cFZxb+y8ND6sTgYfJSbU7m6+nArZHokgxWMn1GJwHe6kVgzPXZUgMDS6BlFVTZBbrJxcEQBUkktjs0Pa0HoHqw4vSnO1z4TNgm/jYCBXagfZPLg1PpfCtmo3YkHwzaMPMt62qfNV5RPGwaPETKACai7rp+hiD2YF8qPQaGKEp9xsrzEtg269mvIYLuVJ8wn4I6g3hi8iAYKOu6CT1k6ufbN0ub0Z3RrSdzme0ZOdw7QVsokZugJ9sX6/ddfpBTE+jfKUIu6knwN70Q/zV6ziGLY8Fqk/XDwtYDG81glbFzyClkMzqwK738t/SDQVvK+OTApOD/LDaeDQS4q3dxqAAmJkN740TGN+a1E06SkTPrT722pcoO0ihZMTGiErj/ZfJ3Zdq6WrwdvrpMobOCfGy/Yu0FfQiLsUWd6Wumfyq2v54m7lzNTvTT0RF/OAs0MMzmoNFiRG0/tdFog6mImF80CMzGOMOzy3SWKAmyYAzNzpKVlOsatshDmYZpJHnLlZbwGOK2fZ/anw3qtJMTbZtDUDnjkNkG84gOZpsVcXzpzcxgJkp/sgP/Rz2jD9s3NdQdE+wqcLqcJuMUAyJqbVkOQvjZdKiZ99FmhOMF2qY+cNos21sgLEgTfnqdWExefgFYosxIPcN81d+RdJn6SDz82bGsDsLz6SL5W2IFncj88T5IC9dn287iqpCm1h23AbxMN+i8A5vgMCA9CMNsqZtxlDDx0v1tFXLC+ga2Ofr1cMtJA3+s5ImkgZ/Maw9KOMxQs0x88pXAQwqvniNlRDDxyIlXD2QY2BfapQoFXaDbCF+KEUVkgU+Vf0BGM/UO5e6hzhyucfsTE74H24qQzkz9Td3k4DTEIPyb62K+89uA8AtG12jrbkIAdmQAyZHbEk9ru6Yt2T6byzL/1W/S/+AjIu1knM7b0yvwl5+mDtV36vRONZBLpQv1wHMy5hQmZaOR3/k9z87d3xoL1uVP6Z3am24SRAy6VbEZvGM+QlbEPEexNLh5bSrML1aPrO/K4JmRs4d3MvaHFcUKVWoNat3uutO7Mvk7u3OE3eEQ91c578Ty9lY69UTFpJkMsfYIm5OfHrZOntP6dOjEHyPf3FAfzKxgIBBo5sCIf0m5+yb+tgPnRvMR3Vr8hD7LixUP6pr+PHoEQMp52RKhZL5U0pEa52w7Qj9lprPBz56Dk/mZBN7v/F3QKajfY51i3vuxTgTCgEDxrMpzWm9NipUEpAk+A+IPzHzHH5YZqWeQrf4zkq4QD0P883QQlhESAPzulRHgrdKAmAN3ERurOhxD2Mt0k+lkIYALa1RkhOWc+KkJh2Sisqn3e3D8+q3P6GHnGo32RfyhZ8iPciXeoc5CUoV3Yp85eGSSRsqIYCIJTW/2xfghDp/JJ8KiYuX5Qun85QpbrN6xfPLqjNAwjo++SZ2HKyrEy7YPzKybkCusujhCjpUYzLpildDNoILk2zy5SqW2Z/LByggmqewAo0TujJ607XgyWGhhb3K2FqEhwSDLvoM6VEgTf96nZ8LSbJqIHjzij3KL7JwzM+lU3Z9RpzFJrbU7JtxnhZ52rtKEvGvA8w/8fsxHWCGJbHhgxAbgg8TMfTa/SD0z+EfwzMgp27eWT7Yt/U02jdozY+5UUIO5aBipqW+mzDJ/5fTs2U4sHy8si1fQG2YvC5ddZH9GtvShEDh84s/FZjbeySMS9dGA7KhlXLzVFwi6dU5o2G4GBU7QzS6gUcbSGIeAxpdXrm3YIg8llGkkmF21gooHm7eMGRS/p8fhRQCdIRMHuwFKiiudJMggZmldur3Nr+nrHe5QzmU2CmuigU5c5mfezzhA2LNZBg5mQWype89o/ettO/PnnGqsE7FvmXCPKo0t3KQFubztkvhPAfHPxsdyctmxcrhNpJ5+ruavSLpCPF4GM+UuU62DMNTHLKlbf6LT+zoJ8FZJwvrIcsweC55lKtNNIQ4o4xLdWpmnSbtPCHbmSJTuvEFucvTr4YY8YHdGfuOrNOmM5OORKlfnoicbOx6ddYuUEcHEIyemD5DEOGtfQiIba87tBStCwEqkwyPyx74y/j5T75jcyIDHZVkbsP1Z2F4sKcQMeXgggCBOmMXkAZ/cNOvp1shRanss5xf28AsmdNU6HwpggiLM+/lyh21TxrHLdvaSNtf/kTZUGOFZG4+tYeWz/MuJ/2jzC0W++YJAt5dG5WBWWYU+PV31YucaL9vmb90wIXXwDT+k+jsTOgbeQAuO4XxqzEcgMfYMCE7j2QDKkZNLYX4xewvxP0jij7pgD0reanKMxEMHef4q9k7Od9wUVMgY74m6QwuT8iSxIvv7xm0wR1VO8ecREH/eKDVJb9lOLEQfsxm8OQSbA/mEhY5ZPseyE8iVUbZYIdCdBDtRGBrSOOKtjYfTwGGUlYuGqPN4vnGfPvv6e9ch5A4YuH4YnECesM7p76FGAJuKVMfYpLYNGzCbzXizOWaYMVCQp6PwaR+zt9W+Dj2bh41V7MX0HQG2M8MgURBR2Gq2k4E9wXblyTl8qskCtXnDliEF1cYKbXQ/oZbduAnbD9HPtpcwhfc3iJINCcJMojudRBMhuUHMDPCBm5eh/MN0bozHxhq1Wl3aVo5fDsAhr8GjRAcyd34u1Yltv+HmXpCYHerOXnUrQl64VIluoO8cHKB758tYYpAAs/nUTqSAxON3/nuduq1P1EoB8rKE2eCETZFqVpIvX7OrW/Bbwk6MrvVlbSGS+LsID6TBJ8qA7KyQrG1onw7iVG5f/gEKcvMmwvF8bCCN/kQfg3YKsmOIuZqZDeUuqLNqf5g4cKfzQA/a/hDL7Uui/zL1jQ6cdAro1vkI/r7M9njfzZvRy7NUriVy28G7bJtqw6k8qYx95G2aba/THsKv7IZY3I/CuEK3uj74v18v1AerN5wKeiiw0VI7N6XB7iyXEOFb3mw8yGeBD0IF8FmIpSsHbdEOHNVAj/0ar76+TRUrWy/txMkJW8u2LZBygT9wQB/0qkuzl8zhKvYQFNNeM33Lc7v52dki/FGev3Ik3/VRLh8rO7CEfBGb0W0px/7wfvqkwyf+xlBs7B9mMCRRkkexhbMQrDSOk1tsqOM1sQRYwdITRvvId/Qjat/k2ELjtHl24eZNcZqG3C8gjoCLlOtmR7Dk6gYDOn/hfELj4g7zLb7ZNPwh/X08EOCj0drBzb1sUxzDfEvEELN5yuNqpRPimnJHKI4bU5eCmeM+Q9utTNLN9kfmdkttv6PNDt23tzryd8bmRJtQtijbk53xZCLzC2pfw62Q4n1PCeiIBBnzfscfcOhaNr8NOIKjvpczlGE9c0ivLsWRLu4Uv2hfDfC4STe9Y3M1gSrWAeTHZ4FObBIcbWnqKvHl1cDZBjVvLbjj8Rptd4Rrnm56wQGDmJB4iJlaxuU+TilTx2BuuxlnQ7JeekcUij0rdtCg6+VmfCO+rd2iuvWjIg9gZD9L8JDpPFuO++b793HDq5ZRE4oC+1IT9HM02bzh2qvBhYu2pAoE1MojHhBKpep7lurzc9QY5Zl4Xp3+Z3GMM8vEs58P821A5sVl3l+hhTE+ElYPJLexOiCx5Wc58aVuwza2J9Jx6MtXKsxH0JyNAAAgAElEQVTL/eYIl99X5vsF965uw6Z/K5FbnW5l5AJhVYNHexQ35ysnI4IVhuoEzS9M0Sj7hraIGzdqcBN4Rr76TeqqfQLm79EGNT8KfFmejebaudA5BhHgEvyTIpmjXvRBKNdoM+6DZM42NE/pNWsD8qQw1gG3w4XGm8RHA7e767S2j3aidSl0+3ad6riBmuXohRvxnoyn92l2skm3WppzwW7VnTZe3/IFPV2LtVVf7zF/hQkwHEsc5uPvscMAEBNfEml5DG/W/mTK0/x8+MQ/IPWecWKEeRI1sv0ZzS66Iz1PYhVTnU4QAjxQHS24u+AEVTVVJSFwpAjwTHhd7N9QwpgjHSfaxCf682bTenjPhTom95Ife95XRXhl48ciRtq8rFY4p47HLcx91TclTggkBBiBwyf+7OTGfuyWxZUeMMNYtNx5nBXGy2kLtMhhF+lfQmDoEWB7vUJjGaIx9IInARMCxwwBJt9vx8NtcJKMCpG5FCHi3E6vqbPl+6+06XOj4UPyiMT+c05vJAQSAsONwKETfx2zh4tRDDhmSXFUbqYabtx6kA6Dmbep9egR3V78orcLoHrIOSVJCBwoAiq8JNjMdqAFpswTAqcUAcQre6FjJjRioqEmyHSfGYYM6hN3JiYRe90vfoiN90NxdEjKJZrEZU39ZpvSJwQSAkOPwKET/8yxUCbmjY+kW1c39w49Zj0KKG7fC6+47zGHlCwhcHgIgAjos5oX7Qbmw5MglZQQOI0I8Nnm7WadqjZ2H3sJ9E30Om6+bc//V+GxOXHxfeHHe0/aTapXXRy4jinn4KL0LyGQEDipCBwB8T+pUKZ6JQQSAgmBhEBCICGQEEgIJASGF4FE/IdXN0myhEBCICGQEEgIJAQSAgmBhMDAEEjEf2BQpowSAgmBhEBCICGQEEgIJAQSAsOLQCL+w6ubJFlCICGQEEgIJAQSAgmBhEBCYGAIJOI/MChTRicSAd4Ad5svZhqjZlddWXKw1TzQ8vhyE71J0Lvk52BrVJ77gda5vPj+UphLywovHesvxxOXemedOuqyn7LjmYPLdoKTbY4cF7v5teBixiMXcpgF4IvxOvoSteixoa8rO1+q2KJG7Wz8ONTXzX6/76vLwiZf436F/Rac3tMIPKX2xCQ1V9bpEHrsYwl6Iv7HUm1J6MNBQN5Mexid/z7Ly7sN254Swqd21Ohaq0lj5rvhIf77rPPhGMAQlrJFnSvz1H11kKLx+fCzNLuvga688beY+OtjKvXtm7hNt9roHO2xx9sdujLbpVe4xVW1lwNo+3awyzf4mlN1ag1qdR7RRucTur2Zo2C+WK9apVr0jo2n1PZusXan9agyOP/2L6i7idOC/PTVouO0cYM0ZO2FyMubqXtJr0y6V9vjdNPmJCS+OfnpQTaInvPWdnyO6rNf0KY8Gmm/+qYt6jTOUUXeJmyl8fVn7Qg6yuhb+lq+GfpScJ+SzZj4JKmN9iVx0lRxW5Zv7olbxSuV8BhandJLEx3w86DxM2rnTSAwnou4SZjtXB5Ly++2qVE7R/XWV4n8S+WY50T8I6CkrxICDgE4ywPo/F0h4qn/8vgK+bP1RXpkjsPVV8qLznDnEbUb71Cjs0VkBgnDQ/y56v3XWQB2qh4VWT7o1QZ1tvzrrHCB/BeRBXN87EHXpS/r0DK5tnEwdolBTiU4knNvc40WG2NqkB5fXRRkLPeWexBi0f6J7wUQR4ZWJ6j1aNsgg/RMnt7K3uKrUuFOGk5zTvuRXnEF+e+V+Pdpexlf16tcB5FODY7OZQZl+9c30d5GmybUcat5uEN/veqbiNTgkXWZN4AkInVpnB6U9jUYV7dQX6H2OtuXvmtCHRcrBy4q71GqTa/Q5t5L2uxcpVo4CLEyspyhH0E7GKNG+xHt8M3WjxapXq3SWOuRO4pWlXOOJtKdFBlrT8Q/A0n6IiEgETiYzl+W4D/3X96r7jxdYVJv/sU6w731GzTNs2KJ+AOm4/e58xW16mepcqBkeZsetSaoWnmdgW4vxN+kOdC69KNikIcKHSjxhw498i3kVOTxh/GwQkOK6/VaMQFXbdwngroEQ7J4RlgQMTVxUKvRm5UKRWf9lUxvUq12rmBQIuogH/si/v3bXszXyeIP79kQ8HBA9jr6VqtO71Ct/g7VWDd5q2F96ptYJ2ffpNqb1ZxZf02sR41NuPZQhiZjMEez3eciIe6HgT8xf0uczCV22frh3ZD4G98h8yC9+uHnkaMTId1pfUzE/7RqPtW7RwRiRJyXEu+6C3V45o7jCdHJYanVzHLpzolnLtAZ57yvJIqV16OoJllhZ2iJ/wo9bE+rDoWXSac7G2KmZJ1W7IVCfJnQ3ZzL9fRy7C1OW1+gjs3vbLDUjVhchDXIZVkWWtb5YRCuAKcvlrUxe6hiaXHxUVgm51tcrp0FHb1GnYe8NMzyVc1MVAxzUV9LWPk7vMtYtag5OZcfihPKbLB1NsJ2wp3kJnWbTPCM3bRua9IP26owQV2j5+ufkcJ/9Cq1716lmpnF27azx/x+har1OVqzIR48oyd1zMvxbVrf+Z0h/fodVbat5zatr8zay56q9VlaUbN6Gic3W82k8hI1eICSmakzmBob9EITlA7idVEzeogVV/UPwgdkLH6n62y3Nk3t9S3aXJszcufp1pF+JxPr4Dlttie1Pjpr1Faz8Vy/q9SxWBa15dCGMFNZQOJ49rK7QE0xkDcI69CWsRY9eqpngaMknRPnEkH+0YSOiJl7tr1zzTt0l0NKIrP+apWpdo3arYkeiL/ct1Gl2tSUxh5tlmeBuzdMW2M7Q7sF6Q9tLy+9RgW+7p3mJ2a1hENY6jS75i4h82wzbAtqNZRXWbiNNOlmsyFC3IptXktg/h8lr6+jb8zMv02tR4+oPXE2h6T3r29F/M9do5W7HCoVmfVXdfkhNdvzVFd+hkPf9vvP+HaQdINTxdoD5xsZDKji0C+gD4AMwPWsm81X+b6ZXY0yoXHeSgCyOcWfififYuWnqveCAJwPZizM8uuo6Vz2NqgzzR2HWSa3MzzT1NlGkCfnMWWdlFq+zXvfI8H725qEzjAa9wrShRlHLOmOtWidxVWzezVD3DFDGOkcGDq5HGs7W3TgcMrGSaM8wu8yzwBji6nDnItjAvKWDWl6Tt3mW5aE2eV0RQz5vX/WMap55aIDUulBPjDDpOPOM9Yh3wEhVt+J5WTG71IO8S/B1tbBzMYqwmVxZWnM4AdlewPNszRx669pZXqMqhM/pYUpxAW/op3urBrg2Zk7JcdZqios3e96tizQhQJB63DUDB5COXVYAJbuJYkOO2yJaDDjn1uXNj1VRPesidcV+SucXhpy7g9wECJRrU3QNRUOALKQFzIBAhWb8WdSyKF0wMqFFBS3ZVlfoT9BusMU+X8zYR8zPgTkPcdOC4k/QkPc4EMT/y69XG+pPUD+rCnK/Zo2MAjK3fuBkCBMJKCtV8gSPUPE9B4F04bt6lLE9grTE2lfh4HrHtnYcRs6YrBStgL9Qce6vbsBFNvIVUP8S2w+VFQUc0xWFNhcmI/9W+tpVO27gM6c3dlk/BAtGynwrtO3Jv5N6r58RK0xnvWXfZUod6M9AOKv8bc2ZfoM64uUmNB7aM/4PuZHtG2Nqnb5vQoXGrN9A+rOn0YH3kBD/n46nxPxP516T7XuGQE4H5BQ01mIZVdF0OxSLBytdGJb1Jm+ZgYCZe+H5fUsqE3YC/F3jtdfNtVkU3QEILte52CL4p6XmqOiY+ef8A4PJl7pzsU6fvX7N3oGqwKMInU2HYR7j3GbdDM6plz/97ddJ2ZkcL9jUMMz0Sg3INK89tBt0qhdmRH1tI/BO0oOkFKbKPpQji2IExPNKZqqcciHXDYPylalmO+kfkDsYaMGK63ziH2agZbGKqILhaWcTdM2rOO9f0PrLYG7kgnENNZhA5qA+OfVJTobCBIPIhSRGR0+BrS96NYMil3biOTr2V1ZW0Zdzad5V6/ohIN6o0exomPJshn0jlkdQ4eof1BOIRGEjbs2C+L/yq4GoH3owbYuFwMs+MGgTP4z1uZMO0Zd9IDMEWHd3pBnFu/i9KgLVlK1TNofG2wK24K2QT2owySNqVehzbuwSqDg18N8+xr61liKNgcchT2j7GLiD4ycvi3xfxWxI1nvTHuwJfb8oAfGYhNxNM+s3nUB+D7uR9Qgb+qHVKtiYB7oUGVifBEmS3qW/GQnTMT/ZOs31e61EYDzQecU6aDRWWNWQTlpN6PNzm9yGqeVlL0fltd/BQrJa8bxGgKmwjK+92ZPXdgDz6bGnW+U+INAMFF59PPIrBGIIzCN1dnMBoLscIf01hW3ipIhGUEemXoyjmG5RheiUyjETqkifAezlhwC0qDW7a5/modVH+QToQywGw9bkFoxQ2fzCMvmH2LfmRfUSSKf2JA0TWiBQY4+YytOBkvfHrgeTLju6dAs2L4qWtpUXpBAAfEX+sirHwbbuk7AFvYUx6VUtxmbieQLMqfqa7C3ehS69fCAPswMa+7AUgz8MGhTr7KN/TCycTGcrTXlqHr4ZNj8wuzcnoaDAQ7jcq7J4Rxh+Uya3jTlRrBwmeqnWLkeXu4FDrO7fatpQrCgt/wy4ulBaoO6GpKM+qlSo23B1VedCtO64048KrT57AlC2rZQD1NP46NciKerv35y5XsTFNCDR/LhZ9ygyeYWw93+mNW3I/5iE6/ys69sOJla/TUYeDjafHt4UIOud/zJi2ie0LsbcOrc8X3WV+lVRz0xYld5wpBVlUnMz/Qg+wlPkoj/CVdwqt7rIgDnA6euO/tiZyhJ6+9pvdUQzq/s/bC8/uUvJDgZxytJmiH+HvEqKT/asTtnu/ZQhw/4eIV1DP/WZcqZu1cc5uORIUOQEcpjZvawbO0TQ9QhLCdLmguxU9lk39F7CW5agi03TqJku4+hFFsRHpHpyGJlx77DaRq85+AmdR6uqFUZrYP9En/Yv6uRegK58UiKtKnXJP7IP8TNs+NQryxZFpdS3Xp5ch6RfD1712X4th3g4/0J7HM20XLajAxBSF1mkNEvEcRqjHuPcdHE318VW2j/lNwqQwQLr25mdaASrEJ4eHH+m7Q2W6cq74u69Rk97Fyj0aJQn8L0vRD/orbAFRD7dhS2JmRT6SHH5oN685/athymOsk+9Y2Jk4yu9cDSHyTAZoLBj5Uxq2+P+NtjO6s0tnCTFsbEKkPMFm2+ZQ/sx67QFbl3jF/JTNjwl8ZfYJLHZg2bC4m/qZP0OQixld+pfFxfdLBHIFuhj8VDIv7HQk1JyKNDAM4HnYBxOuJUDC3bS9pc/8aeGayJJ8dd36GFyUUdP68Slr0fltd/zQsJTsaZS5L20swGZo/129v8mr42x4V6EoUdO/8onbuZffM7K9MhWkefU2eQ+bGfUntBhPkYAdxMj+kQ5YbTnsrdBzmMEEqHB/ZExDphzLwVYavfH+O43lcmHMrGKnMpWXmj35kVJ7uhzehIE1TIgT0YTnr9FNGFyS9zdvzeM1r/+mt9zrgnp7Sp1yT+IEHWVrSUun2BaEVkjmBV2C4420zbiOTr2XtZWw6xlcczIg4+SJORQbcVv/1IDCIrQyqPmA3CPrOn+ljij9lmRToliY9gEYiOPT8uZl4xYhEKCNtzM7taJ/CtYRll6UG4/bp6tlHYFvwK2L0rvFpTaPM4ClW8n4O5DlVi/9SrvmV4VRC6gkFw0BbyQ33i+vaJv5j1Z51L4pyxRVHfwkcut0mN6Bn6oe8P+gsvX9hDQPyBg5QVg/RwggB+ILYC55V1uv5IxP906TvVtm8EMGsDkoHOW54swrNGt2m2ve5OxoFzCmfA2M+ps5nz3s+W15/ICBWRnbbLITsTbsgL4t5BtuWlKnzyxextMXhx+dlQH8y82827ILiYmXcnbegOVmyItSE4DmNdAjp+PqlD7DvgH5WcbxZc3NNDudCR7SxQXhw7JRPegTyvujR7qU0bqo/G0n1YD4NXIbZm0+qoqKciH/IUGUP8ueyNNWq1urQDeWwdQGBxgo07mcSSR2zotjpTRkmd2RvU3UEsN9dhnbqtT6i78//MZT7yNKZtWm8vUHv993bzME4OsgRKkUdH8gwK5sPYHXDkb2N1se0FG7CNrGoTM3CPtJlIXppkFujWEJ1qY4U2up9Qq/tbvX/BzkiL2XdDOorbsl9j/ZfYnMwn2jTbLryET6EyJ2NhkKbPJwcxDvMz9sCXF6kNzApEM3gPyLA8xz84lUhdhCVJFOxU6ia3jUqZEI4CXQniqUjlPP3Vz/mUJEOC7clSaC8gerC9RXOSUF56t8qgT6Vym3vt4EPpNK8t7FB39qq7xMq0C91O4EdjNv+9rLR+NvZm25hN0Y++mYTrI3vjq0jAx21mdqFbveobNizbJeoKPZgqRTd724rlPMRJP/uEK83P1OV8us1gX5SxeW/iAFmjXUtZ+Td8jzx4IWmFpmujmTsU9GC0oM2jqFP2mYj/KVN4qm4/CGDmErG7cK7hEXOyc0D+cKah0+Lf897PKc8QEmyQQwmZT8xGKsJlZBaEUBMf1IVPtrhJN72bPvXMin/8nRygZErkKTc9o2ePcNSx7otdd5yeCoURR0Gqi4vsdeo5dUZRXmeMLx35y8adu86gsFzIDaxGP6L2TSYlwAe6FmWG73Bs/tP7NDvZpFvqhkl+V5Iw8a55zMUWOrbH54HUQR7Wze/1ZTc4kvDpFxp7yAxdIzyCv+dTge6v0AKf3iFky5WDoVWdKMePu8Eah2h4N2XKgaG8qEfJNksLjTfV8Yhtzw4MCKKuwHv0oyZ9xJvEw7qoV4IjMxVhxhGzEfu5eTODy/37vGnb5R8lVvY0KSauv6D2NRynyu/VqNluqf0qVkY1i5jXlrO6977ZWadOe0Eca2lkE7et+u01tMfQPnjz5n+m6157dvVVMqu8PxNH84Z5YIDBA+Ar9BYuQ8rYvdgo6lVKGY8O5VFYn6X6/Bw1Rt0AR67S8UDxfmdO3yaujl7dztjeK3ELbCy99qVtF2bn3eAayJNpC/+dOrMNat6CHiSh1u/m23ym4nrA5Q2WRJoe9G19KezUm6UG6Q90irSxz4y+s3nYdsCTDG+Zk90QeuPlyf7nH81RyzmrF+wH+DIu7z3IKwcV3J5xBDL3F3zsbrCKErE5KyvDGvqjUO8KejORk6cToZ7T9piI/2nTeKpvQmCQCMBBe53UIAvgmeG33Gk+NmueXfyx2DthflAzZlPU3swLMbEZpIeEQEIgITA4BNRKSfbm3sEVMCQ58SBhok2bQyJOrhhq0kiuLOemPHU/JOJ/6lSeKpwQGCACB038uZMZm6Wut7/AhNREBxvy6NQB1jNllRBICCQEyhBQEw+4B6Us8XH8nVeyGzTZ/saFtQ5hNfTKUs3c/TGEAh6xSIn4H7ECUvEJgWONAOLQZYzwwCrEncyPXciBzRcxnkGIlQpxuTT0nZKtRnpICCQETh4Cau/CJE20s8d+HuvKqvCaWWra/STDWpun1J6YpKYNJx1WOY9OrkT8jw77VHJC4HgjEMZqI8b8NWuFDcgqJn1xLX4uPndCbZwDruNIq/UmRWPKX1Oe9HpCICGQEEgIJAROCgKJ+J8UTaZ6JAQSAgmBhEBCICGQEEgIJAQKEEjEvwCc9FNCICGQEEgIJAQSAgmBhEBC4KQgkIj/SdFkqkdCICGQEEgIJAQSAgmBhEBCoACBRPwLwEk/JQQ8BIo2bdmYc5yF7b1p/jDnKA8oFj5Wwr6+U7H6RXIjVz5/uUOtxhgV3Smwt9ml23yu/evUs2eZINtRfA5an3wm/B2Fr3dmdV9V601H+Vn2+P5B6KenNpQv+TD94t+TwJvQP6br/36UrF65rrf5/PgxanZ3SkRPmxVLAEo/JwQSAn0gkIh/H2ClpKcXAX2p0Tmqz37hNptud+jKbJde2ZsEeZNpLwT6mOKIE3z4gpboUZpcL3Ep0OsQ/2GAyOr3kIQRm6UtQey3aByvWqijgkxf9/2CrKM/WYxxUtMJaEPqFtdRGuMLsHApmHeJkLxIqRd/gQuPzqXjCaNGlL5MCCQE+kEgEf9+0EppTycC0YtZNFFxBA2deS8d+TGGEcQwl/hz3Qz5P9bEP9TvIenMkH9nV/sotycdFeT7uu8XZO3/FGJ8MtqQPpWqzA/so67pQiLffNJfCYGEwL4QSMR/X7Cll04PArFrv/do59Ei1asVt3RP++jIjyOIPZHC4078Y/o9JGWdGuIfw/hktKFX3SaNlq787aeuMV90SHaZikkIJARODAKJ+J8YVaaKHAgCatm+StVGh7ZVAY6wVDicQv3Hs3vPabM9qUN9OmvU5jh4/q12lTqbL4mIl+s/o1vNOlXtTDiW8KtUqZylerNFzck56r4Ka7JD3WbNlMVlTlJ78xURSDjCOjhueLFBNchVrdPs2qa+YXFnnTq3+Nz7Gl1r36LpWpUqtVnq/vaR/d7GGhflgzLfaVLblnXWD4GKzvhv0/rKrBosMS7V+iytrGtEw9qSkNXKtPPIYsrn9d9sNmg2GhvNcfJtatbP0mhzhR62pw0eYzTd2XC3TXIZvA8BWNUatNhlrPL0G8ZhR/QpY9SjNsA15ffuKvm07YxRQ16II4k/sIZ+7eCSbWCU6vaCIK7zDWqwTitVqk1NaZztqkxQZrUeXG5T9n6goYx+esTcZpOHcVkbiuCXqYstxDz4dlepTVPb2t02rcM+OJ+bTZqc7dL3irijbQNn2QZN+wuLgt3DptQn+4YNWu/cNDbJoYH8L0b8y/RERCrcrqrDiDLlpy8SAgmBhEA5Aon4l2OUUpxmBBQRQ+cvgJAETX2NjpxJ7SI92nlFO91ZqlVMJ20GEIrsgfir787RBK4/55CiSzHizwVs06PWBFUr56jR2XKCbLZpYqJNG3tmNrDylhqEkAoLqFJFlSVJS4WqE5/Q2spVqlXfof8w9a/F4IXJbVE+zFe61BzlAY0hUOq23DpVK2ddPUCAUE/iG3gv0Wh9jtY2X5LeL2EGHjt7ri7qKRbrrb+rqnpyIs7vapT4u8u/KlTBwAfY43ZhFbp11uhpj2jnK2rVz1IF2HERGf0GYiJPJneqnlJutgFT1/UWjcEGGN2NNk1Uz5pY7efUbb5FFanTsFzsqxAkfrszTVVL/PeMnWFgAztx+zBUmaNmEIiYc1vX8vf9mst66nCWnjD3M9F/hXW1ZDinDQG/3LqEhWi7q1YnqPVom2ybMPH2Su7qJWpv8MBc6+aS2rPjBiZuwM8peJPtlE0floa/wxl/iY8L4YK/cCFBxXpC7mY1zdoDvk+fCYGEQEKgNwQS8e8Np5TqlCIQduIWhlzS4jpykGRHHoIQGEWiQQJtzvkPmdk+JunXaFoNBEBypqmzzWTakH1LvkE0goGDJVuQuyQfEH9JPECCQaxD4q9+f1MMWEAeQ1lQdcgKmXRd9IAqHCjgHfGZ0Q0GPnqmVhMxv2xNyCtUQR0yeYj87WOgzwyWYqCk8NqiTuOcK4PJ5uYKTdcENmG5Eby1TZrBqMHe2RhmhUH8zaDJrlgRgYiqd0rft5UVD6F+YgMlH3PxsnsM61qAn65fSV1czvop015e0maHB7y6jSgcMSgI36Wsrni2fXoaK3+ZF+wXUZ9RWtde62bksu3aFpseEgIJgYRATwgk4t8TTCnRaUUg2okzGKUdeUj6+KWQKGLGl2fQG9S63XUnBkUBN50+h+jwTDnPXE9+ZIg+XuCwi1/okCI7G82/RciaeiXv+5x8IkSUQJIsGQnqabDSoS0IoQjDVSB/TFbMSvM7Y9Ro3aGuCp+S74jnjG4kCf3ehWTJUCEMXlCHTB4if/sY1DOGscQLZchBk83LPITlyvdNEo/4q/TBipT3jpHRCz8xOmA5St8PBeS/IzYTyo2BJ8LSYtlk3onk209dgjL0ACfARqbBqhiHRzUW6LYK9UKCYOVLrTJNm0E20sQ/oz6jtK4lerJFGVuGndrv00NCICGQEOgNgUT8e8MppTqlCOhO3J8dVlCUduS9EH/OadvG/ypiDFIfxRsEWMuzt75IE801QvT53uYXNFvnEJYm3ep0qcP7AixBiJAqVUb2+8J8PCIGIcNZyIAQK6wwe493ij6zMnl7JBSJNSFNsWwyupHEf4fWW29Hjl2NySw3b8cKCt6JEWKJ1wEQf01ug5hvWaYZbLoQE78e5e/76fVfEf0UYp7ZtKKzybwTybePuoSSlhJ/fsHuV+DBUJVqoj0hNMiujEz8VA+4rZ7NAErZo4v7fx3in6cnV7dE/B0W6SkhkBDYDwKJ+O8HtfTO6UFAkZPIrGHfpIUhC4mihNGEIdjYbfmbeEZoxsQNWlm4Qq31782PYWhCSBAipEq9GX5fko9HxEzRkMmGkwT1NCEXHqniV/ee0frXsQ2+oUymHBSnwmOq+XcJZHQjif9L0jHywWAurEMmD18G/VdQT0sIxSDHw8tgK+LKM7mG5UYGC96Mv9kD4PY/hANOU2ZmQPmSNte/oZ3S9zMSHuGMf0ldQlFjdQvT4G+798EReML9HNVLdGtlnib5XH6kL/jcH/HvtW7G5opWjQpkSz8lBBICCYFE/JMNJASKEAgJIdIaglZtrNBG9xNqdX+bnUk2xMPGjYPE4TKfV12avcQbczlTfzYfxWQ/ER8v4tFVIkMI1ClC37uTY1AWSEzmmEHkByJckg/qEG7ulWQWaWzZZt8Ah+ksrplwJj5RZYHaduAiaxrKtEPd2atuU6UJ0fDi2sXreqZXztYbUlV5Ww+U7OZevQGXNwvr2G+30ROhXE6/z0UJ5jFTT8gtiL9nA9AxNq9qGrm32aHZVlet3EB2Vzcju8EXqzE6bIoHpH9rNgjjZCUMIM1s9FiLHj3lDcUcznLDhEjx6TG3aba9TnuEcLP899czbBf1hM24fQNuxjrAPIrDpMkAABXhSURBVIueDZdzGJe3Ib0XI68uYSGibq2vzMoY47NAre5zetWdo0vYWA8crM3qvKCPCmwnLCLzN0KEHDacBPk4vUYwVBu/S+qm7ClY4cnIkL5ICCQEEgL5CCTin49N+iUhoAi5miEOCAHZGUImTL+g9jV53GaNmu0W1WVc9dt1qvNpOPa7SWo/vU+zk026ZY+VDI52zMEf5EfdDGrTvKTNtTlzXCbLtEKdBQ5pYSLRolbjB6JsEFPMhEMuJpJfF+TTpvWdPdrb7FKbjyVVdZFERcw2y3ry0aPhEaH2+ExbAfMQk+khdWcb1Ly14I6sbGhZwrf1bCvqw+T/Jt2sj4q6mxndnXVasXVgIh4cL+rpV9zWjAIxk2/r+W+pXj8nyonYgJqllUdnspxuMBTKrm9HdifMaF226WHnGo3KPSH2ZCXO7yzV5+eoMcrHw7YN0c8vU1Wn9H1Umj+z+nm7/jaNWhwKMJfZ8LOHcQ9tqAS/MHv1d4HdMfGfbN6glj16Vx71aXIzg0Q7eI8Wgi/NoFlgwaF29+/zuf7OJiv1FrW943mxoliiJ5y4FfoiFJ8+EwIJgYRADwgk4t8DSCnJKUdAdf7n/PjfUw5Jqn5CICFwyAikm3sPGfBUXELgZCKQiP/J1Guq1aARUGe914KLqgZdSMovIZAQSAhkEdAhXjVz/0P29/RNQiAhkBDoFYFE/HtFKqVLCKjwkEmasDemJkgSAgmBhMBBI8AXh00Gty0fdJkp/4RAQuCkIpCI/0nVbKpXQiAhkBBICCQEEgIJgYRAQkAgMFDi/+LFC0r/JQySDSQbSDaQbCDZQLKBZAPJBk6LDQhePfSPifinwUoarCUbSDaQbCDZQLKBZAPJBpIN7NMGhp7tCwET8d+nkk/LKDbVM83YJBtINpBsINlAsoFkA8kG8m1A8Oqhf0zEPxH/NMJPNpBsINlAsoFkA8kGkg0kG9inDQw92xcCJuK/TyWnkW/+yDdhMyTYPFmi8cp5mlndijvzrQe0PD9F5yvv0tKT7+Jpem0fu09odYHz4ouKRuj8VItWn3ybnyenX5qh8ZEC+Xote1/pdmnrwTLNT12gyvgSPdlXHqzn7+jJ0rtUOTNDq9/1ofcy3exbnj5k4DIOWg7W86dzNHX+Qr4dDrKu+yrvW3qy2la2cGZmlb4bpDylef2alsbP0GDLHZBt7wvLiP0dhI0N0neV6ihSp4G984weLM/T1Pk3aHzp18Zf7tOnDEymg6zvyc1b8OqhfzzBxP9betz+c7rfT2dc2HC+pcdL79FI5Q26uPQr2s2k3aLVmfPu5s7XIhMnt3Ec30EBO+gbNDP+htPx+SmaX/6SHi9/SJeXf5NPcjO2UqTf39DyH/+sPxLZV/4oW9rr6xL/39GD+T+iyoV5erD7LT1Z/oDOV/6ApjKYoG4mvRokHBHx/26VZs6Y21SHvq3u0rPl63Q9bwDXs/4HlQ9sqOzTEJhD0/M+y1PEVNvCYAl4GT55v6Od5P1e8v1AbHufWL7oUfZny/TH1/c7yBqk7yrBsue2tb98vludoTOqfZwRxH9/eRX3rYfd9g+iDsOd59CzfSHgiSX+u4+X6OIbfc7CFTbyMuLPRikIzdCTieFuRMVO7JBl331My5cvUKVygabml+nB1q4i+btPVmlpZpxGKoNz2rsP5ulCv7PHhXZbhBU60Nck/rtf0vyFkdJZS79uIBZHRPwZMxCkYW+rCt8BzJgPKp++7O2w9bzP8gz5Hwbi77eTovZb8NtAbLt/LHuTXfeTr4f1gHxXX7ZcgPdr5KPJ/+D6kGjfeSRt/2DwitbvNfAfVH6CVw/944kk/rtP7tDl8yP9L7+/tvHAUVZeM3zgdDWYQTW8g8lnk1Zn/pAquSs9/PsfDWa2ZqtL87yicNyIvyEZhR15pm5oK4n4F9vtM/py/iKNFIVs9eS3BpVPv77psPW8z/KGhfhn2km/eJv0R0H8e5J9l7a+XKDxkUrpREFxu0jEvxgfaTdH1falDCf/eejZvhDwaIg/xw7aeOAKVc5P0cLqExM+w/GWLZpi4h7ECrtlsQpVfjRDSzaPC3R5+THtvuDYxiXzrlnG52W08SX6tV1S038/ftKh60yyRi7T8rNdemFiBi+cP08/4HdUGMcD2lKdKpxMdjl4F/lUKjQyPkd35i/qUJBhn0XsiSyc/MZa6jyfLdPUSMXZSQS33cef0h8vfKntd+sB3VGrAGwrb9D4zF+YFQK26yUVKnRm5g79cumyiYc3totOUy37ws7u0eaDu/Qx53fmA1r6Cw6hGaHzM/do6wViQ7mdcPoLNLVwj57sGp2xPX+cjaHffXKPFjiuXdn4ezSlQpeKZvyLygHJ0vJqOSIderRun9OvOTaeCe3yPVqyMn1Ay3JvQC6eEdsM/crIOF2/B7/C6QPf8v77ioDoGP9AP3eu698Y16Uv6Zlo55XzkJH9DfRjVhdZBuxdyKtXTDdbX1oMRsZn6MbMFF1ffWxIv8D3zIe0/EuUGdhEbv3R8ct8Zmh107cRz7/aVSzp+4yd9KMT7IHwBi6M21+4sLmRcZq584C2QFbRBowPdXJhVjTnfdU2YZN9DihjxN/GkRvcZD/Vi55ZnhCr6x3XRlUb1uGDatAcaSdoUxWrD70nQH8v222RbbPtF2EWaUt5WObZWER2XSdpY88s6Xf1EjaJvUYi9Eruvyn3Xc/ogW233B9fpzsPnuWHYHq64X1JS3Y190WZfzW61XukIvYh2viHSx/ricjz12mVV4s9DC/Q+1M/EqvG+/QpXp7cX8H35bR9DoH26i/7KpYBPIq/n6eZd39yCOGneXZ4PL4XvHroH4+A+GMG9Q9pZnWTVEjOSIVGLi7R491d2lq97sjN7q9o6eIb5jdWvuiERt6jpce/o2fLl2mEOwoxS2o7CvGdF4bzoxn69P5jesYzD2eY+G+YWV10LJGwHhPOwA7Lzmxu3aMZHqAoWb6lF9L5JeKf73BVp3IcGjPHRWr7Gplapmdlcit7PU/jqnNHrLsm6s84hAeEBk4ZNqVi4xkP06nDbj0i9AZd/Pgv6c7lCzRy8U/p8z97j0ZGLtL8l9yxwbljUCBCziThUvZ6hs5fvkNPuK2ZmbcKOtxM/Uw7yC3H6LCXGf+wbpYQcge9QF9ufWfb/oV5M4gqwFMPyKUNQVfar7xA2wSWTHyUb8EkATAzq3OSbFj9aP9TGTlP4x9+qkiB9VdsD9Cf9T8Sd67XT+jek29JhT9URkjXS6YBOdXfaR/IdWLcPzAx/QGRzbWJP6Nf3mFbzat/kI8MS7Q24mzCt/df09LF92np8bf0oi+dcF3Ccl9on3/GEBMbRge5zaoXJmSUTXIe79u9VUoHee9Hyisd3HMZIfFH36NskyeGjFwK3yd6T4tpz3E9c91NX2cGinYlWr13nj6cn7E+wfYpmXYCu0bfxPn+hpan/oBcuy2x7RclmGfaPZcR0x1kga5M/2fbWOC/ojYWwTpTnxf0AhMu6EdLfZf2VWfQ5rDqD7Id1tHTL3xPhbTd9+D3vPdD+/gHb7/fyMVFunfnAzqveML/0VwDkwfWrox+9+VTyvSSbYOF7VjJ8Ae2vam07yXiX+ZHhp7tCwEPn/ijQVtnASfzgl5Yo0eHCKL/RzT/4Hc+8c/MBrnZjzjxh/H7gwSlzEy5zjnpDYsso5tp0U4ajU2G9Ygy4LBCh5P+PkYDAqdP1zELew10qQieJCywK3wXkgs7kIXthh2nsDvkwWWafD1yZjqiSgVtBbKjLRnCKfOJdbiyTj2V42LlizEK6xbK5/JBvUrxlLIqssyDIbOCB2zhZ2J1gS9CW83oBzICUyejm4nsvV7uHeQL3Wg/pwdAev+I62TCtDk2UVb/KCGO5W1IpR2MahJ2+bIe+PanE5Y1LMMMcsRAWg+MQLrgVwXmbKeXP9Qrs4ZMwkYYJ//9sLz89uowdv4eNqzz9DeoY9Cn+4RIORiUwZ7M307WSBvM2FxoTy9I92eS+KNfNH6j1LbLMM/DKKwjCHFOG0MfiTan2meYRxZrN6EHPxi2swhuoe9SGPxAHChg3okeMhCxMTMAVbqK4Rn4197tI7AhNQEkv4MsUr+hDUQw9GytTC/Z95X81le6PkVFQGzco5kzb9D4fNdEPOTZR/pe+hDBq4f+8dCJf5yUGwOCMWNm1H6iocDhObJt8xOzlva7qANy71ql2XLRETvn5GZVTGO0M/5OFnQWrpOLlOGRlNRgLPZDjQscJkhJkd5c2uwytunQMp08bAgdXujwubzId5l8OB06Otgw5MHfJh+QEoV7WH5Qv57KcZ20awdBPqqssB6hfC4fTZDxuwwFwDPwipXDIQ9/rsOj2H/AB6i6yM41LM+1eVcPyAAMI+9k9NPLO2EazNhy/XgDeVschRqm5TqHWEoccuqfIeD8TixvEBEzq6sGFJfNqVVIDz3Izzyd4B1gaGS3vl3kAdtUAzKsXunZ6nfNwMPWPff9sDyJTcGzZ+s5eRhCqG0qkgb9COqRIZCRd7xyWb6sbkuJf6lt94B51A9H5FXp8mwsK3vUxjJ1jvghD0uTL3CN+S6TZ9b3Bm1evQtfmWOzGflYL3iH7XhTH+FrV8qMXZXZh21vfrlZ/YY4RvTg4QO7ztNL+D7+Fm3PtieW7TcmAsKEPH+6KsLTUFb6DDnM0LN9IeAhE390Kjkx05iBi47S2dDgIByxtiQ/Ef9jNJN+fJwGZhPdyk+e7MaZgmjGOtJMhwJ7RkcQOnwuK/sdZHIEldPBmYNgBX+jU5IzubY9oXy/br2V48iwL4+fV7YegXyMl9eZ9YBngDH223CM/MfLq7TMx+safei6INzGyOaVd5TEn+URsb2qEwbxjuAUsQnuhIrqn7UPLjOWN8f+6hAOO/t58b/o2GSkL7LxQCfZMrQ9F9uKCZFRM5L/RA/mpxTZ0h1t2fs5dcrIFdin1zYlyZN3YMi2GCkntCe7CmNC8jBrLGdavXJZJlmGljFLDH2/UW7bJZgZGRxpBlnO1rHYxrKyZ/Ufa2d+fZSeJZa9+C5VB/i+QLcZ3UO/+/V7vzGhXmF5sv5Z7NzgQa5mxVZ0ZD5cl0heEp++277Jr7AdB8dX54VMZbAtw/7k/i549dA/HjLxd8uylRi5RwO38bChkcBBDJj422VDrCwIOW3jMI3RzvijMTpZXAOtmDPNQ/nT3+Eoeej/Rmede6oPE65luj5/jx6r/QAgbE7Xu0/+jv6ON3VlOnnYMzqg0OFzHpHvzADZhRBwOtOZWVIB+0TnZEI4sB9FOeywfCez0ktP5TjCXkzmwnqE8rl89Iw/JgkK8PQ6nTBExdQN7Rd1UXuJTD2DzjOrnzIZY/rp5Z1IGlEXGwuuZjhjaUMsWY6S+sfIQ/Q7zgu29B59fOdn9C72XLzoVyecVyi/kTNDJL6lJw9+ZUMLNJnlfS1tmnt3gR5g0zrqmft+WB7L0MN/XttEPV1/oPIw/ZNud5FyQnsShAykOrPh1CuX5czqVmMBMs5pgnZbatu9YZ7FKaxjmY1lZc/qP0b8I0Tcw9KUW+S7FAZulcjWZff/0IO/Czf4Qr85d/IATxGO5toEhzn9X7P3q0/7sO3HLzc7sAtxDPUQ+soyvYTvo/69+FbsVZP210N76qXNnbA0Q8/2hYCHTvzthiee1cIGl93HdLd1lx7vmlg1/s1uKOTlq2Wz9A2H58i2m/F3o2j7HZOgzV/R3bt/T7vWWcZIOZba4TjQMESIhx2UiO+Mg3Cbe81mJ7NsVkyEUuOxznnIHYAlYpkwDH2KxMWLvDmVT2swm0Hl6R98Wsv1TxVx0R242BwOEmPj8o3DZ7t9fI/m51dpC3YHAquwQkwnTm7gwQcfYSs2ZIG82QE2bFxsOsUGOGWvrv04vfRSjtuI5w9EQvsO6/aXtMqXfsnlcrQnrEqU4Onk5LJM/sqn/M6dGmMHQjhU4I1g87VZ7r4wT3/zN3oDtqsHCAkGT6LDtTLqOwzs6WAWd/FOWC+bBsRhi1avf6A3z7J+5Yy7Jc6c9gGtzi/S6rNfqnsTsJqhcSirPzp/kc8Wz6azDiCH0xls1e0ZMb/1pRN+Bxi6MnSsvLzdmVc7PqXrSw/cxYiw+8gkUPH72fJ8O3F1lN+jvlb3pp7YuKtOhOKL6Sz5RDkFelZ5/KDwqN9MubBj6QNARNWg9Vt6cu8n5sQptl2eNEBoRr5t/+0/LNHFkRLMM34YdYTuymwsbOOrtBXRPwbYI1N36PHqIs2vbhgibQjx7hO6d53vRzFtc/zP6IHamF/ku56ZCzbl6WbP6MHSHC2p/YGB3rH53/IMjnN/TMvXW7S69S86L2zyVwO4wL/uxz5E27an7tjN7VxXsyIJ27e+C3rIs7UyvUTa/rO/VweneCcqoq/6dpWuv8eHrTBm6DdgAwGOGZs5vb8LXj30j0dA/IuOkWKj4caKow65obsjuSyhVw7hDI3fuOFu3+TvEAMoHAc2zPnvSvIFQ+UBhjlGdOTf0fiP+IZWjIjFgANlq+u1g2Ovrt+l1Y8/oKn5j2lpGUeBIv/0KTvaY/dsj+8znRHbAR9DuOTHP3pHzonjaLP2d4NujJ9xtwCrDvyfzK23poP7dce3b4/8+0fXKVn4SETliPPs1ScN3Lbmpn5AHBqzZI/TDe20qBx0KAITSeS9TgEzR1y3/0gfjv8rUffzNLM0T+OqbaGzX6InqsMVx48KPLP2I+vGBOgOLc8xqRXH9Am/oI5a/dlPaIo3sc0s0edLH5gbNFH+PC3Jm7i5Xp8v+/qQ8qrnf0Pj43zaCvCI1SvMl2fSfkmr16do5uM5cYyxO1rQDjyZiHSW6EPcOMzlWJsor7+Xz70HdM+rXzCjB4KPAY7QZZ6NZ3VSYIfwtQorSdZgf5gEig9Ira/23o+V9/cmHnvEnGaF/N1n2DZtP+Iddyj7orCcmJ6X6IlH6mAT/Kk3Tm7KI6a5Hqr/ku1EnwrlTu3id/l42Xu0PHOBzk/N0adotwW2vaqOxxX9m4eZw8HXX1hHto//JQYdsTb2L77/esKn5Ynb7HEkqcUFAxXmBDg1iScEL9PSL+/QzBm530Xat9ZFxneFR1rKCRhhv6hnsR0X+T2DWT/2IW7dRriU8hMjF+lnc+/TGfQl34obxZWeevEpf0pf2MFgTC+7ZmKITyCUk0U5vvW7Vbr+7gx9PD9lj5zmI42zJ6nl2c7p/H7o2b4Q8GiIf6QRojGmz9PZaJLek96TDSQbODgb4HCIKVp68l1voT8D6aN4lemS2J9g9KtI7vuHLEuyrYOzrYRtwvaFoNXD/5iI/0AcfGr4qeEnG0g2kGxgWG2Aw4PefRfhC4ehJxMigVVor5+Rx5MehiypjGG1yyTXybHN4af7TsJE/D2HfHKMMDmUpMtkA8kGkg1wiMsizczoC9gODw/EZQdhTCok5z16d+lXbj9D6oMOcRUm+YTDawOnC2tHq4f/6f8DSSJPnvqyMWwAAAAASUVORK5CYII=)"
   ]
  },
  {
   "cell_type": "code",
   "execution_count": 6,
   "metadata": {
    "colab": {
     "base_uri": "https://localhost:8080/",
     "height": 607
    },
    "collapsed": false,
    "id": "gGdxnGlhxdZs",
    "outputId": "54a08da2-911e-480f-d676-585c4b97f1f9"
   },
   "outputs": [
    {
     "data": {
      "text/html": [
       "<div>\n",
       "<table border=\"1\" class=\"dataframe\">\n",
       "  <thead>\n",
       "    <tr style=\"text-align: right;\">\n",
       "      <th></th>\n",
       "      <th>Dtype</th>\n",
       "      <th>Levels</th>\n",
       "      <th>Null_Count</th>\n",
       "    </tr>\n",
       "  </thead>\n",
       "  <tbody>\n",
       "    <tr>\n",
       "      <th>id</th>\n",
       "      <td>object</td>\n",
       "      <td>[109, 175, 187, 189, 527, 533, 539, 568, 593, ...</td>\n",
       "      <td>0</td>\n",
       "    </tr>\n",
       "    <tr>\n",
       "      <th>country</th>\n",
       "      <td>object</td>\n",
       "      <td>[Albania, Angola, Bangladesh, Belgium, Bolivia...</td>\n",
       "      <td>0</td>\n",
       "    </tr>\n",
       "    <tr>\n",
       "      <th>iso3</th>\n",
       "      <td>object</td>\n",
       "      <td>[ALB, AGO, BGD, BEL, BOL, BIH, BRA, CAN, CHL, ...</td>\n",
       "      <td>315</td>\n",
       "    </tr>\n",
       "    <tr>\n",
       "      <th>gwno</th>\n",
       "      <td>float64</td>\n",
       "      <td>[339.0, 540.0, 771.0, 211.0, 145.0, 346.0, 140...</td>\n",
       "      <td>434</td>\n",
       "    </tr>\n",
       "    <tr>\n",
       "      <th>year</th>\n",
       "      <td>int64</td>\n",
       "      <td>[2009, 2001, 2010, 1995, 1996, 1997, 2000, 200...</td>\n",
       "      <td>0</td>\n",
       "    </tr>\n",
       "    <tr>\n",
       "      <th>geo_id</th>\n",
       "      <td>int64</td>\n",
       "      <td>[346, 351, 760, 710, 749, 761, 711, 750, 1875,...</td>\n",
       "      <td>0</td>\n",
       "    </tr>\n",
       "    <tr>\n",
       "      <th>geolocation</th>\n",
       "      <td>object</td>\n",
       "      <td>[Ana E Malit, Bushat, Onjiva, Evale, Mupa, Hat...</td>\n",
       "      <td>0</td>\n",
       "    </tr>\n",
       "    <tr>\n",
       "      <th>level</th>\n",
       "      <td>int64</td>\n",
       "      <td>[3, 2, 1]</td>\n",
       "      <td>0</td>\n",
       "    </tr>\n",
       "    <tr>\n",
       "      <th>adm1</th>\n",
       "      <td>object</td>\n",
       "      <td>[Shkoder, Cunene, Chittagong, Dhaka, Sylhet, W...</td>\n",
       "      <td>0</td>\n",
       "    </tr>\n",
       "    <tr>\n",
       "      <th>adm2</th>\n",
       "      <td>object</td>\n",
       "      <td>[Shkodres, Cuanhama, Cuvelai, Noakhali, Tangai...</td>\n",
       "      <td>25883</td>\n",
       "    </tr>\n",
       "    <tr>\n",
       "      <th>adm3</th>\n",
       "      <td>object</td>\n",
       "      <td>[Ana E Malit, Bushat, Onjiva, Evale, Mupa, Hat...</td>\n",
       "      <td>37543</td>\n",
       "    </tr>\n",
       "    <tr>\n",
       "      <th>location</th>\n",
       "      <td>object</td>\n",
       "      <td>[Ana E Malit, Bushat, Onjiva, Evale, Mupa, Hat...</td>\n",
       "      <td>0</td>\n",
       "    </tr>\n",
       "    <tr>\n",
       "      <th>historical</th>\n",
       "      <td>int64</td>\n",
       "      <td>[0, 1]</td>\n",
       "      <td>0</td>\n",
       "    </tr>\n",
       "    <tr>\n",
       "      <th>hist_country</th>\n",
       "      <td>object</td>\n",
       "      <td>[nan, Pakistan, Germany West, USSR, Indonesia,...</td>\n",
       "      <td>39717</td>\n",
       "    </tr>\n",
       "    <tr>\n",
       "      <th>disastertype</th>\n",
       "      <td>object</td>\n",
       "      <td>[flood, storm, earthquake, extreme temperature...</td>\n",
       "      <td>0</td>\n",
       "    </tr>\n",
       "    <tr>\n",
       "      <th>disasterno</th>\n",
       "      <td>object</td>\n",
       "      <td>[2009-0631, 2001-0146, 2009-0092, 2010-0105, 1...</td>\n",
       "      <td>0</td>\n",
       "    </tr>\n",
       "    <tr>\n",
       "      <th>latitude</th>\n",
       "      <td>float64</td>\n",
       "      <td>[42.02094846, 41.95929412, -17.09348436, -16.5...</td>\n",
       "      <td>0</td>\n",
       "    </tr>\n",
       "    <tr>\n",
       "      <th>longitude</th>\n",
       "      <td>float64</td>\n",
       "      <td>[19.4183173, 19.51430874, 15.66575761, 15.7739...</td>\n",
       "      <td>0</td>\n",
       "    </tr>\n",
       "  </tbody>\n",
       "</table>\n",
       "</div>"
      ],
      "text/plain": [
       "                Dtype                                             Levels  \\\n",
       "id             object  [109, 175, 187, 189, 527, 533, 539, 568, 593, ...   \n",
       "country        object  [Albania, Angola, Bangladesh, Belgium, Bolivia...   \n",
       "iso3           object  [ALB, AGO, BGD, BEL, BOL, BIH, BRA, CAN, CHL, ...   \n",
       "gwno          float64  [339.0, 540.0, 771.0, 211.0, 145.0, 346.0, 140...   \n",
       "year            int64  [2009, 2001, 2010, 1995, 1996, 1997, 2000, 200...   \n",
       "geo_id          int64  [346, 351, 760, 710, 749, 761, 711, 750, 1875,...   \n",
       "geolocation    object  [Ana E Malit, Bushat, Onjiva, Evale, Mupa, Hat...   \n",
       "level           int64                                          [3, 2, 1]   \n",
       "adm1           object  [Shkoder, Cunene, Chittagong, Dhaka, Sylhet, W...   \n",
       "adm2           object  [Shkodres, Cuanhama, Cuvelai, Noakhali, Tangai...   \n",
       "adm3           object  [Ana E Malit, Bushat, Onjiva, Evale, Mupa, Hat...   \n",
       "location       object  [Ana E Malit, Bushat, Onjiva, Evale, Mupa, Hat...   \n",
       "historical      int64                                             [0, 1]   \n",
       "hist_country   object  [nan, Pakistan, Germany West, USSR, Indonesia,...   \n",
       "disastertype   object  [flood, storm, earthquake, extreme temperature...   \n",
       "disasterno     object  [2009-0631, 2001-0146, 2009-0092, 2010-0105, 1...   \n",
       "latitude      float64  [42.02094846, 41.95929412, -17.09348436, -16.5...   \n",
       "longitude     float64  [19.4183173, 19.51430874, 15.66575761, 15.7739...   \n",
       "\n",
       "              Null_Count  \n",
       "id                     0  \n",
       "country                0  \n",
       "iso3                 315  \n",
       "gwno                 434  \n",
       "year                   0  \n",
       "geo_id                 0  \n",
       "geolocation            0  \n",
       "level                  0  \n",
       "adm1                   0  \n",
       "adm2               25883  \n",
       "adm3               37543  \n",
       "location               0  \n",
       "historical             0  \n",
       "hist_country       39717  \n",
       "disastertype           0  \n",
       "disasterno             0  \n",
       "latitude               0  \n",
       "longitude              0  "
      ]
     },
     "execution_count": 6,
     "metadata": {},
     "output_type": "execute_result"
    }
   ],
   "source": [
    "# display general information about the train data set\n",
    "# good way to check if any features have null values and the levels of categorical variables\n",
    "pd.DataFrame({'Dtype':df.dtypes,\n",
    "              'Levels':[df[x].unique() for x in df.columns],\n",
    "              'Null_Count':df.isnull().sum()\n",
    "             })"
   ]
  },
  {
   "cell_type": "markdown",
   "metadata": {
    "id": "gLBNAjguv2J5"
   },
   "source": [
    "There are many missing variables for adm2 & adm3 & hist_country. This information is redundant since we already have the name and and country so they will be dropped. Since adm2 & adm3 were drop due to missing data, we will also drop adm1 to keep consistency "
   ]
  },
  {
   "cell_type": "code",
   "execution_count": 10,
   "metadata": {
    "collapsed": false,
    "id": "ds1ewU0jwM9D"
   },
   "outputs": [],
   "source": [
    "df = df.drop(['adm1'], axis=1)\n",
    "df = df.drop(['adm2'], axis=1)\n",
    "df = df.drop(['adm3'], axis=1)\n",
    "df = df.drop(['hist_country'], axis=1)"
   ]
  },
  {
   "cell_type": "code",
   "execution_count": 11,
   "metadata": {
    "collapsed": true
   },
   "outputs": [],
   "source": [
    "# To show matplotlib plots inline\n",
    "%matplotlib inline"
   ]
  },
  {
   "cell_type": "code",
   "execution_count": 14,
   "metadata": {
    "colab": {
     "base_uri": "https://localhost:8080/",
     "height": 624
    },
    "collapsed": false,
    "id": "25c7Uvo83AsI",
    "outputId": "4c091b69-6f1b-4229-bfb1-e48506777801"
   },
   "outputs": [
    {
     "data": {
      "text/plain": [
       "<matplotlib.axes._subplots.AxesSubplot at 0x505439b908>"
      ]
     },
     "execution_count": 14,
     "metadata": {},
     "output_type": "execute_result"
    },
    {
     "data": {
      "image/png": "[encoded data removed]",
      "text/plain": [
       "<matplotlib.figure.Figure at 0x5053e68400>"
      ]
     },
     "metadata": {},
     "output_type": "display_data"
    }
   ],
   "source": [
    "# Compute the correlation matrix\n",
    "corr = df.corr()\n",
    "\n",
    "# Generate a mask for the upper triangle\n",
    "mask = np.triu(np.ones_like(corr, dtype=bool))\n",
    "\n",
    "# Set up the matplotlib figure\n",
    "f, ax = plt.subplots(figsize=(11, 9))\n",
    "\n",
    "# Generate a custom diverging colormap\n",
    "cmap = sns.diverging_palette(230, 20, as_cmap=True)\n",
    "\n",
    "# Draw the heatmap with the mask and correct aspect ratio\n",
    "sns.heatmap(corr, mask=mask, cmap=cmap, vmax=.3, center=0,\n",
    "            square=True, linewidths=.5, cbar_kws={\"shrink\": .5})"
   ]
  },
  {
   "cell_type": "code",
   "execution_count": 15,
   "metadata": {
    "colab": {
     "base_uri": "https://localhost:8080/",
     "height": 619
    },
    "collapsed": false,
    "id": "chkGXUrH0kDi",
    "outputId": "081abaf2-b25a-4240-fba6-b053a50bb535"
   },
   "outputs": [
    {
     "data": {
      "image/png": "[encoded data removed]",
      "text/plain": [
       "<matplotlib.figure.Figure at 0x50532905c0>"
      ]
     },
     "metadata": {},
     "output_type": "display_data"
    }
   ],
   "source": [
    "degrees = df[\"disastertype\"]\n",
    "counts = Counter(degrees)\n",
    "x = [key for key in counts.keys()]\n",
    "y = [value for value in counts.values()]\n",
    "df_counts = pd.DataFrame({'Variables':x, 'Counts':y})\n",
    "ax = df_counts.plot.bar(x='Variables',y='Counts')"
   ]
  },
  {
   "cell_type": "markdown",
   "metadata": {
    "id": "DBSQh-194Mmz"
   },
   "source": [
    "Floods are the most common natural diaster by a very large margin. Followed by Storm and earthquake. "
   ]
  },
  {
   "cell_type": "markdown",
   "metadata": {
    "id": "PzhXIcop4hea"
   },
   "source": [
    "Question 1:\n",
    "Are there more disaster near the equator or farther away?\n"
   ]
  },
  {
   "cell_type": "markdown",
   "metadata": {
    "id": "GOG1usmc8ONz"
   },
   "source": [
    "Question 2:Where is the best location to maybe have a relief center base on the natural disaster frequency and location?"
   ]
  },
  {
   "cell_type": "markdown",
   "metadata": {
    "id": "Y2RT0osr8QMk"
   },
   "source": [
    "Question 3:Are there more natural disaster recently?"
   ]
  },
  {
   "cell_type": "code",
   "execution_count": 16,
   "metadata": {
    "colab": {
     "base_uri": "https://localhost:8080/",
     "height": 510
    },
    "collapsed": false,
    "id": "_eHQbYbn8k6w",
    "outputId": "195ce6c9-ffb9-4dda-e982-5522a2305d34"
   },
   "outputs": [
    {
     "data": {
      "image/png": "[encoded data removed]",
      "text/plain": [
       "<matplotlib.figure.Figure at 0x505329deb8>"
      ]
     },
     "metadata": {},
     "output_type": "display_data"
    }
   ],
   "source": [
    "degrees = df[\"year\"]\n",
    "counts = Counter(degrees)\n",
    "x = [key for key in counts.keys()]\n",
    "y = [value for value in counts.values()]\n",
    "df_counts = pd.DataFrame({'Year':x, 'Counts':y})\n",
    "ax = df_counts.plot.bar(x='Year',y='Counts')"
   ]
  },
  {
   "cell_type": "markdown",
   "metadata": {
    "id": "tkoLomVK8n0k"
   },
   "source": [
    "Astoundingly Yes, there are greater number of disaster in recent years. Particularly in the past 19 years."
   ]
  },
  {
   "cell_type": "markdown",
   "metadata": {
    "id": "88g1zI-08XjV"
   },
   "source": [
    "Machine Learning Question:What is the probability of a certain natural disaster at a location?"
   ]
  },
  {
   "cell_type": "code",
   "execution_count": 17,
   "metadata": {
    "collapsed": true,
    "id": "LeiqIiwtZvSr"
   },
   "outputs": [],
   "source": [
    "# Data Pre-Processing for ML model.\n",
    "nomissingdata=df.dropna()"
   ]
  },
  {
   "cell_type": "code",
   "execution_count": 18,
   "metadata": {
    "colab": {
     "base_uri": "https://localhost:8080/",
     "height": 419
    },
    "collapsed": false,
    "id": "4WaW9H9VZ9D-",
    "outputId": "6d4908b2-9363-42be-b246-dd7233fa406d"
   },
   "outputs": [
    {
     "data": {
      "text/html": [
       "<div>\n",
       "<table border=\"1\" class=\"dataframe\">\n",
       "  <thead>\n",
       "    <tr style=\"text-align: right;\">\n",
       "      <th></th>\n",
       "      <th>id</th>\n",
       "      <th>country</th>\n",
       "      <th>iso3</th>\n",
       "      <th>gwno</th>\n",
       "      <th>year</th>\n",
       "      <th>geo_id</th>\n",
       "      <th>geolocation</th>\n",
       "      <th>level</th>\n",
       "      <th>location</th>\n",
       "      <th>historical</th>\n",
       "      <th>disastertype</th>\n",
       "      <th>disasterno</th>\n",
       "      <th>latitude</th>\n",
       "      <th>longitude</th>\n",
       "    </tr>\n",
       "  </thead>\n",
       "  <tbody>\n",
       "    <tr>\n",
       "      <th>0</th>\n",
       "      <td>109</td>\n",
       "      <td>Albania</td>\n",
       "      <td>ALB</td>\n",
       "      <td>339.0</td>\n",
       "      <td>2009</td>\n",
       "      <td>346</td>\n",
       "      <td>Ana E Malit</td>\n",
       "      <td>3</td>\n",
       "      <td>Ana E Malit</td>\n",
       "      <td>0</td>\n",
       "      <td>flood</td>\n",
       "      <td>2009-0631</td>\n",
       "      <td>42.020948</td>\n",
       "      <td>19.418317</td>\n",
       "    </tr>\n",
       "    <tr>\n",
       "      <th>1</th>\n",
       "      <td>109</td>\n",
       "      <td>Albania</td>\n",
       "      <td>ALB</td>\n",
       "      <td>339.0</td>\n",
       "      <td>2009</td>\n",
       "      <td>351</td>\n",
       "      <td>Bushat</td>\n",
       "      <td>3</td>\n",
       "      <td>Bushat</td>\n",
       "      <td>0</td>\n",
       "      <td>flood</td>\n",
       "      <td>2009-0631</td>\n",
       "      <td>41.959294</td>\n",
       "      <td>19.514309</td>\n",
       "    </tr>\n",
       "    <tr>\n",
       "      <th>2</th>\n",
       "      <td>175</td>\n",
       "      <td>Angola</td>\n",
       "      <td>AGO</td>\n",
       "      <td>540.0</td>\n",
       "      <td>2001</td>\n",
       "      <td>760</td>\n",
       "      <td>Onjiva</td>\n",
       "      <td>3</td>\n",
       "      <td>Onjiva</td>\n",
       "      <td>0</td>\n",
       "      <td>flood</td>\n",
       "      <td>2001-0146</td>\n",
       "      <td>-17.093484</td>\n",
       "      <td>15.665758</td>\n",
       "    </tr>\n",
       "    <tr>\n",
       "      <th>3</th>\n",
       "      <td>187</td>\n",
       "      <td>Angola</td>\n",
       "      <td>AGO</td>\n",
       "      <td>540.0</td>\n",
       "      <td>2009</td>\n",
       "      <td>710</td>\n",
       "      <td>Evale</td>\n",
       "      <td>3</td>\n",
       "      <td>Evale</td>\n",
       "      <td>0</td>\n",
       "      <td>flood</td>\n",
       "      <td>2009-0092</td>\n",
       "      <td>-16.531533</td>\n",
       "      <td>15.773987</td>\n",
       "    </tr>\n",
       "    <tr>\n",
       "      <th>4</th>\n",
       "      <td>187</td>\n",
       "      <td>Angola</td>\n",
       "      <td>AGO</td>\n",
       "      <td>540.0</td>\n",
       "      <td>2009</td>\n",
       "      <td>749</td>\n",
       "      <td>Mupa</td>\n",
       "      <td>3</td>\n",
       "      <td>Mupa</td>\n",
       "      <td>0</td>\n",
       "      <td>flood</td>\n",
       "      <td>2009-0092</td>\n",
       "      <td>-16.200065</td>\n",
       "      <td>15.844189</td>\n",
       "    </tr>\n",
       "  </tbody>\n",
       "</table>\n",
       "</div>"
      ],
      "text/plain": [
       "    id  country iso3   gwno  year  geo_id  geolocation  level     location  \\\n",
       "0  109  Albania  ALB  339.0  2009     346  Ana E Malit      3  Ana E Malit   \n",
       "1  109  Albania  ALB  339.0  2009     351       Bushat      3       Bushat   \n",
       "2  175   Angola  AGO  540.0  2001     760       Onjiva      3       Onjiva   \n",
       "3  187   Angola  AGO  540.0  2009     710        Evale      3        Evale   \n",
       "4  187   Angola  AGO  540.0  2009     749         Mupa      3         Mupa   \n",
       "\n",
       "   historical disastertype disasterno   latitude  longitude  \n",
       "0           0        flood  2009-0631  42.020948  19.418317  \n",
       "1           0        flood  2009-0631  41.959294  19.514309  \n",
       "2           0        flood  2001-0146 -17.093484  15.665758  \n",
       "3           0        flood  2009-0092 -16.531533  15.773987  \n",
       "4           0        flood  2009-0092 -16.200065  15.844189  "
      ]
     },
     "execution_count": 18,
     "metadata": {},
     "output_type": "execute_result"
    }
   ],
   "source": [
    "nomissingdata.head()"
   ]
  },
  {
   "cell_type": "code",
   "execution_count": 19,
   "metadata": {
    "colab": {
     "base_uri": "https://localhost:8080/"
    },
    "collapsed": false,
    "id": "y5y1h4P7aFTy",
    "outputId": "47645ab8-71b7-459a-fd19-14ea6bfe3fe0"
   },
   "outputs": [
    {
     "data": {
      "text/plain": [
       "(39210, 13)"
      ]
     },
     "execution_count": 19,
     "metadata": {},
     "output_type": "execute_result"
    }
   ],
   "source": [
    "df = nomissingdata\n",
    "df = df.drop(['id'], axis=1)\n",
    "df.shape"
   ]
  },
  {
   "cell_type": "markdown",
   "metadata": {
    "id": "BADxL7S_gl1b"
   },
   "source": [
    "Next, transform the categorical variables into numerical variables"
   ]
  },
  {
   "cell_type": "code",
   "execution_count": 20,
   "metadata": {
    "colab": {
     "base_uri": "https://localhost:8080/",
     "height": 204
    },
    "collapsed": false,
    "id": "FOqkT-4pe1wO",
    "outputId": "2091c8a6-dc80-4367-fe19-b649372b3bb6"
   },
   "outputs": [
    {
     "data": {
      "text/html": [
       "<div>\n",
       "<table border=\"1\" class=\"dataframe\">\n",
       "  <thead>\n",
       "    <tr style=\"text-align: right;\">\n",
       "      <th></th>\n",
       "      <th>country</th>\n",
       "      <th>iso3</th>\n",
       "      <th>gwno</th>\n",
       "      <th>year</th>\n",
       "      <th>geo_id</th>\n",
       "      <th>geolocation</th>\n",
       "      <th>level</th>\n",
       "      <th>location</th>\n",
       "      <th>historical</th>\n",
       "      <th>disastertype</th>\n",
       "      <th>disasterno</th>\n",
       "      <th>latitude</th>\n",
       "      <th>longitude</th>\n",
       "    </tr>\n",
       "  </thead>\n",
       "  <tbody>\n",
       "    <tr>\n",
       "      <th>0</th>\n",
       "      <td>Albania</td>\n",
       "      <td>ALB</td>\n",
       "      <td>339.0</td>\n",
       "      <td>2009</td>\n",
       "      <td>346</td>\n",
       "      <td>Ana E Malit</td>\n",
       "      <td>3</td>\n",
       "      <td>Ana E Malit</td>\n",
       "      <td>0</td>\n",
       "      <td>3</td>\n",
       "      <td>2009-0631</td>\n",
       "      <td>42.020948</td>\n",
       "      <td>19.418317</td>\n",
       "    </tr>\n",
       "    <tr>\n",
       "      <th>1</th>\n",
       "      <td>Albania</td>\n",
       "      <td>ALB</td>\n",
       "      <td>339.0</td>\n",
       "      <td>2009</td>\n",
       "      <td>351</td>\n",
       "      <td>Bushat</td>\n",
       "      <td>3</td>\n",
       "      <td>Bushat</td>\n",
       "      <td>0</td>\n",
       "      <td>3</td>\n",
       "      <td>2009-0631</td>\n",
       "      <td>41.959294</td>\n",
       "      <td>19.514309</td>\n",
       "    </tr>\n",
       "    <tr>\n",
       "      <th>2</th>\n",
       "      <td>Angola</td>\n",
       "      <td>AGO</td>\n",
       "      <td>540.0</td>\n",
       "      <td>2001</td>\n",
       "      <td>760</td>\n",
       "      <td>Onjiva</td>\n",
       "      <td>3</td>\n",
       "      <td>Onjiva</td>\n",
       "      <td>0</td>\n",
       "      <td>3</td>\n",
       "      <td>2001-0146</td>\n",
       "      <td>-17.093484</td>\n",
       "      <td>15.665758</td>\n",
       "    </tr>\n",
       "    <tr>\n",
       "      <th>3</th>\n",
       "      <td>Angola</td>\n",
       "      <td>AGO</td>\n",
       "      <td>540.0</td>\n",
       "      <td>2009</td>\n",
       "      <td>710</td>\n",
       "      <td>Evale</td>\n",
       "      <td>3</td>\n",
       "      <td>Evale</td>\n",
       "      <td>0</td>\n",
       "      <td>3</td>\n",
       "      <td>2009-0092</td>\n",
       "      <td>-16.531533</td>\n",
       "      <td>15.773987</td>\n",
       "    </tr>\n",
       "    <tr>\n",
       "      <th>4</th>\n",
       "      <td>Angola</td>\n",
       "      <td>AGO</td>\n",
       "      <td>540.0</td>\n",
       "      <td>2009</td>\n",
       "      <td>749</td>\n",
       "      <td>Mupa</td>\n",
       "      <td>3</td>\n",
       "      <td>Mupa</td>\n",
       "      <td>0</td>\n",
       "      <td>3</td>\n",
       "      <td>2009-0092</td>\n",
       "      <td>-16.200065</td>\n",
       "      <td>15.844189</td>\n",
       "    </tr>\n",
       "  </tbody>\n",
       "</table>\n",
       "</div>"
      ],
      "text/plain": [
       "   country iso3   gwno  year  geo_id  geolocation  level     location  \\\n",
       "0  Albania  ALB  339.0  2009     346  Ana E Malit      3  Ana E Malit   \n",
       "1  Albania  ALB  339.0  2009     351       Bushat      3       Bushat   \n",
       "2   Angola  AGO  540.0  2001     760       Onjiva      3       Onjiva   \n",
       "3   Angola  AGO  540.0  2009     710        Evale      3        Evale   \n",
       "4   Angola  AGO  540.0  2009     749         Mupa      3         Mupa   \n",
       "\n",
       "   historical  disastertype disasterno   latitude  longitude  \n",
       "0           0             3  2009-0631  42.020948  19.418317  \n",
       "1           0             3  2009-0631  41.959294  19.514309  \n",
       "2           0             3  2001-0146 -17.093484  15.665758  \n",
       "3           0             3  2009-0092 -16.531533  15.773987  \n",
       "4           0             3  2009-0092 -16.200065  15.844189  "
      ]
     },
     "execution_count": 20,
     "metadata": {},
     "output_type": "execute_result"
    }
   ],
   "source": [
    "df[\"disastertype\"] = df[\"disastertype\"].astype('category')\n",
    "df.dtypes\n",
    "df[\"disastertype\"] = df[\"disastertype\"].cat.codes\n",
    "df.head()"
   ]
  },
  {
   "cell_type": "code",
   "execution_count": 21,
   "metadata": {
    "colab": {
     "base_uri": "https://localhost:8080/"
    },
    "collapsed": false,
    "id": "6A46s6aUfxtq",
    "outputId": "79a9aceb-02d6-4105-c084-3b0802bb669d",
    "scrolled": true
   },
   "outputs": [
    {
     "data": {
      "text/plain": [
       "0        3\n",
       "1        3\n",
       "2        3\n",
       "3        3\n",
       "4        3\n",
       "5        3\n",
       "6        3\n",
       "7        3\n",
       "8        6\n",
       "9        6\n",
       "10       6\n",
       "11       6\n",
       "12       6\n",
       "13       6\n",
       "14       6\n",
       "15       3\n",
       "16       3\n",
       "17       3\n",
       "18       3\n",
       "19       3\n",
       "20       3\n",
       "21       3\n",
       "22       6\n",
       "23       6\n",
       "24       6\n",
       "25       6\n",
       "26       6\n",
       "27       6\n",
       "28       3\n",
       "29       3\n",
       "        ..\n",
       "39917    6\n",
       "39918    6\n",
       "39919    6\n",
       "39920    3\n",
       "39921    3\n",
       "39922    3\n",
       "39923    3\n",
       "39924    6\n",
       "39925    6\n",
       "39926    6\n",
       "39927    3\n",
       "39928    3\n",
       "39929    2\n",
       "39930    2\n",
       "39931    2\n",
       "39932    2\n",
       "39933    2\n",
       "39934    2\n",
       "39935    2\n",
       "39936    2\n",
       "39937    4\n",
       "39938    7\n",
       "39939    0\n",
       "39940    0\n",
       "39941    0\n",
       "39942    0\n",
       "39943    0\n",
       "39944    0\n",
       "39945    0\n",
       "39946    0\n",
       "Name: disastertype, dtype: int8"
      ]
     },
     "execution_count": 21,
     "metadata": {},
     "output_type": "execute_result"
    }
   ],
   "source": [
    "df[\"disastertype\"]"
   ]
  },
  {
   "cell_type": "code",
   "execution_count": 22,
   "metadata": {
    "collapsed": true,
    "id": "Z0W8GUTljUqL"
   },
   "outputs": [],
   "source": [
    "df = df.drop(['geo_id'], axis=1)\n",
    "df = df.drop(['disasterno'], axis=1)"
   ]
  },
  {
   "cell_type": "code",
   "execution_count": 23,
   "metadata": {
    "collapsed": true,
    "id": "VP8G6PCvhmCj"
   },
   "outputs": [],
   "source": [
    "df[\"iso3\"] = df[\"iso3\"].astype('category')\n",
    "df[\"iso3\"] = df[\"iso3\"].cat.codes\n",
    "\n",
    "df[\"country\"] = df[\"country\"].astype('category')\n",
    "df[\"country\"] = df[\"country\"].cat.codes\n",
    "\n",
    "df[\"geolocation\"] = df[\"geolocation\"].astype('category')\n",
    "df[\"geolocation\"] = df[\"geolocation\"].cat.codes\n",
    "\n",
    "df[\"location\"] = df[\"location\"].astype('category')\n",
    "df[\"location\"] = df[\"location\"].cat.codes"
   ]
  },
  {
   "cell_type": "code",
   "execution_count": 24,
   "metadata": {
    "colab": {
     "base_uri": "https://localhost:8080/",
     "height": 421
    },
    "collapsed": false,
    "id": "sMHOgAZhbPKJ",
    "outputId": "269e5b2e-8576-4187-fc62-93144e740331"
   },
   "outputs": [
    {
     "data": {
      "text/html": [
       "<div>\n",
       "<table border=\"1\" class=\"dataframe\">\n",
       "  <thead>\n",
       "    <tr style=\"text-align: right;\">\n",
       "      <th></th>\n",
       "      <th>Dtype</th>\n",
       "      <th>Levels</th>\n",
       "      <th>Null_Count</th>\n",
       "    </tr>\n",
       "  </thead>\n",
       "  <tbody>\n",
       "    <tr>\n",
       "      <th>country</th>\n",
       "      <td>int16</td>\n",
       "      <td>[1, 3, 10, 12, 16, 17, 19, 25, 29, 43, 48, 51,...</td>\n",
       "      <td>0</td>\n",
       "    </tr>\n",
       "    <tr>\n",
       "      <th>iso3</th>\n",
       "      <td>int16</td>\n",
       "      <td>[3, 2, 17, 13, 24, 20, 27, 34, 40, 62, 67, 72,...</td>\n",
       "      <td>0</td>\n",
       "    </tr>\n",
       "    <tr>\n",
       "      <th>gwno</th>\n",
       "      <td>float64</td>\n",
       "      <td>[339.0, 540.0, 771.0, 211.0, 145.0, 346.0, 140...</td>\n",
       "      <td>0</td>\n",
       "    </tr>\n",
       "    <tr>\n",
       "      <th>year</th>\n",
       "      <td>int64</td>\n",
       "      <td>[2009, 2001, 2010, 1995, 1996, 1997, 2000, 200...</td>\n",
       "      <td>0</td>\n",
       "    </tr>\n",
       "    <tr>\n",
       "      <th>geolocation</th>\n",
       "      <td>int16</td>\n",
       "      <td>[318, 1407, 6450, 2667, 5869, 3310, 2928, 3017...</td>\n",
       "      <td>0</td>\n",
       "    </tr>\n",
       "    <tr>\n",
       "      <th>level</th>\n",
       "      <td>int64</td>\n",
       "      <td>[3, 2, 1]</td>\n",
       "      <td>0</td>\n",
       "    </tr>\n",
       "    <tr>\n",
       "      <th>location</th>\n",
       "      <td>int16</td>\n",
       "      <td>[7005, 8399, 14880, 9998, 14017, 10819, 10336,...</td>\n",
       "      <td>0</td>\n",
       "    </tr>\n",
       "    <tr>\n",
       "      <th>historical</th>\n",
       "      <td>int64</td>\n",
       "      <td>[0, 1]</td>\n",
       "      <td>0</td>\n",
       "    </tr>\n",
       "    <tr>\n",
       "      <th>disastertype</th>\n",
       "      <td>int8</td>\n",
       "      <td>[3, 6, 1, 2, 4, 7, 0, 5]</td>\n",
       "      <td>0</td>\n",
       "    </tr>\n",
       "    <tr>\n",
       "      <th>latitude</th>\n",
       "      <td>float64</td>\n",
       "      <td>[42.02094846, 41.95929412, -17.09348436, -16.5...</td>\n",
       "      <td>0</td>\n",
       "    </tr>\n",
       "    <tr>\n",
       "      <th>longitude</th>\n",
       "      <td>float64</td>\n",
       "      <td>[19.4183173, 19.51430874, 15.66575761, 15.7739...</td>\n",
       "      <td>0</td>\n",
       "    </tr>\n",
       "  </tbody>\n",
       "</table>\n",
       "</div>"
      ],
      "text/plain": [
       "                Dtype                                             Levels  \\\n",
       "country         int16  [1, 3, 10, 12, 16, 17, 19, 25, 29, 43, 48, 51,...   \n",
       "iso3            int16  [3, 2, 17, 13, 24, 20, 27, 34, 40, 62, 67, 72,...   \n",
       "gwno          float64  [339.0, 540.0, 771.0, 211.0, 145.0, 346.0, 140...   \n",
       "year            int64  [2009, 2001, 2010, 1995, 1996, 1997, 2000, 200...   \n",
       "geolocation     int16  [318, 1407, 6450, 2667, 5869, 3310, 2928, 3017...   \n",
       "level           int64                                          [3, 2, 1]   \n",
       "location        int16  [7005, 8399, 14880, 9998, 14017, 10819, 10336,...   \n",
       "historical      int64                                             [0, 1]   \n",
       "disastertype     int8                           [3, 6, 1, 2, 4, 7, 0, 5]   \n",
       "latitude      float64  [42.02094846, 41.95929412, -17.09348436, -16.5...   \n",
       "longitude     float64  [19.4183173, 19.51430874, 15.66575761, 15.7739...   \n",
       "\n",
       "              Null_Count  \n",
       "country                0  \n",
       "iso3                   0  \n",
       "gwno                   0  \n",
       "year                   0  \n",
       "geolocation            0  \n",
       "level                  0  \n",
       "location               0  \n",
       "historical             0  \n",
       "disastertype           0  \n",
       "latitude               0  \n",
       "longitude              0  "
      ]
     },
     "execution_count": 24,
     "metadata": {},
     "output_type": "execute_result"
    }
   ],
   "source": [
    "pd.DataFrame({'Dtype':df.dtypes,\n",
    "              'Levels':[df[x].unique() for x in df.columns],\n",
    "              'Null_Count':df.isnull().sum()\n",
    "             })"
   ]
  },
  {
   "cell_type": "code",
   "execution_count": 25,
   "metadata": {
    "collapsed": false,
    "id": "tFARPpLej-io"
   },
   "outputs": [],
   "source": [
    "# split train and test data\n",
    "from sklearn.model_selection import train_test_split\n",
    "X = df.drop(['disastertype'],axis=1)\n",
    "y = df['disastertype']\n",
    "X_train, X_val, y_train, y_val = train_test_split(X, y, test_size=0.30, random_state=2020)"
   ]
  },
  {
   "cell_type": "markdown",
   "metadata": {},
   "source": [
    "### Random Forest Model "
   ]
  },
  {
   "cell_type": "code",
   "execution_count": 29,
   "metadata": {
    "collapsed": true
   },
   "outputs": [],
   "source": [
    "from sklearn.ensemble import RandomForestClassifier"
   ]
  },
  {
   "cell_type": "code",
   "execution_count": 30,
   "metadata": {
    "collapsed": false
   },
   "outputs": [
    {
     "data": {
      "text/plain": [
       "RandomForestClassifier(bootstrap=True, class_weight=None, criterion='gini',\n",
       "            max_depth=None, max_features='auto', max_leaf_nodes=None,\n",
       "            min_impurity_split=1e-07, min_samples_leaf=1,\n",
       "            min_samples_split=2, min_weight_fraction_leaf=0.0,\n",
       "            n_estimators=10, n_jobs=1, oob_score=False, random_state=None,\n",
       "            verbose=0, warm_start=False)"
      ]
     },
     "execution_count": 30,
     "metadata": {},
     "output_type": "execute_result"
    }
   ],
   "source": [
    "RandomForestClassifier()"
   ]
  },
  {
   "cell_type": "code",
   "execution_count": 31,
   "metadata": {
    "collapsed": true
   },
   "outputs": [],
   "source": [
    "rf = RandomForestClassifier()\n",
    "rf = rf.fit(X_train, y_train)"
   ]
  },
  {
   "cell_type": "code",
   "execution_count": 32,
   "metadata": {
    "collapsed": false
   },
   "outputs": [
    {
     "name": "stdout",
     "output_type": "stream",
     "text": [
      "Score on Training:  0.963857616497\n",
      "Score on Testing:  0.737821984188\n"
     ]
    }
   ],
   "source": [
    "train_pred = rf.predict(X_train)\n",
    "test_pred = rf.predict(X_val)\n",
    "print(\"Score on Training: \", metrics.accuracy_score(y_true = y_train, y_pred = train_pred))\n",
    "print(\"Score on Testing: \",metrics.accuracy_score(y_true = y_val, y_pred = test_pred))"
   ]
  },
  {
   "cell_type": "markdown",
   "metadata": {},
   "source": [
    "### Hyper-parameters Tuning "
   ]
  },
  {
   "cell_type": "code",
   "execution_count": 33,
   "metadata": {
    "collapsed": false
   },
   "outputs": [
    {
     "data": {
      "text/plain": [
       "GridSearchCV(cv=5, error_score='raise',\n",
       "       estimator=RandomForestClassifier(bootstrap=True, class_weight=None, criterion='gini',\n",
       "            max_depth=None, max_features='auto', max_leaf_nodes=None,\n",
       "            min_impurity_split=1e-07, min_samples_leaf=1,\n",
       "            min_samples_split=2, min_weight_fraction_leaf=0.0,\n",
       "            n_estimators=10, n_jobs=1, oob_score=False, random_state=None,\n",
       "            verbose=0, warm_start=False),\n",
       "       fit_params={}, iid=True, n_jobs=1,\n",
       "       param_grid={'min_samples_split': [10, 20, 50, 100, 200], 'max_depth': [3, 5, 10], 'n_estimators': [50, 100, 200, 300]},\n",
       "       pre_dispatch='2*n_jobs', refit=True, return_train_score=True,\n",
       "       scoring=None, verbose=0)"
      ]
     },
     "execution_count": 33,
     "metadata": {},
     "output_type": "execute_result"
    }
   ],
   "source": [
    "from sklearn.model_selection import GridSearchCV\n",
    "parameters ={'min_samples_split':[10,20,50,100,200],'max_depth':[3,5,10],'n_estimators':[50,100,200,300]}\n",
    "grid_cv=GridSearchCV(estimator=rf, param_grid=parameters,cv=5)\n",
    "grid_cv.fit(X_train,y_train)"
   ]
  },
  {
   "cell_type": "code",
   "execution_count": 34,
   "metadata": {
    "collapsed": false
   },
   "outputs": [
    {
     "data": {
      "text/plain": [
       "RandomForestClassifier(bootstrap=True, class_weight=None, criterion='gini',\n",
       "            max_depth=10, max_features='auto', max_leaf_nodes=None,\n",
       "            min_impurity_split=1e-07, min_samples_leaf=1,\n",
       "            min_samples_split=10, min_weight_fraction_leaf=0.0,\n",
       "            n_estimators=50, n_jobs=1, oob_score=False, random_state=None,\n",
       "            verbose=0, warm_start=False)"
      ]
     },
     "execution_count": 34,
     "metadata": {},
     "output_type": "execute_result"
    }
   ],
   "source": [
    "grid_cv.best_estimator_"
   ]
  },
  {
   "cell_type": "markdown",
   "metadata": {},
   "source": [
    "### Random Forest Model - Tackle overfitting"
   ]
  },
  {
   "cell_type": "code",
   "execution_count": 35,
   "metadata": {
    "collapsed": false
   },
   "outputs": [
    {
     "name": "stdout",
     "output_type": "stream",
     "text": [
      "Score on Training:  0.786789084417\n",
      "Score on Testing:  0.727195443339\n"
     ]
    }
   ],
   "source": [
    "rf2 = RandomForestClassifier(n_estimators=100, max_depth=11,min_samples_leaf=1)\n",
    "rf2.fit(X_train, y_train)\n",
    "train_pred = rf2.predict(X_train)\n",
    "test_pred = rf2.predict(X_val)\n",
    "print(\"Score on Training: \", metrics.accuracy_score(y_true = y_train, y_pred = train_pred))\n",
    "print(\"Score on Testing: \",metrics.accuracy_score(y_true = y_val, y_pred = test_pred))"
   ]
  },
  {
   "cell_type": "code",
   "execution_count": 36,
   "metadata": {
    "collapsed": false
   },
   "outputs": [
    {
     "name": "stdout",
     "output_type": "stream",
     "text": [
      "Score on Training:  0.826174080956\n",
      "Score on Testing:  0.750318796225\n"
     ]
    }
   ],
   "source": [
    "rf3 = RandomForestClassifier(n_estimators=200, max_depth=14,min_samples_leaf=1, min_samples_split=10)\n",
    "rf3.fit(X_train, y_train)\n",
    "train_pred = rf3.predict(X_train)\n",
    "test_pred = rf3.predict(X_val)\n",
    "print(\"Score on Training: \", metrics.accuracy_score(y_true = y_train, y_pred = train_pred))\n",
    "print(\"Score on Testing: \",metrics.accuracy_score(y_true = y_val, y_pred = test_pred))"
   ]
  },
  {
   "cell_type": "code",
   "execution_count": null,
   "metadata": {
    "collapsed": true
   },
   "outputs": [],
   "source": []
  }
 ],
 "metadata": {
  "celltoolbar": "Raw Cell Format",
  "colab": {
   "name": "GeoDisasterLocation.ipynb",
   "provenance": [],
   "toc_visible": true
  },
  "kernelspec": {
   "display_name": "Python 3",
   "language": "python",
   "name": "python3"
  },
  "language_info": {
   "codemirror_mode": {
    "name": "ipython",
    "version": 3
   },
   "file_extension": ".py",
   "mimetype": "text/x-python",
   "name": "python",
   "nbconvert_exporter": "python",
   "pygments_lexer": "ipython3",
   "version": "3.6.1"
  }
 },
 "nbformat": 4,
 "nbformat_minor": 0
}
